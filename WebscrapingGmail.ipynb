{
 "cells": [
  {
   "cell_type": "code",
   "execution_count": 28,
   "metadata": {
    "colab": {
     "base_uri": "https://localhost:8080/"
    },
    "id": "Mu0f4MEMFdd0",
    "is_executing": true,
    "outputId": "c74dfad9-7fb5-4bfd-9fda-aab3c8cf89a4"
   },
   "outputs": [
    {
     "name": "stdout",
     "output_type": "stream",
     "text": [
      "Defaulting to user installation because normal site-packages is not writeable\n",
      "Requirement already satisfied: google-play-scraper in /Users/coutinhonobre/Library/Python/3.9/lib/python/site-packages (1.2.4)\n"
     ]
    }
   ],
   "source": [
    "!pip3 install google-play-scraper"
   ]
  },
  {
   "cell_type": "code",
   "execution_count": 29,
   "metadata": {},
   "outputs": [],
   "source": [
    "import csv"
   ]
  },
  {
   "cell_type": "code",
   "execution_count": 30,
   "metadata": {},
   "outputs": [],
   "source": [
    "def create_csv(name_file):\n",
    "    new_name_file = name_file.replace('.', '_') + '.csv'\n",
    "    with open(new_name_file, 'w', newline='') as file:\n",
    "        writer = csv.writer(file)\n",
    "        writer.writerow(['Review', 'Username', 'Rating', 'NegativeRating', 'NeutralRatings', 'PositiveFeeling', 'AppName'])\n",
    "    print('CSV file created successfully.')"
   ]
  },
  {
   "cell_type": "code",
   "execution_count": 31,
   "metadata": {},
   "outputs": [],
   "source": [
    "def classify_sentiment(rating):\n",
    "    if rating <= 2:\n",
    "        return 1, 0, 0  # Negative\n",
    "    elif rating == 3:\n",
    "        return 0, 1, 0  # Neutro\n",
    "    else:\n",
    "        return 0, 0, 1  # Positive"
   ]
  },
  {
   "cell_type": "code",
   "execution_count": 32,
   "metadata": {},
   "outputs": [],
   "source": [
    "def insert_values(name_file, review, username, rating):\n",
    "    new_name_file = name_file.replace('.', '_') + '.csv'\n",
    "    with open(new_name_file, 'a', newline='') as file:\n",
    "        writer = csv.writer(file)\n",
    "        negative, neutro, positive = classify_sentiment(rating)\n",
    "        writer.writerow([review, username, rating, negative, neutro, positive, name_file])\n",
    "    print('Value inserted successfully.')    "
   ]
  },
  {
   "cell_type": "code",
   "execution_count": 33,
   "metadata": {},
   "outputs": [],
   "source": [
    "def search_reviews(app_name):\n",
    "    from google_play_scraper import app, Sort, reviews_all\n",
    "\n",
    "    # ID do aplicativo no Google Play Store\n",
    "    app_id = app_name\n",
    "\n",
    "    # Recuperar informações do aplicativo\n",
    "    gmail_app_info = app(app_id)\n",
    "\n",
    "    # Exibir informações básicas do aplicativo\n",
    "    print(f\"App Title: {gmail_app_info['title']}\")\n",
    "    print(f\"Developer: {gmail_app_info['developer']}\")\n",
    "    print(f\"Rating: {gmail_app_info['score']}\")\n",
    "\n",
    "    # Obter todas as avaliações do aplicativo\n",
    "    gmail_reviews = reviews_all(\n",
    "        app_id,\n",
    "        sleep_milliseconds=0,  # Pausa entre solicitações (recomendado)\n",
    "        lang=\"en\",  # Idioma das avaliações\n",
    "        country=\"us\",  # País das avaliações\n",
    "        sort=Sort.MOST_RELEVANT,  # Ordem de classificação das avaliações\n",
    "    )\n",
    "\n",
    "    print(\"-*-\" * 10)\n",
    "    print(f\"Reviews: {gmail_reviews}\")\n",
    "\n",
    "    # Exibir as avaliações\n",
    "    for i, review in enumerate(gmail_reviews):\n",
    "        print(f\"Review {i + 1}:\")\n",
    "        print(f\"  Username: {review['userName']}\")\n",
    "        print(f\"  Rating: {review['score']}\")\n",
    "        print(f\"  Review: {review['content']}\")\n",
    "        print(\"------\")\n",
    "        insert_values('sentimentos', review['content'], review['userName'], review['score'])\n",
    "    "
   ]
  },
  {
   "cell_type": "code",
   "execution_count": 34,
   "metadata": {},
   "outputs": [
    {
     "data": {
      "text/plain": [
       "['com.google.android.gm',\n",
       " 'com.microsoft.office.outlook',\n",
       " 'com.microsoft.outlooklite']"
      ]
     },
     "execution_count": 34,
     "metadata": {},
     "output_type": "execute_result"
    }
   ],
   "source": [
    "apps = [\n",
    "    'com.google.android.gm',\n",
    "    'com.microsoft.office.outlook',\n",
    "    'com.microsoft.outlooklite'\n",
    "]\n",
    "apps"
   ]
  },
  {
   "cell_type": "code",
   "execution_count": 35,
   "metadata": {},
   "outputs": [
    {
     "name": "stdout",
     "output_type": "stream",
     "text": [
      "CSV file created successfully.\n"
     ]
    }
   ],
   "source": [
    "create_csv('sentimentos')"
   ]
  },
  {
   "cell_type": "code",
   "execution_count": 36,
   "metadata": {},
   "outputs": [
    {
     "name": "stdout",
     "output_type": "stream",
     "text": [
      "App Title: Gmail\n",
      "Developer: Google LLC\n",
      "Rating: 4.203651\n",
      "-*--*--*--*--*--*--*--*--*--*-\n"
     ]
    },
    {
     "ename": "UnboundLocalError",
     "evalue": "local variable 'gmail_reviews' referenced before assignment",
     "output_type": "error",
     "traceback": [
      "\u001b[0;31m---------------------------------------------------------------------------\u001b[0m",
      "\u001b[0;31mUnboundLocalError\u001b[0m                         Traceback (most recent call last)",
      "Cell \u001b[0;32mIn[36], line 2\u001b[0m\n\u001b[1;32m      1\u001b[0m \u001b[39mfor\u001b[39;00m app \u001b[39min\u001b[39;00m apps:\n\u001b[0;32m----> 2\u001b[0m     search_reviews(app)\n",
      "Cell \u001b[0;32mIn[33], line 16\u001b[0m, in \u001b[0;36msearch_reviews\u001b[0;34m(app_name)\u001b[0m\n\u001b[1;32m     13\u001b[0m \u001b[39mprint\u001b[39m(\u001b[39mf\u001b[39m\u001b[39m\"\u001b[39m\u001b[39mRating: \u001b[39m\u001b[39m{\u001b[39;00mgmail_app_info[\u001b[39m'\u001b[39m\u001b[39mscore\u001b[39m\u001b[39m'\u001b[39m]\u001b[39m}\u001b[39;00m\u001b[39m\"\u001b[39m)\n\u001b[1;32m     15\u001b[0m \u001b[39mprint\u001b[39m(\u001b[39m\"\u001b[39m\u001b[39m-*-\u001b[39m\u001b[39m\"\u001b[39m \u001b[39m*\u001b[39m \u001b[39m10\u001b[39m)\n\u001b[0;32m---> 16\u001b[0m \u001b[39mprint\u001b[39m(\u001b[39mf\u001b[39m\u001b[39m\"\u001b[39m\u001b[39mReviews: \u001b[39m\u001b[39m{\u001b[39;00mgmail_reviews\u001b[39m}\u001b[39;00m\u001b[39m\"\u001b[39m)\n\u001b[1;32m     17\u001b[0m \u001b[39m# Obter todas as avaliações do aplicativo\u001b[39;00m\n\u001b[1;32m     18\u001b[0m gmail_reviews \u001b[39m=\u001b[39m reviews_all(\n\u001b[1;32m     19\u001b[0m     app_id,\n\u001b[1;32m     20\u001b[0m     sleep_milliseconds\u001b[39m=\u001b[39m\u001b[39m0\u001b[39m,  \u001b[39m# Pausa entre solicitações (recomendado)\u001b[39;00m\n\u001b[0;32m   (...)\u001b[0m\n\u001b[1;32m     23\u001b[0m     sort\u001b[39m=\u001b[39mSort\u001b[39m.\u001b[39mMOST_RELEVANT,  \u001b[39m# Ordem de classificação das avaliações\u001b[39;00m\n\u001b[1;32m     24\u001b[0m )\n",
      "\u001b[0;31mUnboundLocalError\u001b[0m: local variable 'gmail_reviews' referenced before assignment"
     ]
    }
   ],
   "source": [
    "for app in apps:\n",
    "    search_reviews(app)"
   ]
  },
  {
   "cell_type": "code",
   "execution_count": null,
   "metadata": {},
   "outputs": [],
   "source": []
  },
  {
   "cell_type": "code",
   "execution_count": null,
   "metadata": {},
   "outputs": [],
   "source": []
  }
 ],
 "metadata": {
  "colab": {
   "provenance": []
  },
  "kernelspec": {
   "display_name": "Python 3 (ipykernel)",
   "language": "python",
   "name": "python3"
  },
  "language_info": {
   "codemirror_mode": {
    "name": "ipython",
    "version": 3
   },
   "file_extension": ".py",
   "mimetype": "text/x-python",
   "name": "python",
   "nbconvert_exporter": "python",
   "pygments_lexer": "ipython3",
   "version": "3.9.6"
  }
 },
 "nbformat": 4,
 "nbformat_minor": 1
}

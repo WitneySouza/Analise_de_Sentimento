{
 "cells": [
  {
   "cell_type": "code",
   "execution_count": null,
   "metadata": {
    "colab": {
     "base_uri": "https://localhost:8080/"
    },
    "id": "Mu0f4MEMFdd0",
    "is_executing": true,
    "outputId": "c74dfad9-7fb5-4bfd-9fda-aab3c8cf89a4"
   },
   "outputs": [],
   "source": [
    "!pip3 install google-play-scraper"
   ]
  },
  {
   "cell_type": "code",
   "execution_count": null,
   "metadata": {},
   "outputs": [],
   "source": [
    "import csv"
   ]
  },
  {
   "cell_type": "code",
   "execution_count": null,
   "metadata": {},
   "outputs": [],
   "source": [
    "def create_csv(name_file):\n",
    "    new_name_file = name_file.replace('.', '_') + '.csv'\n",
    "    with open(new_name_file, 'w', newline='') as file:\n",
    "        writer = csv.writer(file)\n",
    "        writer.writerow(['Review', 'Username', 'Rating', 'NegativeRating', 'NeutralRatings', 'PositiveFeeling', 'AppName'])\n",
    "    print('CSV file created successfully.')"
   ]
  },
  {
   "cell_type": "code",
   "execution_count": null,
   "metadata": {},
   "outputs": [],
   "source": [
    "def classify_sentiment(rating):\n",
    "    if rating <= 2:\n",
    "        return 1, 0, 0  # Negative\n",
    "    elif rating == 3:\n",
    "        return 0, 1, 0  # Neutro\n",
    "    else:\n",
    "        return 0, 0, 1  # Positive"
   ]
  },
  {
   "cell_type": "code",
   "execution_count": null,
   "metadata": {},
   "outputs": [],
   "source": [
    "def insert_values(name_file, review, username, rating):\n",
    "    new_name_file = name_file.replace('.', '_') + '.csv'\n",
    "    with open(new_name_file, 'a', newline='') as file:\n",
    "        writer = csv.writer(file)\n",
    "        negative, neutro, positive = classify_sentiment(rating)\n",
    "        writer.writerow([review, username, rating, negative, neutro, positive, name_file])\n",
    "    print('Value inserted successfully.')    "
   ]
  },
  {
   "cell_type": "code",
   "execution_count": null,
   "metadata": {},
   "outputs": [],
   "source": [
    "def search_reviews(app_name):\n",
    "    from google_play_scraper import app, Sort, reviews_all\n",
    "\n",
    "    # ID do aplicativo no Google Play Store\n",
    "    app_id = app_name\n",
    "\n",
    "    # Recuperar informações do aplicativo\n",
    "    gmail_app_info = app(app_id)\n",
    "    create_csv('sentimentos')\n",
    "\n",
    "    # Exibir informações básicas do aplicativo\n",
    "    print(f\"App Title: {gmail_app_info['title']}\")\n",
    "    print(f\"Developer: {gmail_app_info['developer']}\")\n",
    "    print(f\"Rating: {gmail_app_info['score']}\")\n",
    "\n",
    "    # Obter todas as avaliações do aplicativo\n",
    "    gmail_reviews = reviews_all(\n",
    "        app_id,\n",
    "        sleep_milliseconds=0,  # Pausa entre solicitações (recomendado)\n",
    "        lang=\"en\",  # Idioma das avaliações\n",
    "        country=\"us\",  # País das avaliações\n",
    "        sort=Sort.MOST_RELEVANT,  # Ordem de classificação das avaliações\n",
    "    )\n",
    "\n",
    "    # Exibir as avaliações\n",
    "    for i, review in enumerate(gmail_reviews):\n",
    "        print(f\"Review {i + 1}:\")\n",
    "        print(f\"  Username: {review['userName']}\")\n",
    "        print(f\"  Rating: {review['score']}\")\n",
    "        print(f\"  Review: {review['content']}\")\n",
    "        print(\"------\")\n",
    "        insert_values('sentimentos', review['content'], review['userName'], review['score'])\n",
    "    "
   ]
  },
  {
   "cell_type": "code",
   "execution_count": null,
   "metadata": {},
   "outputs": [],
   "source": [
    "apps = [\n",
    "    'com.nu.production',\n",
    "    'br.com.sicredimobi.smart'\n",
    "    'com.itaucard.activity'\n",
    "]\n",
    "apps"
   ]
  },
  {
   "cell_type": "code",
   "execution_count": null,
   "metadata": {},
   "outputs": [],
   "source": [
    "for app in apps:\n",
    "    search_reviews(app)"
   ]
  },
  {
   "cell_type": "code",
   "execution_count": null,
   "metadata": {},
   "outputs": [],
   "source": []
  },
  {
   "cell_type": "code",
   "execution_count": null,
   "metadata": {},
   "outputs": [],
   "source": []
  }
 ],
 "metadata": {
  "colab": {
   "provenance": []
  },
  "kernelspec": {
   "display_name": "Python 3 (ipykernel)",
   "language": "python",
   "name": "python3"
  },
  "language_info": {
   "codemirror_mode": {
    "name": "ipython",
    "version": 3
   },
   "file_extension": ".py",
   "mimetype": "text/x-python",
   "name": "python",
   "nbconvert_exporter": "python",
   "pygments_lexer": "ipython3",
   "version": "3.9.16"
  }
 },
 "nbformat": 4,
 "nbformat_minor": 1
}

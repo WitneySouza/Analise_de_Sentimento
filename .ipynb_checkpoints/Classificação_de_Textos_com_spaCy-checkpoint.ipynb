{
 "cells": [
  {
   "cell_type": "markdown",
   "metadata": {
    "id": "AGgw36kc8udU"
   },
   "source": [
    "# Classificação de textos com spaCy"
   ]
  },
  {
   "cell_type": "markdown",
   "metadata": {
    "id": "JtJGnXGi8zt9"
   },
   "source": [
    "# Etapa 1: Importação e instalação das bibliotecas"
   ]
  },
  {
   "cell_type": "code",
   "execution_count": 1,
   "metadata": {
    "id": "paAxTC8hm7qP",
    "vscode": {
     "languageId": "python"
    }
   },
   "outputs": [],
   "source": [
    "import matplotlib.pyplot as plt"
   ]
  },
  {
   "cell_type": "code",
   "execution_count": 2,
   "metadata": {},
   "outputs": [
    {
     "name": "stdout",
     "output_type": "stream",
     "text": [
      "Requirement already satisfied: spacy in /usr/local/lib/python3.8/dist-packages (3.5.3)\n",
      "Requirement already satisfied: spacy-legacy<3.1.0,>=3.0.11 in /usr/local/lib/python3.8/dist-packages (from spacy) (3.0.12)\n",
      "Requirement already satisfied: thinc<8.2.0,>=8.1.8 in /usr/local/lib/python3.8/dist-packages (from spacy) (8.1.10)\n",
      "Requirement already satisfied: packaging>=20.0 in /usr/local/lib/python3.8/dist-packages (from spacy) (23.0)\n",
      "Requirement already satisfied: pathy>=0.10.0 in /usr/local/lib/python3.8/dist-packages (from spacy) (0.10.1)\n",
      "Requirement already satisfied: setuptools in /usr/local/lib/python3.8/dist-packages (from spacy) (67.6.0)\n",
      "Requirement already satisfied: murmurhash<1.1.0,>=0.28.0 in /usr/local/lib/python3.8/dist-packages (from spacy) (1.0.9)\n",
      "Requirement already satisfied: srsly<3.0.0,>=2.4.3 in /usr/local/lib/python3.8/dist-packages (from spacy) (2.4.6)\n",
      "Requirement already satisfied: pydantic!=1.8,!=1.8.1,<1.11.0,>=1.7.4 in /usr/local/lib/python3.8/dist-packages (from spacy) (1.10.8)\n",
      "Requirement already satisfied: cymem<2.1.0,>=2.0.2 in /usr/local/lib/python3.8/dist-packages (from spacy) (2.0.7)\n",
      "Requirement already satisfied: numpy>=1.15.0 in /usr/local/lib/python3.8/dist-packages (from spacy) (1.23.5)\n",
      "Requirement already satisfied: typer<0.8.0,>=0.3.0 in /usr/local/lib/python3.8/dist-packages (from spacy) (0.7.0)\n",
      "Requirement already satisfied: catalogue<2.1.0,>=2.0.6 in /usr/local/lib/python3.8/dist-packages (from spacy) (2.0.8)\n",
      "Requirement already satisfied: requests<3.0.0,>=2.13.0 in /usr/lib/python3/dist-packages (from spacy) (2.22.0)\n",
      "Requirement already satisfied: smart-open<7.0.0,>=5.2.1 in /usr/local/lib/python3.8/dist-packages (from spacy) (6.3.0)\n",
      "Requirement already satisfied: tqdm<5.0.0,>=4.38.0 in /usr/local/lib/python3.8/dist-packages (from spacy) (4.65.0)\n",
      "Requirement already satisfied: spacy-loggers<2.0.0,>=1.0.0 in /usr/local/lib/python3.8/dist-packages (from spacy) (1.0.4)\n",
      "Requirement already satisfied: wasabi<1.2.0,>=0.9.1 in /usr/local/lib/python3.8/dist-packages (from spacy) (1.1.1)\n",
      "Requirement already satisfied: langcodes<4.0.0,>=3.2.0 in /usr/local/lib/python3.8/dist-packages (from spacy) (3.3.0)\n",
      "Requirement already satisfied: jinja2 in /usr/local/lib/python3.8/dist-packages (from spacy) (3.1.2)\n",
      "Requirement already satisfied: preshed<3.1.0,>=3.0.2 in /usr/local/lib/python3.8/dist-packages (from spacy) (3.0.8)\n",
      "Requirement already satisfied: typing-extensions>=4.2.0 in /usr/local/lib/python3.8/dist-packages (from pydantic!=1.8,!=1.8.1,<1.11.0,>=1.7.4->spacy) (4.5.0)\n",
      "Requirement already satisfied: confection<1.0.0,>=0.0.1 in /usr/local/lib/python3.8/dist-packages (from thinc<8.2.0,>=8.1.8->spacy) (0.0.4)\n",
      "Requirement already satisfied: blis<0.8.0,>=0.7.8 in /usr/local/lib/python3.8/dist-packages (from thinc<8.2.0,>=8.1.8->spacy) (0.7.9)\n",
      "Requirement already satisfied: click<9.0.0,>=7.1.1 in /usr/local/lib/python3.8/dist-packages (from typer<0.8.0,>=0.3.0->spacy) (8.1.3)\n",
      "Requirement already satisfied: MarkupSafe>=2.0 in /usr/local/lib/python3.8/dist-packages (from jinja2->spacy) (2.1.2)\n",
      "\u001b[33mWARNING: Running pip as the 'root' user can result in broken permissions and conflicting behaviour with the system package manager. It is recommended to use a virtual environment instead: https://pip.pypa.io/warnings/venv\u001b[0m\u001b[33m\n",
      "\u001b[0m\n",
      "\u001b[1m[\u001b[0m\u001b[34;49mnotice\u001b[0m\u001b[1;39;49m]\u001b[0m\u001b[39;49m A new release of pip is available: \u001b[0m\u001b[31;49m23.0.1\u001b[0m\u001b[39;49m -> \u001b[0m\u001b[32;49m23.1.2\u001b[0m\n",
      "\u001b[1m[\u001b[0m\u001b[34;49mnotice\u001b[0m\u001b[1;39;49m]\u001b[0m\u001b[39;49m To update, run: \u001b[0m\u001b[32;49mpython3 -m pip install --upgrade pip\u001b[0m\n"
     ]
    }
   ],
   "source": [
    "!pip install spacy"
   ]
  },
  {
   "cell_type": "code",
   "execution_count": 3,
   "metadata": {
    "colab": {
     "base_uri": "https://localhost:8080/",
     "height": 35
    },
    "id": "T1ZYK4Svri9a",
    "outputId": "7ac0eb6f-f43b-4074-d68c-6eca3eb0e3ab",
    "vscode": {
     "languageId": "python"
    }
   },
   "outputs": [
    {
     "name": "stderr",
     "output_type": "stream",
     "text": [
      "2023-05-29 21:37:05.634179: I tensorflow/core/platform/cpu_feature_guard.cc:182] This TensorFlow binary is optimized to use available CPU instructions in performance-critical operations.\n",
      "To enable the following instructions: AVX2 FMA, in other operations, rebuild TensorFlow with the appropriate compiler flags.\n",
      "2023-05-29 21:37:07.743053: E tensorflow/compiler/xla/stream_executor/cuda/cuda_driver.cc:266] failed call to cuInit: CUDA_ERROR_NO_DEVICE: no CUDA-capable device is detected\n",
      "2023-05-29 21:37:07.743100: I tensorflow/compiler/xla/stream_executor/cuda/cuda_diagnostics.cc:168] retrieving CUDA diagnostic information for host: c50bc674bc27\n",
      "2023-05-29 21:37:07.743108: I tensorflow/compiler/xla/stream_executor/cuda/cuda_diagnostics.cc:175] hostname: c50bc674bc27\n",
      "2023-05-29 21:37:07.743196: I tensorflow/compiler/xla/stream_executor/cuda/cuda_diagnostics.cc:199] libcuda reported version is: NOT_FOUND: was unable to find libcuda.so DSO loaded into this program\n",
      "2023-05-29 21:37:07.743229: I tensorflow/compiler/xla/stream_executor/cuda/cuda_diagnostics.cc:203] kernel reported version is: 530.41.3\n"
     ]
    },
    {
     "data": {
      "text/plain": [
       "'3.5.3'"
      ]
     },
     "execution_count": 3,
     "metadata": {},
     "output_type": "execute_result"
    }
   ],
   "source": [
    "import spacy\n",
    "spacy.__version__"
   ]
  },
  {
   "cell_type": "code",
   "execution_count": 4,
   "metadata": {
    "id": "CUdP26FXGBGw",
    "vscode": {
     "languageId": "python"
    }
   },
   "outputs": [],
   "source": [
    "# Temporário por problemas no Colab\n",
    "import locale\n",
    "def getpreferredencoding(do_setlocale = True):\n",
    "    return \"UTF-8\"\n",
    "locale.getpreferredencoding = getpreferredencoding"
   ]
  },
  {
   "cell_type": "code",
   "execution_count": 5,
   "metadata": {
    "colab": {
     "base_uri": "https://localhost:8080/"
    },
    "id": "BbXiQKovAAy_",
    "outputId": "eeb6f2a8-24d6-48de-90b5-bd7d333d6682",
    "vscode": {
     "languageId": "python"
    }
   },
   "outputs": [
    {
     "name": "stdout",
     "output_type": "stream",
     "text": [
      "2023-05-29 21:37:12.034745: E tensorflow/compiler/xla/stream_executor/cuda/cuda_driver.cc:266] failed call to cuInit: CUDA_ERROR_NO_DEVICE: no CUDA-capable device is detected\n",
      "Collecting en-core-web-lg==3.5.0\n",
      "  Downloading https://github.com/explosion/spacy-models/releases/download/en_core_web_lg-3.5.0/en_core_web_lg-3.5.0-py3-none-any.whl (587.7 MB)\n",
      "\u001b[2K     \u001b[90m━━━━━━━━━━━━━━━━━━━━━━━━━━━━━━━━━━━━━━━\u001b[0m \u001b[32m587.7/587.7 MB\u001b[0m \u001b[31m2.7 MB/s\u001b[0m eta \u001b[36m0:00:00\u001b[0m00:01\u001b[0m00:01\u001b[0m\n",
      "\u001b[?25hRequirement already satisfied: spacy<3.6.0,>=3.5.0 in /usr/local/lib/python3.8/dist-packages (from en-core-web-lg==3.5.0) (3.5.3)\n",
      "Requirement already satisfied: srsly<3.0.0,>=2.4.3 in /usr/local/lib/python3.8/dist-packages (from spacy<3.6.0,>=3.5.0->en-core-web-lg==3.5.0) (2.4.6)\n",
      "Requirement already satisfied: typer<0.8.0,>=0.3.0 in /usr/local/lib/python3.8/dist-packages (from spacy<3.6.0,>=3.5.0->en-core-web-lg==3.5.0) (0.7.0)\n",
      "Requirement already satisfied: spacy-loggers<2.0.0,>=1.0.0 in /usr/local/lib/python3.8/dist-packages (from spacy<3.6.0,>=3.5.0->en-core-web-lg==3.5.0) (1.0.4)\n",
      "Requirement already satisfied: smart-open<7.0.0,>=5.2.1 in /usr/local/lib/python3.8/dist-packages (from spacy<3.6.0,>=3.5.0->en-core-web-lg==3.5.0) (6.3.0)\n",
      "Requirement already satisfied: catalogue<2.1.0,>=2.0.6 in /usr/local/lib/python3.8/dist-packages (from spacy<3.6.0,>=3.5.0->en-core-web-lg==3.5.0) (2.0.8)\n",
      "Requirement already satisfied: packaging>=20.0 in /usr/local/lib/python3.8/dist-packages (from spacy<3.6.0,>=3.5.0->en-core-web-lg==3.5.0) (23.0)\n",
      "Requirement already satisfied: numpy>=1.15.0 in /usr/local/lib/python3.8/dist-packages (from spacy<3.6.0,>=3.5.0->en-core-web-lg==3.5.0) (1.23.5)\n",
      "Requirement already satisfied: cymem<2.1.0,>=2.0.2 in /usr/local/lib/python3.8/dist-packages (from spacy<3.6.0,>=3.5.0->en-core-web-lg==3.5.0) (2.0.7)\n",
      "Requirement already satisfied: tqdm<5.0.0,>=4.38.0 in /usr/local/lib/python3.8/dist-packages (from spacy<3.6.0,>=3.5.0->en-core-web-lg==3.5.0) (4.65.0)\n",
      "Requirement already satisfied: pydantic!=1.8,!=1.8.1,<1.11.0,>=1.7.4 in /usr/local/lib/python3.8/dist-packages (from spacy<3.6.0,>=3.5.0->en-core-web-lg==3.5.0) (1.10.8)\n",
      "Requirement already satisfied: murmurhash<1.1.0,>=0.28.0 in /usr/local/lib/python3.8/dist-packages (from spacy<3.6.0,>=3.5.0->en-core-web-lg==3.5.0) (1.0.9)\n",
      "Requirement already satisfied: jinja2 in /usr/local/lib/python3.8/dist-packages (from spacy<3.6.0,>=3.5.0->en-core-web-lg==3.5.0) (3.1.2)\n",
      "Requirement already satisfied: thinc<8.2.0,>=8.1.8 in /usr/local/lib/python3.8/dist-packages (from spacy<3.6.0,>=3.5.0->en-core-web-lg==3.5.0) (8.1.10)\n",
      "Requirement already satisfied: wasabi<1.2.0,>=0.9.1 in /usr/local/lib/python3.8/dist-packages (from spacy<3.6.0,>=3.5.0->en-core-web-lg==3.5.0) (1.1.1)\n",
      "Requirement already satisfied: spacy-legacy<3.1.0,>=3.0.11 in /usr/local/lib/python3.8/dist-packages (from spacy<3.6.0,>=3.5.0->en-core-web-lg==3.5.0) (3.0.12)\n",
      "Requirement already satisfied: setuptools in /usr/local/lib/python3.8/dist-packages (from spacy<3.6.0,>=3.5.0->en-core-web-lg==3.5.0) (67.6.0)\n",
      "Requirement already satisfied: langcodes<4.0.0,>=3.2.0 in /usr/local/lib/python3.8/dist-packages (from spacy<3.6.0,>=3.5.0->en-core-web-lg==3.5.0) (3.3.0)\n",
      "Requirement already satisfied: requests<3.0.0,>=2.13.0 in /usr/lib/python3/dist-packages (from spacy<3.6.0,>=3.5.0->en-core-web-lg==3.5.0) (2.22.0)\n",
      "Requirement already satisfied: pathy>=0.10.0 in /usr/local/lib/python3.8/dist-packages (from spacy<3.6.0,>=3.5.0->en-core-web-lg==3.5.0) (0.10.1)\n",
      "Requirement already satisfied: preshed<3.1.0,>=3.0.2 in /usr/local/lib/python3.8/dist-packages (from spacy<3.6.0,>=3.5.0->en-core-web-lg==3.5.0) (3.0.8)\n",
      "Requirement already satisfied: typing-extensions>=4.2.0 in /usr/local/lib/python3.8/dist-packages (from pydantic!=1.8,!=1.8.1,<1.11.0,>=1.7.4->spacy<3.6.0,>=3.5.0->en-core-web-lg==3.5.0) (4.5.0)\n",
      "Requirement already satisfied: confection<1.0.0,>=0.0.1 in /usr/local/lib/python3.8/dist-packages (from thinc<8.2.0,>=8.1.8->spacy<3.6.0,>=3.5.0->en-core-web-lg==3.5.0) (0.0.4)\n",
      "Requirement already satisfied: blis<0.8.0,>=0.7.8 in /usr/local/lib/python3.8/dist-packages (from thinc<8.2.0,>=8.1.8->spacy<3.6.0,>=3.5.0->en-core-web-lg==3.5.0) (0.7.9)\n",
      "Requirement already satisfied: click<9.0.0,>=7.1.1 in /usr/local/lib/python3.8/dist-packages (from typer<0.8.0,>=0.3.0->spacy<3.6.0,>=3.5.0->en-core-web-lg==3.5.0) (8.1.3)\n",
      "Requirement already satisfied: MarkupSafe>=2.0 in /usr/local/lib/python3.8/dist-packages (from jinja2->spacy<3.6.0,>=3.5.0->en-core-web-lg==3.5.0) (2.1.2)\n",
      "\u001b[33mWARNING: Running pip as the 'root' user can result in broken permissions and conflicting behaviour with the system package manager. It is recommended to use a virtual environment instead: https://pip.pypa.io/warnings/venv\u001b[0m\u001b[33m\n",
      "\u001b[0m\n",
      "\u001b[1m[\u001b[0m\u001b[34;49mnotice\u001b[0m\u001b[1;39;49m]\u001b[0m\u001b[39;49m A new release of pip is available: \u001b[0m\u001b[31;49m23.0.1\u001b[0m\u001b[39;49m -> \u001b[0m\u001b[32;49m23.1.2\u001b[0m\n",
      "\u001b[1m[\u001b[0m\u001b[34;49mnotice\u001b[0m\u001b[1;39;49m]\u001b[0m\u001b[39;49m To update, run: \u001b[0m\u001b[32;49mpython3 -m pip install --upgrade pip\u001b[0m\n",
      "\u001b[38;5;2m✔ Download and installation successful\u001b[0m\n",
      "You can now load the package via spacy.load('en_core_web_lg')\n"
     ]
    }
   ],
   "source": [
    "!python3 -m spacy download en_core_web_lg"
   ]
  },
  {
   "cell_type": "code",
   "execution_count": 6,
   "metadata": {
    "id": "5rTXwoHqqNLA",
    "vscode": {
     "languageId": "python"
    }
   },
   "outputs": [],
   "source": [
    "import en_core_web_lg"
   ]
  },
  {
   "cell_type": "code",
   "execution_count": 7,
   "metadata": {
    "colab": {
     "base_uri": "https://localhost:8080/"
    },
    "id": "dls_rcpKqRfI",
    "outputId": "0f6b1cf2-31c8-42b5-9152-97535f019189",
    "vscode": {
     "languageId": "python"
    }
   },
   "outputs": [
    {
     "data": {
      "text/plain": [
       "<spacy.lang.en.English at 0x7f589dcfcaf0>"
      ]
     },
     "execution_count": 7,
     "metadata": {},
     "output_type": "execute_result"
    }
   ],
   "source": [
    "nlp = en_core_web_lg.load()\n",
    "nlp"
   ]
  },
  {
   "cell_type": "code",
   "execution_count": 8,
   "metadata": {},
   "outputs": [
    {
     "name": "stdout",
     "output_type": "stream",
     "text": [
      "Requirement already satisfied: pandas in /usr/local/lib/python3.8/dist-packages (2.0.1)\n",
      "Requirement already satisfied: pytz>=2020.1 in /usr/local/lib/python3.8/dist-packages (from pandas) (2023.3)\n",
      "Requirement already satisfied: tzdata>=2022.1 in /usr/local/lib/python3.8/dist-packages (from pandas) (2023.3)\n",
      "Requirement already satisfied: numpy>=1.20.3 in /usr/local/lib/python3.8/dist-packages (from pandas) (1.23.5)\n",
      "Requirement already satisfied: python-dateutil>=2.8.2 in /usr/local/lib/python3.8/dist-packages (from pandas) (2.8.2)\n",
      "Requirement already satisfied: six>=1.5 in /usr/lib/python3/dist-packages (from python-dateutil>=2.8.2->pandas) (1.14.0)\n",
      "\u001b[33mWARNING: Running pip as the 'root' user can result in broken permissions and conflicting behaviour with the system package manager. It is recommended to use a virtual environment instead: https://pip.pypa.io/warnings/venv\u001b[0m\u001b[33m\n",
      "\u001b[0m\n",
      "\u001b[1m[\u001b[0m\u001b[34;49mnotice\u001b[0m\u001b[1;39;49m]\u001b[0m\u001b[39;49m A new release of pip is available: \u001b[0m\u001b[31;49m23.0.1\u001b[0m\u001b[39;49m -> \u001b[0m\u001b[32;49m23.1.2\u001b[0m\n",
      "\u001b[1m[\u001b[0m\u001b[34;49mnotice\u001b[0m\u001b[1;39;49m]\u001b[0m\u001b[39;49m To update, run: \u001b[0m\u001b[32;49mpython3 -m pip install --upgrade pip\u001b[0m\n",
      "Requirement already satisfied: seaborn in /usr/local/lib/python3.8/dist-packages (0.12.2)\n",
      "Requirement already satisfied: numpy!=1.24.0,>=1.17 in /usr/local/lib/python3.8/dist-packages (from seaborn) (1.23.5)\n",
      "Requirement already satisfied: matplotlib!=3.6.1,>=3.1 in /usr/local/lib/python3.8/dist-packages (from seaborn) (3.7.1)\n",
      "Requirement already satisfied: pandas>=0.25 in /usr/local/lib/python3.8/dist-packages (from seaborn) (2.0.1)\n",
      "Requirement already satisfied: importlib-resources>=3.2.0 in /usr/local/lib/python3.8/dist-packages (from matplotlib!=3.6.1,>=3.1->seaborn) (5.12.0)\n",
      "Requirement already satisfied: pillow>=6.2.0 in /usr/local/lib/python3.8/dist-packages (from matplotlib!=3.6.1,>=3.1->seaborn) (9.4.0)\n",
      "Requirement already satisfied: kiwisolver>=1.0.1 in /usr/local/lib/python3.8/dist-packages (from matplotlib!=3.6.1,>=3.1->seaborn) (1.4.4)\n",
      "Requirement already satisfied: packaging>=20.0 in /usr/local/lib/python3.8/dist-packages (from matplotlib!=3.6.1,>=3.1->seaborn) (23.0)\n",
      "Requirement already satisfied: pyparsing>=2.3.1 in /usr/local/lib/python3.8/dist-packages (from matplotlib!=3.6.1,>=3.1->seaborn) (3.0.9)\n",
      "Requirement already satisfied: cycler>=0.10 in /usr/local/lib/python3.8/dist-packages (from matplotlib!=3.6.1,>=3.1->seaborn) (0.11.0)\n",
      "Requirement already satisfied: python-dateutil>=2.7 in /usr/local/lib/python3.8/dist-packages (from matplotlib!=3.6.1,>=3.1->seaborn) (2.8.2)\n",
      "Requirement already satisfied: fonttools>=4.22.0 in /usr/local/lib/python3.8/dist-packages (from matplotlib!=3.6.1,>=3.1->seaborn) (4.39.2)\n",
      "Requirement already satisfied: contourpy>=1.0.1 in /usr/local/lib/python3.8/dist-packages (from matplotlib!=3.6.1,>=3.1->seaborn) (1.0.7)\n",
      "Requirement already satisfied: pytz>=2020.1 in /usr/local/lib/python3.8/dist-packages (from pandas>=0.25->seaborn) (2023.3)\n",
      "Requirement already satisfied: tzdata>=2022.1 in /usr/local/lib/python3.8/dist-packages (from pandas>=0.25->seaborn) (2023.3)\n",
      "Requirement already satisfied: zipp>=3.1.0 in /usr/local/lib/python3.8/dist-packages (from importlib-resources>=3.2.0->matplotlib!=3.6.1,>=3.1->seaborn) (3.15.0)\n",
      "Requirement already satisfied: six>=1.5 in /usr/lib/python3/dist-packages (from python-dateutil>=2.7->matplotlib!=3.6.1,>=3.1->seaborn) (1.14.0)\n",
      "\u001b[33mWARNING: Running pip as the 'root' user can result in broken permissions and conflicting behaviour with the system package manager. It is recommended to use a virtual environment instead: https://pip.pypa.io/warnings/venv\u001b[0m\u001b[33m\n",
      "\u001b[0m\n",
      "\u001b[1m[\u001b[0m\u001b[34;49mnotice\u001b[0m\u001b[1;39;49m]\u001b[0m\u001b[39;49m A new release of pip is available: \u001b[0m\u001b[31;49m23.0.1\u001b[0m\u001b[39;49m -> \u001b[0m\u001b[32;49m23.1.2\u001b[0m\n",
      "\u001b[1m[\u001b[0m\u001b[34;49mnotice\u001b[0m\u001b[1;39;49m]\u001b[0m\u001b[39;49m To update, run: \u001b[0m\u001b[32;49mpython3 -m pip install --upgrade pip\u001b[0m\n",
      "Requirement already satisfied: numpy in /usr/local/lib/python3.8/dist-packages (1.23.5)\n",
      "\u001b[33mWARNING: Running pip as the 'root' user can result in broken permissions and conflicting behaviour with the system package manager. It is recommended to use a virtual environment instead: https://pip.pypa.io/warnings/venv\u001b[0m\u001b[33m\n",
      "\u001b[0m\n",
      "\u001b[1m[\u001b[0m\u001b[34;49mnotice\u001b[0m\u001b[1;39;49m]\u001b[0m\u001b[39;49m A new release of pip is available: \u001b[0m\u001b[31;49m23.0.1\u001b[0m\u001b[39;49m -> \u001b[0m\u001b[32;49m23.1.2\u001b[0m\n",
      "\u001b[1m[\u001b[0m\u001b[34;49mnotice\u001b[0m\u001b[1;39;49m]\u001b[0m\u001b[39;49m To update, run: \u001b[0m\u001b[32;49mpython3 -m pip install --upgrade pip\u001b[0m\n"
     ]
    }
   ],
   "source": [
    "!pip install pandas\n",
    "!pip install seaborn\n",
    "!pip install numpy"
   ]
  },
  {
   "cell_type": "code",
   "execution_count": 9,
   "metadata": {
    "id": "DelYAveq8yuX",
    "vscode": {
     "languageId": "python"
    }
   },
   "outputs": [],
   "source": [
    "import pandas as pd\n",
    "import string\n",
    "import spacy\n",
    "import random\n",
    "import seaborn as sns\n",
    "import numpy as np"
   ]
  },
  {
   "cell_type": "markdown",
   "metadata": {
    "id": "iE3VMD8t86ky"
   },
   "source": [
    "# Etapa 2: Carregamento da base de dados"
   ]
  },
  {
   "cell_type": "code",
   "execution_count": 10,
   "metadata": {
    "id": "zl8DBGBNsG-h",
    "vscode": {
     "languageId": "python"
    }
   },
   "outputs": [],
   "source": [
    "base_dados = pd.read_csv('sentimentos.csv', encoding = 'utf-8')"
   ]
  },
  {
   "cell_type": "code",
   "execution_count": 11,
   "metadata": {
    "colab": {
     "base_uri": "https://localhost:8080/"
    },
    "id": "SXVFCZ45tHK2",
    "outputId": "cc78494e-e38f-4ea6-fb09-e5b26324d3d3",
    "vscode": {
     "languageId": "python"
    }
   },
   "outputs": [
    {
     "data": {
      "text/plain": [
       "(11786, 7)"
      ]
     },
     "execution_count": 11,
     "metadata": {},
     "output_type": "execute_result"
    }
   ],
   "source": [
    "base_dados.shape"
   ]
  },
  {
   "cell_type": "code",
   "execution_count": 12,
   "metadata": {
    "colab": {
     "base_uri": "https://localhost:8080/",
     "height": 493
    },
    "id": "uEzrdS6LtLKN",
    "outputId": "8744881d-815a-416d-8efd-797fbe3921b6",
    "vscode": {
     "languageId": "python"
    }
   },
   "outputs": [
    {
     "data": {
      "text/html": [
       "<div>\n",
       "<style scoped>\n",
       "    .dataframe tbody tr th:only-of-type {\n",
       "        vertical-align: middle;\n",
       "    }\n",
       "\n",
       "    .dataframe tbody tr th {\n",
       "        vertical-align: top;\n",
       "    }\n",
       "\n",
       "    .dataframe thead th {\n",
       "        text-align: right;\n",
       "    }\n",
       "</style>\n",
       "<table border=\"1\" class=\"dataframe\">\n",
       "  <thead>\n",
       "    <tr style=\"text-align: right;\">\n",
       "      <th></th>\n",
       "      <th>Review</th>\n",
       "      <th>Username</th>\n",
       "      <th>Rating</th>\n",
       "      <th>NegativeRating</th>\n",
       "      <th>NeutralRatings</th>\n",
       "      <th>PositiveFeeling</th>\n",
       "      <th>AppName</th>\n",
       "    </tr>\n",
       "  </thead>\n",
       "  <tbody>\n",
       "    <tr>\n",
       "      <th>0</th>\n",
       "      <td>Crashed too often. Confusing. It shows for ex....</td>\n",
       "      <td>Ayşegül Apaydiner</td>\n",
       "      <td>1</td>\n",
       "      <td>1</td>\n",
       "      <td>0</td>\n",
       "      <td>0</td>\n",
       "      <td>sentimentos</td>\n",
       "    </tr>\n",
       "    <tr>\n",
       "      <th>1</th>\n",
       "      <td>It only looks like the legit app but does none...</td>\n",
       "      <td>Harold Galbreath</td>\n",
       "      <td>1</td>\n",
       "      <td>1</td>\n",
       "      <td>0</td>\n",
       "      <td>0</td>\n",
       "      <td>sentimentos</td>\n",
       "    </tr>\n",
       "    <tr>\n",
       "      <th>2</th>\n",
       "      <td>I have a limited data plan, so I figured that ...</td>\n",
       "      <td>A Google user</td>\n",
       "      <td>2</td>\n",
       "      <td>1</td>\n",
       "      <td>0</td>\n",
       "      <td>0</td>\n",
       "      <td>sentimentos</td>\n",
       "    </tr>\n",
       "    <tr>\n",
       "      <th>3</th>\n",
       "      <td>This app is not working at all. As soon as I c...</td>\n",
       "      <td>Shounak Basu</td>\n",
       "      <td>1</td>\n",
       "      <td>1</td>\n",
       "      <td>0</td>\n",
       "      <td>0</td>\n",
       "      <td>sentimentos</td>\n",
       "    </tr>\n",
       "    <tr>\n",
       "      <th>4</th>\n",
       "      <td>Google GO apps are garbage. They load slow, cr...</td>\n",
       "      <td>Some Guy</td>\n",
       "      <td>1</td>\n",
       "      <td>1</td>\n",
       "      <td>0</td>\n",
       "      <td>0</td>\n",
       "      <td>sentimentos</td>\n",
       "    </tr>\n",
       "  </tbody>\n",
       "</table>\n",
       "</div>"
      ],
      "text/plain": [
       "                                              Review           Username   \n",
       "0  Crashed too often. Confusing. It shows for ex....  Ayşegül Apaydiner  \\\n",
       "1  It only looks like the legit app but does none...   Harold Galbreath   \n",
       "2  I have a limited data plan, so I figured that ...      A Google user   \n",
       "3  This app is not working at all. As soon as I c...       Shounak Basu   \n",
       "4  Google GO apps are garbage. They load slow, cr...           Some Guy   \n",
       "\n",
       "   Rating  NegativeRating  NeutralRatings  PositiveFeeling      AppName  \n",
       "0       1               1               0                0  sentimentos  \n",
       "1       1               1               0                0  sentimentos  \n",
       "2       2               1               0                0  sentimentos  \n",
       "3       1               1               0                0  sentimentos  \n",
       "4       1               1               0                0  sentimentos  "
      ]
     },
     "execution_count": 12,
     "metadata": {},
     "output_type": "execute_result"
    }
   ],
   "source": [
    "base_dados.head()"
   ]
  },
  {
   "cell_type": "code",
   "execution_count": 13,
   "metadata": {
    "colab": {
     "base_uri": "https://localhost:8080/",
     "height": 545
    },
    "id": "g7mE74ILtPY3",
    "outputId": "3137dedc-27b9-4065-c564-d07f8a512ff9",
    "vscode": {
     "languageId": "python"
    }
   },
   "outputs": [
    {
     "data": {
      "text/html": [
       "<div>\n",
       "<style scoped>\n",
       "    .dataframe tbody tr th:only-of-type {\n",
       "        vertical-align: middle;\n",
       "    }\n",
       "\n",
       "    .dataframe tbody tr th {\n",
       "        vertical-align: top;\n",
       "    }\n",
       "\n",
       "    .dataframe thead th {\n",
       "        text-align: right;\n",
       "    }\n",
       "</style>\n",
       "<table border=\"1\" class=\"dataframe\">\n",
       "  <thead>\n",
       "    <tr style=\"text-align: right;\">\n",
       "      <th></th>\n",
       "      <th>Review</th>\n",
       "      <th>Username</th>\n",
       "      <th>Rating</th>\n",
       "      <th>NegativeRating</th>\n",
       "      <th>NeutralRatings</th>\n",
       "      <th>PositiveFeeling</th>\n",
       "      <th>AppName</th>\n",
       "    </tr>\n",
       "  </thead>\n",
       "  <tbody>\n",
       "    <tr>\n",
       "      <th>11781</th>\n",
       "      <td>Duraivelm</td>\n",
       "      <td>duraivel M</td>\n",
       "      <td>5</td>\n",
       "      <td>0</td>\n",
       "      <td>0</td>\n",
       "      <td>1</td>\n",
       "      <td>sentimentos</td>\n",
       "    </tr>\n",
       "    <tr>\n",
       "      <th>11782</th>\n",
       "      <td>J R</td>\n",
       "      <td>mαrч jσч αdríαnσ</td>\n",
       "      <td>5</td>\n",
       "      <td>0</td>\n",
       "      <td>0</td>\n",
       "      <td>1</td>\n",
       "      <td>sentimentos</td>\n",
       "    </tr>\n",
       "    <tr>\n",
       "      <th>11783</th>\n",
       "      <td>Ok</td>\n",
       "      <td>rza</td>\n",
       "      <td>5</td>\n",
       "      <td>0</td>\n",
       "      <td>0</td>\n",
       "      <td>1</td>\n",
       "      <td>sentimentos</td>\n",
       "    </tr>\n",
       "    <tr>\n",
       "      <th>11784</th>\n",
       "      <td>You</td>\n",
       "      <td>Habib Abbasi</td>\n",
       "      <td>2</td>\n",
       "      <td>1</td>\n",
       "      <td>0</td>\n",
       "      <td>0</td>\n",
       "      <td>sentimentos</td>\n",
       "    </tr>\n",
       "    <tr>\n",
       "      <th>11785</th>\n",
       "      <td>Niestety na razie aplikacja nie zdaje egzaminu...</td>\n",
       "      <td>Błażej BM</td>\n",
       "      <td>1</td>\n",
       "      <td>1</td>\n",
       "      <td>0</td>\n",
       "      <td>0</td>\n",
       "      <td>sentimentos</td>\n",
       "    </tr>\n",
       "  </tbody>\n",
       "</table>\n",
       "</div>"
      ],
      "text/plain": [
       "                                                  Review          Username   \n",
       "11781                                          Duraivelm        duraivel M  \\\n",
       "11782                                                J R  mαrч jσч αdríαnσ   \n",
       "11783                                                 Ok               rza   \n",
       "11784                                                You      Habib Abbasi   \n",
       "11785  Niestety na razie aplikacja nie zdaje egzaminu...         Błażej BM   \n",
       "\n",
       "       Rating  NegativeRating  NeutralRatings  PositiveFeeling      AppName  \n",
       "11781       5               0               0                1  sentimentos  \n",
       "11782       5               0               0                1  sentimentos  \n",
       "11783       5               0               0                1  sentimentos  \n",
       "11784       2               1               0                0  sentimentos  \n",
       "11785       1               1               0                0  sentimentos  "
      ]
     },
     "execution_count": 13,
     "metadata": {},
     "output_type": "execute_result"
    }
   ],
   "source": [
    "base_dados.tail()"
   ]
  },
  {
   "cell_type": "code",
   "execution_count": 14,
   "metadata": {
    "colab": {
     "base_uri": "https://localhost:8080/",
     "height": 466
    },
    "id": "IekRry3jtT53",
    "outputId": "69d03d6d-d289-4e7c-915f-5ea7cab4b4e5",
    "vscode": {
     "languageId": "python"
    }
   },
   "outputs": [
    {
     "data": {
      "text/plain": [
       "<Axes: xlabel='Rating', ylabel='count'>"
      ]
     },
     "execution_count": 14,
     "metadata": {},
     "output_type": "execute_result"
    },
    {
     "data": {
      "image/png": "[encoded data removed]",
      "text/plain": [
       "<Figure size 640x480 with 1 Axes>"
      ]
     },
     "metadata": {},
     "output_type": "display_data"
    }
   ],
   "source": [
    "base_dados['Rating'] = base_dados['Rating'].round()\n",
    "sns.countplot(x='Rating', data=base_dados)"
   ]
  },
  {
   "cell_type": "markdown",
   "metadata": {
    "id": "h36-8Ien-AQ1"
   },
   "source": [
    "# Etapa 3: Função para pré-processamento dos textos"
   ]
  },
  {
   "cell_type": "code",
   "execution_count": 15,
   "metadata": {
    "colab": {
     "base_uri": "https://localhost:8080/",
     "height": 35
    },
    "id": "a-qD0bc7uBrD",
    "outputId": "4a703917-05ba-46d2-c77f-83c163ebf343",
    "vscode": {
     "languageId": "python"
    }
   },
   "outputs": [
    {
     "data": {
      "text/plain": [
       "'!\"#$%&\\'()*+,-./:;<=>?@[\\\\]^_`{|}~'"
      ]
     },
     "execution_count": 15,
     "metadata": {},
     "output_type": "execute_result"
    }
   ],
   "source": [
    "pontuacoes = string.punctuation\n",
    "pontuacoes"
   ]
  },
  {
   "cell_type": "code",
   "execution_count": 16,
   "metadata": {
    "id": "SowU2ch_uNoe",
    "vscode": {
     "languageId": "python"
    }
   },
   "outputs": [],
   "source": [
    "from spacy.lang.pt.stop_words import STOP_WORDS\n",
    "stop_words = STOP_WORDS"
   ]
  },
  {
   "cell_type": "code",
   "execution_count": 17,
   "metadata": {
    "id": "UilhsfV1uWdo",
    "vscode": {
     "languageId": "python"
    }
   },
   "outputs": [],
   "source": [
    "from spacy.lang.pt.stop_words import STOP_WORDS\n",
    "stop_words = STOP_WORDS"
   ]
  },
  {
   "cell_type": "code",
   "execution_count": 18,
   "metadata": {
    "colab": {
     "base_uri": "https://localhost:8080/"
    },
    "id": "TCPSvh8buZlX",
    "outputId": "f8175ef5-0b21-48be-824b-a1ffc41f3df7",
    "vscode": {
     "languageId": "python"
    }
   },
   "outputs": [
    {
     "data": {
      "text/plain": [
       "416"
      ]
     },
     "execution_count": 18,
     "metadata": {},
     "output_type": "execute_result"
    }
   ],
   "source": [
    "len(stop_words)"
   ]
  },
  {
   "cell_type": "code",
   "execution_count": 19,
   "metadata": {
    "id": "QhF1_72Euc4o",
    "vscode": {
     "languageId": "python"
    }
   },
   "outputs": [],
   "source": [
    "from spacy.lang.pt.stop_words import STOP_WORDS\n",
    "stop_words = STOP_WORDS"
   ]
  },
  {
   "cell_type": "code",
   "execution_count": 20,
   "metadata": {},
   "outputs": [],
   "source": [
    "import re\n",
    "def remove_caracteres_especiais(texto):\n",
    "    return re.sub(r'[^\\w\\s]', '', texto)\n"
   ]
  },
  {
   "cell_type": "code",
   "execution_count": 21,
   "metadata": {
    "id": "RvCEW_Uqune8",
    "vscode": {
     "languageId": "python"
    }
   },
   "outputs": [],
   "source": [
    "def preprocessamento(texto):\n",
    "    try:\n",
    "        texto = remove_caracteres_especiais(texto)  \n",
    "        texto = texto.lower()\n",
    "        documento = nlp(texto)\n",
    "\n",
    "        lista = []\n",
    "        for token in documento:\n",
    "            lista.append(token.lemma_)\n",
    "\n",
    "        lista = [palavra for palavra in lista if palavra not in stop_words and palavra not in pontuacoes]\n",
    "        lista = ' '.join([str(elemento) for elemento in lista if not elemento.isdigit()])\n",
    "\n",
    "        return lista\n",
    "\n",
    "    except Exception as e:\n",
    "        print(f\"Erro ao processar texto: {e}\")\n",
    "        return ''\n"
   ]
  },
  {
   "cell_type": "code",
   "execution_count": 22,
   "metadata": {
    "colab": {
     "base_uri": "https://localhost:8080/",
     "height": 35
    },
    "id": "2_nIBBhYuqsr",
    "outputId": "20f6e190-cb0b-4ce7-fd7a-b2742950d097",
    "vscode": {
     "languageId": "python"
    }
   },
   "outputs": [
    {
     "data": {
      "text/plain": [
       "'aprendendo processamento linguagem natural curso curitiba'"
      ]
     },
     "execution_count": 22,
     "metadata": {},
     "output_type": "execute_result"
    }
   ],
   "source": [
    "teste = preprocessamento('Estou aPrendendo 1 10 23 processamento de linguagem natural, Curso em Curitiba')\n",
    "teste"
   ]
  },
  {
   "cell_type": "markdown",
   "metadata": {
    "id": "DtL8DBPVOFoL"
   },
   "source": [
    "# Etapa 4: Pré-processamento da base de dados"
   ]
  },
  {
   "cell_type": "markdown",
   "metadata": {
    "id": "n7G5PSVUOOId"
   },
   "source": [
    "### Limpeza dos textos"
   ]
  },
  {
   "cell_type": "code",
   "execution_count": 23,
   "metadata": {
    "colab": {
     "base_uri": "https://localhost:8080/",
     "height": 876
    },
    "id": "hpwZrbUGw58L",
    "outputId": "3406bef6-8cb0-4dbc-f6f7-7209baee91ed",
    "vscode": {
     "languageId": "python"
    }
   },
   "outputs": [
    {
     "data": {
      "text/html": [
       "<div>\n",
       "<style scoped>\n",
       "    .dataframe tbody tr th:only-of-type {\n",
       "        vertical-align: middle;\n",
       "    }\n",
       "\n",
       "    .dataframe tbody tr th {\n",
       "        vertical-align: top;\n",
       "    }\n",
       "\n",
       "    .dataframe thead th {\n",
       "        text-align: right;\n",
       "    }\n",
       "</style>\n",
       "<table border=\"1\" class=\"dataframe\">\n",
       "  <thead>\n",
       "    <tr style=\"text-align: right;\">\n",
       "      <th></th>\n",
       "      <th>Review</th>\n",
       "      <th>Username</th>\n",
       "      <th>Rating</th>\n",
       "      <th>NegativeRating</th>\n",
       "      <th>NeutralRatings</th>\n",
       "      <th>PositiveFeeling</th>\n",
       "      <th>AppName</th>\n",
       "    </tr>\n",
       "  </thead>\n",
       "  <tbody>\n",
       "    <tr>\n",
       "      <th>0</th>\n",
       "      <td>Crashed too often. Confusing. It shows for ex....</td>\n",
       "      <td>Ayşegül Apaydiner</td>\n",
       "      <td>1</td>\n",
       "      <td>1</td>\n",
       "      <td>0</td>\n",
       "      <td>0</td>\n",
       "      <td>sentimentos</td>\n",
       "    </tr>\n",
       "    <tr>\n",
       "      <th>1</th>\n",
       "      <td>It only looks like the legit app but does none...</td>\n",
       "      <td>Harold Galbreath</td>\n",
       "      <td>1</td>\n",
       "      <td>1</td>\n",
       "      <td>0</td>\n",
       "      <td>0</td>\n",
       "      <td>sentimentos</td>\n",
       "    </tr>\n",
       "    <tr>\n",
       "      <th>2</th>\n",
       "      <td>I have a limited data plan, so I figured that ...</td>\n",
       "      <td>A Google user</td>\n",
       "      <td>2</td>\n",
       "      <td>1</td>\n",
       "      <td>0</td>\n",
       "      <td>0</td>\n",
       "      <td>sentimentos</td>\n",
       "    </tr>\n",
       "    <tr>\n",
       "      <th>3</th>\n",
       "      <td>This app is not working at all. As soon as I c...</td>\n",
       "      <td>Shounak Basu</td>\n",
       "      <td>1</td>\n",
       "      <td>1</td>\n",
       "      <td>0</td>\n",
       "      <td>0</td>\n",
       "      <td>sentimentos</td>\n",
       "    </tr>\n",
       "    <tr>\n",
       "      <th>4</th>\n",
       "      <td>Google GO apps are garbage. They load slow, cr...</td>\n",
       "      <td>Some Guy</td>\n",
       "      <td>1</td>\n",
       "      <td>1</td>\n",
       "      <td>0</td>\n",
       "      <td>0</td>\n",
       "      <td>sentimentos</td>\n",
       "    </tr>\n",
       "    <tr>\n",
       "      <th>5</th>\n",
       "      <td>1. Not enough options 2. Cant make new folders...</td>\n",
       "      <td>A Google user</td>\n",
       "      <td>1</td>\n",
       "      <td>1</td>\n",
       "      <td>0</td>\n",
       "      <td>0</td>\n",
       "      <td>sentimentos</td>\n",
       "    </tr>\n",
       "    <tr>\n",
       "      <th>6</th>\n",
       "      <td>i think that as far as i can tell it is functi...</td>\n",
       "      <td>A Google user</td>\n",
       "      <td>3</td>\n",
       "      <td>0</td>\n",
       "      <td>1</td>\n",
       "      <td>0</td>\n",
       "      <td>sentimentos</td>\n",
       "    </tr>\n",
       "    <tr>\n",
       "      <th>7</th>\n",
       "      <td>It has no update, no option for light or dark ...</td>\n",
       "      <td>Timmy Mith</td>\n",
       "      <td>1</td>\n",
       "      <td>1</td>\n",
       "      <td>0</td>\n",
       "      <td>0</td>\n",
       "      <td>sentimentos</td>\n",
       "    </tr>\n",
       "    <tr>\n",
       "      <th>8</th>\n",
       "      <td>This App, hasn't worked for a week, for one sp...</td>\n",
       "      <td>A Google user</td>\n",
       "      <td>1</td>\n",
       "      <td>1</td>\n",
       "      <td>0</td>\n",
       "      <td>0</td>\n",
       "      <td>sentimentos</td>\n",
       "    </tr>\n",
       "    <tr>\n",
       "      <th>9</th>\n",
       "      <td>Well ill say it's easy to get lost in Gmail. F...</td>\n",
       "      <td>A Google user</td>\n",
       "      <td>2</td>\n",
       "      <td>1</td>\n",
       "      <td>0</td>\n",
       "      <td>0</td>\n",
       "      <td>sentimentos</td>\n",
       "    </tr>\n",
       "  </tbody>\n",
       "</table>\n",
       "</div>"
      ],
      "text/plain": [
       "                                              Review           Username   \n",
       "0  Crashed too often. Confusing. It shows for ex....  Ayşegül Apaydiner  \\\n",
       "1  It only looks like the legit app but does none...   Harold Galbreath   \n",
       "2  I have a limited data plan, so I figured that ...      A Google user   \n",
       "3  This app is not working at all. As soon as I c...       Shounak Basu   \n",
       "4  Google GO apps are garbage. They load slow, cr...           Some Guy   \n",
       "5  1. Not enough options 2. Cant make new folders...      A Google user   \n",
       "6  i think that as far as i can tell it is functi...      A Google user   \n",
       "7  It has no update, no option for light or dark ...         Timmy Mith   \n",
       "8  This App, hasn't worked for a week, for one sp...      A Google user   \n",
       "9  Well ill say it's easy to get lost in Gmail. F...      A Google user   \n",
       "\n",
       "   Rating  NegativeRating  NeutralRatings  PositiveFeeling      AppName  \n",
       "0       1               1               0                0  sentimentos  \n",
       "1       1               1               0                0  sentimentos  \n",
       "2       2               1               0                0  sentimentos  \n",
       "3       1               1               0                0  sentimentos  \n",
       "4       1               1               0                0  sentimentos  \n",
       "5       1               1               0                0  sentimentos  \n",
       "6       3               0               1                0  sentimentos  \n",
       "7       1               1               0                0  sentimentos  \n",
       "8       1               1               0                0  sentimentos  \n",
       "9       2               1               0                0  sentimentos  "
      ]
     },
     "execution_count": 23,
     "metadata": {},
     "output_type": "execute_result"
    }
   ],
   "source": [
    "base_dados.head(10)"
   ]
  },
  {
   "cell_type": "code",
   "execution_count": 24,
   "metadata": {
    "id": "Yg17ZY0LxHB-",
    "vscode": {
     "languageId": "python"
    }
   },
   "outputs": [
    {
     "name": "stdout",
     "output_type": "stream",
     "text": [
      "Erro ao processar texto: expected string or bytes-like object\n"
     ]
    }
   ],
   "source": [
    "base_dados['Review'] = base_dados['Review'].apply(preprocessamento)"
   ]
  },
  {
   "cell_type": "code",
   "execution_count": 25,
   "metadata": {
    "colab": {
     "base_uri": "https://localhost:8080/",
     "height": 841
    },
    "id": "a-Rh0qZQxZ99",
    "outputId": "28f1cb03-1638-448f-aa49-b906d96459d6",
    "vscode": {
     "languageId": "python"
    }
   },
   "outputs": [
    {
     "data": {
      "text/html": [
       "<div>\n",
       "<style scoped>\n",
       "    .dataframe tbody tr th:only-of-type {\n",
       "        vertical-align: middle;\n",
       "    }\n",
       "\n",
       "    .dataframe tbody tr th {\n",
       "        vertical-align: top;\n",
       "    }\n",
       "\n",
       "    .dataframe thead th {\n",
       "        text-align: right;\n",
       "    }\n",
       "</style>\n",
       "<table border=\"1\" class=\"dataframe\">\n",
       "  <thead>\n",
       "    <tr style=\"text-align: right;\">\n",
       "      <th></th>\n",
       "      <th>Review</th>\n",
       "      <th>Username</th>\n",
       "      <th>Rating</th>\n",
       "      <th>NegativeRating</th>\n",
       "      <th>NeutralRatings</th>\n",
       "      <th>PositiveFeeling</th>\n",
       "      <th>AppName</th>\n",
       "    </tr>\n",
       "  </thead>\n",
       "  <tbody>\n",
       "    <tr>\n",
       "      <th>0</th>\n",
       "      <td>crash too often confuse it show ex mail in spa...</td>\n",
       "      <td>Ayşegül Apaydiner</td>\n",
       "      <td>1</td>\n",
       "      <td>1</td>\n",
       "      <td>0</td>\n",
       "      <td>0</td>\n",
       "      <td>sentimentos</td>\n",
       "    </tr>\n",
       "    <tr>\n",
       "      <th>1</th>\n",
       "      <td>it only look like the legit app but none of th...</td>\n",
       "      <td>Harold Galbreath</td>\n",
       "      <td>1</td>\n",
       "      <td>1</td>\n",
       "      <td>0</td>\n",
       "      <td>0</td>\n",
       "      <td>sentimentos</td>\n",
       "    </tr>\n",
       "    <tr>\n",
       "      <th>2</th>\n",
       "      <td>I have limited datum plan so I figure that thi...</td>\n",
       "      <td>A Google user</td>\n",
       "      <td>2</td>\n",
       "      <td>1</td>\n",
       "      <td>0</td>\n",
       "      <td>0</td>\n",
       "      <td>sentimentos</td>\n",
       "    </tr>\n",
       "    <tr>\n",
       "      <th>3</th>\n",
       "      <td>this app be not work at all soon I click an em...</td>\n",
       "      <td>Shounak Basu</td>\n",
       "      <td>1</td>\n",
       "      <td>1</td>\n",
       "      <td>0</td>\n",
       "      <td>0</td>\n",
       "      <td>sentimentos</td>\n",
       "    </tr>\n",
       "    <tr>\n",
       "      <th>4</th>\n",
       "      <td>google go app be garbage they load slow crash ...</td>\n",
       "      <td>Some Guy</td>\n",
       "      <td>1</td>\n",
       "      <td>1</td>\n",
       "      <td>0</td>\n",
       "      <td>0</td>\n",
       "      <td>sentimentos</td>\n",
       "    </tr>\n",
       "    <tr>\n",
       "      <th>5</th>\n",
       "      <td>not enough option can not make new folder if y...</td>\n",
       "      <td>A Google user</td>\n",
       "      <td>1</td>\n",
       "      <td>1</td>\n",
       "      <td>0</td>\n",
       "      <td>0</td>\n",
       "      <td>sentimentos</td>\n",
       "    </tr>\n",
       "    <tr>\n",
       "      <th>6</th>\n",
       "      <td>I think that far I can tell it be functional a...</td>\n",
       "      <td>A Google user</td>\n",
       "      <td>3</td>\n",
       "      <td>0</td>\n",
       "      <td>1</td>\n",
       "      <td>0</td>\n",
       "      <td>sentimentos</td>\n",
       "    </tr>\n",
       "    <tr>\n",
       "      <th>7</th>\n",
       "      <td>it have update option light or dark theme it b...</td>\n",
       "      <td>Timmy Mith</td>\n",
       "      <td>1</td>\n",
       "      <td>1</td>\n",
       "      <td>0</td>\n",
       "      <td>0</td>\n",
       "      <td>sentimentos</td>\n",
       "    </tr>\n",
       "    <tr>\n",
       "      <th>8</th>\n",
       "      <td>this app have not work week one specific gmail...</td>\n",
       "      <td>A Google user</td>\n",
       "      <td>1</td>\n",
       "      <td>1</td>\n",
       "      <td>0</td>\n",
       "      <td>0</td>\n",
       "      <td>sentimentos</td>\n",
       "    </tr>\n",
       "    <tr>\n",
       "      <th>9</th>\n",
       "      <td>well ill say its easy to get lose in gmail tho...</td>\n",
       "      <td>A Google user</td>\n",
       "      <td>2</td>\n",
       "      <td>1</td>\n",
       "      <td>0</td>\n",
       "      <td>0</td>\n",
       "      <td>sentimentos</td>\n",
       "    </tr>\n",
       "  </tbody>\n",
       "</table>\n",
       "</div>"
      ],
      "text/plain": [
       "                                              Review           Username   \n",
       "0  crash too often confuse it show ex mail in spa...  Ayşegül Apaydiner  \\\n",
       "1  it only look like the legit app but none of th...   Harold Galbreath   \n",
       "2  I have limited datum plan so I figure that thi...      A Google user   \n",
       "3  this app be not work at all soon I click an em...       Shounak Basu   \n",
       "4  google go app be garbage they load slow crash ...           Some Guy   \n",
       "5  not enough option can not make new folder if y...      A Google user   \n",
       "6  I think that far I can tell it be functional a...      A Google user   \n",
       "7  it have update option light or dark theme it b...         Timmy Mith   \n",
       "8  this app have not work week one specific gmail...      A Google user   \n",
       "9  well ill say its easy to get lose in gmail tho...      A Google user   \n",
       "\n",
       "   Rating  NegativeRating  NeutralRatings  PositiveFeeling      AppName  \n",
       "0       1               1               0                0  sentimentos  \n",
       "1       1               1               0                0  sentimentos  \n",
       "2       2               1               0                0  sentimentos  \n",
       "3       1               1               0                0  sentimentos  \n",
       "4       1               1               0                0  sentimentos  \n",
       "5       1               1               0                0  sentimentos  \n",
       "6       3               0               1                0  sentimentos  \n",
       "7       1               1               0                0  sentimentos  \n",
       "8       1               1               0                0  sentimentos  \n",
       "9       2               1               0                0  sentimentos  "
      ]
     },
     "execution_count": 25,
     "metadata": {},
     "output_type": "execute_result"
    }
   ],
   "source": [
    "base_dados.head(10)"
   ]
  },
  {
   "cell_type": "markdown",
   "metadata": {
    "id": "trA39YO4PcFp"
   },
   "source": [
    "### Tratamento da classe"
   ]
  },
  {
   "cell_type": "code",
   "execution_count": 26,
   "metadata": {
    "id": "SPPY0MlIYoTR",
    "vscode": {
     "languageId": "python"
    }
   },
   "outputs": [],
   "source": [
    "exemplo_base_dados = [[\"este trabalho é agradável\", {\"Negative\": True, \"Neutral\": False, \"Positive\": False}],\n",
    "                      [\"este lugar continua assustador\", {\"Negative\": False, \"Neutral\": True, \"Positive\": False}]]"
   ]
  },
  {
   "cell_type": "code",
   "execution_count": 27,
   "metadata": {
    "colab": {
     "base_uri": "https://localhost:8080/"
    },
    "id": "u_2R-JWKyJ9c",
    "outputId": "cc9e7745-6c26-4b36-ed57-7cac384ad967",
    "vscode": {
     "languageId": "python"
    }
   },
   "outputs": [
    {
     "data": {
      "text/plain": [
       "list"
      ]
     },
     "execution_count": 27,
     "metadata": {},
     "output_type": "execute_result"
    }
   ],
   "source": [
    "type(exemplo_base_dados)"
   ]
  },
  {
   "cell_type": "code",
   "execution_count": 28,
   "metadata": {
    "colab": {
     "base_uri": "https://localhost:8080/"
    },
    "id": "baZHkQZgyVNV",
    "outputId": "aa29afec-d74a-45dc-e6ee-ad2aacaa0dd5",
    "vscode": {
     "languageId": "python"
    }
   },
   "outputs": [
    {
     "data": {
      "text/plain": [
       "['este trabalho é agradável',\n",
       " {'Negative': True, 'Neutral': False, 'Positive': False}]"
      ]
     },
     "execution_count": 28,
     "metadata": {},
     "output_type": "execute_result"
    }
   ],
   "source": [
    "exemplo_base_dados[0]"
   ]
  },
  {
   "cell_type": "code",
   "execution_count": 29,
   "metadata": {
    "colab": {
     "base_uri": "https://localhost:8080/",
     "height": 35
    },
    "id": "BXVJt4BHyZsR",
    "outputId": "2450a043-d63f-4496-c5c1-fb9d843c1174",
    "vscode": {
     "languageId": "python"
    }
   },
   "outputs": [
    {
     "data": {
      "text/plain": [
       "'este trabalho é agradável'"
      ]
     },
     "execution_count": 29,
     "metadata": {},
     "output_type": "execute_result"
    }
   ],
   "source": [
    "exemplo_base_dados[0][0]"
   ]
  },
  {
   "cell_type": "code",
   "execution_count": 30,
   "metadata": {
    "colab": {
     "base_uri": "https://localhost:8080/"
    },
    "id": "y_xMiJIGydyE",
    "outputId": "a7a8abd9-05f4-4ed1-8f83-7043d9a6c713",
    "vscode": {
     "languageId": "python"
    }
   },
   "outputs": [
    {
     "data": {
      "text/plain": [
       "{'Negative': True, 'Neutral': False, 'Positive': False}"
      ]
     },
     "execution_count": 30,
     "metadata": {},
     "output_type": "execute_result"
    }
   ],
   "source": [
    "exemplo_base_dados[0][1]"
   ]
  },
  {
   "cell_type": "code",
   "execution_count": 31,
   "metadata": {
    "colab": {
     "base_uri": "https://localhost:8080/"
    },
    "id": "fEWag1Glyg4M",
    "outputId": "bc0233b0-281d-4c01-ac84-c845ae02589c",
    "vscode": {
     "languageId": "python"
    }
   },
   "outputs": [
    {
     "data": {
      "text/plain": [
       "dict"
      ]
     },
     "execution_count": 31,
     "metadata": {},
     "output_type": "execute_result"
    }
   ],
   "source": [
    "type(exemplo_base_dados[0][1])"
   ]
  },
  {
   "cell_type": "code",
   "execution_count": 32,
   "metadata": {
    "id": "TH31QeqEyrub",
    "vscode": {
     "languageId": "python"
    }
   },
   "outputs": [],
   "source": [
    "base_dados_final = []\n",
    "for texto, negative, neutral, positive in zip(base_dados['Review'], base_dados['NegativeRating'], base_dados['NeutralRatings'], base_dados['PositiveFeeling']):\n",
    "  #print(texto, emocao)\n",
    "  if negative == 1:\n",
    "    dic = ({\"Negative\": True, \"Neutral\": False, \"Positive\": False})\n",
    "  elif neutral == 1:\n",
    "    dic = ({\"Negative\": False, \"Neutral\": True, \"Positive\": False})\n",
    "  else: \n",
    "    dic = ({\"Negative\": False, \"Neutral\": False, \"Positive\": True})  \n",
    "\n",
    "  base_dados_final.append([texto, dic.copy()])\n"
   ]
  },
  {
   "cell_type": "code",
   "execution_count": 33,
   "metadata": {
    "colab": {
     "base_uri": "https://localhost:8080/"
    },
    "id": "L-uCDjrazfyN",
    "outputId": "a0e3e579-d124-4ef6-ce6a-811e4c0b460c",
    "vscode": {
     "languageId": "python"
    }
   },
   "outputs": [
    {
     "data": {
      "text/plain": [
       "11786"
      ]
     },
     "execution_count": 33,
     "metadata": {},
     "output_type": "execute_result"
    }
   ],
   "source": [
    "len(base_dados_final)"
   ]
  },
  {
   "cell_type": "code",
   "execution_count": 34,
   "metadata": {
    "colab": {
     "base_uri": "https://localhost:8080/"
    },
    "id": "Nxl28cCezjjS",
    "outputId": "eb3a4cff-894e-4b76-86f0-b76aabbb65aa",
    "vscode": {
     "languageId": "python"
    }
   },
   "outputs": [
    {
     "data": {
      "text/plain": [
       "['crash too often confuse it show ex mail in spamfolder but when I go there its empty after week I have mail at all I m afraid to uninstall since it prompt I that that could cause my phone to malfunction I m seriously frustrate prior to this experience my only issue be to create folder w different name to organize mail',\n",
       " {'Negative': True, 'Neutral': False, 'Positive': False}]"
      ]
     },
     "execution_count": 34,
     "metadata": {},
     "output_type": "execute_result"
    }
   ],
   "source": [
    "base_dados_final[0]"
   ]
  },
  {
   "cell_type": "code",
   "execution_count": 35,
   "metadata": {
    "colab": {
     "base_uri": "https://localhost:8080/",
     "height": 53
    },
    "id": "LR_UPCX5zodw",
    "outputId": "8de0bfbe-c0ab-43f6-fc4e-95701816edeb",
    "vscode": {
     "languageId": "python"
    }
   },
   "outputs": [
    {
     "data": {
      "text/plain": [
       "'crash too often confuse it show ex mail in spamfolder but when I go there its empty after week I have mail at all I m afraid to uninstall since it prompt I that that could cause my phone to malfunction I m seriously frustrate prior to this experience my only issue be to create folder w different name to organize mail'"
      ]
     },
     "execution_count": 35,
     "metadata": {},
     "output_type": "execute_result"
    }
   ],
   "source": [
    "base_dados_final[0][0]"
   ]
  },
  {
   "cell_type": "code",
   "execution_count": 36,
   "metadata": {
    "colab": {
     "base_uri": "https://localhost:8080/"
    },
    "id": "-0M3jriRzrho",
    "outputId": "1969ba89-624e-421d-fbf7-420f30f75b19",
    "vscode": {
     "languageId": "python"
    }
   },
   "outputs": [
    {
     "data": {
      "text/plain": [
       "{'Negative': True, 'Neutral': False, 'Positive': False}"
      ]
     },
     "execution_count": 36,
     "metadata": {},
     "output_type": "execute_result"
    }
   ],
   "source": [
    "base_dados_final[0][1]"
   ]
  },
  {
   "cell_type": "code",
   "execution_count": 37,
   "metadata": {
    "colab": {
     "base_uri": "https://localhost:8080/"
    },
    "id": "RcO2rX_Nzue-",
    "outputId": "88c8be49-8329-4c8d-89f4-f27cc22ce042",
    "vscode": {
     "languageId": "python"
    }
   },
   "outputs": [
    {
     "data": {
      "text/plain": [
       "dict"
      ]
     },
     "execution_count": 37,
     "metadata": {},
     "output_type": "execute_result"
    }
   ],
   "source": [
    "type(base_dados_final[0][1])"
   ]
  },
  {
   "cell_type": "code",
   "execution_count": 38,
   "metadata": {
    "colab": {
     "base_uri": "https://localhost:8080/"
    },
    "id": "VoF9RsEFzySQ",
    "outputId": "6a15639c-7ae7-471a-a509-e115f842b2d8",
    "vscode": {
     "languageId": "python"
    }
   },
   "outputs": [
    {
     "data": {
      "text/plain": [
       "[['crash too often confuse it show ex mail in spamfolder but when I go there its empty after week I have mail at all I m afraid to uninstall since it prompt I that that could cause my phone to malfunction I m seriously frustrate prior to this experience my only issue be to create folder w different name to organize mail',\n",
       "  {'Negative': True, 'Neutral': False, 'Positive': False}],\n",
       " ['it only look like the legit app but none of the even basic function of gmail correctly its strip down in all the wrong way push notification not work correctly even with everything turn on archive message not go into the proper label the trash will not completely empty even when select empty trash and to get any action to perform it take repeat tap and to register grossly inadequate to the task its mean to perform not quality resource friendly build',\n",
       "  {'Negative': True, 'Neutral': False, 'Positive': False}],\n",
       " ['I have limited datum plan so I figure that this might be the way to go it be preinstalle on my phone unfortunately this app be pretty buggy I have mulitple gmail account and switch between they result in sometimes be able to see my mail and other time I be show that I have email in very busy account I m uninstalle and go back to regular gmail',\n",
       "  {'Negative': True, 'Neutral': False, 'Positive': False}],\n",
       " ['this app be not work at all soon I click an email to read it the app close I keep stop over and over again I have update the carrier service and the app itself be upto date it be show other option except open I can not uninstall it it be default app I be really disappointed with it from today please help I with way to troubleshoot this',\n",
       "  {'Negative': True, 'Neutral': False, 'Positive': False}],\n",
       " ['google go app be garbage they load slow crash constantly gmail go open link in an artificial browser that be somewhere between the email and the browser but say it be open in chrome you have to click the dot   ipenin chrome or it will not save in history or to favorite slow nonremovable forceware like this cause frustration anger loss of time loss of work phone will be throw to shattering end because of these horrible app give we choice and remove go app',\n",
       "  {'Negative': True, 'Neutral': False, 'Positive': False}],\n",
       " ['not enough option can not make new folder if you want to save webpage later to be organize you can not customize your anything like you can on pc note    change color of menu   word   border   etc   I not think it would take much time   money   well video graph it',\n",
       "  {'Negative': True, 'Neutral': False, 'Positive': False}],\n",
       " ['I think that far I can tell it be functional and easy to use however it lag greatly on update or see mail it come in I give it because this be the default gmail app that come with my device coolpad 3310a alot of app that seem like odd simple small version of standard and regular app be default on this phone none actually function well or entirely like original app but gmail go have satifie fairly',\n",
       "  {'Negative': False, 'Neutral': True, 'Positive': False}],\n",
       " ['it have update option light or dark theme it be still the same though the owner have leave if only my phone have that option of download all from start I would not recommend this app my email I give it star the work it through quick delivery of message and notification it give concern the email but this need an update before we recommend other to have it in their phone if not there',\n",
       "  {'Negative': True, 'Neutral': False, 'Positive': False}],\n",
       " ['this app have not work week one specific gmail account it state it can not connect to server I ve remove account repeatedly then readde acct to avail I m not able to uninstall the app I have to also install regular gmail app also thank nothing',\n",
       "  {'Negative': True, 'Neutral': False, 'Positive': False}],\n",
       " ['well ill say its easy to get lose in gmail those need minimal set up and one spot to see their email this be definitely not the way to go alias contact recovery and an about I email with way to many label add on the filter catergorize under tab who even have their own custom label you even get to choose what custom label to nest it under',\n",
       "  {'Negative': True, 'Neutral': False, 'Positive': False}],\n",
       " ['mian inbox not have option to delete all message old message which have be delete keep appear aggain I have delete message from on several occasion both under mobile datum aa well wifi datum my gmail app that I use to have on my blackberry9810 several year back be more efficient and flexible than this app not impress walter',\n",
       "  {'Negative': True, 'Neutral': False, 'Positive': False}],\n",
       " ['its great app I just hate all those ad and most be repeat then those survey question be just annoying youask the same stuff over and over and you never get what you re claim without buy something first its suppose to be free contest all you get be promise and fake answer I ve win several game but I m not pay if I win freely and clear overall I just enjoy the app',\n",
       "  {'Negative': False, 'Neutral': False, 'Positive': True}],\n",
       " ['its be ok I ve be get way too many sexually explicit email that I not want email from thing that I ve delete my email off and since yesterday south african time the app have be sync mail from and it go on all day nonstop I have try turn off the sync data thing restart my phone but to avail it still it every time I go into my gmail app please fix this',\n",
       "  {'Negative': False, 'Neutral': True, 'Positive': False}],\n",
       " ['all mail section will not delete message when I they come back and its infuriate I please fix I keep have to redelete every message to free up space on my phone but they just will not go away please help I even restart my phone and I can not redownload either because it be predownloaded on my phone when I get it I can only remove it from my main screen',\n",
       "  {'Negative': False, 'Neutral': True, 'Positive': False}],\n",
       " ['it have be very good all round but lately I ve notice that not all my mail come up after refresh those to be under promotion and the other label not come up and those mail be not in the spam folder I only get to see they with my pc plus you have not update since may that may not be the good',\n",
       "  {'Negative': False, 'Neutral': False, 'Positive': True}],\n",
       " ['app have be terrible few day now anytime I just open it on my mobile in matter of second it shut off by it self now I can not read or send mail I think it be update but after check I notice it be already up to date this be very devastating',\n",
       "  {'Negative': True, 'Neutral': False, 'Positive': False}],\n",
       " ['I ve really never have much of an issue until now when I try to compose an email it keep send it to draft then if I try to send it say queue and show up in outbox but I can not get it to send very frustrating',\n",
       "  {'Negative': True, 'Neutral': False, 'Positive': False}],\n",
       " ['I not like gmail go it be feature that I have choice but to have on my android phone when I try and send message it always remain in my queue when I open it I always have to refresh my inbox it not show all the feature other gmail app show would not recommend with my experience',\n",
       "  {'Negative': True, 'Neutral': False, 'Positive': False}],\n",
       " ['this app help I while rarely check it but still it work and the thing I need it to I believe that once I send gmail to somebody the app stop sync my parent think that my gmail be getting send to by tablet but my tablet have break honestly this be not even worth press that green button',\n",
       "  {'Negative': True, 'Neutral': False, 'Positive': False}],\n",
       " ['not like this app at all all my email just disappear I several thing to bring they back up and nothing work so after several hrs I end up have to download and install the classic gmail app and low and behold all my email come back this app need to be fix and hopefully it work fine once its debug my advice would be to get the classic gmail again',\n",
       "  {'Negative': True, 'Neutral': False, 'Positive': False}],\n",
       " ['horrible app they know everything and they be extremely handy to look thing up but they omit any way of direct contact I m totally useless on these gadget so someone like I instead of their system to help ie live chat instead of put I round in circle I obey the instruction to say delete contract but the place to tick not appear',\n",
       "  {'Negative': True, 'Neutral': False, 'Positive': False}],\n",
       " ['I like the app initially but several time now it have not sync my mail properly and I ve miss some important email result only to receive they day too late I have now decide to switch to another app instead this be not reliable enough',\n",
       "  {'Negative': True, 'Neutral': False, 'Positive': False}],\n",
       " ['last week it be my gmail account that will not sync this week its the nongmail   my yahoomail I ve try everything google recommend sync check incoming server setting and reset notification etcyet account remain frozen I m confused and almost in panic now I m await an important medical report that will not come business deal hang in the balance cos I can not respond to my mail realtime how one get out of this one week one trouble mode google pls help',\n",
       "  {'Negative': True, 'Neutral': False, 'Positive': False}],\n",
       " ['gmail I have never have problem use you all over decade my only source of email but the past two year I have try to recover primary gmail since I lose the old phone   number that I solely put recovery previously you all have quickly   promptly help I resolve any problem within hour but I have not get response in year I directly send the account recovery message many time please help I and get in touch with I asap I m sure you all will get in touch',\n",
       "  {'Negative': True, 'Neutral': False, 'Positive': False}],\n",
       " ['since use this app life be easy I to lot of thingsat workat home business wise and I lose it I ve instal it again there be go to be easy I to communicate with family friend colleague and everyone even buy grocery its the good app wish we can learn more about it and use it our own safetyit very helpful I give this app five star keep it',\n",
       "  {'Negative': False, 'Neutral': False, 'Positive': True}],\n",
       " ['gmail go be so smart and it provide excellent feature which be user friendly moreso its also worthy trust it seek to safeguard and promote strong security itsuser again its ability to go by access all form of email its convenient and attractive operation in of its user therefore I truly recommend all user to stay connected and remain focused user',\n",
       "  {'Negative': False, 'Neutral': False, 'Positive': True}],\n",
       " ['what s wrong with you guy appit be work so great and I not have any issue until now when I click on something after I receive email it would not let I in so I could read it after I click on but instead it just take I back my regular phone background to where all the other app be you guy need to update this appget it fixedor something so it can work goodright now this not make sense it to act up on I and I not like it',\n",
       "  {'Negative': True, 'Neutral': False, 'Positive': False}],\n",
       " ['I give it star because it not give thr option of cero i never instal this app I been deal with google and custmization feature some time now all my email go to what I belive its google inbox and canot access itdo to administration feature certain cookie program and its from these app that google play install supposibly under some kind of administrativefamily setting if I can get any help with that I would be gratelly appreciate it',\n",
       "  {'Negative': True, 'Neutral': False, 'Positive': False}],\n",
       " ['this app be good cuz its easy to use but the easiness be too much that the application allow anyone with my phone to access my mail box   meanwhile they could have make it such that there be password require anytime one need to access hisher mail box like anytime you click on the gmail app you re ask password this way even thief will not have it easy if they get to steal my phone thank so much I hope you really consider my request',\n",
       "  {'Negative': True, 'Neutral': False, 'Positive': False}],\n",
       " ['would be niceif I could delete mail like with spam garbage and I be also get mailfor other people   need to fixas I m send stuff to spamit laggsit will not open in appfor instance I get free book to download and it not open too many thing wrong sadand I not like chromeandhate that everything be sync patty',\n",
       "  {'Negative': True, 'Neutral': False, 'Positive': False}],\n",
       " ['terrible the app fail week after I buy the phone it keep return the app fail to start message and closing I have try download gmail but the problem remain I have never see useless and hardtofix app',\n",
       "  {'Negative': True, 'Neutral': False, 'Positive': False}],\n",
       " ['this app be horrible I ve not be able to read any of my email since have it I click on the email I want to read and it just go right back to the beginning screen very annoying and I have write to gmail and get response',\n",
       "  {'Negative': True, 'Neutral': False, 'Positive': False}],\n",
       " ['I ve be have trouble download or even open attachment from the app I have to use browser everytime I m to download an attach document which be almost everytime it be frustrating',\n",
       "  {'Negative': False, 'Neutral': True, 'Positive': False}],\n",
       " ['I have multiple account log in I remove two account recently yet whenever I open this app I still see they log in I not want they anymore its drive I crazy I ve try every way I think its possible yet it not go away when I log in on other google app it not show they be log in its just this particular app please how I make then stop appear fix it',\n",
       "  {'Negative': True, 'Neutral': False, 'Positive': False}],\n",
       " ['whenever I try to send mail it not send instead it be forward to the outbox folder this abnormality have be happen since year now the developer should fix it',\n",
       "  {'Negative': True, 'Neutral': False, 'Positive': False}],\n",
       " ['it not want to send or reply and again delete message take time they keep come back trash nothing happen if I try to empty it when I open it take year to sync I try clear everything include my music file still the same',\n",
       "  {'Negative': True, 'Neutral': False, 'Positive': False}],\n",
       " ['I use to love google but now after I ve lose handful of my email due to my ex or forget my password and not be able to verify my own identity and not be able to speak with customer service unless I pay ridiculous fee I ve about have it with google they should go back to have free customer service and add free online chat feature well',\n",
       "  {'Negative': True, 'Neutral': False, 'Positive': False}],\n",
       " ['what it say on the app but meddle with wallpaper and lose mailthat it reallyotherwise it give I my mail and I need that it save my password and email address but not always help when I need it most otherwise great have be with google long time not think I shall leave not now',\n",
       "  {'Negative': False, 'Neutral': False, 'Positive': True}],\n",
       " ['the app keep on send the notice that it drain the battery at the background I got frustrate the app work fine just that I be frustrate by constant message everytime I use it',\n",
       "  {'Negative': False, 'Neutral': True, 'Positive': False}],\n",
       " ['simple   convenient to use however i d like to have next   previous button available in my email rather than be force back to my inbox i d also like to set the default view to all mail pls make this happen  ',\n",
       "  {'Negative': False, 'Neutral': True, 'Positive': False}],\n",
       " ['when I try to open the mail nothing completely load most of the time I ve complain about it but nothing change I pay to have it fix but it not stay fix I m sick of buy stuff from china that only way work clothe r make from anything but cotton same sheet cotton absorb but these sinthetic material not it seem like I m the only one in the whole world that have notice this tho I buy material take apart blouse I really liked make new blouse then notice',\n",
       "  {'Negative': True, 'Neutral': False, 'Positive': False}],\n",
       " ['unable to empty trash now you have to wait 30dys that s uneeded storage and space when I click on help   feedback immediately take I to the folder primary I think this app be well than the original gmail app',\n",
       "  {'Negative': True, 'Neutral': False, 'Positive': False}],\n",
       " ['great email app group and separate into different subgroup easy organization and file well one I ve find I highly recommend',\n",
       "  {'Negative': False, 'Neutral': False, 'Positive': True}],\n",
       " ['continual crash not workfine until hour ago I ve uninstalle   re installedgone thru all the fix but after year look like this thing be dead I waste too much time try to fix garbage',\n",
       "  {'Negative': True, 'Neutral': False, 'Positive': False}],\n",
       " ['reliable email service my only problem be that once you archive an email its long available on the phone offline so any item that s truly press   important need to be keep in the inbox',\n",
       "  {'Negative': False, 'Neutral': False, 'Positive': True}],\n",
       " ['this app put all my message right where I need they in an easy to use well organize format I recommend it to all of my friend and family even some coworker well all around good app store all of my message I give it five star',\n",
       "  {'Negative': False, 'Neutral': False, 'Positive': True}],\n",
       " ['I can not add my yahoo email in incoming server setting part it read could not open connection to server and I try multiple time but to avail please fix it so that I can manage all my email gmail and y mail in this app thank',\n",
       "  {'Negative': True, 'Neutral': False, 'Positive': False}],\n",
       " ['the app be great I love the app so great easy contact anyone within email address great creation buti can not attach file more than just mb ohhh but that s not major issue',\n",
       "  {'Negative': False, 'Neutral': False, 'Positive': True}],\n",
       " ['I would like it if I could select all to delete etc instead of have to it one by one also would be well if it have pdf or something so not have download an app just to view document and stuff which take up too much of my memory',\n",
       "  {'Negative': True, 'Neutral': False, 'Positive': False}],\n",
       " ['I only give this star because lately I can not access any email before january yesterday it show only upto january I think it be my problem and restart my device use today when I scroll down it only show upto january where be all my mail go please fix this this be my humble request',\n",
       "  {'Negative': False, 'Neutral': True, 'Positive': False}],\n",
       " ['this update be so horrible I think I be the only one complain about the app keep stop anytime I open to read mail this be so poor you ve get to fix this or restore the old version we',\n",
       "  {'Negative': True, 'Neutral': False, 'Positive': False}],\n",
       " ['useless app have totally stop sync apparent reason none of the pathetic troubleshoot idea work and there s be update since laughable really I m now face the prospect of have to create totally new email with another company my email be obviously important to I function adult human in the work world thank nothing gfail you cretinous muppet one star be too good you',\n",
       "  {'Negative': True, 'Neutral': False, 'Positive': False}],\n",
       " ['its be intentional by the admin that the app and its operational frame and feature confirm online verification easy transport and linearity but you see know how to get either from store or palm add to above I think mobility and tourist abroad give communication sector great in all ramification',\n",
       "  {'Negative': False, 'Neutral': True, 'Positive': False}],\n",
       " ['use on pixel device on paper this app make alot of sense however space save app mean nothing if you can not delete the original gmail app gmail use an average mb while active gmail go cut that in half which be great except when disabled gmail take up mb and can not be remove so with gmail and gmail go it use more space than just use the original gmail app logic be not be use here make it possible to remove gmail when use go so that it make more sense',\n",
       "  {'Negative': True, 'Neutral': False, 'Positive': False}],\n",
       " ['great very efficient and fast in email but I find it stressfull click back into inbox in order to open the next mail the other gmail app allow glide through the email and it be so convenient that way can this be tweak so',\n",
       "  {'Negative': False, 'Neutral': True, 'Positive': False}],\n",
       " ['this mail be fail to attach file on my android its keep say could not attach file I rate you one start what its view the message',\n",
       "  {'Negative': True, 'Neutral': False, 'Positive': False}],\n",
       " ['I have send you review before about this app the last update be mark I have autoupdate my app and this app will not update or delete my email even if I it manually I be wonder why I have not receive any response or something from you say that the problem be or will be take care of but I see its still the same I have request help before and its still the same thing its not my phone I just get new phone I hopefully will get response or uninstall',\n",
       "  {'Negative': True, 'Neutral': False, 'Positive': False}],\n",
       " ['this app be work fine until todayit stop send message to I through out today I be expect message but I not even see one messageand another thing I not use to know when message enter please let I know when message enter and please let the gmail be update always with new and fresh message not old message thank you',\n",
       "  {'Negative': True, 'Neutral': False, 'Positive': False}],\n",
       " ['I will rate it high when the app be fix and will sync like its suppose toi have not be able to get any of my email my primary folder say be all and have be say that couple of day now',\n",
       "  {'Negative': True, 'Neutral': False, 'Positive': False}],\n",
       " ['you would think company like google with an app that have million download would be able to fix the credential require sign in bug where you click it and then nothing happen mail out of sync blame nsync',\n",
       "  {'Negative': True, 'Neutral': False, 'Positive': False}],\n",
       " ['excellent app work great with google and yahoo low space mb with the datum on drive compare to mb of the regular gmail app and use less ram memory which be good great job I get android go update I m on android go now still great app',\n",
       "  {'Negative': False, 'Neutral': False, 'Positive': True}],\n",
       " ['quora send I regular unwanted email and its possible to unsubscribe getting rid of gmail be not work either all this start because I tell google that the advertisement on youtube invest in amazon be fake and that google nothing about it but keep receive the advertising fee from the criminal client and now the advert be even more elaborate',\n",
       "  {'Negative': True, 'Neutral': False, 'Positive': False}],\n",
       " ['every time I click anything it just go black and not show I my mail it freeze up my phone soon it go black and take time to close and reopen it I just clear catche and datum to see if maybe it will work and I can give you high rating',\n",
       "  {'Negative': True, 'Neutral': False, 'Positive': False}],\n",
       " ['its not good app I can not have access to new email but when I search on google I can see that I have new mail it show sign in but when I tap it not respond really desapointed',\n",
       "  {'Negative': True, 'Neutral': False, 'Positive': False}],\n",
       " ['well not happy I be try to send gift card to some one else and I miss one letter on their email and get everything mess up so I want to fix it   I not want it delived to I I pay it I not even know if it go though please let I know how to fix it it be two hundred thank you',\n",
       "  {'Negative': False, 'Neutral': False, 'Positive': True}],\n",
       " ['my email be not consistent and usually day late necessary mail from some source not show up at all since I upgrade to new phone run the android oreo operating system most of what I get be spam from google relate app',\n",
       "  {'Negative': True, 'Neutral': False, 'Positive': False}],\n",
       " ['this app suck í everything I could to get my email it will not even let I change my email address and password what be I suppose to I get very important reminder my doctor appointment and I miss half of they cause I not know when their time be I know there be other way to get they but this app be more convenient',\n",
       "  {'Negative': False, 'Neutral': False, 'Positive': True}],\n",
       " ['this app be nice and not take lot of space but there be one thing that keep on bother I when I try to press the word more it keep on re refuse and also if I try to unsubscribe from certain channel it would not   I really prefer the original gmail than this one',\n",
       "  {'Negative': True, 'Neutral': False, 'Positive': False}],\n",
       " ['can not be bother with this app I bring in all my email through yahoo simplicity sake hate hate hate the label instead of folder thing and always have it never occur to google that there s reason why other provider have not choose this route waste of space even in lite form',\n",
       "  {'Negative': True, 'Neutral': False, 'Positive': False}],\n",
       " ['I dnt like update phoneit not improve nothing and u ppl all over the world need to look carefully at all app esp one run in background this be reason data leak one will tell the ppl about all that s why it pay to read the privacy policy and all read ppl malcolm x say read everything u get your hand on you will be able to accept disagree most everything be force',\n",
       "  {'Negative': True, 'Neutral': False, 'Positive': False}],\n",
       " ['I admit I sometimes dread have to check my email lately I have not wait till the end of the day the app be so easy efficient thankyou',\n",
       "  {'Negative': False, 'Neutral': False, 'Positive': True}],\n",
       " ['I have issue with separate email address where I setup the verification processit send code to the same email address I m try to accessthis need to be sort out',\n",
       "  {'Negative': True, 'Neutral': False, 'Positive': False}],\n",
       " ['outstanding its level groupingsyou can easy to writesendforwardreply and most interesting part of this app be you can send photosmusicpdf file anytimeone line comment its simply good',\n",
       "  {'Negative': False, 'Neutral': False, 'Positive': True}],\n",
       " ['when I receive email the app not notify I I only see the email when I open the app the email be suppose to pop up on the screen',\n",
       "  {'Negative': True, 'Neutral': False, 'Positive': False}],\n",
       " ['can you add an option to select   delete multiple email at once ie example be able to selectcheck box beside many email you want to select then be able to select the option delete all select email all at once or have the option of be able to delete all email before certain date which we can set the date ourselves and be able to changeedit that date u can select   delete either many   or all email on pc so can you make it available androidsmartphs',\n",
       "  {'Negative': True, 'Neutral': False, 'Positive': False}],\n",
       " ['not load new mail I have to go on chrome until yesterday and now that not even load the page and there s nothing wrong with my phone or connectionupdate I unstalle and reinstall just one little glitchcan you all make it possible to select all mail when delete if you already have how I go about select all mail at once to delete',\n",
       "  {'Negative': False, 'Neutral': False, 'Positive': True}],\n",
       " ['this app not sync up all troubleshoot method be of help and I need to send an important email I m really displeased with how this app have be give I problem I m not really give bad rating but this be my first bad rating that be how serious this be',\n",
       "  {'Negative': True, 'Neutral': False, 'Positive': False}],\n",
       " ['everything that have go behind it I have not work correctly I have now uninstalle map go chrome go navigation go and gmail go because they be not compatible with regular google the link in their own email go nowhere',\n",
       "  {'Negative': True, 'Neutral': False, 'Positive': False}],\n",
       " ['this app have be work all these year I ve be use itno doubt its amazing appand I rate it 5staruntil few day now infact since this week I ve not be able to receive mailsor to send maili keep see message bellow that correct credential be need to sign inplease guy fix this problem because I need my mailbox work againi promise to change my review to 5star once this problem be fixedits very important',\n",
       "  {'Negative': True, 'Neutral': False, 'Positive': False}],\n",
       " ['I m so sick of this app every single day sometimes multiple time day delete email that have even be empty from my bin appear back in my inbox so every day I m force to sift through and delete over email unless I leave it ridiculously full I ve this twice today already I m write this I ve have four more email come through again one from day ago',\n",
       "  {'Negative': True, 'Neutral': False, 'Positive': False}],\n",
       " ['very good and lightweight app get the job only miss feature be file insertion from google drive which be important to send file large than mb',\n",
       "  {'Negative': False, 'Neutral': False, 'Positive': True}],\n",
       " ['please not open gmail account costomercare support centre this be the first time I m lose my phone and I can not sign in to my gmail because of some weird policy my phone and my number be miss goddamn it let I sign into my account I would have give this star if there be an option it I have an outlook account that I have lose the password countless time but I answer security question and get they back but this one have support centre',\n",
       "  {'Negative': True, 'Neutral': False, 'Positive': False}],\n",
       " ['sir today I be try to upload pdf to my university but because of some low internet speed uploading be so slow   notification by the app show that my file be upload   but how much percentage of file be upload   it be not showen by the app   so I request you to please update feature in your app so that it show all the percentage of file uploading',\n",
       "  {'Negative': False, 'Neutral': True, 'Positive': False}],\n",
       " ['every since I add backup email I get nothing but porn and people try to say there be log in attempt I know those be fake because I not use this email to log in to anything I just clear email and minute before that over I use to only get or day',\n",
       "  {'Negative': True, 'Neutral': False, 'Positive': False}],\n",
       " ['I find it difficult download attachment usually have to go to the web or even use pc not cool and an extra feature to save file to google drive directly like on the web version',\n",
       "  {'Negative': False, 'Neutral': True, 'Positive': False}],\n",
       " ['avoid can not get rid of unwanted email same one keep come back move themselves from bin back to inbox constantly can not use it awful app anyone from google actually take any notice of these review this app be obviously hate by quite lot of people sort it or well still remove it',\n",
       "  {'Negative': True, 'Neutral': False, 'Positive': False}],\n",
       " ['I can not receive any mail from january till now any time I open the appit will tell I credential need sign in but till can not sign in matter how much I try and I not know where my message be go if they be not come to I please fix this so that I can get my message',\n",
       "  {'Negative': True, 'Neutral': False, 'Positive': False}],\n",
       " ['the app be excellent in respond on click and its so user friendly it take little space on my system storage yet its so massive on deliver service the world should be alert that gmail will never let you down your message be keep safe be way to have proof of communication or storage of information long the world exist gmail be have make our social to and business world effective yet so affordable at all level of life what an affordable two way communication system',\n",
       "  {'Negative': False, 'Neutral': False, 'Positive': True}],\n",
       " ['lock I in an infinite loop I want to accept all security certificate I enter certificate not valid screen and proceed anyway but it take I straight back to the certificate not valid screen the only way to break the infinite loop be to exit',\n",
       "  {'Negative': True, 'Neutral': False, 'Positive': False}],\n",
       " ['even though I buy gophone apparently that s what this be but I not like to go app I m sorry they be not good I prefer the long version the one that be update you say that to go app be fast and modern cheap but it change the whole format the format be more like iphone I not like it',\n",
       "  {'Negative': True, 'Neutral': False, 'Positive': False}],\n",
       " ['app be work fine in the beginning quite sometime then it stop work suddenly keep say correct credintial need sign in but when press the sign in   it close the app every single time can not check email nor it sync   whatta waste',\n",
       "  {'Negative': True, 'Neutral': False, 'Positive': False}],\n",
       " ['when I try to open mail it crash I restore it to the factory version and it keep crash it be pointless to have gmail without the mail',\n",
       "  {'Negative': True, 'Neutral': False, 'Positive': False}],\n",
       " ['I have not have any problem until now it will not sync and keep say wrong credential I can not send or receive email on my phone app very frustrating',\n",
       "  {'Negative': False, 'Neutral': True, 'Positive': False}],\n",
       " ['this app have be work well but the notification should be make to pop up on zhe screen also I be not able to receive mail again and the synchronization be not work',\n",
       "  {'Negative': False, 'Neutral': False, 'Positive': True}],\n",
       " ['I ve read many bad review gmail go and I agree all go version of goggle be terrible the big one be choice when its pre instal and can not uninstall like other app force on we by manufacturer I think google be big enough to admit their mistake these cut down app see like rush job I m go back to full version of gmail   and goggle disable the other',\n",
       "  {'Negative': True, 'Neutral': False, 'Positive': False}],\n",
       " ['I can not uninstall however its not main system app it have also make I lose of my main email account cause I to lose my schooling fb job personal datum pic fake app or android system take over on google app with moto notification and gesture app setting this have completely destroy my life in insurmountable way to lil help from google they use badge allow anyone to become developer instead of pay ppl to there customer sevice to lazy security',\n",
       "  {'Negative': True, 'Neutral': False, 'Positive': False}],\n",
       " ['it be lag whenever I scroll when read an email it scroll itself back to the beginning I try uninstalle and reinstall it but the problem be persistent',\n",
       "  {'Negative': True, 'Neutral': False, 'Positive': False}],\n",
       " ['unnecessary spam message be come continuously reporting or block option available its hamper regular email activity important message be bury under those spam message and its not possible to give time to select spam message and delete they',\n",
       "  {'Negative': True, 'Neutral': False, 'Positive': False}],\n",
       " ['why google preinstall regular google app and google go app both appear to the same thing but also suck up space on phone why can not I delete any app play store allow update but can not delete on phone odd',\n",
       "  {'Negative': True, 'Neutral': False, 'Positive': False}],\n",
       " ['it can not open up this app be not work well it can not open up I m fail to access my email please helpit long work on my phone can not open up',\n",
       "  {'Negative': True, 'Neutral': False, 'Positive': False}],\n",
       " ['I have enjoy use this app since the beginning of last year I easily access my mail from the app than go to the internet which take alot of time I recommend people to use this app',\n",
       "  {'Negative': False, 'Neutral': False, 'Positive': True}],\n",
       " ['I recently delete an app that take up mb of storage space and I have gb of free space now available on my blu smartphone I not know why gmail go refuse to updateit claim it just need mb',\n",
       "  {'Negative': True, 'Neutral': False, 'Positive': False}],\n",
       " ['everything be accessible but one thing that we want because we can not delete all the conversation if we have lot of message spam please fix this issue in the easy way to delete if we need to delete some email because its full of the storage if we can not delete the message in the gmail application',\n",
       "  {'Negative': False, 'Neutral': False, 'Positive': True}],\n",
       " ['it would not show new email matter how many time I refresh I ve experience this day and when I log in to pc turn out I have receive lot of new email I miss opportunity because of this',\n",
       "  {'Negative': True, 'Neutral': False, 'Positive': False}],\n",
       " ['I m not try to be downer I just already know some people that be hack into gmail and to google search engine and I know you guy just change it please if you could look into this that would be greatly appreciate because I know how everybody respect their own privacy and with this be to I the last year and half almost it could be very intrusive and frustrating thank again your time maryah carrigan',\n",
       "  {'Negative': True, 'Neutral': False, 'Positive': False}],\n",
       " ['I can long receive mail and at time they come very very very late very disgusting I can not bare this any long this be what I use to receive and send my assignment and exam but this time around it delay I alot I always get I assignment and exam question late which really affect I be suppose to give you instead',\n",
       "  {'Negative': False, 'Neutral': True, 'Positive': False}],\n",
       " ['I find this program very complicated to use because it will not let I into my email and it also choose when to let I into my google play store and it should allow I to go into my email on regular basis email and password be usually save on the phone but every time I ask the phone to go to google now it get I nothing but hassle and I end up change email and password almost on daily which be okay but the phone say one of they save and it should be easy to adhere to',\n",
       "  {'Negative': False, 'Neutral': True, 'Positive': False}],\n",
       " ['this app be just too bad it keep crash and close each time I try to open it to read my mail please I think the developer should sort this out thank you',\n",
       "  {'Negative': True, 'Neutral': False, 'Positive': False}],\n",
       " ['whenever my password change my non gmail account the only way to update be to completely remove the account and re add it any attempt to update the password result in the task terminate what piece of junk',\n",
       "  {'Negative': True, 'Neutral': False, 'Positive': False}],\n",
       " ['far I this app seem to be reliable and dependable send and receive email by analyse thoroughly and I come to know that this app protect everybodys individual privacy right   safely and make sure that this app be very safe to use and provide excellent and trustworthy service to the whole world   I find this app be very useful and helpful so I give five star rating the excellent service to the whole world hat off to the noble service',\n",
       "  {'Negative': False, 'Neutral': False, 'Positive': True}],\n",
       " ['the bad thing ever very very confusing email with the same subject line be put together if they be one single email absolutely mess how come google provide such horrendous email app',\n",
       "  {'Negative': True, 'Neutral': False, 'Positive': False}],\n",
       " ['how 2put it   so many option to get into all thing be clear 2c   easy to read   understand day extend after fail to pay this hold system really great the good',\n",
       "  {'Negative': False, 'Neutral': False, 'Positive': True}],\n",
       " ['fix the problem with the app that the other reviewer have site I m not go to download an app with review from of people use it hate it with all the talent you have at your disposal get the bug out of this update or toss the update',\n",
       "  {'Negative': True, 'Neutral': False, 'Positive': False}],\n",
       " ['horrible customer service get I ve be report issue long time to they and never reply or fix I ve spend hour today report and delete the same spam message over and over again only to have they reappear in my inbox   like I have nothing well to or other reason my inbox suck   please not insult I by tell I to message support   have that few time just to be ignore',\n",
       "  {'Negative': True, 'Neutral': False, 'Positive': False}],\n",
       " ['I have enjoy use the gmail app issue stress just tap and view redirect be also quick very easy to use and access definitely recommend',\n",
       "  {'Negative': False, 'Neutral': False, 'Positive': True}],\n",
       " ['I love google play store I have use gmail over year it be hand down my favorite it be easy to use   safe aside from nosey family member that have steal my password   now have access to every single social medium platform that exsist I I have not have problem in my   year use gmail the hack account be something that I will be turn to your customer service to help shortly I m confident however that your company will help I with straighten it all out',\n",
       "  {'Negative': False, 'Neutral': False, 'Positive': True}],\n",
       " ['I like this game and very beautiful graphic and controllng the heavy machinery the graphic and control be amazing',\n",
       "  {'Negative': False, 'Neutral': False, 'Positive': True}],\n",
       " ['this app need fix I be not get recent email and it will not sync I have try everything to fix this problem to avail fix this issue so I can get back to use the app',\n",
       "  {'Negative': True, 'Neutral': False, 'Positive': False}],\n",
       " ['you have to changethe fact that when we want to block someone from contact we instead of block they completely they still can send we message spam message be annoying we need they to be completely block otherwise your block option be just useless feature',\n",
       "  {'Negative': False, 'Neutral': True, 'Positive': False}],\n",
       " ['I ve have email account with yahoo and hotmail afew year ago I not like it I not hesitate to uninstall both app and forget about the account with they nothing like gmail and all the google product I not mind ad inside the app long they re not pop up like most app now day by far the most annoying thing about an app so annoying I uninstalle all the app that be now infest with this annoying parasite also reason why long download app or update they',\n",
       "  {'Negative': False, 'Neutral': False, 'Positive': True}],\n",
       " ['I can not get into my gmail it be not show new mail and it say correct credintial need sign in but when I push the sign in it disappear and I have way to sign it it have not work week I have submit trouble report already with help from google',\n",
       "  {'Negative': True, 'Neutral': False, 'Positive': False}],\n",
       " ['the spam filtering not work I have block phishing email but they keep come through I ve block they directly from my pop3 account but they still come through on my device unacceptable',\n",
       "  {'Negative': True, 'Neutral': False, 'Positive': False}],\n",
       " ['kindly fix this app I have be unable to send mail due to it have error such correct credential need sign up why be this happen whenever I have never log out of the app on my android phone',\n",
       "  {'Negative': True, 'Neutral': False, 'Positive': False}],\n",
       " ['my app stop loadingi receive my last mail on september since then I have not be able to open my mail whem I click on it it roll then stop nothing more help',\n",
       "  {'Negative': True, 'Neutral': False, 'Positive': False}],\n",
       " ['this app have problem with start it not show any email message and I wait min still not show any email then I disable forever',\n",
       "  {'Negative': True, 'Neutral': False, 'Positive': False}],\n",
       " ['honestly the app be okay but now I not know what be wrong with it some day now I can not read my mail again and its soo frustrating very important information but could not open it I think it be network issue but be not please something now now or go to another appthank',\n",
       "  {'Negative': True, 'Neutral': False, 'Positive': False}],\n",
       " ['well this be the only email I use but download the document they send I take forever and picture come in half not the whole picture I wish you could fix this some people work through email you know I not need to loose my job duh please fix it',\n",
       "  {'Negative': False, 'Neutral': True, 'Positive': False}],\n",
       " ['solid gmail lite app main issue that prevent it from get more than star be that conversation view can not be turn off annoying and needs fix asap',\n",
       "  {'Negative': False, 'Neutral': True, 'Positive': False}],\n",
       " ['I use gmail and have have reasonable success however each system that I have use it on be different and it be go to take time to figure out how gmail work on the current device in which I be use once again I think it will only be matter of time and overall this gmail and its service provide adequate and acceptable service to those you use it include myself overall I believe it be great service I just have to figure out how it work on the device thank you your time',\n",
       "  {'Negative': False, 'Neutral': False, 'Positive': True}],\n",
       " ['not give the option to select and delete several email at once   they have to be select one by one which take forever and I have so many email that I would like to clear but unable to',\n",
       "  {'Negative': False, 'Neutral': True, 'Positive': False}],\n",
       " ['horrible it crash freeze my phone and delete message its be go on week now please fix this I m consider delete',\n",
       "  {'Negative': True, 'Neutral': False, 'Positive': False}],\n",
       " ['on this there be not select all button when you delete so if you space like I there be upward of email   to individually have to delete never ever gets I m delete email from last year',\n",
       "  {'Negative': False, 'Neutral': False, 'Positive': True}],\n",
       " ['really not appreciate it when someone hack my gmail and I ve be hack someone steal my identity the web advertising how to hack not make it safe or enjoyable some people not want to have there identity steal from they',\n",
       "  {'Negative': True, 'Neutral': False, 'Positive': False}],\n",
       " ['it be amazing but it say it not sync my email it claim I have thing in my inbox but I go check and I not if someone could please help I understand the problem that would be amazing thank you',\n",
       "  {'Negative': False, 'Neutral': True, 'Positive': False}],\n",
       " ['this app be not that good when it come to mass deletion   there should be check box that say select all   and you just it and everything go   I have to select one email message at time to delete the message',\n",
       "  {'Negative': False, 'Neutral': True, 'Positive': False}],\n",
       " ['inbuilt app freeze everytime I try open it too slow in load message can not even delete trash and spam message can not uninstall either',\n",
       "  {'Negative': True, 'Neutral': False, 'Positive': False}],\n",
       " ['its super slow compare to chrome stop change thing that not need change and I can not remove it',\n",
       "  {'Negative': True, 'Neutral': False, 'Positive': False}],\n",
       " ['my gmail on my go phone quitso I instal another gmailand its the samesaying there be sync errorbut in my gmail settingsthere be option offer gmail to sync show up on either appi have have this gmail address year and it be my go to favoriteplease help',\n",
       "  {'Negative': True, 'Neutral': False, 'Positive': False}],\n",
       " ['I think try this app instead of the old one after the last update would work of course this one also force close on I I m very dissatisfied customer right now please fix the issue soon',\n",
       "  {'Negative': True, 'Neutral': False, 'Positive': False}],\n",
       " ['have not be receive mail up to month now I can not send mail either I try every possible way of make it work that I even come here maybe its the update but its up to date what s happen',\n",
       "  {'Negative': True, 'Neutral': False, 'Positive': False}],\n",
       " ['basically I live through this app it help I with everything at home and at worki would recommend and suggest that you download it and use it you never know it might be the good app in your phone I know its mine',\n",
       "  {'Negative': False, 'Neutral': False, 'Positive': True}],\n",
       " ['exlnt just voice even on max isn t enough to hear I not like use spickerphone so everyone can hear conversation even all diget be on   on max i sti can not hear I check my ear too   its ok hearing devise be not need please look intoit thank happy new ps from time to time I have mesage that my phone be manufacture that I heed new one but my high exp not alowed I to buy new edition can you look into it who be send those msg thank',\n",
       "  {'Negative': False, 'Neutral': False, 'Positive': True}],\n",
       " ['when I open my gmail it look nothing like image show most gmail the gmail address not appear nor the three bar that lead to gmail side page nor the colored dot with initial that lead to google gmail have not sync with google several month now',\n",
       "  {'Negative': True, 'Neutral': False, 'Positive': False}],\n",
       " ['I rate this two star because it not let you delete the app otherwise its very good app exactly like gmail but you should have it able to people to uninstall it',\n",
       "  {'Negative': True, 'Neutral': False, 'Positive': False}],\n",
       " ['it not allow I to scroll down all the way down while read my email before it jump itself back up to the top disabled it and go back to thr regular gmail app',\n",
       "  {'Negative': True, 'Neutral': False, 'Positive': False}],\n",
       " ['you can not delete bulk email at once I have email now I want delete they which be total disappointment find out that I can not perform that simple act even at web long I m use mobile phone how can I mark they by of which I not have access to computerlaptop',\n",
       "  {'Negative': True, 'Neutral': False, 'Positive': False}],\n",
       " ['its fine uo until now but now when I open an email it just shut down the app and this start after the upgrade any suggestion great app nonetheless',\n",
       "  {'Negative': False, 'Neutral': False, 'Positive': True}],\n",
       " ['app constantly complain it need new credential please sign it say gmail will not let I sign in or bring I to signing page since gmail be native to this device I can not uninstall and reinstall please fix this glitch',\n",
       "  {'Negative': True, 'Neutral': False, 'Positive': False}],\n",
       " ['hi google be there other way to uninstall this in my phone because it be preinstalle in my phonecause I have the gmail already and its more complete than this I ve uninstall this but it still show the update and open',\n",
       "  {'Negative': True, 'Neutral': False, 'Positive': False}],\n",
       " ['its be three month my gmail account have be hack can you tell what I not try I try all the way but nothing happen that night I be read book suddenly I see notification from my google account it be write that my account be on another device I immediately pick up the phone thinking I would go to change the passworduntil then the miscreant change my password and also change my phone numberi have youtube channel on my account with subscribershelpme',\n",
       "  {'Negative': True, 'Neutral': False, 'Positive': False}],\n",
       " ['I ve have an awful experience with gmail go app recently I consistently can not send email and end up have to recourse to yahoo mail which work really well',\n",
       "  {'Negative': True, 'Neutral': False, 'Positive': False}],\n",
       " ['its hack appjust that simple rather its performance be good or bad the overall the same still its hack appperiod unremovabeit program by the hacker star I give and I be just customer',\n",
       "  {'Negative': True, 'Neutral': False, 'Positive': False}],\n",
       " ['the problem with this app be that every time you recharge airtime there s need to update app whereas if you not have any airtime there s need to update appsfunny huh',\n",
       "  {'Negative': True, 'Neutral': False, 'Positive': False}],\n",
       " ['I not like any of the light version besides always change language themselves they always seem I be lack and I end up with both version on my phone so I just erase the lite version anyway',\n",
       "  {'Negative': True, 'Neutral': False, 'Positive': False}],\n",
       " ['amazing and secure app I basically use it every single thing it connect to every other app in my phone and make my life easy especially if I lose my password and memory I can always count on my google go to help I find it',\n",
       "  {'Negative': False, 'Neutral': False, 'Positive': True}],\n",
       " ['today of all day that I mistakenly remove my account from youtube not know it will affect it everywhere now try to sign in more than hour have be an issue you be send code to my phone and I m not see it which phone oooo',\n",
       "  {'Negative': True, 'Neutral': False, 'Positive': False}],\n",
       " ['problem I m unable to receive email when I register to some company why be this happen even sync action not work I m loose lot of email because of this stagnant email please service this gmail so we can receive our email',\n",
       "  {'Negative': False, 'Neutral': True, 'Positive': False}],\n",
       " ['pathetic lot of problem think its network but its not problem send email problem receive email the old version be far well',\n",
       "  {'Negative': True, 'Neutral': False, 'Positive': False}],\n",
       " ['its good app but I can not seem to be able to clear my message it need I to start tike one email after another I think there should be select all option',\n",
       "  {'Negative': True, 'Neutral': False, 'Positive': False}],\n",
       " ['everytime I try to open my email it tell I I have connection and take I back to the main gmail screen my connection be fine this be the only app on my entire phone I have issue with',\n",
       "  {'Negative': True, 'Neutral': False, 'Positive': False}],\n",
       " ['once I use this app I communicate and receive the response instantlyi like itit convenienti only find it difficult to delete the old message like batch delete the message I feel like useless after I m with themhow can I collectively delete themany help',\n",
       "  {'Negative': False, 'Neutral': False, 'Positive': True}],\n",
       " ['not load email in timely manner or at all I need my email work to keep up with the detail and I can not that with this app so I have to download regular gmail in order to access email ornuse chrome',\n",
       "  {'Negative': True, 'Neutral': False, 'Positive': False}],\n",
       " ['be not update nothing still have to click on allow picture with automatically download select in setting have have to utilize online account and not app',\n",
       "  {'Negative': True, 'Neutral': False, 'Positive': False}],\n",
       " ['when in the world be the gmail developer go to add new feature we android user all I want to be able to be create folder so my archive not end up with hundred thousand save email let I ask the developersis that concept too damned simple you you need everything to be complicate in order to get the job be that it star you you re lucky to get or from I sorry guy you need to well',\n",
       "  {'Negative': True, 'Neutral': False, 'Positive': False}],\n",
       " ['if someone complain about not be able to receive email notification even though sync be enable update your carrier service its google app on play store that will fix it',\n",
       "  {'Negative': False, 'Neutral': False, 'Positive': True}],\n",
       " ['not update mail it just show all catch up with mail show at all I have to download the regular version just to check my email',\n",
       "  {'Negative': True, 'Neutral': False, 'Positive': False}],\n",
       " ['gmail rock out with our cookie out and datum with issue safe and secure I feel most secure when cruise through the light web   operate through it with google my vessel   chrome its flagship ieading the wayi just have to set my destination of what I want   where i d like to go   be take to   chrome with its many aid like google assistant   google maps ect ect I m take to where I need to go safely   take the fast coar to get there',\n",
       "  {'Negative': False, 'Neutral': False, 'Positive': True}],\n",
       " ['uniquely horrible I be so disgusted until it be absurd june cyberstalker make acct   attach to my old acct it turn into horror story from there I could not access anything bc I not remember password   be force to try that nutty recovery to prove it be really I you answer xxx we can not verify that it be you this have be go on since nov will not even allow notarize doc send by agent to i d I now I have to sue to get access stay away',\n",
       "  {'Negative': True, 'Neutral': False, 'Positive': False}],\n",
       " ['just suck constant hack and privacy invade only harass and violate hack be time to just stop everything push way to much and only few choice one choice',\n",
       "  {'Negative': True, 'Neutral': False, 'Positive': False}],\n",
       " ['syncing of mail be so slow I have fast internet connection yet it still sync hour wish you could fix this thank',\n",
       "  {'Negative': True, 'Neutral': False, 'Positive': False}],\n",
       " ['this app be so boring it even not have inbox option this be fakeall option be give except inbox how can someone know or view the incoming message nkt',\n",
       "  {'Negative': True, 'Neutral': False, 'Positive': False}],\n",
       " ['I hate that I have two gmail app in my phone now I get twice many notification I know I can change that in my setting but it would just be easy to delete it',\n",
       "  {'Negative': True, 'Neutral': False, 'Positive': False}],\n",
       " ['I can not actually read my email I m get important information I open the email but it immediately close I never get to read any of the email',\n",
       "  {'Negative': True, 'Neutral': False, 'Positive': False}],\n",
       " ['we all be in extreme need of wipe see out bug glitch and ability to increase the performance of congested computer with our cell',\n",
       "  {'Negative': False, 'Neutral': False, 'Positive': True}],\n",
       " ['I think it may be well too go to the late app this be slow can not sync and I keep lose past acnt this be the 4th email and it have let I down time',\n",
       "  {'Negative': True, 'Neutral': False, 'Positive': False}],\n",
       " ['just like everything else from google this be piece of   it take forever to load an email or go from page to page I m well off use my 3rd party app or browser',\n",
       "  {'Negative': True, 'Neutral': False, 'Positive': False}],\n",
       " ['something wrong onthis phonei take it back to mobicelbut it come back problem not solve they be suppose to give I new phonebut I they say nothing wrong now I be struggle with itno what s appno soundno bank informationmy bank statement say it be not repair they could not ad my absa account on this devicecan you help please',\n",
       "  {'Negative': True, 'Neutral': False, 'Positive': False}],\n",
       " ['what the heck   I keep try to add another account but it will not let I   please fix this or be the go version of every app just cheap version   not download this',\n",
       "  {'Negative': True, 'Neutral': False, 'Positive': False}],\n",
       " ['this app need to be update I have use it many time but it can not send an attachment or download it be really tired of this be miss very many job opportunity just because I can not send my resume via phone',\n",
       "  {'Negative': True, 'Neutral': False, 'Positive': False}],\n",
       " ['gmail go be fast and safe to use not like other emailing service often I would recommend this app tablet with small battery and low memory',\n",
       "  {'Negative': False, 'Neutral': False, 'Positive': True}],\n",
       " ['first I love the app but after I format my phone and could not remember my password I regret use it real I have exam on the 4th of september but I will be miss it due to I can not recover my email send several mail to they but reply I hate this email wish I have know I would not have use gmail',\n",
       "  {'Negative': True, 'Neutral': False, 'Positive': False}],\n",
       " ['this be good but last few day I ve be face some issue it say finish when I open inbox tab and also not even open single message fix it asap from xiaomi redmi go',\n",
       "  {'Negative': True, 'Neutral': False, 'Positive': False}],\n",
       " ['app stop work and will not download any new email its may but I can not get anything past may second time its done this gmail suck',\n",
       "  {'Negative': True, 'Neutral': False, 'Positive': False}],\n",
       " ['gmail app can not install   pathetic gmail go which be stock app mean I can not get rid of it can not show my late email I m miss lot kindly fix it',\n",
       "  {'Negative': True, 'Neutral': False, 'Positive': False}],\n",
       " ['unaible to send or receive be work fine then all of sudden fail and queue email undeliverable and now I m stuck',\n",
       "  {'Negative': False, 'Neutral': True, 'Positive': False}],\n",
       " ['great app the only thing be it sometimes send mail to the the spam and it flag it red when I never put it there but gmail have be there the user of google and its one of my top three favorite of all time',\n",
       "  {'Negative': False, 'Neutral': False, 'Positive': True}],\n",
       " ['its be nice use these app it protect my email from spam and phishing    although I think it ll good if the setting be improve especially privacy of user info be give to company but it be',\n",
       "  {'Negative': False, 'Neutral': False, 'Positive': True}],\n",
       " ['every go app be complete trash if you re go to steal our information at least let we use the phone properly google this be complete trash and all they be swamp your phone so it can not even be use properly thank',\n",
       "  {'Negative': True, 'Neutral': False, 'Positive': False}],\n",
       " ['its great long you can control your setting but once the coward hacker get control its wrap coward fight well hide and because that what coward steal and take but they will be the first one to run run run forest once they be confront',\n",
       "  {'Negative': False, 'Neutral': True, 'Positive': False}],\n",
       " ['to be honest I like the gmail because its seamless at the same time its very useful in everyday usage it also respond right away when I be try it to link to an website or an app thank',\n",
       "  {'Negative': False, 'Neutral': False, 'Positive': True}],\n",
       " ['I see the update on my old phone show new but after my new phone be not stick with message show   syncing gmail day now why and how I change it message stick in outbox',\n",
       "  {'Negative': False, 'Neutral': True, 'Positive': False}],\n",
       " ['simplify access take less space on phone I swear by all of the google go app quick and easy access when in hurry',\n",
       "  {'Negative': False, 'Neutral': False, 'Positive': True}],\n",
       " ['its pretty good app email I can not seem to download my certificate from my udemy class wish I could figure it out',\n",
       "  {'Negative': False, 'Neutral': False, 'Positive': True}],\n",
       " ['very frustrating and useless app keep fetch attachment indefinitely it can not send or view attachment',\n",
       "  {'Negative': True, 'Neutral': False, 'Positive': False}],\n",
       " ['I give star because after update this app I long receive email from my friend or family even my email be send please can you update this app because I really love this app',\n",
       "  {'Negative': False, 'Neutral': True, 'Positive': False}],\n",
       " ['g mail be easy and reliable unlike city mail or night mail friend say they get message but can not read they',\n",
       "  {'Negative': False, 'Neutral': False, 'Positive': True}],\n",
       " ['love gmail take care of all my mail wish you could add heart or square to be able to separate thing other than that its up to date and easy to use',\n",
       "  {'Negative': False, 'Neutral': False, 'Positive': True}],\n",
       " ['why I receive this email when I login through gmail go someone just use your password to try to sign in to your account from nongoogle app google block they but you should check what happen review your account activity to make sure one else have access',\n",
       "  {'Negative': False, 'Neutral': True, 'Positive': False}],\n",
       " ['not fan of go app it will always need the internet could use plugin support select all in search commandswheres the full list of these and an inbox rule editor plugin nonsuite user',\n",
       "  {'Negative': False, 'Neutral': True, 'Positive': False}],\n",
       " ['I open an email and it open second and then immediately close and go back to my inbox I m try to read email about employment this be not cool',\n",
       "  {'Negative': True, 'Neutral': False, 'Positive': False}],\n",
       " ['alot of go app be so terribly slow when it come of sync especially go gmail it take lot of my time geez quite handy but too slow',\n",
       "  {'Negative': False, 'Neutral': True, 'Positive': False}],\n",
       " ['warn this application be dangerous because its not secure and have data protection breach I m constantly receive suspicious phinishing email which be security breach under common law liable to prosecutionit be not user friendly but very dangerous when you keep receive these suspicious phinishing attack leave your email address open response from the developer show its abuse of google and performance improvement',\n",
       "  {'Negative': True, 'Neutral': False, 'Positive': False}],\n",
       " ['I rarely send mail with this app always frustrating to see my mail unsent after some day so disappointing',\n",
       "  {'Negative': True, 'Neutral': False, 'Positive': False}],\n",
       " ['I not like it I not like it on my phone but that s my opinion but it what its suppose to but I use the gmail email app just because its smooth and just get the job fast and all at once usually but that s my review on the gmail go app',\n",
       "  {'Negative': True, 'Neutral': False, 'Positive': False}],\n",
       " ['i d have be more enthusiastic with few request irrelevant info otherwise I enjoy soulvibe point very much and would like to have access to the point always',\n",
       "  {'Negative': False, 'Neutral': False, 'Positive': True}],\n",
       " ['most disappointed this week I lose money because I could not give feedback mail I can not receive nor send mail reason be correct credential need sign in and you be not respond to complaint please fix this issue asap',\n",
       "  {'Negative': True, 'Neutral': False, 'Positive': False}],\n",
       " ['have trouble sign inthe ad keep pop up while try to even log in to email I m not give up sure miss regularold gmail seriously',\n",
       "  {'Negative': False, 'Neutral': False, 'Positive': True}],\n",
       " ['this be not difficult email be easy they come depend on ur device androidthe other inconsequential little thing this work I',\n",
       "  {'Negative': False, 'Neutral': False, 'Positive': True}],\n",
       " ['I ve be try to send file to friend but if can not only because the size of the file have exceed mb why can not I send file of great size',\n",
       "  {'Negative': True, 'Neutral': False, 'Positive': False}],\n",
       " ['its great app I ve be use it year from now   I would have give it 5star but until recent it not want to download pdf document I hope this will be fix soon',\n",
       "  {'Negative': False, 'Neutral': True, 'Positive': False}],\n",
       " ['will not sync keep say experience sync problem be with you shortly how the hell be I suppose to contact support when I can not email support',\n",
       "  {'Negative': True, 'Neutral': False, 'Positive': False}],\n",
       " ['I know it get the job but aesthetically it be terrible need the google sans font and dark mode please please pleeease include dark mode',\n",
       "  {'Negative': True, 'Neutral': False, 'Positive': False}],\n",
       " ['I not know what be wrong I ve be try to add gmail account but it not appear in my list of gmail account even after click I agree I sad right now',\n",
       "  {'Negative': True, 'Neutral': False, 'Positive': False}],\n",
       " ['I can not download any attach document kindly fix this its traumatizing again all the mail I unsubscribe from still stream through its boring',\n",
       "  {'Negative': True, 'Neutral': False, 'Positive': False}],\n",
       " ['this app be so good and easy to use but my only problem be that their customer service be not respond in time I have problem and I complain about it but up to now be not respond thank you',\n",
       "  {'Negative': False, 'Neutral': False, 'Positive': True}],\n",
       " ['first time with gophone att and someone easily hack my account not sure why the go version of gmailmapsgallery etc be instal but I not like it and they download some unlock thing to my phone',\n",
       "  {'Negative': True, 'Neutral': False, 'Positive': False}],\n",
       " ['exceptional quality my email receive with this dependable service easy to use reliable and accurate I use this email all the time',\n",
       "  {'Negative': False, 'Neutral': False, 'Positive': True}],\n",
       " ['its only on gov phone bad beat google anything be gaurantee bad experience none of it ever work the way every device say if at all but google go mail we the bad   they will not even let u have the other original email app at all',\n",
       "  {'Negative': True, 'Neutral': False, 'Positive': False}],\n",
       " ['not always good to many email and would very much like to just have one email I would love to just have one email and I will be very much appreciate if you could help I out with this problem I think its just the one email I would need to have just have one email only',\n",
       "  {'Negative': False, 'Neutral': False, 'Positive': True}],\n",
       " ['very disappointed have not receive any email month on my phone I m now force to download another app cause I keep miss important email',\n",
       "  {'Negative': True, 'Neutral': False, 'Positive': False}],\n",
       " ['nice   app but you guy should update its notification because most time when messagemail come in it not give out notification until you open the app before the notification pump in update it to get star',\n",
       "  {'Negative': False, 'Neutral': False, 'Positive': True}],\n",
       " ['if I want to access my lose account it can not I not know my password so I click forgot password then I will put my phone number but unfortunately its show signin notification not reach my phone',\n",
       "  {'Negative': False, 'Neutral': True, 'Positive': False}],\n",
       " ['the app have come to complete stop I can not get my message I can not delete message I can not even reach the spam whoever the last update should be fire cuz now it not work at all fix damn thing',\n",
       "  {'Negative': True, 'Neutral': False, 'Positive': False}],\n",
       " ['I love the space save that the gmail go offer on my phone I still like the regular old version of gmail on my computer though both work my email need',\n",
       "  {'Negative': False, 'Neutral': False, 'Positive': True}],\n",
       " ['can not delete old trash try everything I can think of so have my caregiver and she know lot ore than I if there be score less than one star believe meit deserve less',\n",
       "  {'Negative': True, 'Neutral': False, 'Positive': False}],\n",
       " ['very good and fantastic app at the moment I just wish that I would not keep get app from people I not even know or even speak to I also wish that I not keep get app say that I have win 1thing or another example I ve receive few gmail sayinginforme I by message that I ve win samson mobile phone   I phone   other message that I keep get be that I ve win first price in 1competition or another which I find I have not win singlething which pisser I off',\n",
       "  {'Negative': False, 'Neutral': False, 'Positive': True}],\n",
       " ['this app be preinstalle on my phone and I have to disable it and install the regular gmail app because it would long allow I to access the email in one of my gmail account',\n",
       "  {'Negative': True, 'Neutral': False, 'Positive': False}],\n",
       " ['great app not listen to all those bad review pay by enemy competition app work great and what it be suppose to',\n",
       "  {'Negative': False, 'Neutral': False, 'Positive': True}],\n",
       " ['great app the only thing be if your data be low you can not get your emailsit should be make offline too',\n",
       "  {'Negative': False, 'Neutral': False, 'Positive': True}],\n",
       " ['the app be cool but I think google should improve by group mail send by particular person   example all mail send to I by mr should be in group and mr bs in another group so that one can access mail easily',\n",
       "  {'Negative': False, 'Neutral': True, 'Positive': False}],\n",
       " ['insert from drive parallel to attach option be miss while try to send file large than mb please include it soon',\n",
       "  {'Negative': True, 'Neutral': False, 'Positive': False}],\n",
       " ['google gmail be the good it be easy to use google be always let I know when problem happen an always protect my security',\n",
       "  {'Negative': False, 'Neutral': False, 'Positive': True}],\n",
       " ['I have have nothing except problem after the app show up and now I get message from anyone and I can not uninstall it now I m shut down not even go to try and fix this headache',\n",
       "  {'Negative': True, 'Neutral': False, 'Positive': False}],\n",
       " ['I be try to sign out my an account this account be remove from my manage account on the device commandbut this app can not forget this mail account',\n",
       "  {'Negative': True, 'Neutral': False, 'Positive': False}],\n",
       " ['good but please include where one can tap button to show unread mail only this will be life saver thank',\n",
       "  {'Negative': False, 'Neutral': False, 'Positive': True}],\n",
       " ['I select an email and the app crash sort it out please I get important email that I need to read',\n",
       "  {'Negative': True, 'Neutral': False, 'Positive': False}],\n",
       " ['not custmisable normal version unable to select basicminimalist compact version witn tick box',\n",
       "  {'Negative': True, 'Neutral': False, 'Positive': False}],\n",
       " ['much small but work the same the full size app perfect phone with less memory thank',\n",
       "  {'Negative': False, 'Neutral': False, 'Positive': True}],\n",
       " ['I ve be try long to update my appbut there s option that what could be the problem please direct I cos I feel some of the feature be outdated and need to be update',\n",
       "  {'Negative': True, 'Neutral': False, 'Positive': False}],\n",
       " ['my app have refuse to open day now I can not access my mail be there something wrong from the source or its just the gmail app on my phone',\n",
       "  {'Negative': False, 'Neutral': False, 'Positive': True}],\n",
       " ['I ve add an email address friend who list his phone now I m not able to remove that email from this app I remove it from user account but still appear on gmail app side whywhat can I',\n",
       "  {'Negative': True, 'Neutral': False, 'Positive': False}],\n",
       " ['I have complaint about the app its easy to use fast effective and efficient in every way I really can not complain and be verry happy with the fast and effective service',\n",
       "  {'Negative': False, 'Neutral': False, 'Positive': True}],\n",
       " ['work while and then just stop show any new message from january have to download the full version',\n",
       "  {'Negative': True, 'Neutral': False, 'Positive': False}],\n",
       " ['I can not send mail attach file or picture it all end up queue fix it',\n",
       "  {'Negative': True, 'Neutral': False, 'Positive': False}],\n",
       " ['this go edition gmail app be great but it would be amazing if you change the look and feel too just like the normal gmail app please thank you',\n",
       "  {'Negative': False, 'Neutral': False, 'Positive': True}],\n",
       " ['after I the app update my gmail will not let I open my email I ve send you email let you know about month now and it still have not be fix',\n",
       "  {'Negative': True, 'Neutral': False, 'Positive': False}],\n",
       " ['my phone be hack in few month ago with out this app I not know what I would have get the app if you not have it trust I it be life saver',\n",
       "  {'Negative': False, 'Neutral': False, 'Positive': True}],\n",
       " ['it be great until the update now I can not open my message cos the app keep closing when I try to open it please kindly something about it I thank',\n",
       "  {'Negative': True, 'Neutral': False, 'Positive': False}],\n",
       " ['email from other account such outlook be not getting delete even after multiple time delete after refreshing they be again appear work fine gmail account only',\n",
       "  {'Negative': True, 'Neutral': False, 'Positive': False}],\n",
       " ['please it have so many bug even just scroll be so laggy I like gmail go cuz its have its basic function but it have lot of bug need to fix',\n",
       "  {'Negative': True, 'Neutral': False, 'Positive': False}],\n",
       " ['its great it could be just sugestion to update it with well view of document readerpdf file and file seurity still great app',\n",
       "  {'Negative': False, 'Neutral': False, 'Positive': True}],\n",
       " ['fix this app since update its terrible can not delete unwanted mail it reappear important email etc come through spasmodically truley hopless',\n",
       "  {'Negative': True, 'Neutral': False, 'Positive': False}],\n",
       " ['it constantly keep reload delete email and bring back email from I delete and they be back the next day terrible app',\n",
       "  {'Negative': True, 'Neutral': False, 'Positive': False}],\n",
       " ['not get any mail anymore it not sync it show I have not get email since july can you fix the problem or just tell I what to please',\n",
       "  {'Negative': True, 'Neutral': False, 'Positive': False}],\n",
       " ['it keep crash every time I try to open an email it then stop my entire phone and I need to completely restart my phone',\n",
       "  {'Negative': True, 'Neutral': False, 'Positive': False}],\n",
       " ['love never have problem with it so far and I believe I ve be use they since 2019easy to find thing and move around from service to service',\n",
       "  {'Negative': False, 'Neutral': False, 'Positive': True}],\n",
       " ['since update it not open on my tablet once I while I like to check my mail and read book on large screen than my phone',\n",
       "  {'Negative': True, 'Neutral': False, 'Positive': False}],\n",
       " ['your app be run very cool when l never update it they not send I pop message any more in order to see the message l have to click on it to see my message pls something about this',\n",
       "  {'Negative': True, 'Neutral': False, 'Positive': False}],\n",
       " ['be happy with the app be good and nice I if be to suggest I will say that if be only one sure correct score it will be well well I we must not win every day some time we win and some time we lo some day be it that bt let our winning past our lose that be my humble submission I know god will help we because it be penfule that u will use ur hard en money to play game at the end of the day u lose the game be indeed penfule thank',\n",
       "  {'Negative': False, 'Neutral': False, 'Positive': True}],\n",
       " ['need to add its own gps and up tracker in the app that way it show exact location email and personal information from the sender',\n",
       "  {'Negative': False, 'Neutral': False, 'Positive': True}],\n",
       " ['fast safe and also I receive notification my emailsthe security be really goodmy email be send fast and I have problem with this app',\n",
       "  {'Negative': False, 'Neutral': False, 'Positive': True}],\n",
       " ['after sign out my google account from the entire android device this stupid app still keep open my email and my son now use this device have access to all my email extremely frustrate',\n",
       "  {'Negative': True, 'Neutral': False, 'Positive': False}],\n",
       " ['I not have any problem with this app except one I m get mail but leave one person that person everytime send mail but I not receive it   please please please seek this out cause that s an important mail',\n",
       "  {'Negative': False, 'Neutral': False, 'Positive': True}],\n",
       " ['have problem with opening gmail it keep tell I to try back later this have be go on three day now please fix thank you',\n",
       "  {'Negative': True, 'Neutral': False, 'Positive': False}],\n",
       " ['its way easy to just check your email on web I ve try this app before and I always end up delete it I suppose it depend on the user',\n",
       "  {'Negative': True, 'Neutral': False, 'Positive': False}],\n",
       " ['can not download attachment have to use the website so not bother with the app wish I could give few star',\n",
       "  {'Negative': True, 'Neutral': False, 'Positive': False}],\n",
       " ['very useful but sometimes make I stress when scammer try to get in but still good app connection from malaysia to other country even in private official',\n",
       "  {'Negative': False, 'Neutral': False, 'Positive': True}],\n",
       " ['I give it star bcoz I find fault in it that be the of image which we be able to send through it be very less it give only mb of attachment to send to anyone',\n",
       "  {'Negative': False, 'Neutral': False, 'Positive': True}],\n",
       " ['the google app have be great with access email but now the email be give and error to signin since I have be use an android phone',\n",
       "  {'Negative': False, 'Neutral': False, 'Positive': True}],\n",
       " ['lose all of my mail in my all mail file show nut when I click on it tell I mail everytime google update app security reason the app screw up something I can not even uninstall it because there nono long give I the uninstall option gmail really stink anymore',\n",
       "  {'Negative': True, 'Neutral': False, 'Positive': False}],\n",
       " ['I ve use this app year problem but the last week I can not access incoming or outgoing email what have the developer',\n",
       "  {'Negative': True, 'Neutral': False, 'Positive': False}],\n",
       " ['its really bad app because in promotion option people keep send improperate message   how come they know our email please look in this matter',\n",
       "  {'Negative': True, 'Neutral': False, 'Positive': False}],\n",
       " ['this app I have not choose nor be it my app of choice please delete my personal information and my private identify information I have interest in the service that you offer to provide thank you your service your emiyment be nl long need and I would have give you letter of recommendation have you be transparent with I but you where not so I just wish to be forget I forget you',\n",
       "  {'Negative': True, 'Neutral': False, 'Positive': False}],\n",
       " ['be ok the first couple week on google go email app now my email be have trouble sync with the rest of google   google go installment not know why it be cut off please fix',\n",
       "  {'Negative': True, 'Neutral': False, 'Positive': False}],\n",
       " ['horrible setting be horrible can not store very much terrible I need this trash off my network immediatelyxxxxxxxxxxxxxxxxxxxxxxxxzz',\n",
       "  {'Negative': True, 'Neutral': False, 'Positive': False}],\n",
       " ['nice one this one be good your mail easy and accessible I love the idea that you can have more than one email account on your phone help personal and professional',\n",
       "  {'Negative': False, 'Neutral': False, 'Positive': True}],\n",
       " ['great but phone traffic be and could be little over welme still lack computer skill to redeem my fund and other attempt to pay rent',\n",
       "  {'Negative': False, 'Neutral': False, 'Positive': True}],\n",
       " ['I not want an app that s not compatible with my device to be instal with easy way to delete remove this gmail go',\n",
       "  {'Negative': True, 'Neutral': False, 'Positive': False}],\n",
       " ['I ve be very happy until today its something that have never occur before but this newnorm have all of my mail unopenable so please change my star vote down one cest la vie wb',\n",
       "  {'Negative': False, 'Neutral': False, 'Positive': True}],\n",
       " ['unable to login and receive any message the past week now attempt to login be require correct credential need what be that mean please help I out',\n",
       "  {'Negative': True, 'Neutral': False, 'Positive': False}],\n",
       " ['its very bad app its take lot of time to show my message so sad I can not even uninstall it from my android phone well I just disable it I prefer the original gmail app than this',\n",
       "  {'Negative': True, 'Neutral': False, 'Positive': False}],\n",
       " ['I have not be able to receive and send email the past 2week now I have datum on my phone but can not seem to figure out what s the issue',\n",
       "  {'Negative': True, 'Neutral': False, 'Positive': False}],\n",
       " ['gmail go app all of sudden stop sync my email so I have to download the actual gmail app now this app sit on my phone waste space I m unable to delete it',\n",
       "  {'Negative': True, 'Neutral': False, 'Positive': False}],\n",
       " ['terrible and outdated this app be really old I have to disable it on my phone cos its pretty useless try to update this app',\n",
       "  {'Negative': True, 'Neutral': False, 'Positive': False}],\n",
       " ['this app be someone to spy on u I not want it and will not put it back on my phone its spyware and very buggy I prsfer one to get this app',\n",
       "  {'Negative': True, 'Neutral': False, 'Positive': False}],\n",
       " ['everytime I need direction it could not findi download regular map and have not have any problem',\n",
       "  {'Negative': True, 'Neutral': False, 'Positive': False}],\n",
       " ['this app give I lot of problem my email not open I can not read my email',\n",
       "  {'Negative': True, 'Neutral': False, 'Positive': False}],\n",
       " ['excellent job why can not more app be like google there ís óne issue google voice not respond all the time and its very slow to ancer you',\n",
       "  {'Negative': False, 'Neutral': False, 'Positive': True}],\n",
       " ['I love this app so much it be so nice and only take up small amount of space I like that I be able to add my hotmail account in this app thank google',\n",
       "  {'Negative': False, 'Neutral': False, 'Positive': True}],\n",
       " ['lose login detail I get message user name or password wrong when the user name I use and password be the correct one will not login be work ok last week nothing have change',\n",
       "  {'Negative': True, 'Neutral': False, 'Positive': False}],\n",
       " ['this app be simply the good it have make thing much easy in bring all my email together into one stop shop convenient application',\n",
       "  {'Negative': False, 'Neutral': False, 'Positive': True}],\n",
       " ['work great over all but old email I not use anymore that have already be remove from my phone be still come up in the app please update or fix thank',\n",
       "  {'Negative': True, 'Neutral': False, 'Positive': False}],\n",
       " ['several email lose password lose and steal phone so far headache but still lot of upkeep to bring current and update on daily basis',\n",
       "  {'Negative': False, 'Neutral': False, 'Positive': True}],\n",
       " ['its very different from regular gmail we understand its low end phone I m user of it but very difficult to use it',\n",
       "  {'Negative': True, 'Neutral': False, 'Positive': False}],\n",
       " ['I have lot of trouble get it to load my email I have to install the regular gmail app and the gmail go app be an original app on my phone and I can not uninstall it',\n",
       "  {'Negative': True, 'Neutral': False, 'Positive': False}],\n",
       " ['love it I love the fact that you can put your yahoo email on this app too put my email all in one place thank google',\n",
       "  {'Negative': False, 'Neutral': False, 'Positive': True}],\n",
       " ['another terrible go product I want my regular gmail apple be look well and well all the time',\n",
       "  {'Negative': True, 'Neutral': False, 'Positive': False}],\n",
       " ['I notice that I have not be able to send mail I have so much unsent mail why I can not send and I have try everything possible to resolve this issue',\n",
       "  {'Negative': True, 'Neutral': False, 'Positive': False}],\n",
       " ['good and accessable but some week now it have be difficult I to access some folder pls work on it',\n",
       "  {'Negative': False, 'Neutral': True, 'Positive': False}],\n",
       " ['its not update my email everytime I try to sign up an app or something and they email I the code it never show',\n",
       "  {'Negative': True, 'Neutral': False, 'Positive': False}],\n",
       " ['even though I sometimes use my gmail I find the set up to be very disorganized the app definitely need more organization sure',\n",
       "  {'Negative': False, 'Neutral': True, 'Positive': False}],\n",
       " ['please fix the problem I want to delete all my primary message but if I delete and empty the trash it come again   I have too many message to delete and its not work please fix it',\n",
       "  {'Negative': True, 'Neutral': False, 'Positive': False}],\n",
       " ['alot more well now its be update work alot more well than the other plus alot more easy to use highly recommend this application its easy to use thumb up from I',\n",
       "  {'Negative': False, 'Neutral': False, 'Positive': True}],\n",
       " ['I have not be able to send email some day now keep show queue what s up with that',\n",
       "  {'Negative': False, 'Neutral': True, 'Positive': False}],\n",
       " ['the more I play candy crush saga the more I get disappoint you take my coin but not give I life or move thief',\n",
       "  {'Negative': True, 'Neutral': False, 'Positive': False}],\n",
       " ['its now two day my gmail be not work its only say there be problem in sync this folder try again later',\n",
       "  {'Negative': True, 'Neutral': False, 'Positive': False}],\n",
       " ['good but its too bright darkmode be essential browse mail in dark environment',\n",
       "  {'Negative': False, 'Neutral': False, 'Positive': True}],\n",
       " ['my unigue experience very effective plus realit focus on peacefulll interest plus long last expertise on teach acceptable normshabitsplus value of our culture that always maintain numerous cocured direction on teaching plus learn to difersity of trainne that be relate to education plus culture inmprovement learning',\n",
       "  {'Negative': False, 'Neutral': False, 'Positive': True}],\n",
       " ['less than stellar   very water down indistinguishable from imposter and lack in userfriendly setting',\n",
       "  {'Negative': True, 'Neutral': False, 'Positive': False}],\n",
       " ['this app be stupid if the manufacturer of your android go system phone install regular gmail and you can not uninstall it what good be an android go version google need to review all think about android go system configuration',\n",
       "  {'Negative': True, 'Neutral': False, 'Positive': False}],\n",
       " ['this email very search way towards work thing on reach actively involve the writeing over to it searchprogramme while web search the link attach the follow url to add link to the proper everything else in the place to live with I some work information on the right direction',\n",
       "  {'Negative': True, 'Neutral': False, 'Positive': False}],\n",
       " ['I m not get pop up email they be there week ago now it stop why how I get pop up email back',\n",
       "  {'Negative': True, 'Neutral': False, 'Positive': False}],\n",
       " ['not let I see other useful email stuff that I need app suck   not let I save folder nor filter disgust',\n",
       "  {'Negative': True, 'Neutral': False, 'Positive': False}],\n",
       " ['I m still face the same problemi can not download my attachment from my email please help I m miss out on important mail it keep on say fetch file',\n",
       "  {'Negative': True, 'Neutral': False, 'Positive': False}],\n",
       " ['work well so far I be not power user of gmail so it might be miss feature the gmail app have',\n",
       "  {'Negative': False, 'Neutral': False, 'Positive': True}],\n",
       " ['this have be my go to mail since the beginning reason to switch when all my need be meet with the app',\n",
       "  {'Negative': False, 'Neutral': False, 'Positive': True}],\n",
       " ['email refuse to delete they just keep go back to my inboxand its really get ridiculous please fix it',\n",
       "  {'Negative': True, 'Neutral': False, 'Positive': False}],\n",
       " ['its really simple to use and helpful it keep I on track and up to date with with my daily life grat app I not even doubt it and recommend it',\n",
       "  {'Negative': False, 'Neutral': False, 'Positive': True}],\n",
       " ['anytime I try to send mail to someone it go to the outbox it not send very annoying',\n",
       "  {'Negative': True, 'Neutral': False, 'Positive': False}],\n",
       " ['I really not understand exactly but this app take so much time even day some mail to be deliver quee go far one can not imagine I have lose job opportunity because of the same I therefore not know what you can to improve this pathetic situation',\n",
       "  {'Negative': True, 'Neutral': False, 'Positive': False}],\n",
       " ['this use to work fine I but now since all the update it crash everytime l try to open itl be go to have to start use yahoo because of this I be tired of fool with try to get my mail linda w',\n",
       "  {'Negative': True, 'Neutral': False, 'Positive': False}],\n",
       " ['very easy to use on my cell phone its actually easy to check my email on my cell phone than it be on my laptop its way less time consume and I love that',\n",
       "  {'Negative': False, 'Neutral': False, 'Positive': True}],\n",
       " ['hi thank let and b steel moto repair and software this opportunity use this app be of good quality in my business metric to connect with business and improve my skill and knowledge about my work this app be of course connection between user and group google doc from developer global this be good app give you information notification and document from user global this app help my business with progressive experience from work with user of my online application',\n",
       "  {'Negative': False, 'Neutral': False, 'Positive': True}],\n",
       " ['great app but hope time go on it can be use offline too in some instance',\n",
       "  {'Negative': False, 'Neutral': True, 'Positive': False}],\n",
       " ['everyone know gmail be the good when it come to active and much easy way of connect to client via message',\n",
       "  {'Negative': False, 'Neutral': False, 'Positive': True}],\n",
       " ['app will not refresh day on end not sure how else to report I mean leave recommendation',\n",
       "  {'Negative': False, 'Neutral': False, 'Positive': True}],\n",
       " ['it be work perfectly before december but currently I m unable to send mail most of my application be through gmail I m confuse',\n",
       "  {'Negative': True, 'Neutral': False, 'Positive': False}],\n",
       " ['I will not give it rating cos I can not receive or send email since last week think my phone have problem please fix it cos we can not continue like this',\n",
       "  {'Negative': True, 'Neutral': False, 'Positive': False}],\n",
       " ['sync issue not able to upload file email stay in outbox which be visible only in mobile and not visible while log in via web browser',\n",
       "  {'Negative': True, 'Neutral': False, 'Positive': False}],\n",
       " ['not keep up to date well gmail one of the recent android update make dark mode stop work too',\n",
       "  {'Negative': False, 'Neutral': True, 'Positive': False}],\n",
       " ['I can not receive my email message fast unless I go into the gmail app it be frustrating I I can not be notify fast',\n",
       "  {'Negative': True, 'Neutral': False, 'Positive': False}],\n",
       " ['whenever I m send an otp I not recieve it notificationsbut instead I have to go into the gmail app its frustrating pls fix it',\n",
       "  {'Negative': True, 'Neutral': False, 'Positive': False}],\n",
       " ['I have update the app but still be not able to send email they get stick at outbox and say that they my email be queue',\n",
       "  {'Negative': True, 'Neutral': False, 'Positive': False}],\n",
       " ['gmail be extremely badly design I can not find email the reply arrow send email but not tell I if there be s reply it be impossible to find email in this cretinously badly design site',\n",
       "  {'Negative': False, 'Neutral': True, 'Positive': False}],\n",
       " ['hopeless every time I try to open an email the app immediately shut down',\n",
       "  {'Negative': True, 'Neutral': False, 'Positive': False}],\n",
       " ['this app have be corner stone I help I secure and even recover one of my google account I can not express how pleased I be with this version of google mail',\n",
       "  {'Negative': False, 'Neutral': False, 'Positive': True}],\n",
       " ['swipe leave and right to view previous and next message not work hence time waste to return and open new message',\n",
       "  {'Negative': True, 'Neutral': False, 'Positive': False}],\n",
       " ['its be 2month now when I try to open my attachment it not want to open so when I tap to download it not want to open or save I not know why because now when I check be useless to have this app because I not even open my attachment',\n",
       "  {'Negative': True, 'Neutral': False, 'Positive': False}],\n",
       " ['I have be lock out my other email account and not have the recovery phone number I ask help nearly week ago and one have contact still the service be absolutely shocking',\n",
       "  {'Negative': True, 'Neutral': False, 'Positive': False}],\n",
       " ['let I proced with the game then I would tell you my experience with it seem just get lucky with tap ongly one dice to to win amazon which when I redeem give I then you pop out the rate option I be wonder what must I to fill in my request detail',\n",
       "  {'Negative': False, 'Neutral': False, 'Positive': True}],\n",
       " ['gmail I have big problem with youeven when I update the new appmy new message be not show upwhy',\n",
       "  {'Negative': True, 'Neutral': False, 'Positive': False}],\n",
       " ['I would have give it star buh I can not find message that have be archive please provide window archived message',\n",
       "  {'Negative': False, 'Neutral': False, 'Positive': True}],\n",
       " ['this app gmail go be very annoying and frustrating when I create mail and delete the mail it will not delete it will still be there right now I just have lot of mail that I have deletedthe bad of it be when go back to where I will delete the mail the mail will be where to be find but come back to the mail where they re account I will see alot of mail that I have already delete I not know if anyone understand what be try to say',\n",
       "  {'Negative': True, 'Neutral': False, 'Positive': False}],\n",
       " ['actually when I want to send mail it show up all the time queue its really hurt I because time matter too',\n",
       "  {'Negative': True, 'Neutral': False, 'Positive': False}],\n",
       " ['why we this browser now ruin this app now   playing game here   ignore browser I want to use   gmail be never browser til it get more over build now   hide my other browser choice   idiot',\n",
       "  {'Negative': True, 'Neutral': False, 'Positive': False}],\n",
       " ['stucke in syncing mail and be not go anywhere its showing only there be proper update give to',\n",
       "  {'Negative': True, 'Neutral': False, 'Positive': False}],\n",
       " ['difficult to understand need to be more simpleflie in certain instruction have have many stroke hard to understand at time',\n",
       "  {'Negative': False, 'Neutral': True, 'Positive': False}],\n",
       " ['stop download have gb datum   gb ram leave work until   day ago change sync wtheck',\n",
       "  {'Negative': True, 'Neutral': False, 'Positive': False}],\n",
       " ['I m not able to open email particularly confirmation one hotel I just book an I have to search it',\n",
       "  {'Negative': True, 'Neutral': False, 'Positive': False}],\n",
       " ['I would not use an email app that be not update since year I consider it security risk',\n",
       "  {'Negative': True, 'Neutral': False, 'Positive': False}],\n",
       " ['I can not access my accounti not know my password if I I click forgot password it will show I my phone number I will punch my number but they keep tell unavailable try few hour and still have be wait since yesterdayhappilyif it try to verify I it will show signin notification could not reach my phone pls I need quick answersall my document be inside and I need to use it',\n",
       "  {'Negative': True, 'Neutral': False, 'Positive': False}],\n",
       " ['why I have to sign in every time to check email   then it not recognize the password pretty tired of this several week nowyou say you fix the bug well scrap out the one that you not get get raid you guy really suck why I have all these other app on my phonewho put they there and why I have control over setting privacy whatsoevergive I major mind problem my drsay my privacy should not be invade like thisyeahim see shrink thank to google',\n",
       "  {'Negative': True, 'Neutral': False, 'Positive': False}],\n",
       " ['usually efficient app sometimes not update inbox new email and unable to bulk delete by phone',\n",
       "  {'Negative': False, 'Neutral': False, 'Positive': True}],\n",
       " ['whatever happen to the day where google use to run the show go be those day I believe this app be below average',\n",
       "  {'Negative': True, 'Neutral': False, 'Positive': False}],\n",
       " ['I hate this stupid app children beginner android whenever I get real phone I m hucke this so hard into the ground its go to be back in its organic form dirt oil and some gem   boooooo',\n",
       "  {'Negative': True, 'Neutral': False, 'Positive': False}],\n",
       " ['the app be so goodminimal space consumption and save batteryplease bring an update to android oreo its be while since the app get an update to android oreo',\n",
       "  {'Negative': False, 'Neutral': False, 'Positive': True}],\n",
       " ['oh my gosh this be the good and trust worthy email ever trust realible security conciousness',\n",
       "  {'Negative': False, 'Neutral': False, 'Positive': True}],\n",
       " ['if I go to the gmail go app they always not open iill update also   but it always say gmail stop work so please fix the issue so I give',\n",
       "  {'Negative': True, 'Neutral': False, 'Positive': False}],\n",
       " ['nice app but can not access my account some month now sync be not work now',\n",
       "  {'Negative': False, 'Neutral': False, 'Positive': True}],\n",
       " ['its great communication and hang business I love it',\n",
       "  {'Negative': False, 'Neutral': False, 'Positive': True}],\n",
       " ['this aap be lite and simplei like it but question be that in presence of this gmail gowhy the gmail aap consistng maximum mbs be necessary when I want to uninstall gmail the gmail go go awaywhy this happen',\n",
       "  {'Negative': False, 'Neutral': False, 'Positive': True}],\n",
       " ['sometimes the app be unable to sync with email sever',\n",
       "  {'Negative': False, 'Neutral': False, 'Positive': True}],\n",
       " ['just good gmail gmail and gmail go be the same but mean to play difference between the regular and the go edition the go edition version of gmail google maps google assistant google calendar etc be mean the android go edition   version its the exact same but one be mean the go edition   of android which be gmail go google go google maps go google gallery go google calendar go google assistant go they re all version of the android go edition   version',\n",
       "  {'Negative': False, 'Neutral': False, 'Positive': True}],\n",
       " ['not receive email from people right after they re send need an update',\n",
       "  {'Negative': True, 'Neutral': False, 'Positive': False}],\n",
       " ['its okay but when ever I try use my gmail game to recover my progress by it send email it not show after about an hour fix it please',\n",
       "  {'Negative': False, 'Neutral': True, 'Positive': False}],\n",
       " ['pure garbageanything   google go suck google be quickly become black holekeep change ill find other source news and information on usable platform',\n",
       "  {'Negative': True, 'Neutral': False, 'Positive': False}],\n",
       " ['well I ve not have any serious issue work on this app I like it and not mind new interesting feature be add',\n",
       "  {'Negative': False, 'Neutral': False, 'Positive': True}],\n",
       " ['I can not read my email it keep on show I that the gmail app keep on stop I not know what to can you fix it',\n",
       "  {'Negative': True, 'Neutral': False, 'Positive': False}],\n",
       " ['good app work exactly the way I need it to with the calendar and go assistant perfect',\n",
       "  {'Negative': False, 'Neutral': False, 'Positive': True}],\n",
       " ['I not know how to sign out from this app although its showing clear from manage account optionbut still mail be there',\n",
       "  {'Negative': True, 'Neutral': False, 'Positive': False}],\n",
       " ['great app but recently the app suddenly close automatically immediately after I launch it I not why this be happen',\n",
       "  {'Negative': False, 'Neutral': False, 'Positive': True}],\n",
       " ['love the app always firm favourite last few month it have be problematic and always problem with miss content or email never block various individual email but remove or delete they',\n",
       "  {'Negative': False, 'Neutral': False, 'Positive': True}],\n",
       " ['love the go app   wish we could chose like message or gboard or other also some people have low end phone 32bit etc',\n",
       "  {'Negative': False, 'Neutral': False, 'Positive': True}],\n",
       " ['this be good app and I find it easy to use and it be always send I my message which I wait to come in and I have not have any problem with the app',\n",
       "  {'Negative': False, 'Neutral': False, 'Positive': True}],\n",
       " ['not download hate go edition not know what it be before I buy this phone it suck can not turn it off can not uninstall it',\n",
       "  {'Negative': True, 'Neutral': False, 'Positive': False}],\n",
       " ['honestly thank you the safety and security measure please the utmost good of your ability to keep we safe from bug virus thank you',\n",
       "  {'Negative': False, 'Neutral': False, 'Positive': True}],\n",
       " ['please try to at least come up with an option whereby can mark multiple read message to delete can not be mark 1by1 everydayveryday',\n",
       "  {'Negative': False, 'Neutral': True, 'Positive': False}],\n",
       " ['I not write that funny how app can cover an change other app question security look into secure that well that s what we need I m painter who be try to did not happen   life',\n",
       "  {'Negative': True, 'Neutral': False, 'Positive': False}],\n",
       " ['something be restrict my usage I have account and two be frozen if I load new gmail app it will not complete fetch my message',\n",
       "  {'Negative': True, 'Neutral': False, 'Positive': False}],\n",
       " ['all the google go account map ex be set up to make easer nosy boyfriend and user to hack google account thank lot dummy I m sick of be hack watch and control year of deal with f hack and lose relationship just to stay connected with my family that s not often',\n",
       "  {'Negative': True, 'Neutral': False, 'Positive': False}],\n",
       " ['please fix this google on photo how you can recovery your family photo when you take photo of your family and can not recovery your photo when they got delete through this app',\n",
       "  {'Negative': True, 'Neutral': False, 'Positive': False}],\n",
       " ['freeze often what happen to google you use to be top game',\n",
       "  {'Negative': True, 'Neutral': False, 'Positive': False}],\n",
       " ['recently it stop work receive and deliver message what can I its important that my gmail go app function these day',\n",
       "  {'Negative': False, 'Neutral': False, 'Positive': True}],\n",
       " ['why be there dark theme switch android go device and other device well work well but please add theme switch',\n",
       "  {'Negative': False, 'Neutral': True, 'Positive': False}],\n",
       " ['all personal information on the server be be erase if not open by the user name and owner be not aware',\n",
       "  {'Negative': True, 'Neutral': False, 'Positive': False}],\n",
       " ['its lite version of the original google mail it take little getting use to but it the trick',\n",
       "  {'Negative': False, 'Neutral': False, 'Positive': True}],\n",
       " ['very good app only one problem too many junk mail can and push mail make if this app not good',\n",
       "  {'Negative': False, 'Neutral': False, 'Positive': True}],\n",
       " ['really be big deal and waste of space and you need to total factory reset or jail break your phone to remove it',\n",
       "  {'Negative': True, 'Neutral': False, 'Positive': False}],\n",
       " ['long past time an update really have problem fetch mail when the phone first start kinda slow down my phone on start also possibly',\n",
       "  {'Negative': True, 'Neutral': False, 'Positive': False}],\n",
       " ['too easy to lock you out that suck when your wait replay reguard ing employment especially when your response be from the federal goverment oop',\n",
       "  {'Negative': False, 'Neutral': True, 'Positive': False}],\n",
       " ['it always give wrong informationi want you to uninstall it from my phoneall app have s place of uninstall but this one be all about scamit only have open and installso remove it please it have help',\n",
       "  {'Negative': False, 'Neutral': False, 'Positive': True}],\n",
       " ['its actually damn near perfect mobile phone app its very basic and efficiently email recieving and operating app',\n",
       "  {'Negative': False, 'Neutral': True, 'Positive': False}],\n",
       " ['fast than the main gmail app nongo one with pretty much all the same useful functionality',\n",
       "  {'Negative': False, 'Neutral': False, 'Positive': True}],\n",
       " ['it be tell I error in sync the app from last month that I try latey I have try set it but all be in vsiny',\n",
       "  {'Negative': False, 'Neutral': True, 'Positive': False}],\n",
       " ['I can not open my gmail app because it keep on crash everytime I try to check my email',\n",
       "  {'Negative': True, 'Neutral': False, 'Positive': False}],\n",
       " ['the app be okay but I really wish there s new update like the regular gmail I mean its last update be in cmon',\n",
       "  {'Negative': True, 'Neutral': False, 'Positive': False}],\n",
       " ['I m really disappoint its be while not receive new message and some old message show',\n",
       "  {'Negative': True, 'Neutral': False, 'Positive': False}],\n",
       " ['what to say its just lite variant of original which have cut some corner but still maintain and serve the fundamental purpose',\n",
       "  {'Negative': False, 'Neutral': False, 'Positive': True}],\n",
       " ['I can not get mail notification mrsegge during the day ring tone its it all night',\n",
       "  {'Negative': False, 'Neutral': True, 'Positive': False}],\n",
       " ['I have problem with download pdf file it take forever sometimes it not even open please improve fast download',\n",
       "  {'Negative': False, 'Neutral': True, 'Positive': False}],\n",
       " ['my hotmail email be not work at all by not show my email message on both google email app please fix it',\n",
       "  {'Negative': False, 'Neutral': True, 'Positive': False}],\n",
       " ['I never use the email but it be alway block by google go search guy noce   two year ofbthis and over emal address alter and some desyroye by this jerk',\n",
       "  {'Negative': True, 'Neutral': False, 'Positive': False}],\n",
       " ['keep crash can not open it anymore despite countless attempt and pointless update fix it',\n",
       "  {'Negative': True, 'Neutral': False, 'Positive': False}],\n",
       " ['one problem I have now be that I can not receive my email in inbox what could be the problem I even try to update it but it can not be update help I out',\n",
       "  {'Negative': False, 'Neutral': True, 'Positive': False}],\n",
       " ['its starting to malfunction will not let I read its closing every time I try to open mail',\n",
       "  {'Negative': True, 'Neutral': False, 'Positive': False}],\n",
       " ['not enjoy cause of always have to change to new email address all the time change to new device whilst not change my cintact numberthis be real problem I always experience',\n",
       "  {'Negative': True, 'Neutral': False, 'Positive': False}],\n",
       " ['the application the same to get good time in working being be exactly in our mail secure app and update be available in working next in time',\n",
       "  {'Negative': False, 'Neutral': False, 'Positive': True}],\n",
       " ['app will not sync on this phone not know why but I think it have something to with king ಠ益ಠ',\n",
       "  {'Negative': True, 'Neutral': False, 'Positive': False}],\n",
       " ['very satisfying and reliable but need the processing to be most fast',\n",
       "  {'Negative': False, 'Neutral': False, 'Positive': True}],\n",
       " ['wide audience and not really need so sylish but at they same time we spot very   so the time he might be fly form there wihtèh',\n",
       "  {'Negative': False, 'Neutral': True, 'Positive': False}],\n",
       " ['this app will not allow I to sign in use my yahoo account even though the be an option to so it just fail and say can not authenticate',\n",
       "  {'Negative': True, 'Neutral': False, 'Positive': False}],\n",
       " ['my experience be horrible and not connect to other sever please fix and rethink this coolpad thing',\n",
       "  {'Negative': True, 'Neutral': False, 'Positive': False}],\n",
       " ['excellent keep up with your email and electronic messaging it ll even let you use other mail service thru the app',\n",
       "  {'Negative': False, 'Neutral': False, 'Positive': True}],\n",
       " ['the app be now boringi be unable to send the attachment I can not send any document to anyone I m even struggle to send my cv to the company through this gmailmay you please try to fix it so that we can send our attach document',\n",
       "  {'Negative': True, 'Neutral': False, 'Positive': False}],\n",
       " ['I have notice that I be go on with my phone number and email address I m come to like it because of clarity',\n",
       "  {'Negative': False, 'Neutral': False, 'Positive': True}],\n",
       " ['I have never experience well system of store andor organize all personal or business datum since aol',\n",
       "  {'Negative': False, 'Neutral': False, 'Positive': True}],\n",
       " ['hey I think this app need little improvement and that be mark all massage option I truly miss this option',\n",
       "  {'Negative': False, 'Neutral': False, 'Positive': True}],\n",
       " ['why I have have perfectly good gmail app now I have gmail app I get the need to streamlinereduce amount of ram be use',\n",
       "  {'Negative': False, 'Neutral': True, 'Positive': False}],\n",
       " ['some of my notification be slow so I can not use app like apple music with an expired verification code',\n",
       "  {'Negative': False, 'Neutral': True, 'Positive': False}],\n",
       " ['I can not just open the app its show I that gmail keep stop please fix this problem right now I can not anything',\n",
       "  {'Negative': True, 'Neutral': False, 'Positive': False}],\n",
       " ['I can not read my mail nor send mail tell I correct credential need after long time I ve be use it',\n",
       "  {'Negative': True, 'Neutral': False, 'Positive': False}],\n",
       " ['could be well tho mail not allway showand need update fast and much more to the mailtake much long when open up on the web',\n",
       "  {'Negative': False, 'Neutral': True, 'Positive': False}],\n",
       " ['its super fast that anytime they send I message on my mail it will show within second its great app',\n",
       "  {'Negative': False, 'Neutral': False, 'Positive': True}],\n",
       " ['outstanding very easy and convenient person interested in this app thank you gmail',\n",
       "  {'Negative': False, 'Neutral': False, 'Positive': True}],\n",
       " ['terrible I strongly believe that it need too be fix where we can select all email and delete and one time not one by one please fix thank you',\n",
       "  {'Negative': False, 'Neutral': True, 'Positive': False}],\n",
       " ['only download within last few week and already find it indispensable bit like most of the google app I use',\n",
       "  {'Negative': False, 'Neutral': False, 'Positive': True}],\n",
       " ['this be my first time use it please be good and cool to I gmail app I need nice   fast network in this app   I really love this app',\n",
       "  {'Negative': False, 'Neutral': False, 'Positive': True}],\n",
       " ['app shut down upon open everytime since I try to clear storage memory gmail app stop work on my phone',\n",
       "  {'Negative': True, 'Neutral': False, 'Positive': False}],\n",
       " ['heaven help you if you try n sync w another email account crash constantly hey google nerdocracy your product suck now because your priority suck and one day you will crash like the android you have be destroy w this piece of shyte you pass off an email app',\n",
       "  {'Negative': True, 'Neutral': False, 'Positive': False}],\n",
       " ['on the whole happy with google account but it definitely depend how much knowledge about it',\n",
       "  {'Negative': False, 'Neutral': False, 'Positive': True}],\n",
       " ['I love it when I not have time personal and business phone call this app hold all message I',\n",
       "  {'Negative': False, 'Neutral': False, 'Positive': True}],\n",
       " ['be not update my mail anymore several month matter how much I try to that can not sync recent update',\n",
       "  {'Negative': True, 'Neutral': False, 'Positive': False}],\n",
       " ['its be day since this app have sync my email it say it ll be back shortly but its be twelve day',\n",
       "  {'Negative': True, 'Neutral': False, 'Positive': False}],\n",
       " ['gmail be wonderful in its service message send and receive be quite clear',\n",
       "  {'Negative': False, 'Neutral': False, 'Positive': True}],\n",
       " ['category should be more improved it put mail to important category which be not important I often important mail be put into spam which be irritate',\n",
       "  {'Negative': False, 'Neutral': True, 'Positive': False}],\n",
       " ['not worth use its waste of storage and ram on my device take up more than mb of ram even though my phone only have not even total of mb of ram',\n",
       "  {'Negative': True, 'Neutral': False, 'Positive': False}],\n",
       " ['good morning to you all still pleased to use the fast mail to knowmy boundary be the lack of technology and terminology skill because of agel be year month love you guy sibongile mthembu',\n",
       "  {'Negative': False, 'Neutral': False, 'Positive': True}],\n",
       " ['quit good make or use the internet send text message   plus its easy use on the computer well',\n",
       "  {'Negative': False, 'Neutral': False, 'Positive': True}],\n",
       " ['it be mean to have google chat and google meet feature its mean to send email fast in any kind of internet connection',\n",
       "  {'Negative': True, 'Neutral': False, 'Positive': False}],\n",
       " ['this be so ridiculouswhen bankany app send otp its always show I the otp or mail to latei can not anything perfectly jst this bad appjst solve this problem fast',\n",
       "  {'Negative': True, 'Neutral': False, 'Positive': False}],\n",
       " ['I can not read my email in my other account so I create another one now I m have the same problem where I can not read my email or open or delete they please fix this this be fustrate',\n",
       "  {'Negative': True, 'Neutral': False, 'Positive': False}],\n",
       " ['this app be show the send button I can not keep on scheduling mail tomorrow and its school stuffreally make I   angry',\n",
       "  {'Negative': True, 'Neutral': False, 'Positive': False}],\n",
       " ['useless can not download attachment and important unread not update not get new message take age useless I hate these go app they not function',\n",
       "  {'Negative': True, 'Neutral': False, 'Positive': False}],\n",
       " ['excellent but need more upgrading interm of keep secret file',\n",
       "  {'Negative': False, 'Neutral': False, 'Positive': True}],\n",
       " ['work perfectly but sometimes it not display on my screen icon',\n",
       "  {'Negative': False, 'Neutral': False, 'Positive': True}],\n",
       " ['very annoying close when you click to read mail',\n",
       "  {'Negative': True, 'Neutral': False, 'Positive': False}],\n",
       " ['my gmail be blank nothing show up on it since my last update what happen to my mail why be it blank',\n",
       "  {'Negative': True, 'Neutral': False, 'Positive': False}],\n",
       " ['on the 23rd may this phone have not be purchase cause it be just last year I buy it and its okay I only love the app gmail the fast response',\n",
       "  {'Negative': True, 'Neutral': False, 'Positive': False}],\n",
       " ['not open email I click email loading circle spin then it go right back to inbox never open the mail',\n",
       "  {'Negative': False, 'Neutral': True, 'Positive': False}],\n",
       " ['it have be work since but recently I stop receive mail I really hope this gets fix',\n",
       "  {'Negative': True, 'Neutral': False, 'Positive': False}],\n",
       " ['this app open   communicate fast infact I recommend its service to anyone regard',\n",
       "  {'Negative': False, 'Neutral': False, 'Positive': True}],\n",
       " ['good save more space but can you give it the interface like the origimal gmail app',\n",
       "  {'Negative': False, 'Neutral': False, 'Positive': True}],\n",
       " ['all go additionentry lavel app should alwayse be very simpletransparent user friendlyif possible',\n",
       "  {'Negative': False, 'Neutral': False, 'Positive': True}],\n",
       " ['this app be the bad like my google classroom I be suppose to get notification but I get nothing thank god the regular gmail be the bad app I ever have',\n",
       "  {'Negative': True, 'Neutral': False, 'Positive': False}],\n",
       " ['absolutely love this app I ve personally have issue',\n",
       "  {'Negative': False, 'Neutral': False, 'Positive': True}],\n",
       " ['I lose my phone with my gmail account password   backup code there be way to recover my account I already link with my register mobile number recovery purpose but this option be not availabale poor service from google',\n",
       "  {'Negative': True, 'Neutral': False, 'Positive': False}],\n",
       " ['starcus this update version be trash and stinkingneed to be fix can not even recive mail',\n",
       "  {'Negative': True, 'Neutral': False, 'Positive': False}],\n",
       " ['what s the fing its have 2things with tin pos and all we get be this pos not work what what not google ps tablet have google go cellphone have it twoall thing googleupuyuazz all the time not workingps be v',\n",
       "  {'Negative': True, 'Neutral': False, 'Positive': False}],\n",
       " ['I love google mail it have always work well I gmail app be the way to go',\n",
       "  {'Negative': False, 'Neutral': False, 'Positive': True}],\n",
       " ['the gmail you love now light and just fast enjoy smart inbox that keep your message safe and you organize receive notification when mail arrive then read and respond both online   offline plus find message quickly with powerful search and lot more with gmail go you ll enjoy   smart inbox   focus on message from friend and family first while social and promotional email be categorize neatly when you have time   less spam   your account stay safe and clutter',\n",
       "  {'Negative': False, 'Neutral': False, 'Positive': True}],\n",
       " ['great app indeed but it take hour sometims day to deliever mail to my account too bad',\n",
       "  {'Negative': False, 'Neutral': False, 'Positive': True}],\n",
       " ['the gmail app have be the stock standard mail app my gmail account year and I would not have it any other way',\n",
       "  {'Negative': False, 'Neutral': False, 'Positive': True}],\n",
       " ['google go be sleep on u and willing to go slow and not all app work on the go osie firewall not work',\n",
       "  {'Negative': True, 'Neutral': False, 'Positive': False}],\n",
       " ['super laggy and take second delay to receive email I not recommend this app anymore',\n",
       "  {'Negative': True, 'Neutral': False, 'Positive': False}],\n",
       " ['good app and this go version be well than the main gmail app and it be small in size also I like it that it share the same feature the main app',\n",
       "  {'Negative': False, 'Neutral': False, 'Positive': True}],\n",
       " ['not function wellwhenever I try to sent or read an email it stop gmail have stop help I outi need to send some email asap',\n",
       "  {'Negative': True, 'Neutral': False, 'Positive': False}],\n",
       " ['it suck I can not receive any message   I can not receive the code that facebook send to my gmail account to recover my facebook account',\n",
       "  {'Negative': True, 'Neutral': False, 'Positive': False}],\n",
       " ['I can not get it to show up on my iconsit still will not show up on the display iconhelp',\n",
       "  {'Negative': True, 'Neutral': False, 'Positive': False}],\n",
       " ['since I start use itit have be work wellbut recently be really badi can not receive and send mail',\n",
       "  {'Negative': True, 'Neutral': False, 'Positive': False}],\n",
       " ['the view its very bad this android go its very bad nothing good on it be go to rate you if possible',\n",
       "  {'Negative': True, 'Neutral': False, 'Positive': False}],\n",
       " ['good app very similar to original just less space use',\n",
       "  {'Negative': False, 'Neutral': False, 'Positive': True}],\n",
       " ['this app be actually slowi try connect something with my gmaili could not see it that daytill the next day',\n",
       "  {'Negative': True, 'Neutral': False, 'Positive': False}],\n",
       " ['it can not load or send message day now its be show sync mail without stop',\n",
       "  {'Negative': True, 'Neutral': False, 'Positive': False}],\n",
       " ['challenge awesome wonderful learning experience business of perfection and just an incredible everyone will experience',\n",
       "  {'Negative': False, 'Neutral': False, 'Positive': True}],\n",
       " ['everytime I download an attach file it take forever then I have to download through web browser',\n",
       "  {'Negative': True, 'Neutral': False, 'Positive': False}],\n",
       " ['I enjoy use it but the only thing be the inability to create filter in order to whitelist an email',\n",
       "  {'Negative': False, 'Neutral': False, 'Positive': True}],\n",
       " ['gmail account go well in any content I privatize my gmail account be the first to visitalmost every day and night',\n",
       "  {'Negative': False, 'Neutral': False, 'Positive': True}],\n",
       " ['I need the change on this app to he similar again with the new version of the previous app gmailthe feature it have its oldchange be need',\n",
       "  {'Negative': True, 'Neutral': False, 'Positive': False}],\n",
       " ['I update google go couple day ago now it keep freeze and crash',\n",
       "  {'Negative': True, 'Neutral': False, 'Positive': False}],\n",
       " ['the app keep stop whenever I try to open an emailand it also not download my document',\n",
       "  {'Negative': True, 'Neutral': False, 'Positive': False}],\n",
       " ['can not get access to my account everything be open to public need help',\n",
       "  {'Negative': False, 'Neutral': False, 'Positive': True}],\n",
       " ['it be one of the most use email application reseaving of email nothing fancy just mail',\n",
       "  {'Negative': False, 'Neutral': False, 'Positive': True}],\n",
       " ['fantastic now if they could get all of my email on gmail then I would know that the email be all in gmail',\n",
       "  {'Negative': False, 'Neutral': False, 'Positive': True}],\n",
       " ['not like it much the original gmail app can not uninstall from my phone though it be build in',\n",
       "  {'Negative': True, 'Neutral': False, 'Positive': False}],\n",
       " ['good but the add content be priye its way too much into my google mail can you gmail control your add',\n",
       "  {'Negative': True, 'Neutral': False, 'Positive': False}],\n",
       " ['excellent I ve always be check it out up to date most of time and sometimes to remove they out of my gmail account and it be safe place thank you',\n",
       "  {'Negative': False, 'Neutral': False, 'Positive': True}],\n",
       " ['quit work   would not open up any select message finally disable it and instal original gmail app',\n",
       "  {'Negative': True, 'Neutral': False, 'Positive': False}],\n",
       " ['this app not work sometimes I can not open email and quite often can not read the info they containnot even my bill or payslipdodgey',\n",
       "  {'Negative': True, 'Neutral': False, 'Positive': False}],\n",
       " ['good app but lack ability to configure office exchange email',\n",
       "  {'Negative': False, 'Neutral': True, 'Positive': False}],\n",
       " ['why be not there and uninstall option on this app it contain lot of ad that cover content its',\n",
       "  {'Negative': True, 'Neutral': False, 'Positive': False}],\n",
       " ['its be great but suddenly stop work and this be annoying   wgat should be',\n",
       "  {'Negative': False, 'Neutral': True, 'Positive': False}],\n",
       " ['I wonder why I long receive email into my inbox it use to work well I explain what can be the root problem of this',\n",
       "  {'Negative': False, 'Neutral': True, 'Positive': False}],\n",
       " ['this app be the good of luck my experience with this app wonderful I recommend it to all android phone',\n",
       "  {'Negative': True, 'Neutral': False, 'Positive': False}],\n",
       " ['great app   I just update mine today   can not wait to see how d new update work',\n",
       "  {'Negative': False, 'Neutral': False, 'Positive': True}],\n",
       " ['this be app be horrible I can not even view my email anymore it keep show get your message',\n",
       "  {'Negative': True, 'Neutral': False, 'Positive': False}],\n",
       " ['it get easy w each update my daughter even be surprise w my advancement in skill handle my account',\n",
       "  {'Negative': False, 'Neutral': False, 'Positive': True}],\n",
       " ['I m amazed at how valuable google be to my life not know until recent if yo ur simple person and prefer be able to handle most thing through your email google be the one stop shop store important info like contact and picture and all device you link to your google account can be locate because of device locator google offer their member recently friend help I locate my phone through device locator from my g accounti be able to recover important contact photo',\n",
       "  {'Negative': False, 'Neutral': False, 'Positive': True}],\n",
       " ['its about the same gmail on my computer it not show all my email from ten year ago but its ok',\n",
       "  {'Negative': False, 'Neutral': False, 'Positive': True}],\n",
       " ['great but have ability to save your important email to file that you can get open later',\n",
       "  {'Negative': False, 'Neutral': True, 'Positive': False}],\n",
       " ['very helpful to I in find some message not send to my facebook and messenger app thank lot gmail go',\n",
       "  {'Negative': False, 'Neutral': False, 'Positive': True}],\n",
       " ['since I have receive email what email I delete come back several try miss be able to swipe lor r to delete or archive anyone else have trouble I have to agree wrae edwards my map tell I my good friend live somewhere I ve never hear of its an easy one where she town right up the rd from mine gmailgo be like go bk b4 reg gmail sorry but true I be not thrilled wgmail thinking abt go back to that or somewhere else periodalso agree wrae uninstall issue',\n",
       "  {'Negative': True, 'Neutral': False, 'Positive': False}],\n",
       " ['nice app so far but notification if I receive message which be not right because some message be important',\n",
       "  {'Negative': False, 'Neutral': True, 'Positive': False}],\n",
       " ['peter be just about two and half month in the country I be heavy operator at home but I not have any certificate in uk here',\n",
       "  {'Negative': False, 'Neutral': False, 'Positive': True}],\n",
       " ['all the app I link my email with be not show',\n",
       "  {'Negative': True, 'Neutral': False, 'Positive': False}],\n",
       " ['just terrible app   will not sync or open any mail   update   useless',\n",
       "  {'Negative': True, 'Neutral': False, 'Positive': False}],\n",
       " ['lose email change in format with notification that s just this week',\n",
       "  {'Negative': True, 'Neutral': False, 'Positive': False}],\n",
       " ['hard to learn at frist from its set up   but fast and great to use',\n",
       "  {'Negative': False, 'Neutral': False, 'Positive': True}],\n",
       " ['I would like to delete chat that be send to person but I be tell by mail delivery be not the correct address can not I delete the mail I send separately pls fix this',\n",
       "  {'Negative': False, 'Neutral': False, 'Positive': True}],\n",
       " ['I set my email usual but keep get notification to finish set it up but will not go through any link',\n",
       "  {'Negative': False, 'Neutral': True, 'Positive': False}],\n",
       " ['it be initially work fine but now its not work it crash every time I try open it',\n",
       "  {'Negative': True, 'Neutral': False, 'Positive': False}],\n",
       " ['I archieve so many message but I never find they again even in trash am worried pls work on this app   be not happy at all',\n",
       "  {'Negative': True, 'Neutral': False, 'Positive': False}],\n",
       " ['I have to say that I strongly dislike all of these dammn go version of all of these app they all suck in major way it seem to I that they re more trouble than they re worth   the google go app suck gmail go app suck google map go app suck I mean shall I go on down the line or we understand the point I m drive at I not care not be able to uninstall these app from my phone I mean I pay the damn thing',\n",
       "  {'Negative': True, 'Neutral': False, 'Positive': False}],\n",
       " ['thank   well ever get thing much easy snd great saving on time and money',\n",
       "  {'Negative': False, 'Neutral': False, 'Positive': True}],\n",
       " ['be unable to signin to my google account because I lose my step verification code and result I can not signin and recovery aspect be not work',\n",
       "  {'Negative': True, 'Neutral': False, 'Positive': False}],\n",
       " ['I always use this app and archive the email I want to keep use with recovery email account',\n",
       "  {'Negative': False, 'Neutral': False, 'Positive': True}],\n",
       " ['each time I click on the appit will force close itselfu guy should try fix this bug',\n",
       "  {'Negative': True, 'Neutral': False, 'Positive': False}],\n",
       " ['I be unable to delete my mail I repeatedly try to so but same mail again show in inbox and trash remain empty',\n",
       "  {'Negative': False, 'Neutral': True, 'Positive': False}],\n",
       " ['it work fairly responsive not much different from the old version',\n",
       "  {'Negative': False, 'Neutral': False, 'Positive': True}],\n",
       " ['the app not have an updateand I find it hard to withdraw money from my wallet to my main account',\n",
       "  {'Negative': True, 'Neutral': False, 'Positive': False}],\n",
       " ['this be very easy and fast in all mailbox everything work great with the app',\n",
       "  {'Negative': False, 'Neutral': False, 'Positive': True}],\n",
       " ['need to update this app to the new look like the regular gmail app I end up download the regular app',\n",
       "  {'Negative': False, 'Neutral': True, 'Positive': False}],\n",
       " ['its really fast and responsive its very powerful communication tool and its so easy to use',\n",
       "  {'Negative': False, 'Neutral': False, 'Positive': True}],\n",
       " ['this app keep say wait sync and I clear cache and clear datum but it just not work',\n",
       "  {'Negative': True, 'Neutral': False, 'Positive': False}],\n",
       " ['I be unable to access my email this app just stop when be try to view email',\n",
       "  {'Negative': True, 'Neutral': False, 'Positive': False}],\n",
       " ['I love send out my messaging and answer all my text and email from facebook and answer my call email text thru facebook and answer my callsemail text thru what s up app send to my mobile phone number answer my phone call type and load and download all message',\n",
       "  {'Negative': False, 'Neutral': False, 'Positive': True}],\n",
       " ['okay now I get my guard hybrid power browser all together in gmail with google   to bing   then bind to text now together then relaunch travel path to gmail again all together three security app all together to power browser create quad security deposit layover   first hybrid browser uncreation   my new hybrid power browser cause by internet engineering design manipulation say hello to you year start with air force base engineering design first microsoft building texas',\n",
       "  {'Negative': False, 'Neutral': False, 'Positive': True}],\n",
       " ['fast notification excellent service location identification name and their input',\n",
       "  {'Negative': False, 'Neutral': False, 'Positive': True}],\n",
       " ['I get mail but its showing mailbox empty say sync be experience problem its be week can not see my email',\n",
       "  {'Negative': True, 'Neutral': False, 'Positive': False}],\n",
       " ['some time otp message not come be one of the very big probdeveloper imma uninstalle get it new g mail all its work cool they you hope you will you re well',\n",
       "  {'Negative': True, 'Neutral': False, 'Positive': False}],\n",
       " ['it make I feel safe learn how to protect myself from thief that constantly attempt to use malware to continue to steal our account info their own personal gain they have already steal my moid   socsec card and dollar and they be also steal resident stimulus among try to use my card unauthorized charge my account be freeze and I have to transfer to another card I want to stop they and prosecute they the theft neglect fraud and illegal feed',\n",
       "  {'Negative': False, 'Neutral': False, 'Positive': True}],\n",
       " ['well I not know what happen but now every time I click to get into my email message it go right back to home screen',\n",
       "  {'Negative': True, 'Neutral': False, 'Positive': False}],\n",
       " ['be it my phone or   I mean I can not see the send button in this update app and its irritate',\n",
       "  {'Negative': True, 'Neutral': False, 'Positive': False}],\n",
       " ['gmail be always on point when it come to navigate information to sender and receiver with hassle',\n",
       "  {'Negative': False, 'Neutral': False, 'Positive': True}],\n",
       " ['I not like gmail one its not user friendly I also hate goggle one I wish I could erase it from my app',\n",
       "  {'Negative': True, 'Neutral': False, 'Positive': False}],\n",
       " ['very cool email address reply to this wonderful event time and consideration in review thank google drive',\n",
       "  {'Negative': False, 'Neutral': False, 'Positive': True}],\n",
       " ['read in browser top news network go down shutterstock it only last several hour on tuesday but an outage at amazon web services amzn show just how connect our world really be the issue primarily affect the useast1 region which be host in northern virginia but cover city across the country include boston chicago and houston warehouse and delivery worker along with driver amazon flex could not scan package or access delivery route while some rin',\n",
       "  {'Negative': False, 'Neutral': False, 'Positive': True}],\n",
       " ['I have always use google its real good lot of thing ie picture   video web search and much more',\n",
       "  {'Negative': False, 'Neutral': False, 'Positive': True}],\n",
       " ['can not send mail almost 3day today not really know what s wrong with the app',\n",
       "  {'Negative': True, 'Neutral': False, 'Positive': False}],\n",
       " ['this app have not be respond almost week it say unable to sign in',\n",
       "  {'Negative': True, 'Neutral': False, 'Positive': False}],\n",
       " ['can not send mail day it say correct credential need so what s wrong since it always work before',\n",
       "  {'Negative': False, 'Neutral': True, 'Positive': False}],\n",
       " ['after update my phone my gmail long work on my phone each time I click it will go off now its either I use my browser or I go to cyber cafe',\n",
       "  {'Negative': False, 'Neutral': True, 'Positive': False}],\n",
       " ['I ve be try to get into my account with my save password day now and nothing and I mean nothing google have have I have work code not work not password',\n",
       "  {'Negative': True, 'Neutral': False, 'Positive': False}],\n",
       " ['I hate the go app if I have to download another app to use the go app well then the entire process be pointless',\n",
       "  {'Negative': True, 'Neutral': False, 'Positive': False}],\n",
       " ['it be the good application everit so easy to send somebody any information that you what',\n",
       "  {'Negative': False, 'Neutral': False, 'Positive': True}],\n",
       " ['greatfull the service look good and can manage it easy with receiving and navigation',\n",
       "  {'Negative': False, 'Neutral': False, 'Positive': True}],\n",
       " ['after the update it hang to much in my phone but it work good in google chrome',\n",
       "  {'Negative': True, 'Neutral': False, 'Positive': False}],\n",
       " ['not even tell I when I get an emaileversecond reviewjve update ill be inntouch innregard to how its working',\n",
       "  {'Negative': True, 'Neutral': False, 'Positive': False}],\n",
       " ['it work the same the real gmail except use less space and less datum',\n",
       "  {'Negative': False, 'Neutral': False, 'Positive': True}],\n",
       " ['it d be nice if dark theme be available in gmail go otherwise the application work fine',\n",
       "  {'Negative': False, 'Neutral': False, 'Positive': True}],\n",
       " ['I love it before I forget my password and they always tell mi to wait hour and boom nothing happen after those hour   I hate it now',\n",
       "  {'Negative': True, 'Neutral': False, 'Positive': False}],\n",
       " ['rubbish app it not show new mail I download the original version',\n",
       "  {'Negative': True, 'Neutral': False, 'Positive': False}],\n",
       " ['thank your email but it be librarys mean dictionary exploration well',\n",
       "  {'Negative': False, 'Neutral': False, 'Positive': True}],\n",
       " ['after use it it says wait synchronization and roll ball and nothing happen',\n",
       "  {'Negative': True, 'Neutral': False, 'Positive': False}],\n",
       " ['I give you star because i nolonger receive notification if I not click gmail day I can not even know about my email',\n",
       "  {'Negative': True, 'Neutral': False, 'Positive': False}],\n",
       " ['can not receive new email this week last mail that I receive be last june and even though I keep on reload the app still nothing',\n",
       "  {'Negative': True, 'Neutral': False, 'Positive': False}],\n",
       " ['I try to use this app but lately I ve find that I m only get halfway through   I not know howwhy and I m still have the same issue with gm very poor',\n",
       "  {'Negative': False, 'Neutral': False, 'Positive': True}],\n",
       " ['not greatly thrilled with the g right now you guy n goog use be awesome but now its impossible to find and recover an old email by simple password and when you change number its even more impossible omg pls sort it out I feel to cry I ve lose all my you tube vid all coza my dumb email n password n change number oh my day really',\n",
       "  {'Negative': True, 'Neutral': False, 'Positive': False}],\n",
       " ['it might be nice if I could see it and use it but I can not because I ve be hack and someone else use these app off my google account',\n",
       "  {'Negative': True, 'Neutral': False, 'Positive': False}],\n",
       " ['use gmail be not worthy I find it difficult to zoom or view my new email message',\n",
       "  {'Negative': True, 'Neutral': False, 'Positive': False}],\n",
       " ['you should make an easy way to delete message because long press to each message it exhaust',\n",
       "  {'Negative': False, 'Neutral': False, 'Positive': True}],\n",
       " ['this be great improvement perfect I to email out and reserve mail top job well and thank again colin',\n",
       "  {'Negative': False, 'Neutral': False, 'Positive': True}],\n",
       " ['this outfit be straight forward one of the part of google I be think about when I be review google s service division early than google go',\n",
       "  {'Negative': False, 'Neutral': False, 'Positive': True}],\n",
       " ['can not work some thing right like to sync with my other email not sure how to it   I not technically savvy',\n",
       "  {'Negative': False, 'Neutral': False, 'Positive': True}],\n",
       " ['it be good but sometimes the email come late than it suppost to be I ve receive an email which be send to I week aho but it only notify I now',\n",
       "  {'Negative': False, 'Neutral': True, 'Positive': False}],\n",
       " ['can not get into my email to get mz old account back will not have the old number anymore to use step authentication   so other than that   work fine',\n",
       "  {'Negative': False, 'Neutral': False, 'Positive': True}],\n",
       " ['have lot of bug in it I switch back to the old google mail app',\n",
       "  {'Negative': True, 'Neutral': False, 'Positive': False}],\n",
       " ['love the convenience but I ve be have issue wit retrieve attach doc not sure what or where the problem be',\n",
       "  {'Negative': False, 'Neutral': False, 'Positive': True}],\n",
       " ['I be have problem in see the email that have be send to I even when I refresh I can not see anything d',\n",
       "  {'Negative': False, 'Neutral': True, 'Positive': False}],\n",
       " ['gmail be just superior to other mail app in my opinion just can not top gmail',\n",
       "  {'Negative': False, 'Neutral': False, 'Positive': True}],\n",
       " ['just what the doctor orde å really great app that s awesome firstime cell phone usersthat be self motivated',\n",
       "  {'Negative': False, 'Neutral': False, 'Positive': True}],\n",
       " ['what s sync everytime sync just when you need to send something urgently',\n",
       "  {'Negative': True, 'Neutral': False, 'Positive': False}],\n",
       " ['I be work perfectly well until my synche yahoo log out but I recently fix the problem its be nice experience so far',\n",
       "  {'Negative': False, 'Neutral': False, 'Positive': True}],\n",
       " ['dude its saying I need to sign in when I m already sign in get some help because I can not fix it it seriously need to be update',\n",
       "  {'Negative': True, 'Neutral': False, 'Positive': False}],\n",
       " ['hi gmail developer I want to inform you that imagine I have gmail and I have sign in to other device my account it mean my gmail be now at two phone but when I remove the gmail from the second device and I want to try other device to sign up my account gmail say that the account step verification be my 1st phone and 2nd phone by press yes but there be email on my second phone I guess this be glitch please solve it',\n",
       "  {'Negative': False, 'Neutral': False, 'Positive': True}],\n",
       " ['the gmail bug be devastating people live yet all we get be piecemeal suggestion rather than correction when will mr google send out correcting update after all he phupe it he should fix it',\n",
       "  {'Negative': True, 'Neutral': False, 'Positive': False}],\n",
       " ['good messaging just that it require email there s nothing wrong with this app I wish I could give you million rating',\n",
       "  {'Negative': False, 'Neutral': False, 'Positive': True}],\n",
       " ['my email be stick   on may of will not load new email and will not update',\n",
       "  {'Negative': True, 'Neutral': False, 'Positive': False}],\n",
       " ['what the hell google I start use gmail go because regular gmail have stop work on one of my account gmail go be the same thing I m consider go with another email app and just cease to use gmail at all',\n",
       "  {'Negative': True, 'Neutral': False, 'Positive': False}],\n",
       " ['first this gmail open fastlynow slowlythere be new messagesplz tell I there be any update option this gmail',\n",
       "  {'Negative': False, 'Neutral': False, 'Positive': True}],\n",
       " ['have not sync since end of august can not access email after that date',\n",
       "  {'Negative': True, 'Neutral': False, 'Positive': False}],\n",
       " ['still need bit of an upgrade to run gmail at one go consecutively but its still must have many like I',\n",
       "  {'Negative': False, 'Neutral': False, 'Positive': True}],\n",
       " ['very good but I have problem I be not get any email through and have try to fix it please help',\n",
       "  {'Negative': False, 'Neutral': False, 'Positive': True}],\n",
       " ['why   be my phone take money from my account show proof that I m on state assistance so I should not have any money take off my account and not get upgrade ethierso please check into it I i d like to get reinversedpsmargaretsanchez',\n",
       "  {'Negative': False, 'Neutral': False, 'Positive': True}],\n",
       " ['I ve be have problem open or even download attachment from this app',\n",
       "  {'Negative': True, 'Neutral': False, 'Positive': False}],\n",
       " ['much simple and easy use everything be clear',\n",
       "  {'Negative': False, 'Neutral': False, 'Positive': True}],\n",
       " ['android gophone gmail lose one of my recent send email very important email its hell',\n",
       "  {'Negative': True, 'Neutral': False, 'Positive': False}],\n",
       " ['please make button empty all email cus its so annoying to be sit there hour just try to delete all of they',\n",
       "  {'Negative': False, 'Neutral': False, 'Positive': True}],\n",
       " ['I find more easy to get job link and invitation through my nail I love the intouch experience',\n",
       "  {'Negative': False, 'Neutral': False, 'Positive': True}],\n",
       " ['it be perfect until when I stop get mail and notification',\n",
       "  {'Negative': False, 'Neutral': True, 'Positive': False}],\n",
       " ['have not have too much experience of it and never you know but we want to see what its like though with gmail go this look like little bit little bit different maybe little bit powerful than what gmail be so let see what we can and hopefully everything will be fun I can tell everybody else about your situation that s good',\n",
       "  {'Negative': True, 'Neutral': False, 'Positive': False}],\n",
       " ['unable to log out of account in app although main account be remove from phone bad ever experience',\n",
       "  {'Negative': True, 'Neutral': False, 'Positive': False}],\n",
       " ['receive I have not use it yet because I be not use to the internet   to learn will be easy but still not in hurry be teach never to hurry thing up',\n",
       "  {'Negative': False, 'Neutral': False, 'Positive': True}],\n",
       " ['my gmail work just perfectly I I be able to everything efficiently thumbs up guy',\n",
       "  {'Negative': False, 'Neutral': False, 'Positive': True}],\n",
       " ['I can not open pdf with vodacom datum it only allow I to open pdf with wifi and be problem to I',\n",
       "  {'Negative': True, 'Neutral': False, 'Positive': False}],\n",
       " ['be crash way to much it use to work just fine',\n",
       "  {'Negative': False, 'Neutral': True, 'Positive': False}],\n",
       " ['I struggle to use gmail but I need it would be easy if someone could show I how to use gmail',\n",
       "  {'Negative': False, 'Neutral': False, 'Positive': True}],\n",
       " ['this app not add new email timeously even notification not popin on my device',\n",
       "  {'Negative': True, 'Neutral': False, 'Positive': False}],\n",
       " ['just learn everything it can dobut so far pretty cooljust wish it work on other device setting and all',\n",
       "  {'Negative': False, 'Neutral': False, 'Positive': True}],\n",
       " ['its be great but now it not send my email of any kind this be terrible',\n",
       "  {'Negative': False, 'Neutral': True, 'Positive': False}],\n",
       " ['other app I can rely upon but long time friend just like mother never quit to guide her songmail go concern ally keep up the good work',\n",
       "  {'Negative': False, 'Neutral': False, 'Positive': True}],\n",
       " ['bad app I not receive notification on the tool bar try all set I know not still work',\n",
       "  {'Negative': True, 'Neutral': False, 'Positive': False}],\n",
       " ['when try to block email or unsubscribe not work still constantly get they throw',\n",
       "  {'Negative': True, 'Neutral': False, 'Positive': False}],\n",
       " ['smart app which can read all mail from all mediait my favourate app',\n",
       "  {'Negative': False, 'Neutral': True, 'Positive': False}],\n",
       " ['it be fast and very simple to use but it have dark mode',\n",
       "  {'Negative': True, 'Neutral': False, 'Positive': False}],\n",
       " ['gmail go be so smart and it provide excellent feature to user friendly',\n",
       "  {'Negative': False, 'Neutral': False, 'Positive': True}],\n",
       " ['instant update on the go and access to document',\n",
       "  {'Negative': False, 'Neutral': False, 'Positive': True}],\n",
       " ['I not answer to anything btw this be wal mart phone by att service so I can not see where the google facebook meta have any kinda of say what I on this phone all video be mark private I not share anything on any site and far I can tell you all can suck it',\n",
       "  {'Negative': False, 'Neutral': False, 'Positive': True}],\n",
       " ['every time I click on an email the app completely close but before it work properly',\n",
       "  {'Negative': False, 'Neutral': True, 'Positive': False}],\n",
       " ['I love the network very much its easy and fast than the other network there be',\n",
       "  {'Negative': False, 'Neutral': False, 'Positive': True}],\n",
       " ['this app assist with all function on my device and answer all my question   newsletter readily available',\n",
       "  {'Negative': False, 'Neutral': False, 'Positive': True}],\n",
       " ['not the bad to use but it can be difficult to open link some time',\n",
       "  {'Negative': False, 'Neutral': True, 'Positive': False}],\n",
       " ['great   app its one of the most reliable app out there today check it out you ll see it your self oh yeah its that great thank again cathy alvarado',\n",
       "  {'Negative': False, 'Neutral': False, 'Positive': True}],\n",
       " ['hello kitty I smoke to much texte reddi I aim in luv with sync synametic of chromecast netflixgoogle adword input thank gdrive support',\n",
       "  {'Negative': False, 'Neutral': False, 'Positive': True}],\n",
       " ['my important mail folder say I have piece of mail but when I open it it be blank and say I m all where s my mail',\n",
       "  {'Negative': True, 'Neutral': False, 'Positive': False}],\n",
       " ['this app be okay the original gmail app more smooth than this on my android go phone',\n",
       "  {'Negative': False, 'Neutral': True, 'Positive': False}],\n",
       " ['very exelling and effective thx very much keep I upted and well inform by right time',\n",
       "  {'Negative': False, 'Neutral': False, 'Positive': True}],\n",
       " ['can not open the all inboxe feature it take time to receive mail',\n",
       "  {'Negative': True, 'Neutral': False, 'Positive': False}],\n",
       " ['why be I get all these nasty spam email   terrible disscusting fix and ill rate well please I never use to get those kind of email',\n",
       "  {'Negative': True, 'Neutral': False, 'Positive': False}],\n",
       " ['this be stupid and come with the phone why not it let I look at all of my un read I m only aloud of they junk freak junk',\n",
       "  {'Negative': True, 'Neutral': False, 'Positive': False}],\n",
       " ['fast and quick in send and receive message across the world',\n",
       "  {'Negative': False, 'Neutral': False, 'Positive': True}],\n",
       " ['hello google gmail go have not have an update since may please update   implement the dark theme',\n",
       "  {'Negative': True, 'Neutral': False, 'Positive': False}],\n",
       " ['great email not everyday junk from hamburger stand etc',\n",
       "  {'Negative': False, 'Neutral': False, 'Positive': True}],\n",
       " ['it be great emailing app and be already prestalle onto your phone this app be neat',\n",
       "  {'Negative': False, 'Neutral': False, 'Positive': True}],\n",
       " ['gmail refuse to open explanation suggestion solution what be you play at google',\n",
       "  {'Negative': True, 'Neutral': False, 'Positive': False}],\n",
       " ['good alot of feature and amenity there new update security',\n",
       "  {'Negative': False, 'Neutral': False, 'Positive': True}],\n",
       " ['everytime I try to open document it take long to fetch attachment',\n",
       "  {'Negative': True, 'Neutral': False, 'Positive': False}],\n",
       " ['make the most of your time get notify of upcoming event create meeting on the go see all your calendar in one place get the app I not want it',\n",
       "  {'Negative': False, 'Neutral': False, 'Positive': True}],\n",
       " ['there be not an uninstall icon there s other one I want to uninstall same thing what can I',\n",
       "  {'Negative': True, 'Neutral': False, 'Positive': False}],\n",
       " ['good and upright and with detailed information and guide to the point',\n",
       "  {'Negative': False, 'Neutral': False, 'Positive': True}],\n",
       " ['I m have problem log into my account I get new phone   number I can not read the message cappatca',\n",
       "  {'Negative': False, 'Neutral': False, 'Positive': True}],\n",
       " ['I can not open all my pdfs it keep on fetch I m miss impotant email   I need help',\n",
       "  {'Negative': True, 'Neutral': False, 'Positive': False}],\n",
       " ['I can not send email every email I send not get deliver and its so annoying',\n",
       "  {'Negative': True, 'Neutral': False, 'Positive': False}],\n",
       " ['well describe it keep on your mail and not let you delete nothing it pile upunlock your email up other than that its pretty cool',\n",
       "  {'Negative': False, 'Neutral': False, 'Positive': True}],\n",
       " ['notificationsone have to open the app first before you know you have mailsquite annoying',\n",
       "  {'Negative': True, 'Neutral': False, 'Positive': False}],\n",
       " ['I like this app it be and take up less space   but please fix the bug',\n",
       "  {'Negative': False, 'Neutral': False, 'Positive': True}],\n",
       " ['this app have be work very well very long time and so easy to use that s why I believe be good it',\n",
       "  {'Negative': False, 'Neutral': False, 'Positive': True}],\n",
       " ['use the gmail app from your google account to log into the world not need to mention people have their own gmail anything be easy to communicate with each other already familiar we use gmail from the instal machine to support less device memory we understand to develop far',\n",
       "  {'Negative': False, 'Neutral': False, 'Positive': True}],\n",
       " ['very goodad be boringwe end up download wrong thingit too much',\n",
       "  {'Negative': False, 'Neutral': False, 'Positive': True}],\n",
       " ['I receive my email immediately and my email be also deliver immediately so easy to use perfect',\n",
       "  {'Negative': False, 'Neutral': False, 'Positive': True}],\n",
       " ['nothing right about this app its still not work and mail can I access',\n",
       "  {'Negative': True, 'Neutral': False, 'Positive': False}],\n",
       " ['just good s regular gmail but please add select all option',\n",
       "  {'Negative': False, 'Neutral': False, 'Positive': True}],\n",
       " ['very convenient   friendly thank the great service provide',\n",
       "  {'Negative': False, 'Neutral': False, 'Positive': True}],\n",
       " ['simple yet effective email app android go edition',\n",
       "  {'Negative': False, 'Neutral': False, 'Positive': True}],\n",
       " ['easy to send all the email   photo   video and what ever we wantthank yougmail',\n",
       "  {'Negative': False, 'Neutral': False, 'Positive': True}],\n",
       " ['I can not open all my pdfs it keep on fetch attachment to availit soo irritate',\n",
       "  {'Negative': True, 'Neutral': False, 'Positive': False}],\n",
       " ['app will not synci have to install regular gmail I also have to force stop this useless app',\n",
       "  {'Negative': True, 'Neutral': False, 'Positive': False}],\n",
       " ['I can not set up email account it want to set up another gmail account and will not set up email account',\n",
       "  {'Negative': False, 'Neutral': False, 'Positive': True}],\n",
       " ['awesome app easy to use it be helpful work fast',\n",
       "  {'Negative': False, 'Neutral': False, 'Positive': True}],\n",
       " ['I have delete an account of mine but its still show in my app I can not remove the address',\n",
       "  {'Negative': True, 'Neutral': False, 'Positive': False}],\n",
       " ['horrible app not load my inbox message correctly and not even load old message',\n",
       "  {'Negative': True, 'Neutral': False, 'Positive': False}],\n",
       " ['I not like any google app with go in it the original be the very good google have to offer',\n",
       "  {'Negative': True, 'Neutral': False, 'Positive': False}],\n",
       " ['nice app but can there be dark mode all andriod version I m use an andriod and the dark mode dosent work it',\n",
       "  {'Negative': False, 'Neutral': True, 'Positive': False}],\n",
       " ['this app be not great app to use if you have need to access your email on the regular this app will not allow you to open your email this app will not update your email from day to day this app be not substitute the original gmail app',\n",
       "  {'Negative': True, 'Neutral': False, 'Positive': False}],\n",
       " ['great experience fast and simple and reliable',\n",
       "  {'Negative': False, 'Neutral': False, 'Positive': True}],\n",
       " ['google go app generally have shallow feature   this be one reason I will avoid android go edition much I can',\n",
       "  {'Negative': True, 'Neutral': False, 'Positive': False}],\n",
       " ['I really not know what I be with it the instruction be simple   easy to follow',\n",
       "  {'Negative': False, 'Neutral': False, 'Positive': True}],\n",
       " ['this be new phone and response seem very slow',\n",
       "  {'Negative': True, 'Neutral': False, 'Positive': False}],\n",
       " ['great app send and receive email doc and photo',\n",
       "  {'Negative': False, 'Neutral': False, 'Positive': True}],\n",
       " ['please I not understand the correct credential and please you should make sure you can click on the sign in',\n",
       "  {'Negative': False, 'Neutral': False, 'Positive': True}],\n",
       " ['same experience still appear and disappearingi think gmail be the good',\n",
       "  {'Negative': True, 'Neutral': False, 'Positive': False}],\n",
       " ['easy to access and with quick responseno ambiguity',\n",
       "  {'Negative': False, 'Neutral': False, 'Positive': True}],\n",
       " ['some time I have problem with my phone or mensssge not send not ring tone I not need gem app I csn not down load then I want delet but I can not pleas give I letgo app I need it I not all those gams app plea',\n",
       "  {'Negative': False, 'Neutral': False, 'Positive': True}],\n",
       " ['I like to get reade of all the extra thing I not need on my phone more space thank you so much',\n",
       "  {'Negative': False, 'Neutral': True, 'Positive': False}],\n",
       " ['very great and excellently good I endorse it all user',\n",
       "  {'Negative': False, 'Neutral': False, 'Positive': True}],\n",
       " ['please try and upgrade the app to make it look more attractive like normal gmail app its great',\n",
       "  {'Negative': False, 'Neutral': True, 'Positive': False}],\n",
       " ['good in receive and send email thank',\n",
       "  {'Negative': False, 'Neutral': False, 'Positive': True}],\n",
       " ['unable to get into my gmail since while either old message or just load what happen',\n",
       "  {'Negative': True, 'Neutral': False, 'Positive': False}],\n",
       " ['seem to change setting by itself I not like peebody in my mind',\n",
       "  {'Negative': True, 'Neutral': False, 'Positive': False}],\n",
       " ['important information regard everything you need to knowit very smart and useful',\n",
       "  {'Negative': False, 'Neutral': False, 'Positive': True}],\n",
       " ['I love this app since use it last year   its easy and fast contact',\n",
       "  {'Negative': False, 'Neutral': True, 'Positive': False}],\n",
       " ['I will rate google mail star be fantastic app I love it simple to use it work perfectly',\n",
       "  {'Negative': False, 'Neutral': False, 'Positive': True}],\n",
       " ['I ve have gmail account year very easy to use the good email site I ve ever use',\n",
       "  {'Negative': False, 'Neutral': False, 'Positive': True}],\n",
       " ['I hate this when I try to register in gd it say that its be send to gmail but when I look it say you ve finish star fix it soon pls',\n",
       "  {'Negative': True, 'Neutral': False, 'Positive': False}],\n",
       " ['well use gmail without this app tbh not improve the ease or accessibility one bit',\n",
       "  {'Negative': True, 'Neutral': False, 'Positive': False}],\n",
       " ['nice but problem when someone send email it take too long to get idont why',\n",
       "  {'Negative': False, 'Neutral': False, 'Positive': True}],\n",
       " ['this app be light and easy to use low device it be perfect email app',\n",
       "  {'Negative': False, 'Neutral': False, 'Positive': True}],\n",
       " ['gmail be not work well l use to get all mail but now its get to let please fix it tank you have good day',\n",
       "  {'Negative': True, 'Neutral': False, 'Positive': False}],\n",
       " ['good app send and receive my email in time',\n",
       "  {'Negative': False, 'Neutral': False, 'Positive': True}],\n",
       " ['app not sync or update email app be garbage',\n",
       "  {'Negative': True, 'Neutral': False, 'Positive': False}],\n",
       " ['can not log in my password be too long this to let I write it and sadly I can not erase it to download the original gmail',\n",
       "  {'Negative': True, 'Neutral': False, 'Positive': False}],\n",
       " ['mail never work and not get new mail ever have to go to my phone browser to get my mail',\n",
       "  {'Negative': True, 'Neutral': False, 'Positive': False}],\n",
       " ['I really like u guy I not any email cause I know its wrong bottom line its simple action I my self only hard feeling I not it more at all',\n",
       "  {'Negative': False, 'Neutral': False, 'Positive': True}],\n",
       " ['nice gmail appbut please google can you put dark mode in the setting in any new version',\n",
       "  {'Negative': False, 'Neutral': True, 'Positive': False}],\n",
       " ['I use it very often it be junky and I not have the complete delete system be you take off all that apply',\n",
       "  {'Negative': False, 'Neutral': False, 'Positive': True}],\n",
       " ['be try to send mail since and it have not go through its just misbehave',\n",
       "  {'Negative': True, 'Neutral': False, 'Positive': False}],\n",
       " ['I be not able to send mail to anyone the bad app',\n",
       "  {'Negative': True, 'Neutral': False, 'Positive': False}],\n",
       " ['of recent be have issue with this app I can not send mail out I can only receive',\n",
       "  {'Negative': True, 'Neutral': False, 'Positive': False}],\n",
       " ['I can not reseave any of my email on this app I ve be try to get an email six digit code from instagram so I can go into my account and the only email I get it from gmail be it ask I to put more of what be happen with my email like how I get that email but not my other email I need back into my insta account that s kinda the only place I can talk to all of my friend and my mental health be not so good at the moment please so just help I get the email',\n",
       "  {'Negative': True, 'Neutral': False, 'Positive': False}],\n",
       " ['not like the fact that google can read my messagesand I would like everything in dark mode',\n",
       "  {'Negative': True, 'Neutral': False, 'Positive': False}],\n",
       " ['I can long open my gmail account access to my email and I not know what s go on',\n",
       "  {'Negative': True, 'Neutral': False, 'Positive': False}],\n",
       " ['very awesome   work really smooth I get my email asap love it',\n",
       "  {'Negative': False, 'Neutral': False, 'Positive': True}],\n",
       " ['great but unable to send email job application',\n",
       "  {'Negative': False, 'Neutral': True, 'Positive': False}],\n",
       " ['good and easy to use but not easy to send ahd video',\n",
       "  {'Negative': False, 'Neutral': True, 'Positive': False}],\n",
       " ['poor service I have not be receive mail and I can not send so boring',\n",
       "  {'Negative': True, 'Neutral': False, 'Positive': False}],\n",
       " ['this app function well in my lava phone but the of gmail still remain same I instal various update of gmail in playstore there be new',\n",
       "  {'Negative': False, 'Neutral': False, 'Positive': True}],\n",
       " ['take up lot less room and be just good the normal one',\n",
       "  {'Negative': False, 'Neutral': False, 'Positive': True}],\n",
       " ['fair the app keep not open update   this get boring',\n",
       "  {'Negative': True, 'Neutral': False, 'Positive': False}],\n",
       " ['I love my gmail because its easy to send email to teacher and other',\n",
       "  {'Negative': False, 'Neutral': False, 'Positive': True}],\n",
       " ['work great fast easy to we great phone',\n",
       "  {'Negative': False, 'Neutral': False, 'Positive': True}],\n",
       " ['fail to download document and send mail update you application',\n",
       "  {'Negative': True, 'Neutral': False, 'Positive': False}],\n",
       " ['well rename snail mail   take age to open and read an email',\n",
       "  {'Negative': True, 'Neutral': False, 'Positive': False}],\n",
       " ['it give all update well the notification be apply',\n",
       "  {'Negative': False, 'Neutral': False, 'Positive': True}],\n",
       " ['miss label on the dashboard like delete all etc can not be deletingeddagrs individually',\n",
       "  {'Negative': True, 'Neutral': False, 'Positive': False}],\n",
       " ['so what you be say be that despite my email be with yahoo since it be now incompatibile so its gmail or nothing thank you shitbag I will not use either and shall go elsewhere',\n",
       "  {'Negative': True, 'Neutral': False, 'Positive': False}],\n",
       " ['yes mam I believe that ms g mail only save I and some how she only some rea on she ms g mail save I some how must have some thing to with church I sure miss go but have not speak to one person in such long time I think I be almost in able to carry on con ationblog lol',\n",
       "  {'Negative': False, 'Neutral': False, 'Positive': True}],\n",
       " ['app crash frequently now can not open what I',\n",
       "  {'Negative': True, 'Neutral': False, 'Positive': False}],\n",
       " ['its possible to be the very good app that you may need or not if you like it be not really like it it might come in handy',\n",
       "  {'Negative': False, 'Neutral': False, 'Positive': True}],\n",
       " ['  gmail always be very very good to I   conway arkansas',\n",
       "  {'Negative': False, 'Neutral': False, 'Positive': True}],\n",
       " ['I love gmail account I also love google play point all my contact and my candy crush saga and everything else   but I not watch movie nor I read',\n",
       "  {'Negative': False, 'Neutral': False, 'Positive': True}],\n",
       " ['I not like it its eat up battery power I want it go and can not uninstall it',\n",
       "  {'Negative': True, 'Neutral': False, 'Positive': False}],\n",
       " ['I have great nice excited experience with all the app and I yeast love they all it get I keep the all day thank you google so much the the help I m very greaful',\n",
       "  {'Negative': False, 'Neutral': False, 'Positive': True}],\n",
       " ['be good untill I lose my phone its hard recovery my account I put in the correct password in my new device but be be ask to enter my security key or login from device I have log in before I need to remind you guy my phone be steal I can not access my account my life worth be at stake please I need help recovery my gmail account you can send code to my because I have retrieve it',\n",
       "  {'Negative': True, 'Neutral': False, 'Positive': False}],\n",
       " ['very very fast good app learn people in the world quickly go get your own now',\n",
       "  {'Negative': False, 'Neutral': False, 'Positive': True}],\n",
       " ['love this application be always update resume attach with quickly access',\n",
       "  {'Negative': False, 'Neutral': False, 'Positive': True}],\n",
       " ['bad news I can not send message with attached file',\n",
       "  {'Negative': True, 'Neutral': False, 'Positive': False}],\n",
       " ['I love this app but few month now I stop receive notification I hope you people can think before download this app',\n",
       "  {'Negative': True, 'Neutral': False, 'Positive': False}],\n",
       " ['good but I hope I can change the swipe action into delete or archive',\n",
       "  {'Negative': False, 'Neutral': True, 'Positive': False}],\n",
       " ['I want to add my email account but there problem if I use my current account to other app they always say use already I have new email always but same I face problem if I make new account always password be my problem always incorrect its I only I want to add my email account',\n",
       "  {'Negative': False, 'Neutral': False, 'Positive': True}],\n",
       " ['my gmailgo account auto synchronisation be off I be unable to check my mail',\n",
       "  {'Negative': True, 'Neutral': False, 'Positive': False}],\n",
       " ['what be happen I can not open the app when I try to get in it suddenly get I out why I have some important work please solve this problem',\n",
       "  {'Negative': False, 'Neutral': True, 'Positive': False}],\n",
       " ['my gmail keep on freezing when I what to read my mail please can you fix my problem now',\n",
       "  {'Negative': True, 'Neutral': False, 'Positive': False}],\n",
       " ['gmail be good app I know you get little spam here in there unwanted outside of that its decent wonderful app',\n",
       "  {'Negative': False, 'Neutral': False, 'Positive': True}],\n",
       " ['I love the ui its just dope likesimple inteface and simple to use',\n",
       "  {'Negative': False, 'Neutral': False, 'Positive': True}],\n",
       " ['it say gmail have stop work whenever you want to open mail',\n",
       "  {'Negative': True, 'Neutral': False, 'Positive': False}],\n",
       " ['can not get my mail keep tell I its have trouble sync',\n",
       "  {'Negative': True, 'Neutral': False, 'Positive': False}],\n",
       " ['it be fine about three year and now just recently I ve not be able to access my mail at all',\n",
       "  {'Negative': False, 'Neutral': False, 'Positive': True}],\n",
       " ['slow and boring and run less than perfect on my cloud mobile device',\n",
       "  {'Negative': True, 'Neutral': False, 'Positive': False}],\n",
       " ['unable to access account info or change password kindly work on it',\n",
       "  {'Negative': True, 'Neutral': False, 'Positive': False}],\n",
       " ['very good and fast to send and receive feedback',\n",
       "  {'Negative': False, 'Neutral': False, 'Positive': True}],\n",
       " ['the go app suck big time even the phone that come with these app',\n",
       "  {'Negative': True, 'Neutral': False, 'Positive': False}],\n",
       " ['uselesswhat rubbishit be not sync properlydelete it out of playstore',\n",
       "  {'Negative': True, 'Neutral': False, 'Positive': False}],\n",
       " ['I can not see video send by othersi not know whypls fix thisthis app be very important to I',\n",
       "  {'Negative': True, 'Neutral': False, 'Positive': False}],\n",
       " ['not open again I not know what happen   always fail to open',\n",
       "  {'Negative': True, 'Neutral': False, 'Positive': False}],\n",
       " ['hello everyone here in   ok   this be I   ok   bye thank   you   I be in search of you the app one g mail   where you be find   n every thing to my persinale android phone   touch screen   thank   you   happy birthday glad to meet you ok   bye',\n",
       "  {'Negative': False, 'Neutral': False, 'Positive': True}],\n",
       " ['it be fine now everytime I try access my email it come out I restart my phone force close the app nothing change',\n",
       "  {'Negative': False, 'Neutral': False, 'Positive': True}],\n",
       " ['not bad change my setting and get right back on track',\n",
       "  {'Negative': False, 'Neutral': False, 'Positive': True}],\n",
       " ['truconnectbravecomgmailcomnotificationsclingermatruconnectbravecomgmailcomnotificationsclingerma',\n",
       "  {'Negative': False, 'Neutral': False, 'Positive': True}],\n",
       " ['comandroidvendingbilling allow the user to purchase item through google play from within this app androidpermissionread_external_storage allow the app to read the content of your sd card androidpermissionwrite_external_storage allow the app to write to the sd card androidpermissioninternet allow the app to create network socket and use custom network protocol the browser and other application provide mean to send datum to the internet so this permission be not require',\n",
       "  {'Negative': True, 'Neutral': False, 'Positive': False}],\n",
       " ['not good expectedi give it only one star simply because I can not open pdf message with this app',\n",
       "  {'Negative': True, 'Neutral': False, 'Positive': False}],\n",
       " ['just explanation why we can not have meet on gmail go like the regular gmail meet app alone be pain in the ass gmail mb   meet gmail go mb meet app mb this be total waste of space I wish we have such option here too',\n",
       "  {'Negative': False, 'Neutral': True, 'Positive': False}],\n",
       " ['gmail work not clear if you clear fault use full to public',\n",
       "  {'Negative': True, 'Neutral': False, 'Positive': False}],\n",
       " ['my phone be android go version so this app inbuildly in my phone and easy to operate it super nice app',\n",
       "  {'Negative': False, 'Neutral': False, 'Positive': True}],\n",
       " ['this be greatapp get thing fast and be very quick',\n",
       "  {'Negative': False, 'Neutral': False, 'Positive': True}],\n",
       " ['good email application I can also use any other type of mail apart from gmail eg yahoo mail',\n",
       "  {'Negative': False, 'Neutral': False, 'Positive': True}],\n",
       " ['not like crash too much like the other google gmail app',\n",
       "  {'Negative': True, 'Neutral': False, 'Positive': False}],\n",
       " ['it keep crash and send I errorsi can not even log in',\n",
       "  {'Negative': True, 'Neutral': False, 'Positive': False}],\n",
       " ['have issue since december the last time I update the app be december so bad',\n",
       "  {'Negative': True, 'Neutral': False, 'Positive': False}],\n",
       " ['be use this app cis that s what my phone come with whenni buy it I use one of my email to open bicrypto app I withdraw satoshi and since then it have refuse to ipen I have try all I could way pls hrlp I',\n",
       "  {'Negative': True, 'Neutral': False, 'Positive': False}],\n",
       " ['too many sexual question and honestly too many silly question like I be pregnant and only   sad if true my son be may I allow he sleep over I have the feeling many fake question',\n",
       "  {'Negative': True, 'Neutral': False, 'Positive': False}],\n",
       " ['the application be really nice but mathematic be not there on the wassce section',\n",
       "  {'Negative': False, 'Neutral': True, 'Positive': False}],\n",
       " ['please improve with dark theme it will be very helpful when I be use at night thank',\n",
       "  {'Negative': False, 'Neutral': False, 'Positive': True}],\n",
       " ['message stop work and will not scnc with all option correct',\n",
       "  {'Negative': True, 'Neutral': False, 'Positive': False}],\n",
       " ['its nice app and great one you get all kind of message',\n",
       "  {'Negative': False, 'Neutral': False, 'Positive': True}],\n",
       " ['important message send right away and able to store future reference',\n",
       "  {'Negative': False, 'Neutral': False, 'Positive': True}],\n",
       " ['my g mail be excellent coz I ve be update abt lot of stuff expecially wth quara it lesrn u lot abt scammer stuff that I be neva awre of I learn thre on quara its great service',\n",
       "  {'Negative': False, 'Neutral': False, 'Positive': True}],\n",
       " ['I not like this appit lot more difficult to use but I can not delete this appthis phone come with this app',\n",
       "  {'Negative': True, 'Neutral': False, 'Positive': False}],\n",
       " ['I can not check my email the app keep freeze',\n",
       "  {'Negative': True, 'Neutral': False, 'Positive': False}],\n",
       " ['I use this app quite oftenl love it only on this phone have I start use emaill not buy online beforereally goodthank youx',\n",
       "  {'Negative': False, 'Neutral': False, 'Positive': True}],\n",
       " ['next to message app and the oblivious app name I be back and forth because be mail be receive anytime and never know what time',\n",
       "  {'Negative': False, 'Neutral': False, 'Positive': True}],\n",
       " ['I ve be receive email from people and business that I not recognize and that I never give they my gmail address how they get my gmail address and why be they advertise my information without my consent',\n",
       "  {'Negative': True, 'Neutral': False, 'Positive': False}],\n",
       " ['very simple friendly and convenient',\n",
       "  {'Negative': False, 'Neutral': False, 'Positive': True}],\n",
       " ['it be work originally but can not sync message now',\n",
       "  {'Negative': True, 'Neutral': False, 'Positive': False}],\n",
       " ['not sync properly or timely cause loss of data',\n",
       "  {'Negative': False, 'Neutral': False, 'Positive': True}],\n",
       " ['easy simple interface and to use',\n",
       "  {'Negative': False, 'Neutral': False, 'Positive': True}],\n",
       " ['I disable my gmail go and instal regular gmail gmail go say I have social message and I keep delete they and they come right back',\n",
       "  {'Negative': True, 'Neutral': False, 'Positive': False}],\n",
       " ['it be easy to manage my email on this app   excellent',\n",
       "  {'Negative': False, 'Neutral': False, 'Positive': True}],\n",
       " ['have it use long enough to rate it t love to all t john1334 màtthew',\n",
       "  {'Negative': False, 'Neutral': False, 'Positive': True}],\n",
       " ['its always notification I be connect everything its never miss anything',\n",
       "  {'Negative': False, 'Neutral': False, 'Positive': True}],\n",
       " ['have not get any off my new notification and I delete what I be suppose to its still will not sync',\n",
       "  {'Negative': True, 'Neutral': False, 'Positive': False}],\n",
       " ['email from google the gmail you love now light and just fast enjoy smart inbox that keep your message safe and you organise receive notification when email arrive then read and respond both online   offline plus find message quickly with powerful search and lot more with gmail go you ll enjoy   smart inbox   focus on message from friend and family first while social and promotional email be categorise neatly when you have time   less spam   your account s',\n",
       "  {'Negative': False, 'Neutral': True, 'Positive': False}],\n",
       " ['bad can fix my sync have everything from restart to update nothing',\n",
       "  {'Negative': True, 'Neutral': False, 'Positive': False}],\n",
       " ['this app totally sux my email disappear totally suck',\n",
       "  {'Negative': True, 'Neutral': False, 'Positive': False}],\n",
       " ['very good appbit I have not try to use to send photo may I will one day',\n",
       "  {'Negative': False, 'Neutral': False, 'Positive': True}],\n",
       " ['unable to attach file which need to this something very important deal with',\n",
       "  {'Negative': True, 'Neutral': False, 'Positive': False}],\n",
       " ['I ve always love gmail and this update version be goodeasy to understand',\n",
       "  {'Negative': False, 'Neutral': False, 'Positive': True}],\n",
       " ['very useful app very easy to use I m very satisfied',\n",
       "  {'Negative': False, 'Neutral': False, 'Positive': True}],\n",
       " ['I be satisfied until the app shut down and my mail stop come in',\n",
       "  {'Negative': False, 'Neutral': False, 'Positive': True}],\n",
       " ['I m new to this application but I can state how I quite like gmail on other device and hop it will perform similarly',\n",
       "  {'Negative': False, 'Neutral': False, 'Positive': True}],\n",
       " ['always easy to use I have several gmail account and be very happy with all of they',\n",
       "  {'Negative': False, 'Neutral': False, 'Positive': True}],\n",
       " ['be ok but atime be annoying because it can hide mail long plz I want you guy to upgrade',\n",
       "  {'Negative': True, 'Neutral': False, 'Positive': False}],\n",
       " ['my gmail app be amazing I spend more time on it than anything other app   and now it stop I can not substitute this app any other how I get it to start work again',\n",
       "  {'Negative': False, 'Neutral': False, 'Positive': True}],\n",
       " ['my app will not update or work I m lock out of my gmail',\n",
       "  {'Negative': True, 'Neutral': False, 'Positive': False}],\n",
       " ['this app be so good and fast to upload and sync email',\n",
       "  {'Negative': False, 'Neutral': False, 'Positive': True}],\n",
       " ['everytime I download an attachment it take very long',\n",
       "  {'Negative': True, 'Neutral': False, 'Positive': False}],\n",
       " ['it will not sync booo plus it will not let I get rid of it so I can get my email',\n",
       "  {'Negative': True, 'Neutral': False, 'Positive': False}],\n",
       " ['thank effort develop this great app I think I not have any complain about the app',\n",
       "  {'Negative': False, 'Neutral': False, 'Positive': True}],\n",
       " ['its great messinge mate but somehow I can not log out of my account even if I go to manage account',\n",
       "  {'Negative': False, 'Neutral': True, 'Positive': False}],\n",
       " ['please add the feature if the receiver have see the message   on the sender side it should show or notify the sender have receive the message',\n",
       "  {'Negative': False, 'Neutral': False, 'Positive': True}],\n",
       " ['this app be really svck I try log in my gmail account and it always say wrong password even if its not geezzzz',\n",
       "  {'Negative': True, 'Neutral': False, 'Positive': False}],\n",
       " ['I ve miss use this service ever since I loss my password to google   have to recreate new account',\n",
       "  {'Negative': False, 'Neutral': False, 'Positive': True}],\n",
       " ['great app love the gb of extra space',\n",
       "  {'Negative': False, 'Neutral': False, 'Positive': True}],\n",
       " ['now its add dark mode and other feature its look like gmail',\n",
       "  {'Negative': False, 'Neutral': False, 'Positive': True}],\n",
       " ['app keep stop and can not fix the problem',\n",
       "  {'Negative': True, 'Neutral': False, 'Positive': False}],\n",
       " ['automaticly sign into an account that be not mine will not let I remove the it sign intoand it will not let I put in my account',\n",
       "  {'Negative': True, 'Neutral': False, 'Positive': False}],\n",
       " ['remove the previous app please its long active unable to receive mail',\n",
       "  {'Negative': False, 'Neutral': True, 'Positive': False}],\n",
       " ['app will not let I in timer go round and round forever',\n",
       "  {'Negative': True, 'Neutral': False, 'Positive': False}],\n",
       " ['its not work after the software update please the needful',\n",
       "  {'Negative': True, 'Neutral': False, 'Positive': False}],\n",
       " ['take so getting use too but I love how much more memory space my phone have',\n",
       "  {'Negative': False, 'Neutral': False, 'Positive': True}],\n",
       " ['I m not able to download image and pdfand also not able to send they',\n",
       "  {'Negative': False, 'Neutral': True, 'Positive': False}],\n",
       " ['so far so good I get email through this app I be happy with it probleme',\n",
       "  {'Negative': False, 'Neutral': False, 'Positive': True}],\n",
       " ['gmail llc on google app store be with new age g polution smartphone its noisy reminder not run well with gooogle porotection   privacy policeys be set up acomplice oowner_error and be completley show my contact with private google gmail account not sufficet this girlscout',\n",
       "  {'Negative': True, 'Neutral': False, 'Positive': False}],\n",
       " ['nice app it be easy to use secure and fast',\n",
       "  {'Negative': False, 'Neutral': False, 'Positive': True}],\n",
       " ['gmail be top notchif you know how to use it correctlyim still learn how tobut complication here at the moment',\n",
       "  {'Negative': False, 'Neutral': False, 'Positive': True}],\n",
       " ['my husband and I use this alot it be easy I to see what I miss later keep I regina russells wife inform with what I miss theu out the day',\n",
       "  {'Negative': False, 'Neutral': False, 'Positive': True}],\n",
       " ['the app keep force stop on my phone can not use it',\n",
       "  {'Negative': True, 'Neutral': False, 'Positive': False}],\n",
       " ['everything that be require still not sync',\n",
       "  {'Negative': True, 'Neutral': False, 'Positive': False}],\n",
       " ['can not detect other email I its outlook',\n",
       "  {'Negative': True, 'Neutral': False, 'Positive': False}],\n",
       " ['very convenient business   share document',\n",
       "  {'Negative': False, 'Neutral': False, 'Positive': True}],\n",
       " ['app keep stop and shut down can not check anything',\n",
       "  {'Negative': True, 'Neutral': False, 'Positive': False}],\n",
       " ['I love the experience that come with it now I must another account due from the fact that I lose my number',\n",
       "  {'Negative': False, 'Neutral': False, 'Positive': True}],\n",
       " ['terrible so far the app just stop take new email',\n",
       "  {'Negative': True, 'Neutral': False, 'Positive': False}],\n",
       " ['really need update and bug fix',\n",
       "  {'Negative': True, 'Neutral': False, 'Positive': False}],\n",
       " ['my gmail be misbehave I can not open to send message',\n",
       "  {'Negative': True, 'Neutral': False, 'Positive': False}],\n",
       " ['keep close down soon I open the app',\n",
       "  {'Negative': True, 'Neutral': False, 'Positive': False}],\n",
       " ['this my favourite app to informed I to my profile and datum saving help to keep square',\n",
       "  {'Negative': False, 'Neutral': False, 'Positive': True}],\n",
       " ['most of my email not come through like they normally this have be go on over month now',\n",
       "  {'Negative': True, 'Neutral': False, 'Positive': False}],\n",
       " ['it be great only take few minute and it be very knowledgeable I feel like I something great thks offer to I j m',\n",
       "  {'Negative': False, 'Neutral': False, 'Positive': True}],\n",
       " ['god how I wish I never update this app now I can not create new gmail account myself and my friend again',\n",
       "  {'Negative': True, 'Neutral': False, 'Positive': False}],\n",
       " ['this app suck option to uninstall not sync',\n",
       "  {'Negative': True, 'Neutral': False, 'Positive': False}],\n",
       " ['this app be upgrade and easly to use thank you guy really help we to keep our document safe',\n",
       "  {'Negative': False, 'Neutral': True, 'Positive': False}],\n",
       " ['news collector be more essential caring all news app',\n",
       "  {'Negative': False, 'Neutral': False, 'Positive': True}],\n",
       " ['helpful and informative and useful and important to use in many way',\n",
       "  {'Negative': False, 'Neutral': False, 'Positive': True}],\n",
       " ['I m new one to operate touch creen mobile phone to interest of pick up picture and poster',\n",
       "  {'Negative': False, 'Neutral': True, 'Positive': False}],\n",
       " ['I need dark theme in the app my phone not have systemwide dark theme',\n",
       "  {'Negative': False, 'Neutral': True, 'Positive': False}],\n",
       " ['I ve try to backup my gmail but its working in my old phone not the one I try move it to',\n",
       "  {'Negative': True, 'Neutral': False, 'Positive': False}],\n",
       " ['very good and reliable to remote location',\n",
       "  {'Negative': False, 'Neutral': False, 'Positive': True}],\n",
       " ['this app I can not receive my email and be not give I feedback when I send msg',\n",
       "  {'Negative': True, 'Neutral': False, 'Positive': False}],\n",
       " ['I be get my mail read by other on my line and that I be sure have my account and email and phone   great while now please keep an watch out on my only my email account I talk to carrier on another phone about it check on thank you',\n",
       "  {'Negative': False, 'Neutral': False, 'Positive': True}],\n",
       " ['auto close all google app not work properly',\n",
       "  {'Negative': True, 'Neutral': False, 'Positive': False}],\n",
       " ['not able to download image from my mailfix this issue asap star',\n",
       "  {'Negative': True, 'Neutral': False, 'Positive': False}],\n",
       " ['perfect I I have every core feature I need its just blessing',\n",
       "  {'Negative': False, 'Neutral': False, 'Positive': True}],\n",
       " ['easily hackable my whole google account be hack by an evil old lady',\n",
       "  {'Negative': False, 'Neutral': False, 'Positive': True}],\n",
       " ['I like the app because I can write name in it and it find they I',\n",
       "  {'Negative': False, 'Neutral': False, 'Positive': True}],\n",
       " ['why google go app line up not get any timely update compare to the main one why google why',\n",
       "  {'Negative': True, 'Neutral': False, 'Positive': False}],\n",
       " ['it really nice to make use of gmail when you lose all contact you can use gmail to get it back',\n",
       "  {'Negative': False, 'Neutral': True, 'Positive': False}],\n",
       " ['I can not connect to the appit keeps say that google have stop',\n",
       "  {'Negative': False, 'Neutral': False, 'Positive': True}],\n",
       " ['will not allow I to open sny email show I they but refuse to open they',\n",
       "  {'Negative': True, 'Neutral': False, 'Positive': False}],\n",
       " ['gogogo performance app love it windrew',\n",
       "  {'Negative': False, 'Neutral': False, 'Positive': True}],\n",
       " ['I not use it that much but there s not too much of difference between this and the regular but I have problem with',\n",
       "  {'Negative': False, 'Neutral': False, 'Positive': True}],\n",
       " ['nice but the fact I can not mark multiple mail read all at once suck',\n",
       "  {'Negative': False, 'Neutral': True, 'Positive': False}],\n",
       " ['not my problem or concern anymore wish you well and want the good those who learn understand I ve become little more understanding to why the hatred exist hopefully understanding will come well not my call yours but wish you well beautifully and uniquely make   you truly be',\n",
       "  {'Negative': False, 'Neutral': False, 'Positive': True}],\n",
       " ['its great way to send and receive free message',\n",
       "  {'Negative': False, 'Neutral': False, 'Positive': True}],\n",
       " ['yes this app have useful notificationz google everything be beautiful thank gmail too',\n",
       "  {'Negative': False, 'Neutral': False, 'Positive': True}],\n",
       " ['great lifeline I wish I could click on one spam mail all these life in gutter cleaner and delete and stop they in one click',\n",
       "  {'Negative': False, 'Neutral': False, 'Positive': True}],\n",
       " ['not too happy with this app not notify I when I receive mail',\n",
       "  {'Negative': True, 'Neutral': False, 'Positive': False}],\n",
       " ['it be very helpful to I when find direction',\n",
       "  {'Negative': False, 'Neutral': False, 'Positive': True}],\n",
       " ['gmail take you thru to many change while use ur original passwordthey want you to change your password non stop   update your system and people not need two username an different password   non sense',\n",
       "  {'Negative': True, 'Neutral': False, 'Positive': False}],\n",
       " ['the ad in the promotion folder be unnecessary',\n",
       "  {'Negative': True, 'Neutral': False, 'Positive': False}],\n",
       " ['welcome to gboard clipboard any text you copy will be save here_chat',\n",
       "  {'Negative': False, 'Neutral': False, 'Positive': True}],\n",
       " ['good and helpful   hope that be go to be safe and easy to use it to google information like job recruitment site',\n",
       "  {'Negative': False, 'Neutral': False, 'Positive': True}],\n",
       " ['my mail not send   if I attach any file like pic   resume',\n",
       "  {'Negative': True, 'Neutral': False, 'Positive': False}],\n",
       " ['I totally agree with starr valdez I be frustrate by these lite version of the google app what be there purpose the user',\n",
       "  {'Negative': True, 'Neutral': False, 'Positive': False}],\n",
       " ['I be learn to work my phone thank mr andy it be the good thing that I have be try to get in touch with technology',\n",
       "  {'Negative': False, 'Neutral': False, 'Positive': True}],\n",
       " ['I have not have any bad experience an have be use this email while',\n",
       "  {'Negative': False, 'Neutral': False, 'Positive': True}],\n",
       " ['I use wrong number on this email can you help I change itthank you the feedback but some email I not receive like the pay slip',\n",
       "  {'Negative': False, 'Neutral': False, 'Positive': True}],\n",
       " ['its nice app compare to the way it hold info I rill like it moob keep it update',\n",
       "  {'Negative': False, 'Neutral': False, 'Positive': True}],\n",
       " ['I m not sure what s the problem with my account but I m not able to send any email',\n",
       "  {'Negative': False, 'Neutral': True, 'Positive': False}],\n",
       " ['downly bad app can not read or get new email',\n",
       "  {'Negative': True, 'Neutral': False, 'Positive': False}],\n",
       " ['your mail be sort and put together in alfabeltical order and its update to',\n",
       "  {'Negative': False, 'Neutral': False, 'Positive': True}],\n",
       " ['brilliant thank the use of this app thank you guy not really use this app lot but when I use it it work great cheer guy',\n",
       "  {'Negative': False, 'Neutral': False, 'Positive': True}],\n",
       " ['I have not be able to send nor receive anything I not know why but all in all excellent',\n",
       "  {'Negative': False, 'Neutral': True, 'Positive': False}],\n",
       " ['brilliant app all my email in one place work perfectly',\n",
       "  {'Negative': False, 'Neutral': False, 'Positive': True}],\n",
       " ['very secure fast effective and easy to use',\n",
       "  {'Negative': False, 'Neutral': False, 'Positive': True}],\n",
       " ['it use to work very good but not it not update my email what can I e5 motorola',\n",
       "  {'Negative': True, 'Neutral': False, 'Positive': False}],\n",
       " ['I have issue log into my mail and I have something very important to get on it please kindly help out soon possible its urgent',\n",
       "  {'Negative': True, 'Neutral': False, 'Positive': False}],\n",
       " ['this app be really terrible that s all I can say absolutely terrible',\n",
       "  {'Negative': True, 'Neutral': False, 'Positive': False}],\n",
       " ['the app be good but my server be not connect more than month now',\n",
       "  {'Negative': True, 'Neutral': False, 'Positive': False}],\n",
       " ['what s up with all this flash in and out whenever I try to open up an email now',\n",
       "  {'Negative': False, 'Neutral': True, 'Positive': False}],\n",
       " ['gmail have biutifull work welove u all people with batter way and quick to use it',\n",
       "  {'Negative': False, 'Neutral': False, 'Positive': True}],\n",
       " ['easy to understand and fast thank you',\n",
       "  {'Negative': False, 'Neutral': False, 'Positive': True}],\n",
       " ['it be work perfectly but now it force close anytime I open',\n",
       "  {'Negative': False, 'Neutral': False, 'Positive': True}],\n",
       " ['can not access my email it not function very well not work',\n",
       "  {'Negative': True, 'Neutral': False, 'Positive': False}],\n",
       " ['kindly improve on show we the deliver message notification blue tick',\n",
       "  {'Negative': False, 'Neutral': True, 'Positive': False}],\n",
       " ['attechment be not open notification also not show',\n",
       "  {'Negative': True, 'Neutral': False, 'Positive': False}],\n",
       " ['bruh gmail be get bad and bad when I click it bam close l ple devs fix this',\n",
       "  {'Negative': True, 'Neutral': False, 'Positive': False}],\n",
       " ['will not receive email anymore because it will long sync',\n",
       "  {'Negative': True, 'Neutral': False, 'Positive': False}],\n",
       " ['need to be improve in use mean send and receive message',\n",
       "  {'Negative': False, 'Neutral': False, 'Positive': True}],\n",
       " ['this app be fast and helpful to I that s why I rate star',\n",
       "  {'Negative': False, 'Neutral': False, 'Positive': True}],\n",
       " ['not work have to download gmail to get and open my mail',\n",
       "  {'Negative': True, 'Neutral': False, 'Positive': False}],\n",
       " ['I hate it why can not you delete everything at once instead of one at time and I have so many I not want or use',\n",
       "  {'Negative': True, 'Neutral': False, 'Positive': False}],\n",
       " ['not want to have two of the same app why can not I get rid of I so irritate',\n",
       "  {'Negative': True, 'Neutral': False, 'Positive': False}],\n",
       " ['worthless especially when you have regular gmail   unnecessary app',\n",
       "  {'Negative': True, 'Neutral': False, 'Positive': False}],\n",
       " ['you offer good service and in fast mode',\n",
       "  {'Negative': False, 'Neutral': False, 'Positive': True}],\n",
       " ['it will not sync I can not even get email have not have any in whole month',\n",
       "  {'Negative': True, 'Neutral': False, 'Positive': False}],\n",
       " ['not work right sometimes it will not even open what s up',\n",
       "  {'Negative': True, 'Neutral': False, 'Positive': False}],\n",
       " ['yes I ve ben try month now to get an account back and have luckor have any of your help site work at allthere recover page that you keep say that ill go tothere nothingmy google account ben hack and helphmm',\n",
       "  {'Negative': True, 'Neutral': False, 'Positive': False}],\n",
       " ['why be it that all my old delete email keep on appear in my inbox and I keep on delete thememail from more than year agoplease help',\n",
       "  {'Negative': False, 'Neutral': False, 'Positive': True}],\n",
       " ['its kool but I like the outer gmail app more wish I could delete this one off my phone',\n",
       "  {'Negative': False, 'Neutral': False, 'Positive': True}],\n",
       " ['from all the google go only one I like thatmake sense and work like it state',\n",
       "  {'Negative': False, 'Neutral': False, 'Positive': True}],\n",
       " ['can not even uninstall it its more like virus then an app',\n",
       "  {'Negative': True, 'Neutral': False, 'Positive': False}],\n",
       " ['good experience gmail go   fast   secure the gmail go on mobile messaging thank',\n",
       "  {'Negative': False, 'Neutral': False, 'Positive': True}],\n",
       " ['should be able to block email not wantedlike you can on block caller',\n",
       "  {'Negative': False, 'Neutral': True, 'Positive': False}],\n",
       " ['easy and to the point everything be very clear I love it',\n",
       "  {'Negative': False, 'Neutral': False, 'Positive': True}],\n",
       " ['excellent app alert I more on sparm email',\n",
       "  {'Negative': False, 'Neutral': False, 'Positive': True}],\n",
       " ['app be fine but please bring dark mode bcoz most app have get dark mode by now',\n",
       "  {'Negative': True, 'Neutral': False, 'Positive': False}],\n",
       " ['make easy fast to communicate with the institution',\n",
       "  {'Negative': False, 'Neutral': False, 'Positive': True}],\n",
       " ['very reliable and dependable',\n",
       "  {'Negative': False, 'Neutral': False, 'Positive': True}],\n",
       " ['its literally gmail without that meet feature that nobody have ever use',\n",
       "  {'Negative': False, 'Neutral': False, 'Positive': True}],\n",
       " ['it be good but it will be well if dark mode will be make available',\n",
       "  {'Negative': True, 'Neutral': False, 'Positive': False}],\n",
       " ['it keep cut out say gmail not work or will not load',\n",
       "  {'Negative': True, 'Neutral': False, 'Positive': False}],\n",
       " ['keep fail on download difficult to obtain update',\n",
       "  {'Negative': True, 'Neutral': False, 'Positive': False}],\n",
       " ['I not use it I not want it it take up space I use browser my goodness google so in secure you be',\n",
       "  {'Negative': True, 'Neutral': False, 'Positive': False}],\n",
       " ['I can not use the mail to confirm link this be bad',\n",
       "  {'Negative': True, 'Neutral': False, 'Positive': False}],\n",
       " ['easy to navigate and keep you up to date',\n",
       "  {'Negative': False, 'Neutral': False, 'Positive': True}],\n",
       " ['work good I need to up grade my google and set to my gmail setting',\n",
       "  {'Negative': False, 'Neutral': False, 'Positive': True}],\n",
       " ['I ve try to send my email but it got stick in the outbox be there anything l can to let it send',\n",
       "  {'Negative': True, 'Neutral': False, 'Positive': False}],\n",
       " ['averagebut the spam ad be irritate',\n",
       "  {'Negative': True, 'Neutral': False, 'Positive': False}],\n",
       " ['I be annoy that bahasa malyu be still be the prime language to login instead of   english',\n",
       "  {'Negative': True, 'Neutral': False, 'Positive': False}],\n",
       " ['love this app easy few add and convenient',\n",
       "  {'Negative': False, 'Neutral': False, 'Positive': True}],\n",
       " ['stupid app I m receive the message I send feedback also very bad',\n",
       "  {'Negative': True, 'Neutral': False, 'Positive': False}],\n",
       " ['it its not recognize when I try to share anything that I find on the internet my email will not connect to anything and I try yahoo email and they want to pay I money to get back in my account make it user friendly please I m year old and I m lose my mind with this stupid phone',\n",
       "  {'Negative': True, 'Neutral': False, 'Positive': False}],\n",
       " ['great app fast access to your email',\n",
       "  {'Negative': False, 'Neutral': False, 'Positive': True}],\n",
       " ['it have be wonderful use gmail easy and fast',\n",
       "  {'Negative': False, 'Neutral': False, 'Positive': True}],\n",
       " ['why this app say last use min ago when I have never access my gmail account via this appever',\n",
       "  {'Negative': True, 'Neutral': False, 'Positive': False}],\n",
       " ['I keep get trashy ass email from adult sex meet website I be not sign up I unscribe and keep get email my child use this phone to so they need to stop',\n",
       "  {'Negative': True, 'Neutral': False, 'Positive': False}],\n",
       " ['why if message be send to my gmail I not use to see it onless I m inside the appplease help',\n",
       "  {'Negative': True, 'Neutral': False, 'Positive': False}],\n",
       " ['its nice but I would love dark mode to be available it',\n",
       "  {'Negative': False, 'Neutral': False, 'Positive': True}],\n",
       " ['it be sometimes slow not delete all email after I delete they',\n",
       "  {'Negative': True, 'Neutral': False, 'Positive': False}],\n",
       " ['well I use gmail be all my internet account login I have not encounter any problem',\n",
       "  {'Negative': True, 'Neutral': False, 'Positive': False}],\n",
       " ['after month use it it stop work I get all my important stuff from hear what be you',\n",
       "  {'Negative': True, 'Neutral': False, 'Positive': False}],\n",
       " ['the app be really goodbut all of sudden it keep stop',\n",
       "  {'Negative': True, 'Neutral': False, 'Positive': False}],\n",
       " ['useless can not even access gmail from app',\n",
       "  {'Negative': True, 'Neutral': False, 'Positive': False}],\n",
       " ['not give notification and crash much more',\n",
       "  {'Negative': True, 'Neutral': False, 'Positive': False}],\n",
       " ['why I have to reload this app I ve get it already exactly the same one',\n",
       "  {'Negative': True, 'Neutral': False, 'Positive': False}],\n",
       " ['apk perfect good keep it up thank',\n",
       "  {'Negative': False, 'Neutral': False, 'Positive': True}],\n",
       " ['update to my app good compact fix',\n",
       "  {'Negative': False, 'Neutral': False, 'Positive': True}],\n",
       " ['google play be now break now we have or different version of this sodding app',\n",
       "  {'Negative': False, 'Neutral': True, 'Positive': False}],\n",
       " ['very helpful send and receive mail',\n",
       "  {'Negative': False, 'Neutral': False, 'Positive': True}],\n",
       " ['audit scammer highjack sign in phone number and security code want my account recovery revoke on reissue code and still unable to get in my gmail',\n",
       "  {'Negative': True, 'Neutral': False, 'Positive': False}],\n",
       " ['very good problem keep up the good work',\n",
       "  {'Negative': False, 'Neutral': False, 'Positive': True}],\n",
       " ['I havei like what it till its stop sync on my smartphone',\n",
       "  {'Negative': False, 'Neutral': True, 'Positive': False}],\n",
       " ['I can not not seem to send email I not know what be happen with my account',\n",
       "  {'Negative': False, 'Neutral': True, 'Positive': False}],\n",
       " ['nice work app secure   protect',\n",
       "  {'Negative': False, 'Neutral': False, 'Positive': True}],\n",
       " ['syncing error message have be come up today',\n",
       "  {'Negative': False, 'Neutral': False, 'Positive': True}],\n",
       " ['it show all the information and its very fast',\n",
       "  {'Negative': False, 'Neutral': False, 'Positive': True}],\n",
       " ['it be manageable and easy to use',\n",
       "  {'Negative': False, 'Neutral': False, 'Positive': True}],\n",
       " ['slow always shut down and block email fromsende',\n",
       "  {'Negative': False, 'Neutral': True, 'Positive': False}],\n",
       " ['begin crash after update approx week ago',\n",
       "  {'Negative': True, 'Neutral': False, 'Positive': False}],\n",
       " ['please help I to block some email source I not like to receive it any more',\n",
       "  {'Negative': False, 'Neutral': False, 'Positive': True}],\n",
       " ['very slow app it work very very slow',\n",
       "  {'Negative': True, 'Neutral': False, 'Positive': False}],\n",
       " ['will not sync load or send email',\n",
       "  {'Negative': True, 'Neutral': False, 'Positive': False}],\n",
       " ['begin to get more and more scam email and hack email than normal',\n",
       "  {'Negative': True, 'Neutral': False, 'Positive': False}],\n",
       " ['let ve it have multiple account can view all or individual even seperate catagorie many well improvement',\n",
       "  {'Negative': False, 'Neutral': False, 'Positive': True}],\n",
       " ['it look great to I I feel about it and I be like that can be with everything',\n",
       "  {'Negative': False, 'Neutral': False, 'Positive': True}],\n",
       " ['great and very usefull app in way social communication all netizen like I',\n",
       "  {'Negative': False, 'Neutral': True, 'Positive': False}],\n",
       " ['good but sync all the time',\n",
       "  {'Negative': False, 'Neutral': False, 'Positive': True}],\n",
       " ['I try to add my apple account it not let I I try add my personal email with the domain purchase and set up by google and I pay google monthly I could not even yahoo it not let I this be my first android phone so far lousy experience guy stick to apple',\n",
       "  {'Negative': True, 'Neutral': False, 'Positive': False}],\n",
       " ['it wonderful app indeed and I enjoy use it ornestly   it amazing app indeed',\n",
       "  {'Negative': False, 'Neutral': False, 'Positive': True}],\n",
       " ['awesome service and assistance great',\n",
       "  {'Negative': False, 'Neutral': False, 'Positive': True}],\n",
       " ['great flexibility in service',\n",
       "  {'Negative': False, 'Neutral': False, 'Positive': True}],\n",
       " ['good when in time of need it have rescue I from waste my time and money',\n",
       "  {'Negative': False, 'Neutral': False, 'Positive': True}],\n",
       " ['definitely gmail person that s always on the go work great',\n",
       "  {'Negative': False, 'Neutral': False, 'Positive': True}],\n",
       " ['hack account email never go to receive draft hide and all other way to take my mail recover all hack yrs play protect',\n",
       "  {'Negative': False, 'Neutral': False, 'Positive': True}],\n",
       " ['the gmail be good but I be have problem now I can not search someone on gmail and if tell my friend to search I they can not find I pls I not know be why so',\n",
       "  {'Negative': True, 'Neutral': False, 'Positive': False}],\n",
       " ['I like the simple thing that help I stay organized',\n",
       "  {'Negative': False, 'Neutral': False, 'Positive': True}],\n",
       " ['its good app cause I need my gmail to get email and its easy to use',\n",
       "  {'Negative': False, 'Neutral': False, 'Positive': True}],\n",
       " ['be fast good but sometimes I find difficulty in get into my account mail',\n",
       "  {'Negative': False, 'Neutral': True, 'Positive': False}],\n",
       " ['I try to log in to another account it work but it get stick in get your message',\n",
       "  {'Negative': True, 'Neutral': False, 'Positive': False}],\n",
       " ['its very good but my problem be that it keep on stop when I recently update it',\n",
       "  {'Negative': False, 'Neutral': True, 'Positive': False}],\n",
       " ['too much mail that I m have too much problem access and sort',\n",
       "  {'Negative': True, 'Neutral': False, 'Positive': False}],\n",
       " ['work I and it just keep get well thank you google devs',\n",
       "  {'Negative': False, 'Neutral': False, 'Positive': True}],\n",
       " ['low memory thank you ad',\n",
       "  {'Negative': False, 'Neutral': False, 'Positive': True}],\n",
       " ['use the app be quite easy and simple to use it again all of my stuff today and tomorrow and I will take it to the way thing be good I',\n",
       "  {'Negative': False, 'Neutral': False, 'Positive': True}],\n",
       " ['its not work at all not get any email',\n",
       "  {'Negative': True, 'Neutral': False, 'Positive': False}],\n",
       " ['not work I on the public library computer',\n",
       "  {'Negative': True, 'Neutral': False, 'Positive': False}],\n",
       " ['be still struggle with google pay to I not know or rememberin the google pay account or pass word account I receive an email massage say the note that I have google pay so to cl my google pay statement I personally not know what to need help pls thank',\n",
       "  {'Negative': False, 'Neutral': False, 'Positive': True}],\n",
       " ['alright but I m not the big fan of any of the go app by google I not really see the point',\n",
       "  {'Negative': False, 'Neutral': False, 'Positive': True}],\n",
       " ['great app but we need upgrade thank you',\n",
       "  {'Negative': False, 'Neutral': False, 'Positive': True}],\n",
       " ['look to understand the app well and learn to navigate it much well',\n",
       "  {'Negative': False, 'Neutral': True, 'Positive': False}],\n",
       " ['fix your app I m unable to receive nor send email',\n",
       "  {'Negative': True, 'Neutral': False, 'Positive': False}],\n",
       " ['not sure much can not be reveal without study complete ly',\n",
       "  {'Negative': False, 'Neutral': True, 'Positive': False}],\n",
       " ['the good experience with email everi so love this app',\n",
       "  {'Negative': False, 'Neutral': False, 'Positive': True}],\n",
       " ['I love gmail go it be lot like gmail just fast',\n",
       "  {'Negative': False, 'Neutral': False, 'Positive': True}],\n",
       " ['quit show any email but always shows99 email',\n",
       "  {'Negative': True, 'Neutral': False, 'Positive': False}],\n",
       " ['this app continue to charge my bank account when I not buy anything with my bank card so I have hereby cancel my bank card',\n",
       "  {'Negative': True, 'Neutral': False, 'Positive': False}],\n",
       " ['quick and reliable and extra secure so I should not have to sue',\n",
       "  {'Negative': False, 'Neutral': False, 'Positive': True}],\n",
       " ['google your team be absolutely the good at make reassuring   predictable move the uneducated nerd I ve learn any script be possible long   have big g backin your   can be what be acceptable nothing more',\n",
       "  {'Negative': False, 'Neutral': False, 'Positive': True}],\n",
       " ['very fast sender and receiver of message',\n",
       "  {'Negative': False, 'Neutral': False, 'Positive': True}],\n",
       " ['I like the app   though I have to ask be it possible to search through your mailbox by month or year',\n",
       "  {'Negative': False, 'Neutral': False, 'Positive': True}],\n",
       " ['its work very well and I be impressed with its facilityes',\n",
       "  {'Negative': False, 'Neutral': False, 'Positive': True}],\n",
       " ['terribleit keeps close by itself',\n",
       "  {'Negative': True, 'Neutral': False, 'Positive': False}],\n",
       " ['make my business easy but sometimes too much unwanted mail',\n",
       "  {'Negative': False, 'Neutral': False, 'Positive': True}],\n",
       " ['very nice and good smooth applicational gmail app',\n",
       "  {'Negative': False, 'Neutral': False, 'Positive': True}],\n",
       " ['not bad secure and easy to use',\n",
       "  {'Negative': False, 'Neutral': False, 'Positive': True}],\n",
       " ['where to start this app keep you connect to everything you be interested in great job guy',\n",
       "  {'Negative': False, 'Neutral': False, 'Positive': True}],\n",
       " ['speed and very easy to use its the good gmail go app',\n",
       "  {'Negative': False, 'Neutral': False, 'Positive': True}],\n",
       " ['unable to attach any kind of file',\n",
       "  {'Negative': False, 'Neutral': True, 'Positive': False}],\n",
       " ['this very fast and very useful in get the recent security activity on google account',\n",
       "  {'Negative': False, 'Neutral': False, 'Positive': True}],\n",
       " ['excellent except that I could not retrieve my message',\n",
       "  {'Negative': False, 'Neutral': False, 'Positive': True}],\n",
       " ['great to keep up with email brilliant and fantastic thank',\n",
       "  {'Negative': False, 'Neutral': False, 'Positive': True}],\n",
       " ['actually I give it four star because I not receive message on gmail fast I need it',\n",
       "  {'Negative': False, 'Neutral': False, 'Positive': True}],\n",
       " ['be helpfull way of suche news',\n",
       "  {'Negative': False, 'Neutral': False, 'Positive': True}],\n",
       " ['this app be really simple and fantastic to use',\n",
       "  {'Negative': False, 'Neutral': False, 'Positive': True}],\n",
       " ['the app be good and fast too   I hope u can improve well thank',\n",
       "  {'Negative': False, 'Neutral': False, 'Positive': True}],\n",
       " ['it make my phone crash and hang pls fix this problem',\n",
       "  {'Negative': True, 'Neutral': False, 'Positive': False}],\n",
       " ['mess super slow can not uninstall it',\n",
       "  {'Negative': True, 'Neutral': False, 'Positive': False}],\n",
       " ['gmail be the spot gmail be on top of its game and there be shame in be at the top of your game give it try and check it out yourself gmail rockíps peace',\n",
       "  {'Negative': False, 'Neutral': False, 'Positive': True}],\n",
       " ['so you not know if you be go to have great time in the app and thank let we use the app',\n",
       "  {'Negative': False, 'Neutral': False, 'Positive': True}],\n",
       " ['I hate all of these go lite app complete waste of time',\n",
       "  {'Negative': True, 'Neutral': False, 'Positive': False}],\n",
       " ['struggle to create folderlabel on the app be it possible',\n",
       "  {'Negative': False, 'Neutral': False, 'Positive': True}],\n",
       " ...]"
      ]
     },
     "execution_count": 38,
     "metadata": {},
     "output_type": "execute_result"
    }
   ],
   "source": [
    "base_dados_final"
   ]
  },
  {
   "cell_type": "markdown",
   "metadata": {
    "id": "5mc19ZByUNsu"
   },
   "source": [
    "# Etapa 5: Criação do classificador"
   ]
  },
  {
   "cell_type": "code",
   "execution_count": 39,
   "metadata": {
    "id": "AhLi1lTrrx8d",
    "vscode": {
     "languageId": "python"
    }
   },
   "outputs": [],
   "source": [
    "import spacy"
   ]
  },
  {
   "cell_type": "code",
   "execution_count": 40,
   "metadata": {
    "colab": {
     "base_uri": "https://localhost:8080/"
    },
    "id": "xSFrZ01yrX2U",
    "outputId": "d7fee07b-39bd-4f03-df50-6649b2738b01",
    "vscode": {
     "languageId": "python"
    }
   },
   "outputs": [],
   "source": [
    "#spacy.require_gpu()"
   ]
  },
  {
   "cell_type": "code",
   "execution_count": 41,
   "metadata": {
    "id": "0LaRQjJFlxP3",
    "vscode": {
     "languageId": "python"
    }
   },
   "outputs": [],
   "source": [
    "from spacy.training import Example"
   ]
  },
  {
   "cell_type": "code",
   "execution_count": 42,
   "metadata": {
    "id": "YnZ1orji7Iv8",
    "vscode": {
     "languageId": "python"
    }
   },
   "outputs": [],
   "source": [
    "modelo = spacy.blank('en')\n",
    "textcat = modelo.add_pipe(\"textcat\")\n",
    "textcat.add_label(\"Negative\")\n",
    "textcat.add_label(\"Neutral\")\n",
    "textcat.add_label(\"Positive\")\n",
    "historico = []"
   ]
  },
  {
   "cell_type": "code",
   "execution_count": 43,
   "metadata": {
    "colab": {
     "base_uri": "https://localhost:8080/"
    },
    "id": "3jlGvLEz764Y",
    "outputId": "b9d12882-49b2-45e7-ae00-e7bafd9689dc",
    "vscode": {
     "languageId": "python"
    }
   },
   "outputs": [
    {
     "name": "stdout",
     "output_type": "stream",
     "text": [
      "Erro durante o treinamento: [E1041] Expected a string, Doc, or bytes as input, but got: <class 'NoneType'>\n"
     ]
    }
   ],
   "source": [
    "try:\n",
    "    modelo.begin_training()\n",
    "    for epoca in range(400):\n",
    "      random.shuffle(base_dados_final)\n",
    "      losses = {}\n",
    "      for batch in spacy.util.minibatch(base_dados_final, 3536):\n",
    "        textos = [modelo(texto) for texto, entities in batch]\n",
    "        annotations = [{'cats': entities} for texto, entities in batch]\n",
    "        examples = [Example.from_dict(doc, annotation) for doc, annotation in zip(textos, annotations)]\n",
    "        modelo.update(examples, losses=losses)\n",
    "      if epoca % 100 == 0:\n",
    "        print(epoca, losses)\n",
    "        historico.append(losses)\n",
    "except Exception as e:\n",
    "    print(f\"Erro durante o treinamento: {e}\")"
   ]
  },
  {
   "cell_type": "code",
   "execution_count": 44,
   "metadata": {
    "id": "wSe-tDsCAciN",
    "vscode": {
     "languageId": "python"
    }
   },
   "outputs": [],
   "source": [
    "historico_loss = []\n",
    "for i in historico:\n",
    "  historico_loss.append(i.get('textcat'))\n"
   ]
  },
  {
   "cell_type": "code",
   "execution_count": 45,
   "metadata": {
    "colab": {
     "base_uri": "https://localhost:8080/"
    },
    "id": "ShJhtbYtAr50",
    "outputId": "b5138e54-3a52-416f-b489-15ccfe01f189",
    "vscode": {
     "languageId": "python"
    }
   },
   "outputs": [
    {
     "data": {
      "text/plain": [
       "array([], dtype=float64)"
      ]
     },
     "execution_count": 45,
     "metadata": {},
     "output_type": "execute_result"
    }
   ],
   "source": [
    "historico_loss = np.array(historico_loss)\n",
    "historico_loss"
   ]
  },
  {
   "cell_type": "code",
   "execution_count": 46,
   "metadata": {
    "colab": {
     "base_uri": "https://localhost:8080/",
     "height": 491
    },
    "id": "6lEL-QoBA0KI",
    "outputId": "64f326d4-95fe-4b27-9d01-04fc875f775c",
    "vscode": {
     "languageId": "python"
    }
   },
   "outputs": [
    {
     "data": {
      "text/plain": [
       "Text(0, 0.5, 'Erro')"
      ]
     },
     "execution_count": 46,
     "metadata": {},
     "output_type": "execute_result"
    },
    {
     "data": {
      "image/png": "[encoded data removed]",
      "text/plain": [
       "<Figure size 640x480 with 1 Axes>"
      ]
     },
     "metadata": {},
     "output_type": "display_data"
    }
   ],
   "source": [
    "import matplotlib.pyplot as plt\n",
    "plt.plot(historico_loss)\n",
    "plt.title('Progressão do erro')\n",
    "plt.xlabel('Épocas')\n",
    "plt.ylabel('Erro')\n"
   ]
  },
  {
   "cell_type": "code",
   "execution_count": 47,
   "metadata": {
    "id": "amNE8xy_BPSF",
    "vscode": {
     "languageId": "python"
    }
   },
   "outputs": [],
   "source": [
    "modelo.to_disk(\"modelo\")"
   ]
  },
  {
   "cell_type": "code",
   "execution_count": 48,
   "metadata": {
    "colab": {
     "base_uri": "https://localhost:8080/"
    },
    "id": "d55wBpk_9Caf",
    "outputId": "16668a4f-12fc-4af0-de8a-ca304d97f3e5",
    "vscode": {
     "languageId": "python"
    }
   },
   "outputs": [],
   "source": [
    "#!zip -r /content/modelo.zip /content/modelo"
   ]
  },
  {
   "cell_type": "code",
   "execution_count": 49,
   "metadata": {
    "colab": {
     "base_uri": "https://localhost:8080/",
     "height": 17
    },
    "id": "c9C8bEg-9EYT",
    "outputId": "fe70d806-1c5f-47a4-9887-2db529042f0e",
    "vscode": {
     "languageId": "python"
    }
   },
   "outputs": [],
   "source": [
    "#from google.colab import files\n",
    "#files.download(\"modelo.zip\")"
   ]
  },
  {
   "cell_type": "markdown",
   "metadata": {
    "id": "ePMk8G0Dl6wg"
   },
   "source": [
    "# Etapa 6: Testes com uma frase"
   ]
  },
  {
   "cell_type": "code",
   "execution_count": 50,
   "metadata": {
    "colab": {
     "base_uri": "https://localhost:8080/"
    },
    "id": "u9e-TlWNCFj8",
    "outputId": "6489cb6c-1759-414f-c15e-101b38de8389",
    "vscode": {
     "languageId": "python"
    }
   },
   "outputs": [
    {
     "data": {
      "text/plain": [
       "<spacy.lang.en.English at 0x7f58698e5100>"
      ]
     },
     "execution_count": 50,
     "metadata": {},
     "output_type": "execute_result"
    }
   ],
   "source": [
    "modelo_carregado = spacy.load(\"modelo\")\n",
    "modelo_carregado"
   ]
  },
  {
   "cell_type": "code",
   "execution_count": 51,
   "metadata": {
    "id": "vccrJddkCThv",
    "vscode": {
     "languageId": "python"
    }
   },
   "outputs": [],
   "source": [
    "texto_positivo = 'Parabéns pelo app!'"
   ]
  },
  {
   "cell_type": "code",
   "execution_count": 52,
   "metadata": {
    "colab": {
     "base_uri": "https://localhost:8080/",
     "height": 35
    },
    "id": "AHUy4H_ECZyN",
    "outputId": "60fbb2dc-f87e-48da-c2be-84ac3d8e9d85",
    "vscode": {
     "languageId": "python"
    }
   },
   "outputs": [
    {
     "data": {
      "text/plain": [
       "'parabéns app'"
      ]
     },
     "execution_count": 52,
     "metadata": {},
     "output_type": "execute_result"
    }
   ],
   "source": [
    "texto_positivo = preprocessamento(texto_positivo)\n",
    "texto_positivo"
   ]
  },
  {
   "cell_type": "code",
   "execution_count": 53,
   "metadata": {
    "colab": {
     "base_uri": "https://localhost:8080/"
    },
    "id": "B4iJh7D5Cjha",
    "outputId": "d54c4197-5016-4a66-8b22-e8ee6b2e2dee",
    "vscode": {
     "languageId": "python"
    }
   },
   "outputs": [
    {
     "data": {
      "text/plain": [
       "parabéns app"
      ]
     },
     "execution_count": 53,
     "metadata": {},
     "output_type": "execute_result"
    }
   ],
   "source": [
    "previsao = modelo_carregado(texto_positivo)\n",
    "previsao"
   ]
  },
  {
   "cell_type": "code",
   "execution_count": 54,
   "metadata": {
    "colab": {
     "base_uri": "https://localhost:8080/"
    },
    "id": "wEvTU1fGCoX0",
    "outputId": "0acf78f7-5668-44a1-9c04-69054adc2438",
    "vscode": {
     "languageId": "python"
    }
   },
   "outputs": [
    {
     "data": {
      "text/plain": [
       "{'Negative': 0.3333333432674408,\n",
       " 'Neutral': 0.3333333432674408,\n",
       " 'Positive': 0.3333333432674408}"
      ]
     },
     "execution_count": 54,
     "metadata": {},
     "output_type": "execute_result"
    }
   ],
   "source": [
    "previsao.cats"
   ]
  },
  {
   "cell_type": "code",
   "execution_count": 55,
   "metadata": {
    "colab": {
     "base_uri": "https://localhost:8080/"
    },
    "id": "jr2eRXXJCxWe",
    "outputId": "50708ee9-9ace-4dea-ca9e-3fc49e6b5f1c",
    "vscode": {
     "languageId": "python"
    }
   },
   "outputs": [
    {
     "data": {
      "text/plain": [
       "{'Negative': 0.3333333432674408,\n",
       " 'Neutral': 0.3333333432674408,\n",
       " 'Positive': 0.3333333432674408}"
      ]
     },
     "execution_count": 55,
     "metadata": {},
     "output_type": "execute_result"
    }
   ],
   "source": [
    "texto_negativo = 'Nao tem os dados... mds!!!!'\n",
    "previsao = modelo_carregado(preprocessamento(texto_negativo))\n",
    "previsao.cats"
   ]
  },
  {
   "cell_type": "markdown",
   "metadata": {
    "id": "KhF2vtEsnlpM"
   },
   "source": [
    "# Etapa 7: Avaliação do modelo"
   ]
  },
  {
   "cell_type": "markdown",
   "metadata": {
    "id": "sJzwpVWNACFi"
   },
   "source": [
    "## Avaliação na base de treinamento\n"
   ]
  },
  {
   "cell_type": "code",
   "execution_count": 56,
   "metadata": {
    "id": "6NoTHRADDZ0Z",
    "vscode": {
     "languageId": "python"
    }
   },
   "outputs": [
    {
     "ename": "ValueError",
     "evalue": "[E1041] Expected a string, Doc, or bytes as input, but got: <class 'NoneType'>",
     "output_type": "error",
     "traceback": [
      "\u001b[0;31m---------------------------------------------------------------------------\u001b[0m",
      "\u001b[0;31mValueError\u001b[0m                                Traceback (most recent call last)",
      "Cell \u001b[0;32mIn[56], line 4\u001b[0m\n\u001b[1;32m      1\u001b[0m previsoes \u001b[38;5;241m=\u001b[39m []\n\u001b[1;32m      2\u001b[0m \u001b[38;5;28;01mfor\u001b[39;00m texto \u001b[38;5;129;01min\u001b[39;00m base_dados[\u001b[38;5;124m'\u001b[39m\u001b[38;5;124mReview\u001b[39m\u001b[38;5;124m'\u001b[39m]:\n\u001b[1;32m      3\u001b[0m   \u001b[38;5;66;03m#print(texto)\u001b[39;00m\n\u001b[0;32m----> 4\u001b[0m   previsao \u001b[38;5;241m=\u001b[39m \u001b[43mmodelo_carregado\u001b[49m\u001b[43m(\u001b[49m\u001b[43mtexto\u001b[49m\u001b[43m)\u001b[49m\n\u001b[1;32m      5\u001b[0m   previsoes\u001b[38;5;241m.\u001b[39mappend(previsao\u001b[38;5;241m.\u001b[39mcats)\n",
      "File \u001b[0;32m/usr/local/lib/python3.8/dist-packages/spacy/language.py:999\u001b[0m, in \u001b[0;36mLanguage.__call__\u001b[0;34m(self, text, disable, component_cfg)\u001b[0m\n\u001b[1;32m    978\u001b[0m \u001b[38;5;28;01mdef\u001b[39;00m \u001b[38;5;21m__call__\u001b[39m(\n\u001b[1;32m    979\u001b[0m     \u001b[38;5;28mself\u001b[39m,\n\u001b[1;32m    980\u001b[0m     text: Union[\u001b[38;5;28mstr\u001b[39m, Doc],\n\u001b[0;32m   (...)\u001b[0m\n\u001b[1;32m    983\u001b[0m     component_cfg: Optional[Dict[\u001b[38;5;28mstr\u001b[39m, Dict[\u001b[38;5;28mstr\u001b[39m, Any]]] \u001b[38;5;241m=\u001b[39m \u001b[38;5;28;01mNone\u001b[39;00m,\n\u001b[1;32m    984\u001b[0m ) \u001b[38;5;241m-\u001b[39m\u001b[38;5;241m>\u001b[39m Doc:\n\u001b[1;32m    985\u001b[0m \u001b[38;5;250m    \u001b[39m\u001b[38;5;124;03m\"\"\"Apply the pipeline to some text. The text can span multiple sentences,\u001b[39;00m\n\u001b[1;32m    986\u001b[0m \u001b[38;5;124;03m    and can contain arbitrary whitespace. Alignment into the original string\u001b[39;00m\n\u001b[1;32m    987\u001b[0m \u001b[38;5;124;03m    is preserved.\u001b[39;00m\n\u001b[0;32m   (...)\u001b[0m\n\u001b[1;32m    997\u001b[0m \u001b[38;5;124;03m    DOCS: https://spacy.io/api/language#call\u001b[39;00m\n\u001b[1;32m    998\u001b[0m \u001b[38;5;124;03m    \"\"\"\u001b[39;00m\n\u001b[0;32m--> 999\u001b[0m     doc \u001b[38;5;241m=\u001b[39m \u001b[38;5;28;43mself\u001b[39;49m\u001b[38;5;241;43m.\u001b[39;49m\u001b[43m_ensure_doc\u001b[49m\u001b[43m(\u001b[49m\u001b[43mtext\u001b[49m\u001b[43m)\u001b[49m\n\u001b[1;32m   1000\u001b[0m     \u001b[38;5;28;01mif\u001b[39;00m component_cfg \u001b[38;5;129;01mis\u001b[39;00m \u001b[38;5;28;01mNone\u001b[39;00m:\n\u001b[1;32m   1001\u001b[0m         component_cfg \u001b[38;5;241m=\u001b[39m {}\n",
      "File \u001b[0;32m/usr/local/lib/python3.8/dist-packages/spacy/language.py:1093\u001b[0m, in \u001b[0;36mLanguage._ensure_doc\u001b[0;34m(self, doc_like)\u001b[0m\n\u001b[1;32m   1091\u001b[0m \u001b[38;5;28;01mif\u001b[39;00m \u001b[38;5;28misinstance\u001b[39m(doc_like, \u001b[38;5;28mbytes\u001b[39m):\n\u001b[1;32m   1092\u001b[0m     \u001b[38;5;28;01mreturn\u001b[39;00m Doc(\u001b[38;5;28mself\u001b[39m\u001b[38;5;241m.\u001b[39mvocab)\u001b[38;5;241m.\u001b[39mfrom_bytes(doc_like)\n\u001b[0;32m-> 1093\u001b[0m \u001b[38;5;28;01mraise\u001b[39;00m \u001b[38;5;167;01mValueError\u001b[39;00m(Errors\u001b[38;5;241m.\u001b[39mE1041\u001b[38;5;241m.\u001b[39mformat(\u001b[38;5;28mtype\u001b[39m\u001b[38;5;241m=\u001b[39m\u001b[38;5;28mtype\u001b[39m(doc_like)))\n",
      "\u001b[0;31mValueError\u001b[0m: [E1041] Expected a string, Doc, or bytes as input, but got: <class 'NoneType'>"
     ]
    }
   ],
   "source": [
    "previsoes = []\n",
    "for texto in base_dados['Review']:\n",
    "  #print(texto)\n",
    "  previsao = modelo_carregado(texto)\n",
    "  previsoes.append(previsao.cats)"
   ]
  },
  {
   "cell_type": "code",
   "execution_count": null,
   "metadata": {
    "colab": {
     "base_uri": "https://localhost:8080/"
    },
    "id": "8lRO94OuDvLZ",
    "outputId": "257c28f3-e861-48ad-860e-e957bf8642ec",
    "vscode": {
     "languageId": "python"
    }
   },
   "outputs": [],
   "source": [
    "previsoes"
   ]
  },
  {
   "cell_type": "code",
   "execution_count": null,
   "metadata": {
    "id": "YXTXMXAgEDMR",
    "vscode": {
     "languageId": "python"
    }
   },
   "outputs": [],
   "source": [
    "previsoes_final = []\n",
    "for previsao in previsoes:\n",
    "  if previsao['Negative'] > previsao['Neutral'] > previsao['Positive']:\n",
    "    previsoes_final.append('Negative')\n",
    "  elif previsao['Neutral'] > previsao['Positive']:\n",
    "    previsoes_final.append('Neutral')  \n",
    "  else:\n",
    "    previsoes_final.append('Positive')\n",
    "\n",
    "previsoes_final = np.array(previsoes_final)"
   ]
  },
  {
   "cell_type": "code",
   "execution_count": null,
   "metadata": {
    "colab": {
     "base_uri": "https://localhost:8080/"
    },
    "id": "ilep1MZKEVyg",
    "outputId": "f5ead9db-0895-4f5e-cb96-7932be8f1f13",
    "vscode": {
     "languageId": "python"
    }
   },
   "outputs": [],
   "source": [
    "previsoes_final"
   ]
  },
  {
   "cell_type": "code",
   "execution_count": null,
   "metadata": {
    "colab": {
     "base_uri": "https://localhost:8080/"
    },
    "id": "3bbnP269EaYs",
    "outputId": "05b273b6-45f2-4923-bc7a-2baaed5dcf46",
    "vscode": {
     "languageId": "python"
    }
   },
   "outputs": [],
   "source": [
    "respostas_reais = base_dados['Review'].values\n",
    "respostas_reais"
   ]
  },
  {
   "cell_type": "code",
   "execution_count": null,
   "metadata": {},
   "outputs": [],
   "source": [
    "!pip install scikit-learn"
   ]
  },
  {
   "cell_type": "code",
   "execution_count": null,
   "metadata": {
    "colab": {
     "base_uri": "https://localhost:8080/"
    },
    "id": "7dM1nOQtEo6p",
    "outputId": "b46812ea-ea71-43ee-def0-0d3223b624f2",
    "vscode": {
     "languageId": "python"
    }
   },
   "outputs": [],
   "source": [
    "from sklearn.metrics import confusion_matrix, accuracy_score"
   ]
  },
  {
   "cell_type": "code",
   "execution_count": null,
   "metadata": {
    "colab": {
     "base_uri": "https://localhost:8080/"
    },
    "id": "UuI8nXdAE-Nw",
    "outputId": "52d40ada-e816-4797-ff73-05396fb0ca53",
    "vscode": {
     "languageId": "python"
    }
   },
   "outputs": [],
   "source": [
    "cm = confusion_matrix(respostas_reais, previsoes_final)\n",
    "cm"
   ]
  },
  {
   "cell_type": "markdown",
   "metadata": {
    "id": "HmLjfVrZAE2T"
   },
   "source": [
    "## Avaliação na base de teste"
   ]
  },
  {
   "cell_type": "code",
   "execution_count": null,
   "metadata": {
    "id": "rHRTeILUJTqI",
    "vscode": {
     "languageId": "python"
    }
   },
   "outputs": [],
   "source": [
    "from sklearn.metrics import accuracy_score\n",
    "from sklearn.metrics import confusion_matrix"
   ]
  },
  {
   "cell_type": "code",
   "execution_count": null,
   "metadata": {
    "id": "I3bLzl9gFVLz",
    "vscode": {
     "languageId": "python"
    }
   },
   "outputs": [],
   "source": [
    "base_dados_teste = pd.read_csv('sentimentos.csv', encoding = 'utf-8')"
   ]
  },
  {
   "cell_type": "code",
   "execution_count": null,
   "metadata": {
    "colab": {
     "base_uri": "https://localhost:8080/",
     "height": 493
    },
    "id": "SXregSmbFfgW",
    "outputId": "d1edd985-1a10-4044-c231-e78bc2cb5b18",
    "vscode": {
     "languageId": "python"
    }
   },
   "outputs": [],
   "source": [
    "base_dados_teste.head()"
   ]
  },
  {
   "cell_type": "code",
   "execution_count": null,
   "metadata": {
    "id": "qTvsYEmBFj6P",
    "vscode": {
     "languageId": "python"
    }
   },
   "outputs": [],
   "source": [
    "base_dados_teste['Review'] = base_dados_teste['Review'].apply(preprocessamento)"
   ]
  },
  {
   "cell_type": "code",
   "execution_count": null,
   "metadata": {
    "colab": {
     "base_uri": "https://localhost:8080/",
     "height": 476
    },
    "id": "QSP38LnPFrTl",
    "outputId": "db36b418-ff7e-4239-e7f9-e25cd7560f14",
    "vscode": {
     "languageId": "python"
    }
   },
   "outputs": [],
   "source": [
    "base_dados_teste.head()"
   ]
  },
  {
   "cell_type": "code",
   "execution_count": null,
   "metadata": {
    "id": "AwmnAwRcF1sD",
    "vscode": {
     "languageId": "python"
    }
   },
   "outputs": [],
   "source": [
    "previsoes = []\n",
    "for texto in base_dados_teste['Review']:\n",
    "  texto = preprocessamento(texto)\n",
    "  previsao = modelo_carregado(texto)\n",
    "  previsoes.append(previsao.cats)"
   ]
  },
  {
   "cell_type": "code",
   "execution_count": null,
   "metadata": {
    "id": "Y7MpSvS4F8xv",
    "vscode": {
     "languageId": "python"
    }
   },
   "outputs": [],
   "source": [
    "previsoes_final = []\n",
    "for previsao in previsoes:\n",
    "  if previsao['Negative'] > previsao['Neutral'] > previsao['Positive']:\n",
    "    previsoes_final.append('Negative')\n",
    "  elif previsao['Neutral'] > previsao['Positive']:\n",
    "    previsoes_final.append('Neutral')  \n",
    "  else:\n",
    "    previsoes_final.append('Positive')\n",
    "\n",
    "previsoes_final = np.array(previsoes_final)"
   ]
  },
  {
   "cell_type": "code",
   "execution_count": null,
   "metadata": {
    "colab": {
     "base_uri": "https://localhost:8080/",
     "height": 1000
    },
    "id": "nc-O5fofH-Bv",
    "outputId": "e2abb848-7e96-475e-ef19-084d6032b457",
    "vscode": {
     "languageId": "python"
    }
   },
   "outputs": [],
   "source": [
    "base_dados_teste"
   ]
  },
  {
   "cell_type": "code",
   "execution_count": null,
   "metadata": {
    "colab": {
     "base_uri": "https://localhost:8080/"
    },
    "id": "udGqB3TmIb-D",
    "outputId": "6c0708d2-2cff-4e1c-d11f-3c0dc445dcf7",
    "vscode": {
     "languageId": "python"
    }
   },
   "outputs": [],
   "source": [
    "previsoes_final"
   ]
  },
  {
   "cell_type": "code",
   "execution_count": null,
   "metadata": {
    "id": "xTVM4FnnI026",
    "vscode": {
     "languageId": "python"
    }
   },
   "outputs": [],
   "source": [
    "def convert_ratings(rating):\n",
    "    if rating <= 2:\n",
    "        return 'Negative'\n",
    "    elif rating == 3:\n",
    "        return 'Neutral'\n",
    "    else:\n",
    "        return 'Positive'"
   ]
  },
  {
   "cell_type": "code",
   "execution_count": null,
   "metadata": {
    "id": "rgoCy1SXGEkw",
    "vscode": {
     "languageId": "python"
    }
   },
   "outputs": [],
   "source": [
    "respostas_reais = base_dados_teste['Rating'].apply(convert_ratings).values"
   ]
  },
  {
   "cell_type": "code",
   "execution_count": null,
   "metadata": {
    "colab": {
     "base_uri": "https://localhost:8080/"
    },
    "id": "R7fYlguaJCuv",
    "outputId": "fa1f9d7e-86c6-4087-9e67-5ef8473ec2d2",
    "vscode": {
     "languageId": "python"
    }
   },
   "outputs": [],
   "source": [
    "respostas_reais"
   ]
  },
  {
   "cell_type": "code",
   "execution_count": null,
   "metadata": {
    "colab": {
     "base_uri": "https://localhost:8080/"
    },
    "id": "HbpqmtMlGJ0T",
    "outputId": "09c7925b-298e-4e16-ed32-4888ea20fcff",
    "vscode": {
     "languageId": "python"
    }
   },
   "outputs": [],
   "source": [
    "accuracy_score(respostas_reais, previsoes_final)"
   ]
  },
  {
   "cell_type": "code",
   "execution_count": null,
   "metadata": {
    "colab": {
     "base_uri": "https://localhost:8080/"
    },
    "id": "noYdfAJ0GQAF",
    "outputId": "135f7fd5-fa74-4d05-94f0-7d89432c2d80",
    "vscode": {
     "languageId": "python"
    }
   },
   "outputs": [],
   "source": [
    "cm = confusion_matrix(respostas_reais, previsoes_final)\n",
    "cm"
   ]
  },
  {
   "cell_type": "code",
   "execution_count": null,
   "metadata": {
    "id": "ufYIoYY5LTJk",
    "vscode": {
     "languageId": "python"
    }
   },
   "outputs": [],
   "source": []
  },
  {
   "cell_type": "code",
   "execution_count": null,
   "metadata": {},
   "outputs": [],
   "source": []
  }
 ],
 "metadata": {
  "accelerator": "GPU",
  "colab": {
   "gpuType": "T4",
   "machine_shape": "hm",
   "provenance": []
  },
  "kernelspec": {
   "display_name": "Python 3 (ipykernel)",
   "language": "python",
   "name": "python3"
  },
  "language_info": {
   "codemirror_mode": {
    "name": "ipython",
    "version": 3
   },
   "file_extension": ".py",
   "mimetype": "text/x-python",
   "name": "python",
   "nbconvert_exporter": "python",
   "pygments_lexer": "ipython3",
   "version": "3.8.10"
  }
 },
 "nbformat": 4,
 "nbformat_minor": 1
}

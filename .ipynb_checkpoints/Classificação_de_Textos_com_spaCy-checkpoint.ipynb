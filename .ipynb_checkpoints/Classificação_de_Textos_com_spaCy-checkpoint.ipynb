{
 "cells": [
  {
   "cell_type": "markdown",
   "metadata": {
    "id": "AGgw36kc8udU"
   },
   "source": [
    "# Classificação de textos com spaCy"
   ]
  },
  {
   "cell_type": "markdown",
   "metadata": {
    "id": "JtJGnXGi8zt9"
   },
   "source": [
    "# Etapa 1: Importação e instalação das bibliotecas"
   ]
  },
  {
   "cell_type": "code",
   "execution_count": 1,
   "metadata": {
    "id": "paAxTC8hm7qP",
    "vscode": {
     "languageId": "python"
    }
   },
   "outputs": [],
   "source": [
    "import matplotlib.pyplot as plt"
   ]
  },
  {
   "cell_type": "code",
   "execution_count": 2,
   "metadata": {},
   "outputs": [
    {
     "name": "stdout",
     "output_type": "stream",
     "text": [
      "Requirement already satisfied: spacy in /usr/local/lib/python3.8/dist-packages (3.5.3)\n",
      "Requirement already satisfied: pathy>=0.10.0 in /usr/local/lib/python3.8/dist-packages (from spacy) (0.10.1)\n",
      "Requirement already satisfied: typer<0.8.0,>=0.3.0 in /usr/local/lib/python3.8/dist-packages (from spacy) (0.7.0)\n",
      "Requirement already satisfied: cymem<2.1.0,>=2.0.2 in /usr/local/lib/python3.8/dist-packages (from spacy) (2.0.7)\n",
      "Requirement already satisfied: numpy>=1.15.0 in /usr/local/lib/python3.8/dist-packages (from spacy) (1.23.5)\n",
      "Requirement already satisfied: requests<3.0.0,>=2.13.0 in /usr/lib/python3/dist-packages (from spacy) (2.22.0)\n",
      "Requirement already satisfied: smart-open<7.0.0,>=5.2.1 in /usr/local/lib/python3.8/dist-packages (from spacy) (6.3.0)\n",
      "Requirement already satisfied: thinc<8.2.0,>=8.1.8 in /usr/local/lib/python3.8/dist-packages (from spacy) (8.1.10)\n",
      "Requirement already satisfied: tqdm<5.0.0,>=4.38.0 in /usr/local/lib/python3.8/dist-packages (from spacy) (4.65.0)\n",
      "Requirement already satisfied: packaging>=20.0 in /usr/local/lib/python3.8/dist-packages (from spacy) (23.0)\n",
      "Requirement already satisfied: pydantic!=1.8,!=1.8.1,<1.11.0,>=1.7.4 in /usr/local/lib/python3.8/dist-packages (from spacy) (1.10.8)\n",
      "Requirement already satisfied: setuptools in /usr/local/lib/python3.8/dist-packages (from spacy) (67.6.0)\n",
      "Requirement already satisfied: wasabi<1.2.0,>=0.9.1 in /usr/local/lib/python3.8/dist-packages (from spacy) (1.1.1)\n",
      "Requirement already satisfied: preshed<3.1.0,>=3.0.2 in /usr/local/lib/python3.8/dist-packages (from spacy) (3.0.8)\n",
      "Requirement already satisfied: spacy-legacy<3.1.0,>=3.0.11 in /usr/local/lib/python3.8/dist-packages (from spacy) (3.0.12)\n",
      "Requirement already satisfied: catalogue<2.1.0,>=2.0.6 in /usr/local/lib/python3.8/dist-packages (from spacy) (2.0.8)\n",
      "Requirement already satisfied: srsly<3.0.0,>=2.4.3 in /usr/local/lib/python3.8/dist-packages (from spacy) (2.4.6)\n",
      "Requirement already satisfied: jinja2 in /usr/local/lib/python3.8/dist-packages (from spacy) (3.1.2)\n",
      "Requirement already satisfied: spacy-loggers<2.0.0,>=1.0.0 in /usr/local/lib/python3.8/dist-packages (from spacy) (1.0.4)\n",
      "Requirement already satisfied: langcodes<4.0.0,>=3.2.0 in /usr/local/lib/python3.8/dist-packages (from spacy) (3.3.0)\n",
      "Requirement already satisfied: murmurhash<1.1.0,>=0.28.0 in /usr/local/lib/python3.8/dist-packages (from spacy) (1.0.9)\n",
      "Requirement already satisfied: typing-extensions>=4.2.0 in /usr/local/lib/python3.8/dist-packages (from pydantic!=1.8,!=1.8.1,<1.11.0,>=1.7.4->spacy) (4.5.0)\n",
      "Requirement already satisfied: confection<1.0.0,>=0.0.1 in /usr/local/lib/python3.8/dist-packages (from thinc<8.2.0,>=8.1.8->spacy) (0.0.4)\n",
      "Requirement already satisfied: blis<0.8.0,>=0.7.8 in /usr/local/lib/python3.8/dist-packages (from thinc<8.2.0,>=8.1.8->spacy) (0.7.9)\n",
      "Requirement already satisfied: click<9.0.0,>=7.1.1 in /usr/local/lib/python3.8/dist-packages (from typer<0.8.0,>=0.3.0->spacy) (8.1.3)\n",
      "Requirement already satisfied: MarkupSafe>=2.0 in /usr/local/lib/python3.8/dist-packages (from jinja2->spacy) (2.1.2)\n",
      "\u001b[33mWARNING: Running pip as the 'root' user can result in broken permissions and conflicting behaviour with the system package manager. It is recommended to use a virtual environment instead: https://pip.pypa.io/warnings/venv\u001b[0m\u001b[33m\n",
      "\u001b[0m\n",
      "\u001b[1m[\u001b[0m\u001b[34;49mnotice\u001b[0m\u001b[1;39;49m]\u001b[0m\u001b[39;49m A new release of pip is available: \u001b[0m\u001b[31;49m23.0.1\u001b[0m\u001b[39;49m -> \u001b[0m\u001b[32;49m23.1.2\u001b[0m\n",
      "\u001b[1m[\u001b[0m\u001b[34;49mnotice\u001b[0m\u001b[1;39;49m]\u001b[0m\u001b[39;49m To update, run: \u001b[0m\u001b[32;49mpython3 -m pip install --upgrade pip\u001b[0m\n"
     ]
    }
   ],
   "source": [
    "!pip install spacy"
   ]
  },
  {
   "cell_type": "code",
   "execution_count": 3,
   "metadata": {
    "colab": {
     "base_uri": "https://localhost:8080/",
     "height": 35
    },
    "id": "T1ZYK4Svri9a",
    "outputId": "7ac0eb6f-f43b-4074-d68c-6eca3eb0e3ab",
    "vscode": {
     "languageId": "python"
    }
   },
   "outputs": [
    {
     "name": "stderr",
     "output_type": "stream",
     "text": [
      "2023-05-28 19:29:12.882351: I tensorflow/core/platform/cpu_feature_guard.cc:182] This TensorFlow binary is optimized to use available CPU instructions in performance-critical operations.\n",
      "To enable the following instructions: AVX2 FMA, in other operations, rebuild TensorFlow with the appropriate compiler flags.\n",
      "2023-05-28 19:29:16.243286: E tensorflow/compiler/xla/stream_executor/cuda/cuda_driver.cc:266] failed call to cuInit: CUDA_ERROR_NO_DEVICE: no CUDA-capable device is detected\n",
      "2023-05-28 19:29:16.243349: I tensorflow/compiler/xla/stream_executor/cuda/cuda_diagnostics.cc:168] retrieving CUDA diagnostic information for host: c50bc674bc27\n",
      "2023-05-28 19:29:16.243361: I tensorflow/compiler/xla/stream_executor/cuda/cuda_diagnostics.cc:175] hostname: c50bc674bc27\n",
      "2023-05-28 19:29:16.243462: I tensorflow/compiler/xla/stream_executor/cuda/cuda_diagnostics.cc:199] libcuda reported version is: NOT_FOUND: was unable to find libcuda.so DSO loaded into this program\n",
      "2023-05-28 19:29:16.243512: I tensorflow/compiler/xla/stream_executor/cuda/cuda_diagnostics.cc:203] kernel reported version is: 530.41.3\n"
     ]
    },
    {
     "data": {
      "text/plain": [
       "'3.5.3'"
      ]
     },
     "execution_count": 3,
     "metadata": {},
     "output_type": "execute_result"
    }
   ],
   "source": [
    "import spacy\n",
    "spacy.__version__"
   ]
  },
  {
   "cell_type": "code",
   "execution_count": 4,
   "metadata": {
    "id": "CUdP26FXGBGw",
    "vscode": {
     "languageId": "python"
    }
   },
   "outputs": [],
   "source": [
    "# Temporário por problemas no Colab\n",
    "import locale\n",
    "def getpreferredencoding(do_setlocale = True):\n",
    "    return \"UTF-8\"\n",
    "locale.getpreferredencoding = getpreferredencoding"
   ]
  },
  {
   "cell_type": "code",
   "execution_count": 5,
   "metadata": {
    "colab": {
     "base_uri": "https://localhost:8080/"
    },
    "id": "BbXiQKovAAy_",
    "outputId": "eeb6f2a8-24d6-48de-90b5-bd7d333d6682",
    "vscode": {
     "languageId": "python"
    }
   },
   "outputs": [
    {
     "name": "stdout",
     "output_type": "stream",
     "text": [
      "2023-05-28 19:29:22.506424: E tensorflow/compiler/xla/stream_executor/cuda/cuda_driver.cc:266] failed call to cuInit: CUDA_ERROR_NO_DEVICE: no CUDA-capable device is detected\n",
      "Collecting pt-core-news-sm==3.5.0\n",
      "  Downloading https://github.com/explosion/spacy-models/releases/download/pt_core_news_sm-3.5.0/pt_core_news_sm-3.5.0-py3-none-any.whl (13.0 MB)\n",
      "\u001b[2K     \u001b[90m━━━━━━━━━━━━━━━━━━━━━━━━━━━━━━━━━━━━━━━━\u001b[0m \u001b[32m13.0/13.0 MB\u001b[0m \u001b[31m20.6 MB/s\u001b[0m eta \u001b[36m0:00:00\u001b[0m00:01\u001b[0m00:01\u001b[0m\n",
      "\u001b[?25hRequirement already satisfied: spacy<3.6.0,>=3.5.0 in /usr/local/lib/python3.8/dist-packages (from pt-core-news-sm==3.5.0) (3.5.3)\n",
      "Requirement already satisfied: wasabi<1.2.0,>=0.9.1 in /usr/local/lib/python3.8/dist-packages (from spacy<3.6.0,>=3.5.0->pt-core-news-sm==3.5.0) (1.1.1)\n",
      "Requirement already satisfied: numpy>=1.15.0 in /usr/local/lib/python3.8/dist-packages (from spacy<3.6.0,>=3.5.0->pt-core-news-sm==3.5.0) (1.23.5)\n",
      "Requirement already satisfied: spacy-loggers<2.0.0,>=1.0.0 in /usr/local/lib/python3.8/dist-packages (from spacy<3.6.0,>=3.5.0->pt-core-news-sm==3.5.0) (1.0.4)\n",
      "Requirement already satisfied: smart-open<7.0.0,>=5.2.1 in /usr/local/lib/python3.8/dist-packages (from spacy<3.6.0,>=3.5.0->pt-core-news-sm==3.5.0) (6.3.0)\n",
      "Requirement already satisfied: thinc<8.2.0,>=8.1.8 in /usr/local/lib/python3.8/dist-packages (from spacy<3.6.0,>=3.5.0->pt-core-news-sm==3.5.0) (8.1.10)\n",
      "Requirement already satisfied: preshed<3.1.0,>=3.0.2 in /usr/local/lib/python3.8/dist-packages (from spacy<3.6.0,>=3.5.0->pt-core-news-sm==3.5.0) (3.0.8)\n",
      "Requirement already satisfied: srsly<3.0.0,>=2.4.3 in /usr/local/lib/python3.8/dist-packages (from spacy<3.6.0,>=3.5.0->pt-core-news-sm==3.5.0) (2.4.6)\n",
      "Requirement already satisfied: catalogue<2.1.0,>=2.0.6 in /usr/local/lib/python3.8/dist-packages (from spacy<3.6.0,>=3.5.0->pt-core-news-sm==3.5.0) (2.0.8)\n",
      "Requirement already satisfied: setuptools in /usr/local/lib/python3.8/dist-packages (from spacy<3.6.0,>=3.5.0->pt-core-news-sm==3.5.0) (67.6.0)\n",
      "Requirement already satisfied: typer<0.8.0,>=0.3.0 in /usr/local/lib/python3.8/dist-packages (from spacy<3.6.0,>=3.5.0->pt-core-news-sm==3.5.0) (0.7.0)\n",
      "Requirement already satisfied: packaging>=20.0 in /usr/local/lib/python3.8/dist-packages (from spacy<3.6.0,>=3.5.0->pt-core-news-sm==3.5.0) (23.0)\n",
      "Requirement already satisfied: tqdm<5.0.0,>=4.38.0 in /usr/local/lib/python3.8/dist-packages (from spacy<3.6.0,>=3.5.0->pt-core-news-sm==3.5.0) (4.65.0)\n",
      "Requirement already satisfied: spacy-legacy<3.1.0,>=3.0.11 in /usr/local/lib/python3.8/dist-packages (from spacy<3.6.0,>=3.5.0->pt-core-news-sm==3.5.0) (3.0.12)\n",
      "Requirement already satisfied: langcodes<4.0.0,>=3.2.0 in /usr/local/lib/python3.8/dist-packages (from spacy<3.6.0,>=3.5.0->pt-core-news-sm==3.5.0) (3.3.0)\n",
      "Requirement already satisfied: cymem<2.1.0,>=2.0.2 in /usr/local/lib/python3.8/dist-packages (from spacy<3.6.0,>=3.5.0->pt-core-news-sm==3.5.0) (2.0.7)\n",
      "Requirement already satisfied: murmurhash<1.1.0,>=0.28.0 in /usr/local/lib/python3.8/dist-packages (from spacy<3.6.0,>=3.5.0->pt-core-news-sm==3.5.0) (1.0.9)\n",
      "Requirement already satisfied: pydantic!=1.8,!=1.8.1,<1.11.0,>=1.7.4 in /usr/local/lib/python3.8/dist-packages (from spacy<3.6.0,>=3.5.0->pt-core-news-sm==3.5.0) (1.10.8)\n",
      "Requirement already satisfied: requests<3.0.0,>=2.13.0 in /usr/lib/python3/dist-packages (from spacy<3.6.0,>=3.5.0->pt-core-news-sm==3.5.0) (2.22.0)\n",
      "Requirement already satisfied: pathy>=0.10.0 in /usr/local/lib/python3.8/dist-packages (from spacy<3.6.0,>=3.5.0->pt-core-news-sm==3.5.0) (0.10.1)\n",
      "Requirement already satisfied: jinja2 in /usr/local/lib/python3.8/dist-packages (from spacy<3.6.0,>=3.5.0->pt-core-news-sm==3.5.0) (3.1.2)\n",
      "Requirement already satisfied: typing-extensions>=4.2.0 in /usr/local/lib/python3.8/dist-packages (from pydantic!=1.8,!=1.8.1,<1.11.0,>=1.7.4->spacy<3.6.0,>=3.5.0->pt-core-news-sm==3.5.0) (4.5.0)\n",
      "Requirement already satisfied: blis<0.8.0,>=0.7.8 in /usr/local/lib/python3.8/dist-packages (from thinc<8.2.0,>=8.1.8->spacy<3.6.0,>=3.5.0->pt-core-news-sm==3.5.0) (0.7.9)\n",
      "Requirement already satisfied: confection<1.0.0,>=0.0.1 in /usr/local/lib/python3.8/dist-packages (from thinc<8.2.0,>=8.1.8->spacy<3.6.0,>=3.5.0->pt-core-news-sm==3.5.0) (0.0.4)\n",
      "Requirement already satisfied: click<9.0.0,>=7.1.1 in /usr/local/lib/python3.8/dist-packages (from typer<0.8.0,>=0.3.0->spacy<3.6.0,>=3.5.0->pt-core-news-sm==3.5.0) (8.1.3)\n",
      "Requirement already satisfied: MarkupSafe>=2.0 in /usr/local/lib/python3.8/dist-packages (from jinja2->spacy<3.6.0,>=3.5.0->pt-core-news-sm==3.5.0) (2.1.2)\n",
      "\u001b[33mWARNING: Running pip as the 'root' user can result in broken permissions and conflicting behaviour with the system package manager. It is recommended to use a virtual environment instead: https://pip.pypa.io/warnings/venv\u001b[0m\u001b[33m\n",
      "\u001b[0m\n",
      "\u001b[1m[\u001b[0m\u001b[34;49mnotice\u001b[0m\u001b[1;39;49m]\u001b[0m\u001b[39;49m A new release of pip is available: \u001b[0m\u001b[31;49m23.0.1\u001b[0m\u001b[39;49m -> \u001b[0m\u001b[32;49m23.1.2\u001b[0m\n",
      "\u001b[1m[\u001b[0m\u001b[34;49mnotice\u001b[0m\u001b[1;39;49m]\u001b[0m\u001b[39;49m To update, run: \u001b[0m\u001b[32;49mpython3 -m pip install --upgrade pip\u001b[0m\n",
      "\u001b[38;5;2m✔ Download and installation successful\u001b[0m\n",
      "You can now load the package via spacy.load('pt_core_news_sm')\n"
     ]
    }
   ],
   "source": [
    "!python3 -m spacy download pt_core_news_sm"
   ]
  },
  {
   "cell_type": "code",
   "execution_count": 6,
   "metadata": {
    "id": "5rTXwoHqqNLA",
    "vscode": {
     "languageId": "python"
    }
   },
   "outputs": [],
   "source": [
    "import pt_core_news_sm"
   ]
  },
  {
   "cell_type": "code",
   "execution_count": 7,
   "metadata": {
    "colab": {
     "base_uri": "https://localhost:8080/"
    },
    "id": "dls_rcpKqRfI",
    "outputId": "0f6b1cf2-31c8-42b5-9152-97535f019189",
    "vscode": {
     "languageId": "python"
    }
   },
   "outputs": [
    {
     "data": {
      "text/plain": [
       "<spacy.lang.pt.Portuguese at 0x7f75a8082850>"
      ]
     },
     "execution_count": 7,
     "metadata": {},
     "output_type": "execute_result"
    }
   ],
   "source": [
    "nlp = pt_core_news_sm.load()\n",
    "nlp"
   ]
  },
  {
   "cell_type": "code",
   "execution_count": 8,
   "metadata": {},
   "outputs": [
    {
     "name": "stdout",
     "output_type": "stream",
     "text": [
      "Requirement already satisfied: pandas in /usr/local/lib/python3.8/dist-packages (2.0.1)\n",
      "Requirement already satisfied: numpy>=1.20.3 in /usr/local/lib/python3.8/dist-packages (from pandas) (1.23.5)\n",
      "Requirement already satisfied: tzdata>=2022.1 in /usr/local/lib/python3.8/dist-packages (from pandas) (2023.3)\n",
      "Requirement already satisfied: python-dateutil>=2.8.2 in /usr/local/lib/python3.8/dist-packages (from pandas) (2.8.2)\n",
      "Requirement already satisfied: pytz>=2020.1 in /usr/local/lib/python3.8/dist-packages (from pandas) (2023.3)\n",
      "Requirement already satisfied: six>=1.5 in /usr/lib/python3/dist-packages (from python-dateutil>=2.8.2->pandas) (1.14.0)\n",
      "\u001b[33mWARNING: Running pip as the 'root' user can result in broken permissions and conflicting behaviour with the system package manager. It is recommended to use a virtual environment instead: https://pip.pypa.io/warnings/venv\u001b[0m\u001b[33m\n",
      "\u001b[0m\n",
      "\u001b[1m[\u001b[0m\u001b[34;49mnotice\u001b[0m\u001b[1;39;49m]\u001b[0m\u001b[39;49m A new release of pip is available: \u001b[0m\u001b[31;49m23.0.1\u001b[0m\u001b[39;49m -> \u001b[0m\u001b[32;49m23.1.2\u001b[0m\n",
      "\u001b[1m[\u001b[0m\u001b[34;49mnotice\u001b[0m\u001b[1;39;49m]\u001b[0m\u001b[39;49m To update, run: \u001b[0m\u001b[32;49mpython3 -m pip install --upgrade pip\u001b[0m\n",
      "Requirement already satisfied: seaborn in /usr/local/lib/python3.8/dist-packages (0.12.2)\n",
      "Requirement already satisfied: numpy!=1.24.0,>=1.17 in /usr/local/lib/python3.8/dist-packages (from seaborn) (1.23.5)\n",
      "Requirement already satisfied: matplotlib!=3.6.1,>=3.1 in /usr/local/lib/python3.8/dist-packages (from seaborn) (3.7.1)\n",
      "Requirement already satisfied: pandas>=0.25 in /usr/local/lib/python3.8/dist-packages (from seaborn) (2.0.1)\n",
      "Requirement already satisfied: importlib-resources>=3.2.0 in /usr/local/lib/python3.8/dist-packages (from matplotlib!=3.6.1,>=3.1->seaborn) (5.12.0)\n",
      "Requirement already satisfied: contourpy>=1.0.1 in /usr/local/lib/python3.8/dist-packages (from matplotlib!=3.6.1,>=3.1->seaborn) (1.0.7)\n",
      "Requirement already satisfied: kiwisolver>=1.0.1 in /usr/local/lib/python3.8/dist-packages (from matplotlib!=3.6.1,>=3.1->seaborn) (1.4.4)\n",
      "Requirement already satisfied: python-dateutil>=2.7 in /usr/local/lib/python3.8/dist-packages (from matplotlib!=3.6.1,>=3.1->seaborn) (2.8.2)\n",
      "Requirement already satisfied: pillow>=6.2.0 in /usr/local/lib/python3.8/dist-packages (from matplotlib!=3.6.1,>=3.1->seaborn) (9.4.0)\n",
      "Requirement already satisfied: packaging>=20.0 in /usr/local/lib/python3.8/dist-packages (from matplotlib!=3.6.1,>=3.1->seaborn) (23.0)\n",
      "Requirement already satisfied: cycler>=0.10 in /usr/local/lib/python3.8/dist-packages (from matplotlib!=3.6.1,>=3.1->seaborn) (0.11.0)\n",
      "Requirement already satisfied: fonttools>=4.22.0 in /usr/local/lib/python3.8/dist-packages (from matplotlib!=3.6.1,>=3.1->seaborn) (4.39.2)\n",
      "Requirement already satisfied: pyparsing>=2.3.1 in /usr/local/lib/python3.8/dist-packages (from matplotlib!=3.6.1,>=3.1->seaborn) (3.0.9)\n",
      "Requirement already satisfied: tzdata>=2022.1 in /usr/local/lib/python3.8/dist-packages (from pandas>=0.25->seaborn) (2023.3)\n",
      "Requirement already satisfied: pytz>=2020.1 in /usr/local/lib/python3.8/dist-packages (from pandas>=0.25->seaborn) (2023.3)\n",
      "Requirement already satisfied: zipp>=3.1.0 in /usr/local/lib/python3.8/dist-packages (from importlib-resources>=3.2.0->matplotlib!=3.6.1,>=3.1->seaborn) (3.15.0)\n",
      "Requirement already satisfied: six>=1.5 in /usr/lib/python3/dist-packages (from python-dateutil>=2.7->matplotlib!=3.6.1,>=3.1->seaborn) (1.14.0)\n",
      "\u001b[33mWARNING: Running pip as the 'root' user can result in broken permissions and conflicting behaviour with the system package manager. It is recommended to use a virtual environment instead: https://pip.pypa.io/warnings/venv\u001b[0m\u001b[33m\n",
      "\u001b[0m\n",
      "\u001b[1m[\u001b[0m\u001b[34;49mnotice\u001b[0m\u001b[1;39;49m]\u001b[0m\u001b[39;49m A new release of pip is available: \u001b[0m\u001b[31;49m23.0.1\u001b[0m\u001b[39;49m -> \u001b[0m\u001b[32;49m23.1.2\u001b[0m\n",
      "\u001b[1m[\u001b[0m\u001b[34;49mnotice\u001b[0m\u001b[1;39;49m]\u001b[0m\u001b[39;49m To update, run: \u001b[0m\u001b[32;49mpython3 -m pip install --upgrade pip\u001b[0m\n",
      "Requirement already satisfied: numpy in /usr/local/lib/python3.8/dist-packages (1.23.5)\n",
      "\u001b[33mWARNING: Running pip as the 'root' user can result in broken permissions and conflicting behaviour with the system package manager. It is recommended to use a virtual environment instead: https://pip.pypa.io/warnings/venv\u001b[0m\u001b[33m\n",
      "\u001b[0m\n",
      "\u001b[1m[\u001b[0m\u001b[34;49mnotice\u001b[0m\u001b[1;39;49m]\u001b[0m\u001b[39;49m A new release of pip is available: \u001b[0m\u001b[31;49m23.0.1\u001b[0m\u001b[39;49m -> \u001b[0m\u001b[32;49m23.1.2\u001b[0m\n",
      "\u001b[1m[\u001b[0m\u001b[34;49mnotice\u001b[0m\u001b[1;39;49m]\u001b[0m\u001b[39;49m To update, run: \u001b[0m\u001b[32;49mpython3 -m pip install --upgrade pip\u001b[0m\n"
     ]
    }
   ],
   "source": [
    "!pip install pandas\n",
    "!pip install seaborn\n",
    "!pip install numpy"
   ]
  },
  {
   "cell_type": "code",
   "execution_count": 9,
   "metadata": {
    "id": "DelYAveq8yuX",
    "vscode": {
     "languageId": "python"
    }
   },
   "outputs": [],
   "source": [
    "import pandas as pd\n",
    "import string\n",
    "import spacy\n",
    "import random\n",
    "import seaborn as sns\n",
    "import numpy as np"
   ]
  },
  {
   "cell_type": "markdown",
   "metadata": {
    "id": "iE3VMD8t86ky"
   },
   "source": [
    "# Etapa 2: Carregamento da base de dados"
   ]
  },
  {
   "cell_type": "code",
   "execution_count": 10,
   "metadata": {
    "id": "zl8DBGBNsG-h",
    "vscode": {
     "languageId": "python"
    }
   },
   "outputs": [],
   "source": [
    "base_dados = pd.read_csv('sentimentos.csv', encoding = 'utf-8')"
   ]
  },
  {
   "cell_type": "code",
   "execution_count": 11,
   "metadata": {
    "colab": {
     "base_uri": "https://localhost:8080/"
    },
    "id": "SXVFCZ45tHK2",
    "outputId": "cc78494e-e38f-4ea6-fb09-e5b26324d3d3",
    "vscode": {
     "languageId": "python"
    }
   },
   "outputs": [
    {
     "data": {
      "text/plain": [
       "(7357, 7)"
      ]
     },
     "execution_count": 11,
     "metadata": {},
     "output_type": "execute_result"
    }
   ],
   "source": [
    "base_dados.shape"
   ]
  },
  {
   "cell_type": "code",
   "execution_count": 12,
   "metadata": {
    "colab": {
     "base_uri": "https://localhost:8080/",
     "height": 493
    },
    "id": "uEzrdS6LtLKN",
    "outputId": "8744881d-815a-416d-8efd-797fbe3921b6",
    "vscode": {
     "languageId": "python"
    }
   },
   "outputs": [
    {
     "data": {
      "text/html": [
       "<div>\n",
       "<style scoped>\n",
       "    .dataframe tbody tr th:only-of-type {\n",
       "        vertical-align: middle;\n",
       "    }\n",
       "\n",
       "    .dataframe tbody tr th {\n",
       "        vertical-align: top;\n",
       "    }\n",
       "\n",
       "    .dataframe thead th {\n",
       "        text-align: right;\n",
       "    }\n",
       "</style>\n",
       "<table border=\"1\" class=\"dataframe\">\n",
       "  <thead>\n",
       "    <tr style=\"text-align: right;\">\n",
       "      <th></th>\n",
       "      <th>Review</th>\n",
       "      <th>Username</th>\n",
       "      <th>Rating</th>\n",
       "      <th>NegativeRating</th>\n",
       "      <th>NeutralRatings</th>\n",
       "      <th>PositiveFeeling</th>\n",
       "      <th>AppName</th>\n",
       "    </tr>\n",
       "  </thead>\n",
       "  <tbody>\n",
       "    <tr>\n",
       "      <th>0</th>\n",
       "      <td>The app has improved significantly, sometimes ...</td>\n",
       "      <td>Joel Hernández</td>\n",
       "      <td>4</td>\n",
       "      <td>0</td>\n",
       "      <td>0</td>\n",
       "      <td>1</td>\n",
       "      <td>sentimentos</td>\n",
       "    </tr>\n",
       "    <tr>\n",
       "      <th>1</th>\n",
       "      <td>Lately, with every update the app gets worse: ...</td>\n",
       "      <td>Lucas Santos</td>\n",
       "      <td>3</td>\n",
       "      <td>0</td>\n",
       "      <td>1</td>\n",
       "      <td>0</td>\n",
       "      <td>sentimentos</td>\n",
       "    </tr>\n",
       "    <tr>\n",
       "      <th>2</th>\n",
       "      <td>I haven't been able to access the App. It won'...</td>\n",
       "      <td>Oscar D. Molina Sosa</td>\n",
       "      <td>3</td>\n",
       "      <td>0</td>\n",
       "      <td>1</td>\n",
       "      <td>0</td>\n",
       "      <td>sentimentos</td>\n",
       "    </tr>\n",
       "    <tr>\n",
       "      <th>3</th>\n",
       "      <td>I have 1 and a half years with this card and I...</td>\n",
       "      <td>Ramón Quijas</td>\n",
       "      <td>1</td>\n",
       "      <td>1</td>\n",
       "      <td>0</td>\n",
       "      <td>0</td>\n",
       "      <td>sentimentos</td>\n",
       "    </tr>\n",
       "    <tr>\n",
       "      <th>4</th>\n",
       "      <td>Very helpful app. The card arrived very fast a...</td>\n",
       "      <td>Emmanuelle Silva</td>\n",
       "      <td>5</td>\n",
       "      <td>0</td>\n",
       "      <td>0</td>\n",
       "      <td>1</td>\n",
       "      <td>sentimentos</td>\n",
       "    </tr>\n",
       "  </tbody>\n",
       "</table>\n",
       "</div>"
      ],
      "text/plain": [
       "                                              Review              Username   \n",
       "0  The app has improved significantly, sometimes ...        Joel Hernández  \\\n",
       "1  Lately, with every update the app gets worse: ...          Lucas Santos   \n",
       "2  I haven't been able to access the App. It won'...  Oscar D. Molina Sosa   \n",
       "3  I have 1 and a half years with this card and I...          Ramón Quijas   \n",
       "4  Very helpful app. The card arrived very fast a...      Emmanuelle Silva   \n",
       "\n",
       "   Rating  NegativeRating  NeutralRatings  PositiveFeeling      AppName  \n",
       "0       4               0               0                1  sentimentos  \n",
       "1       3               0               1                0  sentimentos  \n",
       "2       3               0               1                0  sentimentos  \n",
       "3       1               1               0                0  sentimentos  \n",
       "4       5               0               0                1  sentimentos  "
      ]
     },
     "execution_count": 12,
     "metadata": {},
     "output_type": "execute_result"
    }
   ],
   "source": [
    "base_dados.head()"
   ]
  },
  {
   "cell_type": "code",
   "execution_count": 13,
   "metadata": {
    "colab": {
     "base_uri": "https://localhost:8080/",
     "height": 545
    },
    "id": "g7mE74ILtPY3",
    "outputId": "3137dedc-27b9-4065-c564-d07f8a512ff9",
    "vscode": {
     "languageId": "python"
    }
   },
   "outputs": [
    {
     "data": {
      "text/html": [
       "<div>\n",
       "<style scoped>\n",
       "    .dataframe tbody tr th:only-of-type {\n",
       "        vertical-align: middle;\n",
       "    }\n",
       "\n",
       "    .dataframe tbody tr th {\n",
       "        vertical-align: top;\n",
       "    }\n",
       "\n",
       "    .dataframe thead th {\n",
       "        text-align: right;\n",
       "    }\n",
       "</style>\n",
       "<table border=\"1\" class=\"dataframe\">\n",
       "  <thead>\n",
       "    <tr style=\"text-align: right;\">\n",
       "      <th></th>\n",
       "      <th>Review</th>\n",
       "      <th>Username</th>\n",
       "      <th>Rating</th>\n",
       "      <th>NegativeRating</th>\n",
       "      <th>NeutralRatings</th>\n",
       "      <th>PositiveFeeling</th>\n",
       "      <th>AppName</th>\n",
       "    </tr>\n",
       "  </thead>\n",
       "  <tbody>\n",
       "    <tr>\n",
       "      <th>7352</th>\n",
       "      <td>Toda a ideia original do Nubank de simplificar...</td>\n",
       "      <td>Leandro C.</td>\n",
       "      <td>1</td>\n",
       "      <td>1</td>\n",
       "      <td>0</td>\n",
       "      <td>0</td>\n",
       "      <td>sentimentos</td>\n",
       "    </tr>\n",
       "    <tr>\n",
       "      <th>7353</th>\n",
       "      <td>Cada vez peor, cuando llegó fui uno de los pri...</td>\n",
       "      <td>Haguen Alferogh</td>\n",
       "      <td>1</td>\n",
       "      <td>1</td>\n",
       "      <td>0</td>\n",
       "      <td>0</td>\n",
       "      <td>sentimentos</td>\n",
       "    </tr>\n",
       "    <tr>\n",
       "      <th>7354</th>\n",
       "      <td>É um ótimo app, o melhor controle de cartão de...</td>\n",
       "      <td>A Google user</td>\n",
       "      <td>4</td>\n",
       "      <td>0</td>\n",
       "      <td>0</td>\n",
       "      <td>1</td>\n",
       "      <td>sentimentos</td>\n",
       "    </tr>\n",
       "    <tr>\n",
       "      <th>7355</th>\n",
       "      <td>Era bom, hoje em dia so passo vergonha. App fu...</td>\n",
       "      <td>Arthwr Ozaki</td>\n",
       "      <td>5</td>\n",
       "      <td>0</td>\n",
       "      <td>0</td>\n",
       "      <td>1</td>\n",
       "      <td>sentimentos</td>\n",
       "    </tr>\n",
       "    <tr>\n",
       "      <th>7356</th>\n",
       "      <td>Falta de vontade de quem te atende de enviar u...</td>\n",
       "      <td>Fabio A</td>\n",
       "      <td>1</td>\n",
       "      <td>1</td>\n",
       "      <td>0</td>\n",
       "      <td>0</td>\n",
       "      <td>sentimentos</td>\n",
       "    </tr>\n",
       "  </tbody>\n",
       "</table>\n",
       "</div>"
      ],
      "text/plain": [
       "                                                 Review         Username   \n",
       "7352  Toda a ideia original do Nubank de simplificar...       Leandro C.  \\\n",
       "7353  Cada vez peor, cuando llegó fui uno de los pri...  Haguen Alferogh   \n",
       "7354  É um ótimo app, o melhor controle de cartão de...    A Google user   \n",
       "7355  Era bom, hoje em dia so passo vergonha. App fu...     Arthwr Ozaki   \n",
       "7356  Falta de vontade de quem te atende de enviar u...          Fabio A   \n",
       "\n",
       "      Rating  NegativeRating  NeutralRatings  PositiveFeeling      AppName  \n",
       "7352       1               1               0                0  sentimentos  \n",
       "7353       1               1               0                0  sentimentos  \n",
       "7354       4               0               0                1  sentimentos  \n",
       "7355       5               0               0                1  sentimentos  \n",
       "7356       1               1               0                0  sentimentos  "
      ]
     },
     "execution_count": 13,
     "metadata": {},
     "output_type": "execute_result"
    }
   ],
   "source": [
    "base_dados.tail()"
   ]
  },
  {
   "cell_type": "code",
   "execution_count": 14,
   "metadata": {
    "colab": {
     "base_uri": "https://localhost:8080/",
     "height": 466
    },
    "id": "IekRry3jtT53",
    "outputId": "69d03d6d-d289-4e7c-915f-5ea7cab4b4e5",
    "vscode": {
     "languageId": "python"
    }
   },
   "outputs": [
    {
     "data": {
      "text/plain": [
       "<Axes: xlabel='Rating', ylabel='count'>"
      ]
     },
     "execution_count": 14,
     "metadata": {},
     "output_type": "execute_result"
    },
    {
     "data": {
      "image/png": "[encoded data removed]",
      "text/plain": [
       "<Figure size 640x480 with 1 Axes>"
      ]
     },
     "metadata": {},
     "output_type": "display_data"
    }
   ],
   "source": [
    "base_dados['Rating'] = base_dados['Rating'].round()\n",
    "sns.countplot(x='Rating', data=base_dados)"
   ]
  },
  {
   "cell_type": "markdown",
   "metadata": {
    "id": "h36-8Ien-AQ1"
   },
   "source": [
    "# Etapa 3: Função para pré-processamento dos textos"
   ]
  },
  {
   "cell_type": "code",
   "execution_count": 15,
   "metadata": {
    "colab": {
     "base_uri": "https://localhost:8080/",
     "height": 35
    },
    "id": "a-qD0bc7uBrD",
    "outputId": "4a703917-05ba-46d2-c77f-83c163ebf343",
    "vscode": {
     "languageId": "python"
    }
   },
   "outputs": [
    {
     "data": {
      "text/plain": [
       "'!\"#$%&\\'()*+,-./:;<=>?@[\\\\]^_`{|}~'"
      ]
     },
     "execution_count": 15,
     "metadata": {},
     "output_type": "execute_result"
    }
   ],
   "source": [
    "pontuacoes = string.punctuation\n",
    "pontuacoes"
   ]
  },
  {
   "cell_type": "code",
   "execution_count": 16,
   "metadata": {
    "id": "SowU2ch_uNoe",
    "vscode": {
     "languageId": "python"
    }
   },
   "outputs": [],
   "source": [
    "from spacy.lang.pt.stop_words import STOP_WORDS\n",
    "stop_words = STOP_WORDS"
   ]
  },
  {
   "cell_type": "code",
   "execution_count": 17,
   "metadata": {
    "id": "UilhsfV1uWdo",
    "vscode": {
     "languageId": "python"
    }
   },
   "outputs": [],
   "source": [
    "from spacy.lang.pt.stop_words import STOP_WORDS\n",
    "stop_words = STOP_WORDS"
   ]
  },
  {
   "cell_type": "code",
   "execution_count": 18,
   "metadata": {
    "colab": {
     "base_uri": "https://localhost:8080/"
    },
    "id": "TCPSvh8buZlX",
    "outputId": "f8175ef5-0b21-48be-824b-a1ffc41f3df7",
    "vscode": {
     "languageId": "python"
    }
   },
   "outputs": [
    {
     "data": {
      "text/plain": [
       "416"
      ]
     },
     "execution_count": 18,
     "metadata": {},
     "output_type": "execute_result"
    }
   ],
   "source": [
    "len(stop_words)"
   ]
  },
  {
   "cell_type": "code",
   "execution_count": 19,
   "metadata": {
    "id": "QhF1_72Euc4o",
    "vscode": {
     "languageId": "python"
    }
   },
   "outputs": [],
   "source": [
    "from spacy.lang.pt.stop_words import STOP_WORDS\n",
    "stop_words = STOP_WORDS"
   ]
  },
  {
   "cell_type": "code",
   "execution_count": 20,
   "metadata": {
    "id": "RvCEW_Uqune8",
    "vscode": {
     "languageId": "python"
    }
   },
   "outputs": [],
   "source": [
    "def preprocessamento(texto):\n",
    "  texto = texto.lower()\n",
    "  documento = nlp(texto)\n",
    "  \n",
    "  lista = []\n",
    "  for token in documento:\n",
    "    #lista.append(token.text)\n",
    "    lista.append(token.lemma_)\n",
    "\n",
    "  lista = [palavra for palavra in lista if palavra not in stop_words and palavra not in pontuacoes]\n",
    "  lista = ' '.join([str(elemento) for elemento in lista if not elemento.isdigit()])\n",
    "\n",
    "  return lista"
   ]
  },
  {
   "cell_type": "code",
   "execution_count": 21,
   "metadata": {
    "colab": {
     "base_uri": "https://localhost:8080/",
     "height": 35
    },
    "id": "2_nIBBhYuqsr",
    "outputId": "20f6e190-cb0b-4ce7-fd7a-b2742950d097",
    "vscode": {
     "languageId": "python"
    }
   },
   "outputs": [
    {
     "data": {
      "text/plain": [
       "'aprender processamento linguagem natural curso curitiba'"
      ]
     },
     "execution_count": 21,
     "metadata": {},
     "output_type": "execute_result"
    }
   ],
   "source": [
    "teste = preprocessamento('Estou aPrendendo 1 10 23 processamento de linguagem natural, Curso em Curitiba')\n",
    "teste"
   ]
  },
  {
   "cell_type": "markdown",
   "metadata": {
    "id": "DtL8DBPVOFoL"
   },
   "source": [
    "# Etapa 4: Pré-processamento da base de dados"
   ]
  },
  {
   "cell_type": "markdown",
   "metadata": {
    "id": "n7G5PSVUOOId"
   },
   "source": [
    "### Limpeza dos textos"
   ]
  },
  {
   "cell_type": "code",
   "execution_count": 22,
   "metadata": {
    "colab": {
     "base_uri": "https://localhost:8080/",
     "height": 876
    },
    "id": "hpwZrbUGw58L",
    "outputId": "3406bef6-8cb0-4dbc-f6f7-7209baee91ed",
    "vscode": {
     "languageId": "python"
    }
   },
   "outputs": [
    {
     "data": {
      "text/html": [
       "<div>\n",
       "<style scoped>\n",
       "    .dataframe tbody tr th:only-of-type {\n",
       "        vertical-align: middle;\n",
       "    }\n",
       "\n",
       "    .dataframe tbody tr th {\n",
       "        vertical-align: top;\n",
       "    }\n",
       "\n",
       "    .dataframe thead th {\n",
       "        text-align: right;\n",
       "    }\n",
       "</style>\n",
       "<table border=\"1\" class=\"dataframe\">\n",
       "  <thead>\n",
       "    <tr style=\"text-align: right;\">\n",
       "      <th></th>\n",
       "      <th>Review</th>\n",
       "      <th>Username</th>\n",
       "      <th>Rating</th>\n",
       "      <th>NegativeRating</th>\n",
       "      <th>NeutralRatings</th>\n",
       "      <th>PositiveFeeling</th>\n",
       "      <th>AppName</th>\n",
       "    </tr>\n",
       "  </thead>\n",
       "  <tbody>\n",
       "    <tr>\n",
       "      <th>0</th>\n",
       "      <td>The app has improved significantly, sometimes ...</td>\n",
       "      <td>Joel Hernández</td>\n",
       "      <td>4</td>\n",
       "      <td>0</td>\n",
       "      <td>0</td>\n",
       "      <td>1</td>\n",
       "      <td>sentimentos</td>\n",
       "    </tr>\n",
       "    <tr>\n",
       "      <th>1</th>\n",
       "      <td>Lately, with every update the app gets worse: ...</td>\n",
       "      <td>Lucas Santos</td>\n",
       "      <td>3</td>\n",
       "      <td>0</td>\n",
       "      <td>1</td>\n",
       "      <td>0</td>\n",
       "      <td>sentimentos</td>\n",
       "    </tr>\n",
       "    <tr>\n",
       "      <th>2</th>\n",
       "      <td>I haven't been able to access the App. It won'...</td>\n",
       "      <td>Oscar D. Molina Sosa</td>\n",
       "      <td>3</td>\n",
       "      <td>0</td>\n",
       "      <td>1</td>\n",
       "      <td>0</td>\n",
       "      <td>sentimentos</td>\n",
       "    </tr>\n",
       "    <tr>\n",
       "      <th>3</th>\n",
       "      <td>I have 1 and a half years with this card and I...</td>\n",
       "      <td>Ramón Quijas</td>\n",
       "      <td>1</td>\n",
       "      <td>1</td>\n",
       "      <td>0</td>\n",
       "      <td>0</td>\n",
       "      <td>sentimentos</td>\n",
       "    </tr>\n",
       "    <tr>\n",
       "      <th>4</th>\n",
       "      <td>Very helpful app. The card arrived very fast a...</td>\n",
       "      <td>Emmanuelle Silva</td>\n",
       "      <td>5</td>\n",
       "      <td>0</td>\n",
       "      <td>0</td>\n",
       "      <td>1</td>\n",
       "      <td>sentimentos</td>\n",
       "    </tr>\n",
       "    <tr>\n",
       "      <th>5</th>\n",
       "      <td>It is failing lately, it lags and never opens,...</td>\n",
       "      <td>Sandra Villanueva</td>\n",
       "      <td>3</td>\n",
       "      <td>0</td>\n",
       "      <td>1</td>\n",
       "      <td>0</td>\n",
       "      <td>sentimentos</td>\n",
       "    </tr>\n",
       "    <tr>\n",
       "      <th>6</th>\n",
       "      <td>It used to be a good app. Now the UX is bloate...</td>\n",
       "      <td>Raul Kist</td>\n",
       "      <td>2</td>\n",
       "      <td>1</td>\n",
       "      <td>0</td>\n",
       "      <td>0</td>\n",
       "      <td>sentimentos</td>\n",
       "    </tr>\n",
       "    <tr>\n",
       "      <th>7</th>\n",
       "      <td>Locked out of the app, can't pass by the finge...</td>\n",
       "      <td>Danilo de Queiroz</td>\n",
       "      <td>1</td>\n",
       "      <td>1</td>\n",
       "      <td>0</td>\n",
       "      <td>0</td>\n",
       "      <td>sentimentos</td>\n",
       "    </tr>\n",
       "    <tr>\n",
       "      <th>8</th>\n",
       "      <td>Unbelievable, I just spent hours on the chat, ...</td>\n",
       "      <td>Monica V. Freitas</td>\n",
       "      <td>1</td>\n",
       "      <td>1</td>\n",
       "      <td>0</td>\n",
       "      <td>0</td>\n",
       "      <td>sentimentos</td>\n",
       "    </tr>\n",
       "    <tr>\n",
       "      <th>9</th>\n",
       "      <td>It is an amazing and simple, easy-to-use app. ...</td>\n",
       "      <td>Rafa S</td>\n",
       "      <td>5</td>\n",
       "      <td>0</td>\n",
       "      <td>0</td>\n",
       "      <td>1</td>\n",
       "      <td>sentimentos</td>\n",
       "    </tr>\n",
       "  </tbody>\n",
       "</table>\n",
       "</div>"
      ],
      "text/plain": [
       "                                              Review              Username   \n",
       "0  The app has improved significantly, sometimes ...        Joel Hernández  \\\n",
       "1  Lately, with every update the app gets worse: ...          Lucas Santos   \n",
       "2  I haven't been able to access the App. It won'...  Oscar D. Molina Sosa   \n",
       "3  I have 1 and a half years with this card and I...          Ramón Quijas   \n",
       "4  Very helpful app. The card arrived very fast a...      Emmanuelle Silva   \n",
       "5  It is failing lately, it lags and never opens,...     Sandra Villanueva   \n",
       "6  It used to be a good app. Now the UX is bloate...             Raul Kist   \n",
       "7  Locked out of the app, can't pass by the finge...     Danilo de Queiroz   \n",
       "8  Unbelievable, I just spent hours on the chat, ...     Monica V. Freitas   \n",
       "9  It is an amazing and simple, easy-to-use app. ...                Rafa S   \n",
       "\n",
       "   Rating  NegativeRating  NeutralRatings  PositiveFeeling      AppName  \n",
       "0       4               0               0                1  sentimentos  \n",
       "1       3               0               1                0  sentimentos  \n",
       "2       3               0               1                0  sentimentos  \n",
       "3       1               1               0                0  sentimentos  \n",
       "4       5               0               0                1  sentimentos  \n",
       "5       3               0               1                0  sentimentos  \n",
       "6       2               1               0                0  sentimentos  \n",
       "7       1               1               0                0  sentimentos  \n",
       "8       1               1               0                0  sentimentos  \n",
       "9       5               0               0                1  sentimentos  "
      ]
     },
     "execution_count": 22,
     "metadata": {},
     "output_type": "execute_result"
    }
   ],
   "source": [
    "base_dados.head(10)"
   ]
  },
  {
   "cell_type": "code",
   "execution_count": 23,
   "metadata": {
    "id": "Yg17ZY0LxHB-",
    "vscode": {
     "languageId": "python"
    }
   },
   "outputs": [],
   "source": [
    "base_dados['Review'] = base_dados['Review'].apply(preprocessamento)"
   ]
  },
  {
   "cell_type": "code",
   "execution_count": 24,
   "metadata": {
    "colab": {
     "base_uri": "https://localhost:8080/",
     "height": 841
    },
    "id": "a-Rh0qZQxZ99",
    "outputId": "28f1cb03-1638-448f-aa49-b906d96459d6",
    "vscode": {
     "languageId": "python"
    }
   },
   "outputs": [
    {
     "data": {
      "text/html": [
       "<div>\n",
       "<style scoped>\n",
       "    .dataframe tbody tr th:only-of-type {\n",
       "        vertical-align: middle;\n",
       "    }\n",
       "\n",
       "    .dataframe tbody tr th {\n",
       "        vertical-align: top;\n",
       "    }\n",
       "\n",
       "    .dataframe thead th {\n",
       "        text-align: right;\n",
       "    }\n",
       "</style>\n",
       "<table border=\"1\" class=\"dataframe\">\n",
       "  <thead>\n",
       "    <tr style=\"text-align: right;\">\n",
       "      <th></th>\n",
       "      <th>Review</th>\n",
       "      <th>Username</th>\n",
       "      <th>Rating</th>\n",
       "      <th>NegativeRating</th>\n",
       "      <th>NeutralRatings</th>\n",
       "      <th>PositiveFeeling</th>\n",
       "      <th>AppName</th>\n",
       "    </tr>\n",
       "  </thead>\n",
       "  <tbody>\n",
       "    <tr>\n",
       "      <th>0</th>\n",
       "      <td>the app has improved significantly sometime it...</td>\n",
       "      <td>Joel Hernández</td>\n",
       "      <td>4</td>\n",
       "      <td>0</td>\n",
       "      <td>0</td>\n",
       "      <td>1</td>\n",
       "      <td>sentimentos</td>\n",
       "    </tr>\n",
       "    <tr>\n",
       "      <th>1</th>\n",
       "      <td>lately with every update the app gets Worse ev...</td>\n",
       "      <td>Lucas Santos</td>\n",
       "      <td>3</td>\n",
       "      <td>0</td>\n",
       "      <td>1</td>\n",
       "      <td>0</td>\n",
       "      <td>sentimentos</td>\n",
       "    </tr>\n",
       "    <tr>\n",
       "      <th>2</th>\n",
       "      <td>i Haven't been Able to access the app it won't...</td>\n",
       "      <td>Oscar D. Molina Sosa</td>\n",
       "      <td>3</td>\n",
       "      <td>0</td>\n",
       "      <td>1</td>\n",
       "      <td>0</td>\n",
       "      <td>sentimentos</td>\n",
       "    </tr>\n",
       "    <tr>\n",
       "      <th>3</th>\n",
       "      <td>i have and Half years With thi card and i have...</td>\n",
       "      <td>Ramón Quijas</td>\n",
       "      <td>1</td>\n",
       "      <td>1</td>\n",
       "      <td>0</td>\n",
       "      <td>0</td>\n",
       "      <td>sentimentos</td>\n",
       "    </tr>\n",
       "    <tr>\n",
       "      <th>4</th>\n",
       "      <td>very helpful app the card arrived very fast at...</td>\n",
       "      <td>Emmanuelle Silva</td>\n",
       "      <td>5</td>\n",
       "      <td>0</td>\n",
       "      <td>0</td>\n",
       "      <td>1</td>\n",
       "      <td>sentimentos</td>\n",
       "    </tr>\n",
       "    <tr>\n",
       "      <th>5</th>\n",
       "      <td>it is Failing lately it lags and never opem i ...</td>\n",
       "      <td>Sandra Villanueva</td>\n",
       "      <td>3</td>\n",
       "      <td>0</td>\n",
       "      <td>1</td>\n",
       "      <td>0</td>\n",
       "      <td>sentimentos</td>\n",
       "    </tr>\n",
       "    <tr>\n",
       "      <th>6</th>\n",
       "      <td>it used to be good app now the ux is Bloated W...</td>\n",
       "      <td>Raul Kist</td>\n",
       "      <td>2</td>\n",
       "      <td>1</td>\n",
       "      <td>0</td>\n",
       "      <td>0</td>\n",
       "      <td>sentimentos</td>\n",
       "    </tr>\n",
       "    <tr>\n",
       "      <th>7</th>\n",
       "      <td>locked out of the app can't pass by the finger...</td>\n",
       "      <td>Danilo de Queiroz</td>\n",
       "      <td>1</td>\n",
       "      <td>1</td>\n",
       "      <td>0</td>\n",
       "      <td>0</td>\n",
       "      <td>sentimentos</td>\n",
       "    </tr>\n",
       "    <tr>\n",
       "      <th>8</th>\n",
       "      <td>unbelievable i just spent hours on the chat ta...</td>\n",
       "      <td>Monica V. Freitas</td>\n",
       "      <td>1</td>\n",
       "      <td>1</td>\n",
       "      <td>0</td>\n",
       "      <td>0</td>\n",
       "      <td>sentimentos</td>\n",
       "    </tr>\n",
       "    <tr>\n",
       "      <th>9</th>\n",
       "      <td>it is an amazing and simple easy-to-use app th...</td>\n",
       "      <td>Rafa S</td>\n",
       "      <td>5</td>\n",
       "      <td>0</td>\n",
       "      <td>0</td>\n",
       "      <td>1</td>\n",
       "      <td>sentimentos</td>\n",
       "    </tr>\n",
       "  </tbody>\n",
       "</table>\n",
       "</div>"
      ],
      "text/plain": [
       "                                              Review              Username   \n",
       "0  the app has improved significantly sometime it...        Joel Hernández  \\\n",
       "1  lately with every update the app gets Worse ev...          Lucas Santos   \n",
       "2  i Haven't been Able to access the app it won't...  Oscar D. Molina Sosa   \n",
       "3  i have and Half years With thi card and i have...          Ramón Quijas   \n",
       "4  very helpful app the card arrived very fast at...      Emmanuelle Silva   \n",
       "5  it is Failing lately it lags and never opem i ...     Sandra Villanueva   \n",
       "6  it used to be good app now the ux is Bloated W...             Raul Kist   \n",
       "7  locked out of the app can't pass by the finger...     Danilo de Queiroz   \n",
       "8  unbelievable i just spent hours on the chat ta...     Monica V. Freitas   \n",
       "9  it is an amazing and simple easy-to-use app th...                Rafa S   \n",
       "\n",
       "   Rating  NegativeRating  NeutralRatings  PositiveFeeling      AppName  \n",
       "0       4               0               0                1  sentimentos  \n",
       "1       3               0               1                0  sentimentos  \n",
       "2       3               0               1                0  sentimentos  \n",
       "3       1               1               0                0  sentimentos  \n",
       "4       5               0               0                1  sentimentos  \n",
       "5       3               0               1                0  sentimentos  \n",
       "6       2               1               0                0  sentimentos  \n",
       "7       1               1               0                0  sentimentos  \n",
       "8       1               1               0                0  sentimentos  \n",
       "9       5               0               0                1  sentimentos  "
      ]
     },
     "execution_count": 24,
     "metadata": {},
     "output_type": "execute_result"
    }
   ],
   "source": [
    "base_dados.head(10)"
   ]
  },
  {
   "cell_type": "markdown",
   "metadata": {
    "id": "trA39YO4PcFp"
   },
   "source": [
    "### Tratamento da classe"
   ]
  },
  {
   "cell_type": "code",
   "execution_count": 25,
   "metadata": {
    "id": "SPPY0MlIYoTR",
    "vscode": {
     "languageId": "python"
    }
   },
   "outputs": [],
   "source": [
    "exemplo_base_dados = [[\"este trabalho é agradável\", {\"Negative\": True, \"Neutral\": False, \"Positive\": False}],\n",
    "                      [\"este lugar continua assustador\", {\"Negative\": False, \"Neutral\": True, \"Positive\": False}]]"
   ]
  },
  {
   "cell_type": "code",
   "execution_count": 26,
   "metadata": {
    "colab": {
     "base_uri": "https://localhost:8080/"
    },
    "id": "u_2R-JWKyJ9c",
    "outputId": "cc9e7745-6c26-4b36-ed57-7cac384ad967",
    "vscode": {
     "languageId": "python"
    }
   },
   "outputs": [
    {
     "data": {
      "text/plain": [
       "list"
      ]
     },
     "execution_count": 26,
     "metadata": {},
     "output_type": "execute_result"
    }
   ],
   "source": [
    "type(exemplo_base_dados)"
   ]
  },
  {
   "cell_type": "code",
   "execution_count": 27,
   "metadata": {
    "colab": {
     "base_uri": "https://localhost:8080/"
    },
    "id": "baZHkQZgyVNV",
    "outputId": "aa29afec-d74a-45dc-e6ee-ad2aacaa0dd5",
    "vscode": {
     "languageId": "python"
    }
   },
   "outputs": [
    {
     "data": {
      "text/plain": [
       "['este trabalho é agradável',\n",
       " {'Negative': True, 'Neutral': False, 'Positive': False}]"
      ]
     },
     "execution_count": 27,
     "metadata": {},
     "output_type": "execute_result"
    }
   ],
   "source": [
    "exemplo_base_dados[0]"
   ]
  },
  {
   "cell_type": "code",
   "execution_count": 28,
   "metadata": {
    "colab": {
     "base_uri": "https://localhost:8080/",
     "height": 35
    },
    "id": "BXVJt4BHyZsR",
    "outputId": "2450a043-d63f-4496-c5c1-fb9d843c1174",
    "vscode": {
     "languageId": "python"
    }
   },
   "outputs": [
    {
     "data": {
      "text/plain": [
       "'este trabalho é agradável'"
      ]
     },
     "execution_count": 28,
     "metadata": {},
     "output_type": "execute_result"
    }
   ],
   "source": [
    "exemplo_base_dados[0][0]"
   ]
  },
  {
   "cell_type": "code",
   "execution_count": 29,
   "metadata": {
    "colab": {
     "base_uri": "https://localhost:8080/"
    },
    "id": "y_xMiJIGydyE",
    "outputId": "a7a8abd9-05f4-4ed1-8f83-7043d9a6c713",
    "vscode": {
     "languageId": "python"
    }
   },
   "outputs": [
    {
     "data": {
      "text/plain": [
       "{'Negative': True, 'Neutral': False, 'Positive': False}"
      ]
     },
     "execution_count": 29,
     "metadata": {},
     "output_type": "execute_result"
    }
   ],
   "source": [
    "exemplo_base_dados[0][1]"
   ]
  },
  {
   "cell_type": "code",
   "execution_count": 30,
   "metadata": {
    "colab": {
     "base_uri": "https://localhost:8080/"
    },
    "id": "fEWag1Glyg4M",
    "outputId": "bc0233b0-281d-4c01-ac84-c845ae02589c",
    "vscode": {
     "languageId": "python"
    }
   },
   "outputs": [
    {
     "data": {
      "text/plain": [
       "dict"
      ]
     },
     "execution_count": 30,
     "metadata": {},
     "output_type": "execute_result"
    }
   ],
   "source": [
    "type(exemplo_base_dados[0][1])"
   ]
  },
  {
   "cell_type": "code",
   "execution_count": 31,
   "metadata": {
    "id": "TH31QeqEyrub",
    "vscode": {
     "languageId": "python"
    }
   },
   "outputs": [],
   "source": [
    "base_dados_final = []\n",
    "for texto, negative, neutral, positive in zip(base_dados['Review'], base_dados['NegativeRating'], base_dados['NeutralRatings'], base_dados['PositiveFeeling']):\n",
    "  #print(texto, emocao)\n",
    "  if negative == 1:\n",
    "    dic = ({\"Negative\": True, \"Neutral\": False, \"Positive\": False})\n",
    "  elif neutral == 'medo':\n",
    "    dic = ({\"Negative\": False, \"Neutral\": True, \"Positive\": False})\n",
    "  else: \n",
    "    dic = ({\"Negative\": False, \"Neutral\": False, \"Positive\": True})  \n",
    "\n",
    "  base_dados_final.append([texto, dic.copy()])"
   ]
  },
  {
   "cell_type": "code",
   "execution_count": 32,
   "metadata": {
    "colab": {
     "base_uri": "https://localhost:8080/"
    },
    "id": "L-uCDjrazfyN",
    "outputId": "a0e3e579-d124-4ef6-ce6a-811e4c0b460c",
    "vscode": {
     "languageId": "python"
    }
   },
   "outputs": [
    {
     "data": {
      "text/plain": [
       "7357"
      ]
     },
     "execution_count": 32,
     "metadata": {},
     "output_type": "execute_result"
    }
   ],
   "source": [
    "len(base_dados_final)"
   ]
  },
  {
   "cell_type": "code",
   "execution_count": 33,
   "metadata": {
    "colab": {
     "base_uri": "https://localhost:8080/"
    },
    "id": "Nxl28cCezjjS",
    "outputId": "eb3a4cff-894e-4b76-86f0-b76aabbb65aa",
    "vscode": {
     "languageId": "python"
    }
   },
   "outputs": [
    {
     "data": {
      "text/plain": [
       "[\"the app has improved significantly sometime it takes while to Load but definitely it 's in better state es ha mejorar en cuar tarda en cargar pero ya en mucho mejor Estado\",\n",
       " {'Negative': False, 'Neutral': False, 'Positive': True}]"
      ]
     },
     "execution_count": 33,
     "metadata": {},
     "output_type": "execute_result"
    }
   ],
   "source": [
    "base_dados_final[0]"
   ]
  },
  {
   "cell_type": "code",
   "execution_count": 34,
   "metadata": {
    "colab": {
     "base_uri": "https://localhost:8080/",
     "height": 53
    },
    "id": "LR_UPCX5zodw",
    "outputId": "8de0bfbe-c0ab-43f6-fc4e-95701816edeb",
    "vscode": {
     "languageId": "python"
    }
   },
   "outputs": [
    {
     "data": {
      "text/plain": [
       "\"the app has improved significantly sometime it takes while to Load but definitely it 's in better state es ha mejorar en cuar tarda en cargar pero ya en mucho mejor Estado\""
      ]
     },
     "execution_count": 34,
     "metadata": {},
     "output_type": "execute_result"
    }
   ],
   "source": [
    "base_dados_final[0][0]"
   ]
  },
  {
   "cell_type": "code",
   "execution_count": 35,
   "metadata": {
    "colab": {
     "base_uri": "https://localhost:8080/"
    },
    "id": "-0M3jriRzrho",
    "outputId": "1969ba89-624e-421d-fbf7-420f30f75b19",
    "vscode": {
     "languageId": "python"
    }
   },
   "outputs": [
    {
     "data": {
      "text/plain": [
       "{'Negative': False, 'Neutral': False, 'Positive': True}"
      ]
     },
     "execution_count": 35,
     "metadata": {},
     "output_type": "execute_result"
    }
   ],
   "source": [
    "base_dados_final[0][1]"
   ]
  },
  {
   "cell_type": "code",
   "execution_count": 36,
   "metadata": {
    "colab": {
     "base_uri": "https://localhost:8080/"
    },
    "id": "RcO2rX_Nzue-",
    "outputId": "88c8be49-8329-4c8d-89f4-f27cc22ce042",
    "vscode": {
     "languageId": "python"
    }
   },
   "outputs": [
    {
     "data": {
      "text/plain": [
       "dict"
      ]
     },
     "execution_count": 36,
     "metadata": {},
     "output_type": "execute_result"
    }
   ],
   "source": [
    "type(base_dados_final[0][1])"
   ]
  },
  {
   "cell_type": "code",
   "execution_count": 37,
   "metadata": {
    "colab": {
     "base_uri": "https://localhost:8080/"
    },
    "id": "VoF9RsEFzySQ",
    "outputId": "6a15639c-7ae7-471a-a509-e115f842b2d8",
    "vscode": {
     "languageId": "python"
    }
   },
   "outputs": [
    {
     "data": {
      "text/plain": [
       "[[\"the app has improved significantly sometime it takes while to Load but definitely it 's in better state es ha mejorar en cuar tarda en cargar pero ya en mucho mejor Estado\",\n",
       "  {'Negative': False, 'Neutral': False, 'Positive': True}],\n",
       " [\"lately with every update the app gets Worse everytime that i want to Make payment i need to Confirm my identity the pig Savings money doesn't get interest anymore sincer the money need to stay one Month and every payment pick older money first the saving boxe canr only be withdrawn in business day horrible if you have an emergency outsidir ther and it is pushed emergency savings Loading time feel even longer With More Menu buttom and soft resets often during use\",\n",
       "  {'Negative': False, 'Neutral': False, 'Positive': True}],\n",
       " [\"i Haven't been Able to access the app it won't allow to switch from brazil to mexico i don't Speak portugué so that suck i've uninstalled and re-download several time since that 's what i Was told to de o by customer service didn't help\",\n",
       "  {'Negative': False, 'Neutral': False, 'Positive': True}],\n",
       " ['i have and Half years With thi card and i have paid it in full every Month Without any delay and Week ago they blocked my card Without being able to unlockr it due to their own mistakes',\n",
       "  {'Negative': True, 'Neutral': False, 'Positive': False}],\n",
       " ['very helpful app the card arrived very fast at home',\n",
       "  {'Negative': False, 'Neutral': False, 'Positive': True}],\n",
       " ['it is Failing lately it lags and never opem i have to uninstall and reinstall in order to log at it really slow well',\n",
       "  {'Negative': False, 'Neutral': False, 'Positive': True}],\n",
       " ['it used to be good app now the ux is Bloated With lot of uninteresting products and it became Spamming Machine insteadr of bank app',\n",
       "  {'Negative': True, 'Neutral': False, 'Positive': False}],\n",
       " [\"locked out of the app can't pass by the fingerprint screen anymore had Uninstalled and reinstalled and it didn't solved\",\n",
       "  {'Negative': True, 'Neutral': False, 'Positive': False}],\n",
       " ['unbelievable i just spent hours on the chat talking to Different People email and print screem flying back and Forth rebootr The phone log in log out jumping thru All sorts of hoops the Last Guy to Tell the answer to my issue is supposedly Very simple hours terrible app Terrible customer service Not happy and at thi point Considering Just Closing the account and deleting the app',\n",
       "  {'Negative': True, 'Neutral': False, 'Positive': False}],\n",
       " ['it is an amazing and simple easy-to-use app the developers are doing great job well everyone in the team Behind The Nubank app Project one detail suggestion i think everyone Would lover and that could be Added in the app is the Option dark mode so we can have dark-themed ui With darker screen',\n",
       "  {'Negative': False, 'Neutral': False, 'Positive': True}],\n",
       " ['Not good Your Last update logged out now i cant log in again Because im Not receiving the confirmation email With the coder whats happening',\n",
       "  {'Negative': True, 'Neutral': False, 'Positive': False}],\n",
       " [\"i had to rewrite my review to de o thi App justice i've used different digital bank apps over year nubankr has been the best ui fantastic and easy to navigate issue loans quick convenient takes seconds to get loan Low interest rate and highly customisable conta pj thi is where the app shine Almost bureaucracy took seconds to Open All the Competitors required loads of documents and clunky questionnair looking forward to using Your investment featur\",\n",
       "  {'Negative': False, 'Neutral': False, 'Positive': True}],\n",
       " ['best bank esp gringo foreigner living in brazil it has been impossible to get bank account with the exception of Nubank incredibly easy to use and Free transfers saving lot of Money Because one of my requirements Was to be able to transfer money to Some People i work with compared to my bank accounts the experience is Much simpler and pleasant to use',\n",
       "  {'Negative': False, 'Neutral': False, 'Positive': True}],\n",
       " [\"i'm super impressed With nu The amount of information that give you is impressive you get pop-up verification charges you can select Your own billing date you can Manage Your Credit line it 's honestly The best i've tried and i have tried around of these\",\n",
       "  {'Negative': False, 'Neutral': False, 'Positive': True}],\n",
       " ['usually the app de o not update the information inside when you pay bill Example The account amount of Money de o Not update With the discounted value you need to rest it to actually Work.the Credit debit card lose the limit of payment Configuration the approximation payments its Really bad and unsafe',\n",
       "  {'Negative': False, 'Neutral': False, 'Positive': True}],\n",
       " [\"🇨 🇴 it would be super nice if we can have savings account With nu we can add some hashtags to our expenses but there isn't any feature to filter expenses visualize that information in More Graphic Way thi is super necessary there isn't any reward using the nu card cashback buy Now pay later\",\n",
       "  {'Negative': False, 'Neutral': False, 'Positive': True}],\n",
       " [\"sincer the last update thi app lot of the functiom only work when it wants to the Most critical one is The one that unblock The Card i leave my card blocked all the time and unblock it only when i need to it and when i needed it the Most it fails on and i can't it congrats leaving such critical bug on Your application\",\n",
       "  {'Negative': True, 'Neutral': False, 'Positive': False}],\n",
       " [\"app used to be simple and to the point you need to close bunch of fullscreen Modals About New products before you see the Main Page marketing push notifications all the time even black friday deals impossible to unsubscribe From their email newsletter the Last drop is that thi institution sell bitcoin that you can't withdraw to wallet\",\n",
       "  {'Negative': True, 'Neutral': False, 'Positive': False}],\n",
       " [\"the app is Working very Well i've been using while and didn't had many problems ... the only thing i Wanted is when the purchase is denied they should show the Store where the purchase Was made sometime i get chargir and have em o idea wherir it came from ... thi happem when i lower my limit ...\",\n",
       "  {'Negative': False, 'Neutral': False, 'Positive': True}],\n",
       " [\"i Am quite happy with the app so far and the graphic user interface although some parts of the app Are shown in portuguese when i have the app in spanish i understand that this is the app 's original language but i hope they can fix thi in future update\",\n",
       "  {'Negative': False, 'Neutral': False, 'Positive': True}],\n",
       " [\"the app is Working very Well i've been using while and didn't had many problems ... the only thing i Wanted is when the purchase is denied they should show the Store where the purchase Was made sometime i get chargir and have em o idea wherir it came from ... thi happem when i lower ...\",\n",
       "  {'Negative': False, 'Neutral': False, 'Positive': True}],\n",
       " [\"Nubank Was my favorite sincer until they charged two purchases on my Credit card that i didn't de o i contacted them asking to Cancel thoses purchases but insteadr they blocked my card and sent another one Telling that they could de o em o more than opening ticket trying to get The Seller which i don't Even Know to refund my money if they Wish to that 's simply ridiculous and made leaver thi bank and get my whole family out with\",\n",
       "  {'Negative': True, 'Neutral': False, 'Positive': False}],\n",
       " ['the app is quite good on the bank app categoryr is The best i have seen although one interesting feature that you can show is the nuconto revenue from the beginning until now revenue from x until y total iof from x until y total',\n",
       "  {'Negative': False, 'Neutral': False, 'Positive': True}],\n",
       " [\"sincer last update the app crashes constantly the problem Was Known and reported on Beta version but the developers choose to push bugged version into production and since you can't bank functiom Without the app it 's Getting pretty much useless Beyond the Credit Card\",\n",
       "  {'Negative': True, 'Neutral': False, 'Positive': False}],\n",
       " [\"nubankr is an excellent Credit card Although after it expir i Will never it again i'm using at Least two years now and never missed payment i've been trying to get bigger limit months and Nothing so i'm changing Credit card that is Giving better limit\",\n",
       "  {'Negative': True, 'Neutral': False, 'Positive': False}],\n",
       " ['Simple easy to use intuitive unbloated it has only What Matters on the other hand tracker on single app is Kind of Abusive and extremely invasive',\n",
       "  {'Negative': True, 'Neutral': False, 'Positive': False}],\n",
       " [\"i'm in love With thi app you get the instant notification if there 's chargir on Your Credit Card also the interface is very intuitive and clean is 5x time better than other banking apps i have used\",\n",
       "  {'Negative': False, 'Neutral': False, 'Positive': True}],\n",
       " [\"it 's amazing been using it since sept and i've never had problem with it at first i thought it was going to take Long time to increase my Credit line but i Started With only 5,000 mexicanr peso and now i'm at 14,500 i don't Know how much is that on us dollars but Taking that into account and all the great Features that they offer Plus the quick and effective response by the customer service team ... in fewer words they actually care not only they say it it show\",\n",
       "  {'Negative': False, 'Neutral': False, 'Positive': True}],\n",
       " [\"i appliedr the cc and Got it with decent approved amount of Credit but the app became useless after finishing the process it only show message saying the process has ended and i'll get the Credit Card between the next laborable day ... Nothing happened and almost day passed so i reached Nubank through facebook and instead of Helping know what happened they sent an email address to Cancel the card and good bye ... extremely rude Not even an effort to Keep client ..\",\n",
       "  {'Negative': True, 'Neutral': False, 'Positive': False}],\n",
       " [\"sincer the last update i can't access my account the app ask The Smartphone password then i type correctly but apear the nu and ask again the password i alway Remain into thi infinitar loop soon possible i'll close my account\",\n",
       "  {'Negative': True, 'Neutral': False, 'Positive': False}],\n",
       " [\"at the firstr Time it was good Credit product but Along Time it became an incompatible product customer service is just awfulr i came here after my second deception about customer service and limited use of thi card Got partial purchase but when the months to pay has been ended i'm going to cancel thi product\",\n",
       "  {'Negative': True, 'Neutral': False, 'Positive': False}],\n",
       " [\"excellent service impeccable app i've been waiting nearly half year with regular banks but i Got my nu cc Within day very user friendly the app and easy to pay each Month highly recommended to others also love the purple colour :)\",\n",
       "  {'Negative': False, 'Neutral': False, 'Positive': True}],\n",
       " ['i really enjoy being part of Something thi nice everytime i was in need of help nubankr came to my aid and protected my account talking About security it cover my needs i used to believe All banks werir horrible nubankr has been changing that',\n",
       "  {'Negative': False, 'Neutral': False, 'Positive': True}],\n",
       " ['the Worst bank app i ever saw and i didnt Even Know it was Possible there Are optiom that are there in one and are not one next one connection error All the time some time the app just Reset and go back to the home unlogged screen ... really suck',\n",
       "  {'Negative': True, 'Neutral': False, 'Positive': False}],\n",
       " ['easy to use simple and sophisticated',\n",
       "  {'Negative': False, 'Neutral': False, 'Positive': True}],\n",
       " ['i cant log in my acount Cause its not update and i cant get New update cuase it is the Last version i have',\n",
       "  {'Negative': True, 'Neutral': False, 'Positive': False}],\n",
       " ['the only take away is the application is only in portuguese very complete With service unavailable in other banking apps simple to use and excellent security',\n",
       "  {'Negative': False, 'Neutral': False, 'Positive': True}],\n",
       " [\"it'd be cool if we had Dark mode option available fairly easy thing to implement and i'm sure many People 's eyes Would very much appreciater it ..\",\n",
       "  {'Negative': False, 'Neutral': False, 'Positive': True}],\n",
       " [\"i'm changing the rate of the app Because sincer the Last Couple of update it constantly fails some useful functionalitie werir removed and when you need it the Most it just breaks ... so bad nubank you used to be awesomer\",\n",
       "  {'Negative': False, 'Neutral': False, 'Positive': True}],\n",
       " [\"simple to set up easy to use and they Will providir you with all The Guidance you need pair that With the great costumer support and thi is probably the best bank i've ever had the pleasure to have an account on would highly recommend\",\n",
       "  {'Negative': False, 'Neutral': False, 'Positive': True}],\n",
       " ['im not mad im disappointed i tried making account my savings and it failed it said youll receiver confirmation email and the app just crashed thi happem all the time',\n",
       "  {'Negative': True, 'Neutral': False, 'Positive': False}],\n",
       " [\"oh my what on earth Was thi latest update visually polluted and my Credit card info simply doesn't appear sometime just my current account info then i've Got to reopen the app and hope it show up disclaimer love Nubank service my complaint is exclusively about the latest app update\",\n",
       "  {'Negative': True, 'Neutral': False, 'Positive': False}],\n",
       " ['very good totally free and now it offer debit function well Plus unlimited transfer to any bank account free well',\n",
       "  {'Negative': False, 'Neutral': False, 'Positive': True}],\n",
       " ['latest update broke the app on my device it is very concerning Not having access to my account all of sudden support did Not take responsibility the incident and tried to act Like it was an issue outside of the app',\n",
       "  {'Negative': True, 'Neutral': False, 'Positive': False}],\n",
       " ['All bs ads say they approver or Even if you have it preapproved you Will get Your Credit in day have triedr thi with friends of mine and it alway Sends you to waitlist that Lasts month even after that didnt get any Mail back',\n",
       "  {'Negative': True, 'Neutral': False, 'Positive': False}],\n",
       " ['i Was invited to Open an account follow All the process when asked gor the app to take picture of my rg the app show an error and i cant complete my registration checked All permissions on my phone and they are ok the Nubank app the app version is the latest now i have hanging process With em o supprt and i cant Cancel need to find another bank',\n",
       "  {'Negative': True, 'Neutral': False, 'Positive': False}],\n",
       " ['nubankr is New brazilian virtual bank approach seem still in crescent development but so far i found it quite functional easyr intuitive interface and Most important well trustable congrats',\n",
       "  {'Negative': False, 'Neutral': False, 'Positive': True}],\n",
       " ['heya i just had small issue with the Money i applied had to ask to anticipate and contacted through the apps chat everything Was solved Really quickly the attendants werir super educated and sweet thank you Your service',\n",
       "  {'Negative': False, 'Neutral': False, 'Positive': True}],\n",
       " ['Great app safe and clean i Just wish one would be able to personalizar little Like choosing buttom order and things Like that',\n",
       "  {'Negative': False, 'Neutral': False, 'Positive': True}],\n",
       " [\"an Excellent bank service simple ui everything i need is one-click away and there 's em o tax under account or money transfer\",\n",
       "  {'Negative': False, 'Neutral': False, 'Positive': True}],\n",
       " [\"it 's asking to type my phone password to it but it didn't Even Give an option to accept or Not and now after i type my phone password the app reload and return to the password screen it 's cycle and now i can't my nubankr account on my phone ... it 's very disappointing\",\n",
       "  {'Negative': True, 'Neutral': False, 'Positive': False}],\n",
       " [\"i'll absolutely close my nubankr acc the app never opem i have to Delete it every Time i Want to my money or pay my bill and then install it again em o clearing the Cache and the data wont help\",\n",
       "  {'Negative': True, 'Neutral': False, 'Positive': False}],\n",
       " ['the app was working good until last week now i Am Not able to see how Much i have in my account and neither the transfer option .. it just disappeared 😕',\n",
       "  {'Negative': True, 'Neutral': False, 'Positive': False}],\n",
       " ['an interesting fin-tech that Makes the experience of Credit Card More Like an experience y less than service i Will Like to have more than digital card at the same Moment',\n",
       "  {'Negative': False, 'Neutral': False, 'Positive': True}],\n",
       " ['i Find nu bank great bank very useful indeed however Like many Things in life there Are Things that could be better probably it is just matter of time to see it unfolding',\n",
       "  {'Negative': False, 'Neutral': False, 'Positive': True}],\n",
       " ['update after update Still Not possible downloadr the Credit card invoice also the invoice sent by email ever the file Not Open and shown message that the file is corrupted',\n",
       "  {'Negative': True, 'Neutral': False, 'Positive': False}],\n",
       " [\"so far so good thi bank seem so good to be Real i have had some difficultie to update my data on thi app e.g. to Confirm my cellphone number i type but i can't finish before it get stuck\",\n",
       "  {'Negative': False, 'Neutral': False, 'Positive': True}],\n",
       " [\"i have used some years Without issues but Now in dec21 When i need support it Not Worked and they could not solver simple problem ... like other bank ... it is good when you don't need their help\",\n",
       "  {'Negative': False, 'Neutral': False, 'Positive': True}],\n",
       " [\"i started using the app and the Credit Card few days ago and i Am very excited about it it 's great card it is so beautiful and the app is very good it 's easy to use fast and simple to understand i've been loving it thank to All Nubankers\",\n",
       "  {'Negative': False, 'Neutral': False, 'Positive': True}],\n",
       " ['best bank ever best support ever i Got em o words to Describe i rather pay internacional fees With it then With my regular national card in europe thank years of quality thatr never let down',\n",
       "  {'Negative': False, 'Neutral': False, 'Positive': True}],\n",
       " [\"it 's great i'd just Like to suggest thing i'd like to add my nubankr card to my Samsung pay app but it say the card isn't Supported yet please Make it work\",\n",
       "  {'Negative': False, 'Neutral': False, 'Positive': True}],\n",
       " ['excelente tarjetar muy cumplido muy confiable es lo mejor existir si em o la mejor super recomendar excellent card and the app works fine im very pleased Cause its impressive how accessible they are highly recommendedr',\n",
       "  {'Negative': False, 'Neutral': False, 'Positive': True}],\n",
       " ['the first Credit card We never Forget i Am having wonderful Experience With thi modernized bank congratulatiom Providing us such great platforr',\n",
       "  {'Negative': False, 'Neutral': False, 'Positive': True}],\n",
       " ['app is Great but lastest update freez the phone soon i Open it after changing apps and Going backr it works',\n",
       "  {'Negative': False, 'Neutral': False, 'Positive': True}],\n",
       " ['unfortunately thi app has problem with the camera sensor cause i had tried many time to upload my documents and the camera still blurry please my phone brand is Lg k52 updated and let know',\n",
       "  {'Negative': True, 'Neutral': False, 'Positive': False}],\n",
       " [\"error i have point in my Credit score and i couldn't get Credit With thi app i simply can't login to validate my documents\",\n",
       "  {'Negative': True, 'Neutral': False, 'Positive': False}],\n",
       " [\"suddenly the app logged out updated the app and it Keeps Telling i don't have Internet the app used to work great will update until it 's fixed\",\n",
       "  {'Negative': True, 'Neutral': False, 'Positive': False}],\n",
       " ['excellent simple to use give the much desired transparency to All the Credit card Transactions practical short-term rentability of cash reserved daily payments',\n",
       "  {'Negative': False, 'Neutral': False, 'Positive': True}],\n",
       " [\"used to be an App with clean objective and easy to find and see information now it 's ridiculed With advertisements and hard to navigate\",\n",
       "  {'Negative': True, 'Neutral': False, 'Positive': False}],\n",
       " [\"trying to pay an international purchase the page asks confirmation but there 's em o way to confirm in the app Not Button Nothing only notification\",\n",
       "  {'Negative': True, 'Neutral': False, 'Positive': False}],\n",
       " [\"i've been installing and removing the app time because you Guys never send the email to Open The account i also try by the website and the same happened i'm really interested in working with you Guys but i dont understand Why you never answerr or Even Tell the reason Why i'm not being Accepted\",\n",
       "  {'Negative': True, 'Neutral': False, 'Positive': False}],\n",
       " [\"nu bank is very nice and helpful but the Assistants are annoying because they comer Like heeellooooo with smiles and sticker and many time they don't solve the problem practicaly and easilyr\",\n",
       "  {'Negative': False, 'Neutral': False, 'Positive': True}],\n",
       " ['lover thi bank just great easy to use alway Ready to help and attendants that Really Want to help loving my experience With thi bank',\n",
       "  {'Negative': False, 'Neutral': False, 'Positive': True}],\n",
       " ['i loved the application super intuitive and dynamic Among those that exist is one of the best',\n",
       "  {'Negative': False, 'Neutral': False, 'Positive': True}],\n",
       " ['very nice app well developed very intuitive with modern look congratulations',\n",
       "  {'Negative': False, 'Neutral': False, 'Positive': True}],\n",
       " [\"thi app it 's total garbage never had any issue trying to send my id pictur es to any bank until i thi app camera sucks contacted bank said it 's my phone Which totally Wrong send photos With my same cell camera off the app still Got ban due to fact pictureo From app won't comer out legible\",\n",
       "  {'Negative': True, 'Neutral': False, 'Positive': False}],\n",
       " [\"Pix Pix pix comer on pix thank nubankr inc group it 's one of the Most better inc bank around The World alway improving their service and resource alway in order to upgrade keep going\",\n",
       "  {'Negative': False, 'Neutral': False, 'Positive': True}],\n",
       " [\"it is easy app to use i didn't have problems yet just the capacity of buying of the credt card is to low\",\n",
       "  {'Negative': False, 'Neutral': False, 'Positive': True}],\n",
       " [\"some bugs won't let type my adressr or Some other info correctly thus preventing to All functiom please fix\",\n",
       "  {'Negative': False, 'Neutral': False, 'Positive': True}],\n",
       " ['been trying to apply Credit Card and alway say We analize Your info please try again after 3months and asked to de o mo purchaser using my debit card seriously been using it seen i Got the card but till now The analization are Not yet done suck',\n",
       "  {'Negative': True, 'Neutral': False, 'Positive': False}],\n",
       " ['nubankr has released New contactless function but de oe Not Want to configure to ask password any value Making it totally unsafe in case of theft nubank Your card Will be stored at home and Will em o longer be used',\n",
       "  {'Negative': True, 'Neutral': False, 'Positive': False}],\n",
       " [\"thi Last version freez from the start doesn't allow to de o anything there is em o alternative way to pay the Credit Card\",\n",
       "  {'Negative': True, 'Neutral': False, 'Positive': False}],\n",
       " [\"the app crashe after every New update released i Decided to Give the Last one chance only my regretr ... the app won't Even start what shame\",\n",
       "  {'Negative': True, 'Neutral': False, 'Positive': False}],\n",
       " [\"it 's been excellent till the recent update where We can't change The shortcuts order terrible change please fix thi nubank\",\n",
       "  {'Negative': True, 'Neutral': False, 'Positive': False}],\n",
       " [\"i can't use the app i have s10 and the app just don't work i can't Even Open it please de o something i just join to the bank and thi is Not helpfull\",\n",
       "  {'Negative': True, 'Neutral': False, 'Positive': False}],\n",
       " [\"my app is crashing all the Time since the last update ... it didn't use to crash Like thi ...\",\n",
       "  {'Negative': True, 'Neutral': False, 'Positive': False}],\n",
       " ['they reply very fast When i Contact ther to solve an issue and the app is very easy to use',\n",
       "  {'Negative': False, 'Neutral': False, 'Positive': True}],\n",
       " [\"don't thi bank i Send money to Brasil they confiscated my money its fraud illegal never it it Was only 1ooo oo dolar don't you ever believe in thi bank stay away and Keep Your Money safe with you they don't have customer service\",\n",
       "  {'Negative': True, 'Neutral': False, 'Positive': False}],\n",
       " ['great bank i Live out of brazil but i can Manage my finace back home easly',\n",
       "  {'Negative': False, 'Neutral': False, 'Positive': True}],\n",
       " [\"sincer last update it just suck the layout it 's horrible em o more autonomy and bugs everytime\",\n",
       "  {'Negative': True, 'Neutral': False, 'Positive': False}],\n",
       " ['definitely the best Credit Card newbie Like their rate are very Low and you also de o Not pay an annuity i love you so much nu',\n",
       "  {'Negative': False, 'Neutral': False, 'Positive': True}],\n",
       " ['so many other therir is an issue with nubanks interface of phone camera since several years .. and em o comments from nubankr About the issue why is thi never addressed?very frustrating ..',\n",
       "  {'Negative': True, 'Neutral': False, 'Positive': False}],\n",
       " ['it Was working ok now i cannot see my purchases and everything is In portuguese despitir the Fact that i put mexico',\n",
       "  {'Negative': False, 'Neutral': False, 'Positive': True}],\n",
       " [\"The best bank app i've ever used fluent screen transition fast and very detailed Glad to giver star nubankr app rock\",\n",
       "  {'Negative': False, 'Neutral': False, 'Positive': True}],\n",
       " ['The best bank i never could imagine bank like thi could exist is awesomer simplicity and fast',\n",
       "  {'Negative': False, 'Neutral': False, 'Positive': True}],\n",
       " [\"suddenly it 's crashing when i try to Make payment on an invoice i click to Make the payment and the application simply freez\",\n",
       "  {'Negative': False, 'Neutral': False, 'Positive': True}],\n",
       " [\"don't Work in android its em ot responding every time iinstall try to Open .... and i'm client many years\",\n",
       "  {'Negative': True, 'Neutral': False, 'Positive': False}],\n",
       " ['Simple easy to use Still Waiting New functionalities to the New current account :)',\n",
       "  {'Negative': False, 'Neutral': False, 'Positive': True}],\n",
       " [\"it 's useful helpful easy functiom i found herir everything i need i Suuuper recommend\",\n",
       "  {'Negative': False, 'Neutral': False, 'Positive': True}],\n",
       " ['absolutely amazing simple functional and the card you select can be debit Credit',\n",
       "  {'Negative': False, 'Neutral': False, 'Positive': True}],\n",
       " ['Not Working With samsung s22 Plus camera issue nao funcionar camera em o s22 Plus',\n",
       "  {'Negative': True, 'Neutral': False, 'Positive': False}],\n",
       " [\"Would appreciate if insteadr of using static cvv they should implement Dynamic cvv that Changes every ... let 's say 5-10 mim online purchases\",\n",
       "  {'Negative': False, 'Neutral': False, 'Positive': True}],\n",
       " ['works great but function to separate the Money on your Piggyback so that you colud separate them accordingly to what diffferent purposes you have thar in the futurar Would be nice',\n",
       "  {'Negative': False, 'Neutral': False, 'Positive': True}],\n",
       " ['best bank App so far in my opinion ease to understand and use clean and simple interface lov it banking with nubank',\n",
       "  {'Negative': False, 'Neutral': False, 'Positive': True}],\n",
       " [\"some small featur out-right don't Work but everything else about it is wonderful\",\n",
       "  {'Negative': False, 'Neutral': False, 'Positive': True}],\n",
       " ['thi app should have the option All Countries around The World so could you please look into it i Would like to downloadr thi app but i comer from australio',\n",
       "  {'Negative': True, 'Neutral': False, 'Positive': False}],\n",
       " [\"update with problem please fix it can't pay and app with lots of bugs\",\n",
       "  {'Negative': True, 'Neutral': False, 'Positive': False}],\n",
       " ['after last update the app de oes not Work properly sometime de oes not Even de o the log on',\n",
       "  {'Negative': False, 'Neutral': False, 'Positive': True}],\n",
       " ['its alway good to have bank account that i can worldwide ;) easy to use lots of goodie',\n",
       "  {'Negative': False, 'Neutral': False, 'Positive': True}],\n",
       " [\"it 's impossible to understand What is Updated on each version really hard to giver better rate\",\n",
       "  {'Negative': False, 'Neutral': False, 'Positive': True}],\n",
       " [\"thi app is simply perfect don't change Anything please thank bunch the development team\",\n",
       "  {'Negative': False, 'Neutral': False, 'Positive': True}],\n",
       " ['really easy to use straight forward to Open and setup Your account',\n",
       "  {'Negative': False, 'Neutral': False, 'Positive': True}],\n",
       " [\"excellent bank service easy to use and much more i can't be more satisfied with nubank\",\n",
       "  {'Negative': False, 'Neutral': False, 'Positive': True}],\n",
       " ['if you Are looking bank digital one choose nubank it is easy to navigate there Are more pro than cons i Like and recommend Nubank',\n",
       "  {'Negative': False, 'Neutral': False, 'Positive': True}],\n",
       " [\"excellent app nubank 's app is totally Great to use and easy also de o everything you need in bank using thi app\",\n",
       "  {'Negative': False, 'Neutral': False, 'Positive': True}],\n",
       " ['amazingr app helps lot the systir of the limit Credit because i can control my spent',\n",
       "  {'Negative': False, 'Neutral': False, 'Positive': True}],\n",
       " ['the app is Not Working very Well since the last update and today is Not working at all i can use my account',\n",
       "  {'Negative': True, 'Neutral': False, 'Positive': False}],\n",
       " [\"amazing app it helps lot on my Investments journey it 's very practical\",\n",
       "  {'Negative': False, 'Neutral': False, 'Positive': True}],\n",
       " ['easy to use ñ easy to understand and very simple Beginners',\n",
       "  {'Negative': False, 'Neutral': False, 'Positive': True}],\n",
       " [\"therir is card Showing at the home/ dash Board ... and it 's irritating i Would Like to get Free of it\",\n",
       "  {'Negative': True, 'Neutral': False, 'Positive': False}],\n",
       " [\"good bank best account i've had so far but they Will Not resolver transfer that Went to an account i de o Not Know\",\n",
       "  {'Negative': False, 'Neutral': False, 'Positive': True}],\n",
       " [\"loved the app but i'm still waiting my Credit card it 's been almost four months and Still they're Saying that i have to wait months more to get the New card ...\",\n",
       "  {'Negative': False, 'Neutral': False, 'Positive': True}],\n",
       " [\"after some update app is logging out automatically i can't Even see my stuff\",\n",
       "  {'Negative': True, 'Neutral': False, 'Positive': False}],\n",
       " ['great but please reactivate the search function the previous debit transactiom',\n",
       "  {'Negative': False, 'Neutral': False, 'Positive': True}],\n",
       " ['the app is crashing and it is useless .. they screwed up on thi Last version',\n",
       "  {'Negative': True, 'Neutral': False, 'Positive': False}],\n",
       " ['fast app i see everything i need to Manage my card easy to use',\n",
       "  {'Negative': False, 'Neutral': False, 'Positive': True}],\n",
       " ['i miss the search function to look previous transactiom :(',\n",
       "  {'Negative': False, 'Neutral': False, 'Positive': True}],\n",
       " ['the best my very first Credit Card after having bad Credit i love how you have control of Your finance and Spending',\n",
       "  {'Negative': False, 'Neutral': False, 'Positive': True}],\n",
       " ['i Like the interface design is very simple and easy usage',\n",
       "  {'Negative': False, 'Neutral': False, 'Positive': True}],\n",
       " [\"very easy app useful practice clearly app happy that 's Why i Will giver ther ⭐ ⭐ ⭐ ⭐ ⭐\",\n",
       "  {'Negative': False, 'Neutral': False, 'Positive': True}],\n",
       " ['começar forçar uso reconhecimento facial used to be good until they began forcing you to face recognition',\n",
       "  {'Negative': True, 'Neutral': False, 'Positive': False}],\n",
       " ['easy to apply easy access and customer service is excellent',\n",
       "  {'Negative': False, 'Neutral': False, 'Positive': True}],\n",
       " ['the app is Not Connecting the past hours and you can login through computer',\n",
       "  {'Negative': True, 'Neutral': False, 'Positive': False}],\n",
       " ['the app its Not Working cant enter to my card info ask New card or an invitation but cant Sign in ...',\n",
       "  {'Negative': False, 'Neutral': False, 'Positive': True}],\n",
       " ['Terrible my acount is in analyse year already em o respond em o invitation coder received until today Not Even in spam folder',\n",
       "  {'Negative': True, 'Neutral': False, 'Positive': False}],\n",
       " [\"after many update app 's performance werir bad it is very Slow\",\n",
       "  {'Negative': True, 'Neutral': False, 'Positive': False}],\n",
       " [\"Last update just crashed the app and i can't access my account\",\n",
       "  {'Negative': True, 'Neutral': False, 'Positive': False}],\n",
       " [\"can't see Last version of it on my googleplaystore apk only on my browser show Last version july\",\n",
       "  {'Negative': False, 'Neutral': False, 'Positive': True}],\n",
       " ['the only problar is that they give very Little limit Almost year and i just haver',\n",
       "  {'Negative': False, 'Neutral': False, 'Positive': True}],\n",
       " [\"very good Giving star because it 's Not polite to interrupt People asking ther to rate things you pay to use\",\n",
       "  {'Negative': True, 'Neutral': False, 'Positive': False}],\n",
       " ['the app is Not Working i alway have to Open it by loggin into the play store',\n",
       "  {'Negative': True, 'Neutral': False, 'Positive': False}],\n",
       " [\"therir 's bug i cannot selectr or take photo i really need thi option but it doesn't work\",\n",
       "  {'Negative': True, 'Neutral': False, 'Positive': False}],\n",
       " ['amazing Credit Card Definitely the only card that you need',\n",
       "  {'Negative': False, 'Neutral': False, 'Positive': True}],\n",
       " ['beautiful easy to use and supportive just Keep the good work',\n",
       "  {'Negative': False, 'Neutral': False, 'Positive': True}],\n",
       " ['never had any problems em o taxe Great interface etc ....',\n",
       "  {'Negative': False, 'Neutral': False, 'Positive': True}],\n",
       " ['best banking lower income people Like Myself ever extremely satisfied so far',\n",
       "  {'Negative': False, 'Neutral': False, 'Positive': True}],\n",
       " [\"best bank ever em o maintenance fee em o surprises it show you Exactly What You've spent i Am nu\",\n",
       "  {'Negative': False, 'Neutral': False, 'Positive': True}],\n",
       " [\"awesomer bank it 's pretty simple to use and so Effective\",\n",
       "  {'Negative': False, 'Neutral': False, 'Positive': True}],\n",
       " ['Last few months has been chaos in the app various bugs',\n",
       "  {'Negative': True, 'Neutral': False, 'Positive': False}],\n",
       " ['it Keeps doing ok to with one or another perhap .... needs Little More objectiveness i think',\n",
       "  {'Negative': False, 'Neutral': False, 'Positive': True}],\n",
       " [\"The best bank i've used it 's been Almost year sincer i've Started on it and i'm not going back\",\n",
       "  {'Negative': False, 'Neutral': False, 'Positive': True}],\n",
       " ['very easy to use :) super fast not Real bank yet -_-',\n",
       "  {'Negative': False, 'Neutral': False, 'Positive': True}],\n",
       " ['need update a11 samsung gotta reinstal each Time i Want it once Keeps Stopping Working',\n",
       "  {'Negative': True, 'Neutral': False, 'Positive': False}],\n",
       " ['very nice facility syster great tech to Make the financer service',\n",
       "  {'Negative': False, 'Neutral': False, 'Positive': True}],\n",
       " ['easy interface Access quickly deposit and money transitiom',\n",
       "  {'Negative': False, 'Neutral': False, 'Positive': True}],\n",
       " [\"easilyr the best banking experiencer i've ever had em o complaints whatsoever ❤ ️\",\n",
       "  {'Negative': False, 'Neutral': False, 'Positive': True}],\n",
       " ['best digitalbank app ever easy simpler and objective i lover it',\n",
       "  {'Negative': False, 'Neutral': False, 'Positive': True}],\n",
       " ['i really adored thi app and the attendance Was great when i had problem in my account',\n",
       "  {'Negative': False, 'Neutral': False, 'Positive': True}],\n",
       " ['excellent easy to use and to understand em o abusive charges i lover it',\n",
       "  {'Negative': False, 'Neutral': False, 'Positive': True}],\n",
       " [\"amazing Solution i don't regular banks anymore can't live Without it\",\n",
       "  {'Negative': False, 'Neutral': False, 'Positive': True}],\n",
       " ['nubankr still de oes Not let pay the Credit card bill automaticallyr With their own account how card can it be',\n",
       "  {'Negative': False, 'Neutral': False, 'Positive': True}],\n",
       " ['easy security and fast Great app',\n",
       "  {'Negative': False, 'Neutral': False, 'Positive': True}],\n",
       " ['great and intuitive App that featur excellent service',\n",
       "  {'Negative': False, 'Neutral': False, 'Positive': True}],\n",
       " [\"The best bank experience i already have if you don't haver nu account i really recommend you giver try\",\n",
       "  {'Negative': False, 'Neutral': False, 'Positive': True}],\n",
       " ['Good app but the Main menu is Little bit confuse',\n",
       "  {'Negative': False, 'Neutral': False, 'Positive': True}],\n",
       " [\"it 's the best Credit Card they Give All attention to you when you need\",\n",
       "  {'Negative': False, 'Neutral': False, 'Positive': True}],\n",
       " ['becoming very heavy Almost wholy taking up my phone de o you plan lite version',\n",
       "  {'Negative': False, 'Neutral': False, 'Positive': True}],\n",
       " ['excellent app excellent bank start nu bank Keep on Rocking 🤘 😎',\n",
       "  {'Negative': False, 'Neutral': False, 'Positive': True}],\n",
       " ['fenomenal app and bank Keep the good work and the funnyr release note hahaho',\n",
       "  {'Negative': False, 'Neutral': False, 'Positive': True}],\n",
       " ['Great app from great company problem since day one',\n",
       "  {'Negative': False, 'Neutral': False, 'Positive': True}],\n",
       " ['easy to use Reliable and offer very good rate',\n",
       "  {'Negative': False, 'Neutral': False, 'Positive': True}],\n",
       " ['just Fabulous and non intrusive thi app clearly works',\n",
       "  {'Negative': False, 'Neutral': False, 'Positive': True}],\n",
       " ['awesomer app with great feature and very functional',\n",
       "  {'Negative': False, 'Neutral': False, 'Positive': True}],\n",
       " ['practical simple necessary and very useful',\n",
       "  {'Negative': False, 'Neutral': False, 'Positive': True}],\n",
       " ['the app is crashing on oneplus android oxygen 10.0.1',\n",
       "  {'Negative': True, 'Neutral': False, 'Positive': False}],\n",
       " ['fast Secure and transparent',\n",
       "  {'Negative': False, 'Neutral': False, 'Positive': True}],\n",
       " ['good company but Not good to travei With when you only have débit card ..',\n",
       "  {'Negative': False, 'Neutral': False, 'Positive': True}],\n",
       " ['Will be down to star until search function is re-enabled what Were developers thinking',\n",
       "  {'Negative': True, 'Neutral': False, 'Positive': False}],\n",
       " ['good app excellent the drawings are nice well',\n",
       "  {'Negative': False, 'Neutral': False, 'Positive': True}],\n",
       " ['Wanted automatic debt Feature wanted to use business account With card Terminals',\n",
       "  {'Negative': False, 'Neutral': False, 'Positive': True}],\n",
       " ['i think is very important add on thi app fingerprint detector',\n",
       "  {'Negative': False, 'Neutral': False, 'Positive': True}],\n",
       " ['easy Free of burocracie beautiful and full of advantages <3',\n",
       "  {'Negative': False, 'Neutral': False, 'Positive': True}],\n",
       " ['app Keeps crashing until i Restart the phone what shame',\n",
       "  {'Negative': False, 'Neutral': False, 'Positive': True}],\n",
       " ['nice app and easy to Manage',\n",
       "  {'Negative': False, 'Neutral': False, 'Positive': True}],\n",
       " ['i swapped my phone by New one and the app never Worked again ... de o Not recommend it',\n",
       "  {'Negative': True, 'Neutral': False, 'Positive': False}],\n",
       " ['simpler and transparent',\n",
       "  {'Negative': False, 'Neutral': False, 'Positive': True}],\n",
       " ['fair and Simple yet alway improving i lover it',\n",
       "  {'Negative': False, 'Neutral': False, 'Positive': True}],\n",
       " ['The best bank absolutely works wonders and amazing customer service',\n",
       "  {'Negative': False, 'Neutral': False, 'Positive': True}],\n",
       " ['very good ... smart',\n",
       "  {'Negative': False, 'Neutral': False, 'Positive': True}],\n",
       " ['very easy application alway in my day by day',\n",
       "  {'Negative': False, 'Neutral': False, 'Positive': True}],\n",
       " [\"my experience With thi company it 's totally satisfactoryr experience and i would like to thank you the support and help in my own experience customer once again thank you so much\",\n",
       "  {'Negative': False, 'Neutral': False, 'Positive': True}],\n",
       " ['excellent app The best out there',\n",
       "  {'Negative': False, 'Neutral': False, 'Positive': True}],\n",
       " [\"it 's Really easy to but could be more visual\",\n",
       "  {'Negative': False, 'Neutral': False, 'Positive': True}],\n",
       " [\"i recommend thi bank to everyone it 's Simple good and safe\",\n",
       "  {'Negative': False, 'Neutral': False, 'Positive': True}],\n",
       " ['Working almost perfectlyr now that i Left the Beta test app and reinstall ed the normal app',\n",
       "  {'Negative': False, 'Neutral': False, 'Positive': True}],\n",
       " ['out of Nowhere i Got charged Something unspecified looks Like scar to',\n",
       "  {'Negative': True, 'Neutral': False, 'Positive': False}],\n",
       " ['Not Working on asus zenfone sincer last month its shame',\n",
       "  {'Negative': True, 'Neutral': False, 'Positive': False}],\n",
       " ['impossible to Open since the last update',\n",
       "  {'Negative': True, 'Neutral': False, 'Positive': False}],\n",
       " [\"it 's great my finance lifer is much easier with Nubank\",\n",
       "  {'Negative': False, 'Neutral': False, 'Positive': True}],\n",
       " ['awesomer em o bugs easy to use',\n",
       "  {'Negative': False, 'Neutral': False, 'Positive': True}],\n",
       " ['easy usability and simplicity',\n",
       "  {'Negative': False, 'Neutral': False, 'Positive': True}],\n",
       " ['very good app i recommend it to everyone it really Gave Lots of advantages ❤',\n",
       "  {'Negative': False, 'Neutral': False, 'Positive': True}],\n",
       " ['smart and good', {'Negative': False, 'Neutral': False, 'Positive': True}],\n",
       " ['best and Most intuitive bank of all',\n",
       "  {'Negative': False, 'Neutral': False, 'Positive': True}],\n",
       " ['easy to use fair Loans and good service thank you',\n",
       "  {'Negative': False, 'Neutral': False, 'Positive': True}],\n",
       " ['Simple direct and easy',\n",
       "  {'Negative': False, 'Neutral': False, 'Positive': True}],\n",
       " ['excelent app clean interface',\n",
       "  {'Negative': False, 'Neutral': False, 'Positive': True}],\n",
       " ['the only thing i Want is bank with quick and fast customer service nu bank sadly dosent offer it',\n",
       "  {'Negative': True, 'Neutral': False, 'Positive': False}],\n",
       " ['alway there with the best staff to help you i just lover it',\n",
       "  {'Negative': False, 'Neutral': False, 'Positive': True}],\n",
       " ['very good app ...',\n",
       "  {'Negative': False, 'Neutral': False, 'Positive': True}],\n",
       " ['simple yet effective the best Kind of app',\n",
       "  {'Negative': False, 'Neutral': False, 'Positive': True}],\n",
       " ['thi app is simple and easy to Manage',\n",
       "  {'Negative': False, 'Neutral': False, 'Positive': True}],\n",
       " ['easy to use and efficient',\n",
       "  {'Negative': False, 'Neutral': False, 'Positive': True}],\n",
       " ['very good Brazilian bank -simple -smart -fast -free',\n",
       "  {'Negative': False, 'Neutral': False, 'Positive': True}],\n",
       " ['nice service and very nice card All in progress',\n",
       "  {'Negative': False, 'Neutral': False, 'Positive': True}],\n",
       " ['Would be nice to have the app availablar in english',\n",
       "  {'Negative': False, 'Neutral': False, 'Positive': True}],\n",
       " ['fácil d juro justo easy to use and fair interests',\n",
       "  {'Negative': False, 'Neutral': False, 'Positive': True}],\n",
       " [\"it 's very useful and good everything very pleasant\",\n",
       "  {'Negative': False, 'Neutral': False, 'Positive': True}],\n",
       " ['absolutely useful and easy to use',\n",
       "  {'Negative': False, 'Neutral': False, 'Positive': True}],\n",
       " ['an awesomer app lot facilities to The user that feel so good',\n",
       "  {'Negative': False, 'Neutral': False, 'Positive': True}],\n",
       " ['been looking app Like thi while shame its not offered in english',\n",
       "  {'Negative': True, 'Neutral': False, 'Positive': False}],\n",
       " ['really nice after thi interface update',\n",
       "  {'Negative': False, 'Neutral': False, 'Positive': True}],\n",
       " ['Not Working on zenfone since last month :(',\n",
       "  {'Negative': True, 'Neutral': False, 'Positive': False}],\n",
       " ['excellent app and customer service i love nu',\n",
       "  {'Negative': False, 'Neutral': False, 'Positive': True}],\n",
       " ['excellent card and app the best',\n",
       "  {'Negative': False, 'Neutral': False, 'Positive': True}],\n",
       " ['amazing digital bank i Am using since they never disappointed',\n",
       "  {'Negative': False, 'Neutral': False, 'Positive': True}],\n",
       " ['wonderful bank app and service',\n",
       "  {'Negative': False, 'Neutral': False, 'Positive': True}],\n",
       " ['it Keep telling to update but wont let its piece of sht',\n",
       "  {'Negative': True, 'Neutral': False, 'Positive': False}],\n",
       " ['excellent loved the app very practical to use and simple',\n",
       "  {'Negative': False, 'Neutral': False, 'Positive': True}],\n",
       " [\"i just don't Like the Fact that i have to wait Weekdays to pay my bill the rest is Great\",\n",
       "  {'Negative': False, 'Neutral': False, 'Positive': True}],\n",
       " ['bank and app are incredible ... i Recomend very much',\n",
       "  {'Negative': False, 'Neutral': False, 'Positive': True}],\n",
       " ['The account is awesumir and the app is very easy of to use ...',\n",
       "  {'Negative': False, 'Neutral': False, 'Positive': True}],\n",
       " ['how can i change the language feature in the app m i dont Know portugeu',\n",
       "  {'Negative': False, 'Neutral': False, 'Positive': True}],\n",
       " [\"update came With problem i'm being logged out All the time\",\n",
       "  {'Negative': True, 'Neutral': False, 'Positive': False}],\n",
       " ['The best bank in the world em o taxe super simple',\n",
       "  {'Negative': False, 'Neutral': False, 'Positive': True}],\n",
       " [\"Well it 's nice app but asking my password all the Time is so damn horrible\",\n",
       "  {'Negative': False, 'Neutral': False, 'Positive': True}],\n",
       " ['the best customer service and the best bank application star em o i give it 👏',\n",
       "  {'Negative': False, 'Neutral': False, 'Positive': True}],\n",
       " [\"the app is good but it 's Taking so Long to finally arriver my card\",\n",
       "  {'Negative': False, 'Neutral': False, 'Positive': True}],\n",
       " ['very easy and useful',\n",
       "  {'Negative': False, 'Neutral': False, 'Positive': True}],\n",
       " [\"App Hasn't been Working more than day\",\n",
       "  {'Negative': True, 'Neutral': False, 'Positive': False}],\n",
       " [\"thi app has stopped every time i can't it\",\n",
       "  {'Negative': True, 'Neutral': False, 'Positive': False}],\n",
       " ['awesomer thi is great simple and useful app',\n",
       "  {'Negative': False, 'Neutral': False, 'Positive': True}],\n",
       " ['light and efficient',\n",
       "  {'Negative': False, 'Neutral': False, 'Positive': True}],\n",
       " ['nice app to have everything you need regarding money on Your hand ...',\n",
       "  {'Negative': False, 'Neutral': False, 'Positive': True}],\n",
       " ['nice i Like good service app and Credit is great too',\n",
       "  {'Negative': False, 'Neutral': False, 'Positive': True}],\n",
       " [\"amazing app i'm grateful ... enjoy thank\",\n",
       "  {'Negative': False, 'Neutral': False, 'Positive': True}],\n",
       " [\"that 's ok but i'd like increase my Month limit damn they don't allow to\",\n",
       "  {'Negative': False, 'Neutral': False, 'Positive': True}],\n",
       " ['Not Working on asus zenphone since last update',\n",
       "  {'Negative': True, 'Neutral': False, 'Positive': False}],\n",
       " ['it is really Friendly the user',\n",
       "  {'Negative': False, 'Neutral': False, 'Positive': True}],\n",
       " [\"can't understand the language and i don't see any Way to change it to english ..\",\n",
       "  {'Negative': True, 'Neutral': False, 'Positive': False}],\n",
       " ['app travar em o android de o samsung s9',\n",
       "  {'Negative': True, 'Neutral': False, 'Positive': False}],\n",
       " ['lover the app easy to use',\n",
       "  {'Negative': False, 'Neutral': False, 'Positive': True}],\n",
       " ['superb banking and Credit Card experience',\n",
       "  {'Negative': False, 'Neutral': False, 'Positive': True}],\n",
       " ['excelente suporte a o samsung pay Apple pay google pay',\n",
       "  {'Negative': False, 'Neutral': False, 'Positive': True}],\n",
       " ['practical and efficient',\n",
       "  {'Negative': False, 'Neutral': False, 'Positive': True}],\n",
       " [\"Sorry About that i Was talking About the Wrong app thi one it seem good but i'll take more Time to Make Sure\",\n",
       "  {'Negative': False, 'Neutral': False, 'Positive': True}],\n",
       " ['incredible thi App made my lifer lot easier',\n",
       "  {'Negative': False, 'Neutral': False, 'Positive': True}],\n",
       " ['great app and great bank recommend thank you nubankr trp',\n",
       "  {'Negative': False, 'Neutral': False, 'Positive': True}],\n",
       " ['feature request Dark mode please',\n",
       "  {'Negative': False, 'Neutral': False, 'Positive': True}],\n",
       " ['really Good but thi New visual on icon is Weird',\n",
       "  {'Negative': False, 'Neutral': False, 'Positive': True}],\n",
       " ['app campeão mau changelog release note de o google play',\n",
       "  {'Negative': True, 'Neutral': False, 'Positive': False}],\n",
       " ['i Am Not receiving the email with the coder horrible Service',\n",
       "  {'Negative': True, 'Neutral': False, 'Positive': False}],\n",
       " [\"i lover it it 's super easy to use\",\n",
       "  {'Negative': False, 'Neutral': False, 'Positive': True}],\n",
       " ['nice app awesomer service',\n",
       "  {'Negative': False, 'Neutral': False, 'Positive': True}],\n",
       " ['fast and reliable',\n",
       "  {'Negative': False, 'Neutral': False, 'Positive': True}],\n",
       " ['amazing Really easy to use',\n",
       "  {'Negative': False, 'Neutral': False, 'Positive': True}],\n",
       " ['great bank Great app',\n",
       "  {'Negative': False, 'Neutral': False, 'Positive': True}],\n",
       " ['very safe and amazing',\n",
       "  {'Negative': False, 'Neutral': False, 'Positive': True}],\n",
       " ['good but the New icon is ugly Bring the other one back',\n",
       "  {'Negative': False, 'Neutral': False, 'Positive': True}],\n",
       " ['very good up em o complaints at all',\n",
       "  {'Negative': False, 'Neutral': False, 'Positive': True}],\n",
       " ['Not Working on zenfone android 5.0',\n",
       "  {'Negative': True, 'Neutral': False, 'Positive': False}],\n",
       " ['faster than any other banking app i use',\n",
       "  {'Negative': False, 'Neutral': False, 'Positive': True}],\n",
       " ['Not Working properly',\n",
       "  {'Negative': True, 'Neutral': False, 'Positive': False}],\n",
       " ['good bank but the nu invest app is Not opening',\n",
       "  {'Negative': True, 'Neutral': False, 'Positive': False}],\n",
       " [\"it 's funny Game we Like it very much\",\n",
       "  {'Negative': False, 'Neutral': False, 'Positive': True}],\n",
       " ['simply the better onliner bank that ever',\n",
       "  {'Negative': False, 'Neutral': False, 'Positive': True}],\n",
       " ['easy and Enjoyable',\n",
       "  {'Negative': False, 'Neutral': False, 'Positive': True}],\n",
       " [\"it 's my first Credit Card and yes is amazing\",\n",
       "  {'Negative': False, 'Neutral': False, 'Positive': True}],\n",
       " ['wonderful app stunning bank',\n",
       "  {'Negative': False, 'Neutral': False, 'Positive': True}],\n",
       " ['em o bugs in app.it works good',\n",
       "  {'Negative': False, 'Neutral': False, 'Positive': True}],\n",
       " ['amazingr app and service',\n",
       "  {'Negative': False, 'Neutral': False, 'Positive': True}],\n",
       " ['i Love that i Got my card approved but the app Keeps Telling that i have em o Internet',\n",
       "  {'Negative': False, 'Neutral': False, 'Positive': True}],\n",
       " ['amazingr app awesomer funcionalitys',\n",
       "  {'Negative': False, 'Neutral': False, 'Positive': True}],\n",
       " ['awesomer app and service',\n",
       "  {'Negative': False, 'Neutral': False, 'Positive': True}],\n",
       " ['good bank thi bank is wonderful i Like it lot',\n",
       "  {'Negative': False, 'Neutral': False, 'Positive': True}],\n",
       " ['Great app works perfectlyr',\n",
       "  {'Negative': False, 'Neutral': False, 'Positive': True}],\n",
       " [\"the app won't downloadr and install\",\n",
       "  {'Negative': True, 'Neutral': False, 'Positive': False}],\n",
       " ['nubankr is simply the best Just wonderful but please turn up my limit',\n",
       "  {'Negative': False, 'Neutral': False, 'Positive': True}],\n",
       " ['very good ... excellent and extraordinarilyr present in day',\n",
       "  {'Negative': False, 'Neutral': False, 'Positive': True}],\n",
       " ['great bank and great app',\n",
       "  {'Negative': False, 'Neutral': False, 'Positive': True}],\n",
       " ['i Like the app beautiful user friendly',\n",
       "  {'Negative': False, 'Neutral': False, 'Positive': True}],\n",
       " [\"it 's Keeping crashing ... what shame\",\n",
       "  {'Negative': True, 'Neutral': False, 'Positive': False}],\n",
       " ['The best ui', {'Negative': False, 'Neutral': False, 'Positive': True}],\n",
       " ['it does not Open in my cellphone mi',\n",
       "  {'Negative': True, 'Neutral': False, 'Positive': False}],\n",
       " ['it said it Would send an email and it never sent',\n",
       "  {'Negative': True, 'Neutral': False, 'Positive': False}],\n",
       " ['thi bank is The best ... i Would Give More stars but there Are none ..',\n",
       "  {'Negative': False, 'Neutral': False, 'Positive': True}],\n",
       " ['Great app and service i lover Nubank really',\n",
       "  {'Negative': False, 'Neutral': False, 'Positive': True}],\n",
       " ['the best banking app none disappointed',\n",
       "  {'Negative': False, 'Neutral': False, 'Positive': True}],\n",
       " [\"Without shadow of doubt thi app is The best i Ain't Got Nothing to Complain About because Nubank is really everybody Even foreigner Like ❤\",\n",
       "  {'Negative': False, 'Neutral': False, 'Positive': True}],\n",
       " ['em eeds full translation',\n",
       "  {'Negative': False, 'Neutral': False, 'Positive': True}],\n",
       " ['simple and fast', {'Negative': False, 'Neutral': False, 'Positive': True}],\n",
       " ['i cant log in when write my rfc the Button is blocked',\n",
       "  {'Negative': True, 'Neutral': False, 'Positive': False}],\n",
       " ['Great app great bank',\n",
       "  {'Negative': False, 'Neutral': False, 'Positive': True}],\n",
       " ['Magnificent company awesomer service where werir u the last years while theser dump banks reined With em o limit',\n",
       "  {'Negative': False, 'Neutral': False, 'Positive': True}],\n",
       " ['amazing bank and app i love',\n",
       "  {'Negative': False, 'Neutral': False, 'Positive': True}],\n",
       " ['Bring Daily solutiom meanwhile the other Are part of the problem and Above of all chargir us doing it',\n",
       "  {'Negative': False, 'Neutral': False, 'Positive': True}],\n",
       " ['great bank easy to use',\n",
       "  {'Negative': False, 'Neutral': False, 'Positive': True}],\n",
       " ['it works perfectlyr well',\n",
       "  {'Negative': False, 'Neutral': False, 'Positive': True}],\n",
       " ['very good well done very useful',\n",
       "  {'Negative': False, 'Neutral': False, 'Positive': True}],\n",
       " ['if the appr only has one localization then restrict it to those markets ...',\n",
       "  {'Negative': True, 'Neutral': False, 'Positive': False}],\n",
       " ['the app stopr after that Make update Anyone please Can i help',\n",
       "  {'Negative': False, 'Neutral': False, 'Positive': True}],\n",
       " ['great bank Great app',\n",
       "  {'Negative': False, 'Neutral': False, 'Positive': True}],\n",
       " [\"can't Go anywerer if you don't send the email to verify my account please fix\",\n",
       "  {'Negative': False, 'Neutral': False, 'Positive': True}],\n",
       " ['patch note de o play store',\n",
       "  {'Negative': False, 'Neutral': False, 'Positive': True}],\n",
       " ['its fun to Send Your friends money at anyone Time',\n",
       "  {'Negative': False, 'Neutral': False, 'Positive': True}],\n",
       " ['confirmation email de oes Not arriver 😔',\n",
       "  {'Negative': False, 'Neutral': False, 'Positive': True}],\n",
       " ['thi is my favorite app in the play store app top',\n",
       "  {'Negative': False, 'Neutral': False, 'Positive': True}],\n",
       " ['i Am so comfortable With Nubank thank u making my life easier',\n",
       "  {'Negative': False, 'Neutral': False, 'Positive': True}],\n",
       " ['Great app great bank',\n",
       "  {'Negative': False, 'Neutral': False, 'Positive': True}],\n",
       " ['amo vcs nubankr ❤ ️',\n",
       "  {'Negative': False, 'Neutral': False, 'Positive': True}],\n",
       " ['app is Not in english',\n",
       "  {'Negative': True, 'Neutral': False, 'Positive': False}],\n",
       " ['Great app great innovation',\n",
       "  {'Negative': False, 'Neutral': False, 'Positive': True}],\n",
       " [\"it doesn't work on my phone anymore\",\n",
       "  {'Negative': True, 'Neutral': False, 'Positive': False}],\n",
       " ['the best onliner bank experience',\n",
       "  {'Negative': False, 'Neutral': False, 'Positive': True}],\n",
       " ['the app is Not Working',\n",
       "  {'Negative': True, 'Neutral': False, 'Positive': False}],\n",
       " [\"that 's the best bank to have an account i'm really satisfied\",\n",
       "  {'Negative': False, 'Neutral': False, 'Positive': True}],\n",
       " ['the best app ever i love it i recomended its made my life easyer thank you nubankr ❤ ️ ❤ ️',\n",
       "  {'Negative': False, 'Neutral': False, 'Positive': True}],\n",
       " [\"i have brazilian Cpf but i live in sweden it will be impossible to Open an onliner account then it 's primitive because it exclude From the Brazilian market\",\n",
       "  {'Negative': True, 'Neutral': False, 'Positive': False}],\n",
       " ['awesomer app awesome company',\n",
       "  {'Negative': False, 'Neutral': False, 'Positive': True}],\n",
       " ['Great app chefe', {'Negative': False, 'Neutral': False, 'Positive': True}],\n",
       " ['therir are many bugs in the last update',\n",
       "  {'Negative': True, 'Neutral': False, 'Positive': False}],\n",
       " ['i have only good Experiences being nubank client',\n",
       "  {'Negative': False, 'Neutral': False, 'Positive': True}],\n",
       " ['simply and Affective',\n",
       "  {'Negative': False, 'Neutral': False, 'Positive': True}],\n",
       " ['they are very nice People that really put effortr in helping you',\n",
       "  {'Negative': False, 'Neutral': False, 'Positive': True}],\n",
       " [\"i dont receiver any coder i'm waiting but until Now Nothing please help\",\n",
       "  {'Negative': True, 'Neutral': False, 'Positive': False}],\n",
       " ['very easy to use', {'Negative': False, 'Neutral': False, 'Positive': True}],\n",
       " ['i love Working With nubank very Efficiently and effective',\n",
       "  {'Negative': False, 'Neutral': False, 'Positive': True}],\n",
       " ['nice card nice app',\n",
       "  {'Negative': False, 'Neutral': False, 'Positive': True}],\n",
       " ['perfect app and bank',\n",
       "  {'Negative': False, 'Neutral': False, 'Positive': True}],\n",
       " ['was All gud till they Got obsessed With ine ... bad experiencar foreigner',\n",
       "  {'Negative': True, 'Neutral': False, 'Positive': False}],\n",
       " ['intabilidade em o app',\n",
       "  {'Negative': False, 'Neutral': False, 'Positive': True}],\n",
       " ['nice bank to Work with it',\n",
       "  {'Negative': False, 'Neutral': False, 'Positive': True}],\n",
       " [\"it 's nonsenser bank with poor attendiment ............ i Give point\",\n",
       "  {'Negative': True, 'Neutral': False, 'Positive': False}],\n",
       " ['my favorite bank ever until death dividir us',\n",
       "  {'Negative': False, 'Neutral': False, 'Positive': True}],\n",
       " ['Should add the Dark theme',\n",
       "  {'Negative': False, 'Neutral': False, 'Positive': True}],\n",
       " ['best app from the best bank',\n",
       "  {'Negative': False, 'Neutral': False, 'Positive': True}],\n",
       " ['very easy to use', {'Negative': False, 'Neutral': False, 'Positive': True}],\n",
       " ['best app ever With cc Credit',\n",
       "  {'Negative': False, 'Neutral': False, 'Positive': True}],\n",
       " ['very easy to use', {'Negative': False, 'Neutral': False, 'Positive': True}],\n",
       " ['indeed it is The best one :)',\n",
       "  {'Negative': False, 'Neutral': False, 'Positive': True}],\n",
       " ['travamento constante samsung galaxy S5',\n",
       "  {'Negative': True, 'Neutral': False, 'Positive': False}],\n",
       " ['bad customer support decided not to Open an account With them and go with neon',\n",
       "  {'Negative': True, 'Neutral': False, 'Positive': False}],\n",
       " ['Good app and bank ... thank',\n",
       "  {'Negative': False, 'Neutral': False, 'Positive': True}],\n",
       " ['simpler and good', {'Negative': False, 'Neutral': False, 'Positive': True}],\n",
       " ['the Most perfect virtual bank',\n",
       "  {'Negative': False, 'Neutral': False, 'Positive': True}],\n",
       " [\"App doesn't work on my huawei p30\",\n",
       "  {'Negative': True, 'Neutral': False, 'Positive': False}],\n",
       " ['fantastic banking experience',\n",
       "  {'Negative': False, 'Neutral': False, 'Positive': True}],\n",
       " ['thi app is very good i Like so much ther',\n",
       "  {'Negative': False, 'Neutral': False, 'Positive': True}],\n",
       " [\"doesn't work that 's all\",\n",
       "  {'Negative': True, 'Neutral': False, 'Positive': False}],\n",
       " [\"won't Open in my samsung galax\",\n",
       "  {'Negative': True, 'Neutral': False, 'Positive': False}],\n",
       " [\"perfect thank you ❤ ️ i'm usually together is great bank\",\n",
       "  {'Negative': False, 'Neutral': False, 'Positive': True}],\n",
       " ['it bugs all the time',\n",
       "  {'Negative': False, 'Neutral': False, 'Positive': True}],\n",
       " ['great bank and their service',\n",
       "  {'Negative': False, 'Neutral': False, 'Positive': True}],\n",
       " ['very funcional Like it',\n",
       "  {'Negative': False, 'Neutral': False, 'Positive': True}],\n",
       " ['perfect my needs', {'Negative': False, 'Neutral': False, 'Positive': True}],\n",
       " [\"so far i'm having wonderful Experience with nubank\",\n",
       "  {'Negative': False, 'Neutral': False, 'Positive': True}],\n",
       " ['i sent request Almost weeks ago and Got em o response',\n",
       "  {'Negative': True, 'Neutral': False, 'Positive': False}],\n",
       " ['Not in english wow',\n",
       "  {'Negative': True, 'Neutral': False, 'Positive': False}],\n",
       " [\"yes 103inches are there any other People Who have been there sincer they Started dating you but they have been very good friends With sincer they werir All about You but they didn't want you so Badly that they had em o relationship with him because you werir so happy with him\",\n",
       "  {'Negative': False, 'Neutral': False, 'Positive': True}],\n",
       " ['nice 😍 😍 😍 😍 🥰 🥰 🥰 🥰 🥰 to Main content',\n",
       "  {'Negative': False, 'Neutral': False, 'Positive': True}],\n",
       " ['thi is perfect app',\n",
       "  {'Negative': False, 'Neutral': False, 'Positive': True}],\n",
       " ['excellent app that met my expectation',\n",
       "  {'Negative': False, 'Neutral': False, 'Positive': True}],\n",
       " [\"it 's great bank app\",\n",
       "  {'Negative': False, 'Neutral': False, 'Positive': True}],\n",
       " ['lover it very easy ux',\n",
       "  {'Negative': False, 'Neutral': False, 'Positive': True}],\n",
       " ['custom service awful',\n",
       "  {'Negative': True, 'Neutral': False, 'Positive': False}],\n",
       " [\"amazing it 's the best\",\n",
       "  {'Negative': False, 'Neutral': False, 'Positive': True}],\n",
       " ['the best customer service at all',\n",
       "  {'Negative': False, 'Neutral': False, 'Positive': True}],\n",
       " ['everything you need from bank in the Palm of your hands',\n",
       "  {'Negative': False, 'Neutral': False, 'Positive': True}],\n",
       " ['best app and best user experience',\n",
       "  {'Negative': False, 'Neutral': False, 'Positive': True}],\n",
       " [\"i'm sorry nubank unfortunately i can't rate you with star\",\n",
       "  {'Negative': False, 'Neutral': False, 'Positive': True}],\n",
       " ['thi app has the Worst Chanleog of the store',\n",
       "  {'Negative': False, 'Neutral': False, 'Positive': True}],\n",
       " ['em o carga la app',\n",
       "  {'Negative': True, 'Neutral': False, 'Positive': False}],\n",
       " ['thi is The best service released to the public',\n",
       "  {'Negative': False, 'Neutral': False, 'Positive': True}],\n",
       " ['The best card sale may international',\n",
       "  {'Negative': False, 'Neutral': False, 'Positive': True}],\n",
       " ['nubankr needs keywords Open the aplication',\n",
       "  {'Negative': False, 'Neutral': False, 'Positive': True}],\n",
       " ['the Greatest bank of all Time',\n",
       "  {'Negative': False, 'Neutral': False, 'Positive': True}],\n",
       " ['best financial service available',\n",
       "  {'Negative': False, 'Neutral': False, 'Positive': True}],\n",
       " ['good one,,i really Like thi app',\n",
       "  {'Negative': False, 'Neutral': False, 'Positive': True}],\n",
       " ['interface ta horrível',\n",
       "  {'Negative': True, 'Neutral': False, 'Positive': False}],\n",
       " ['really essential business',\n",
       "  {'Negative': False, 'Neutral': False, 'Positive': True}],\n",
       " ['so far so good therir is Nothing to Complain so far',\n",
       "  {'Negative': False, 'Neutral': False, 'Positive': True}],\n",
       " ['~300 mb bloatware Botnet app 0/5 stars uninstalled',\n",
       "  {'Negative': True, 'Neutral': False, 'Positive': False}],\n",
       " ['useful and clear', {'Negative': False, 'Neutral': False, 'Positive': True}],\n",
       " [\"doesn't Open when you need it\",\n",
       "  {'Negative': True, 'Neutral': False, 'Positive': False}],\n",
       " ['Not Real just Waisted Time exposing my information ..',\n",
       "  {'Negative': True, 'Neutral': False, 'Positive': False}],\n",
       " ['my first and better experience with bank account',\n",
       "  {'Negative': False, 'Neutral': False, 'Positive': True}],\n",
       " [\"best service i've ever used\",\n",
       "  {'Negative': False, 'Neutral': False, 'Positive': True}],\n",
       " [\"The best bank App i've used so far\",\n",
       "  {'Negative': False, 'Neutral': False, 'Positive': True}],\n",
       " ['Can i go to desconnect All purpose of security pleaser now',\n",
       "  {'Negative': False, 'Neutral': False, 'Positive': True}],\n",
       " ['top top top', {'Negative': False, 'Neutral': False, 'Positive': True}],\n",
       " ['implement the dda payment option and mask the amount of Money that is kept',\n",
       "  {'Negative': False, 'Neutral': False, 'Positive': True}],\n",
       " ['the best digital bank of the World',\n",
       "  {'Negative': False, 'Neutral': False, 'Positive': True}],\n",
       " [\"it 's great app i really recommend it 👍 🏼\",\n",
       "  {'Negative': False, 'Neutral': False, 'Positive': True}],\n",
       " ['very good im very satisfied',\n",
       "  {'Negative': False, 'Neutral': False, 'Positive': True}],\n",
       " ['alway Getting better and better',\n",
       "  {'Negative': False, 'Neutral': False, 'Positive': True}],\n",
       " ['gorgeous and useful',\n",
       "  {'Negative': False, 'Neutral': False, 'Positive': True}],\n",
       " [\"i will see if its Good i Will thank to it 's team\",\n",
       "  {'Negative': False, 'Neutral': False, 'Positive': True}],\n",
       " ['top apk is perfect',\n",
       "  {'Negative': False, 'Neutral': False, 'Positive': True}],\n",
       " ['works Well Enough',\n",
       "  {'Negative': False, 'Neutral': False, 'Positive': True}],\n",
       " ['my favorite financial app ever nubankr love u s2',\n",
       "  {'Negative': False, 'Neutral': False, 'Positive': True}],\n",
       " [\"it 's awesomer thank you\",\n",
       "  {'Negative': False, 'Neutral': False, 'Positive': True}],\n",
       " ['very good banco i love my my nu bank',\n",
       "  {'Negative': False, 'Neutral': False, 'Positive': True}],\n",
       " ['lover The bank and the banking',\n",
       "  {'Negative': False, 'Neutral': False, 'Positive': True}],\n",
       " [\"it 's the best bank of world\",\n",
       "  {'Negative': False, 'Neutral': False, 'Positive': True}],\n",
       " [\"bureaucracy i lover it ... it 's recommend by\",\n",
       "  {'Negative': False, 'Neutral': False, 'Positive': True}],\n",
       " ['ponderoso app nubankr es maravilhoso 🤗 i love very much',\n",
       "  {'Negative': False, 'Neutral': False, 'Positive': True}],\n",
       " ['one of the best bank service established in brazil',\n",
       "  {'Negative': False, 'Neutral': False, 'Positive': True}],\n",
       " ['thi app is perfect',\n",
       "  {'Negative': False, 'Neutral': False, 'Positive': True}],\n",
       " ['Great app the best',\n",
       "  {'Negative': False, 'Neutral': False, 'Positive': True}],\n",
       " ['top top top', {'Negative': False, 'Neutral': False, 'Positive': True}],\n",
       " [\"i can't aces the app\",\n",
       "  {'Negative': True, 'Neutral': False, 'Positive': False}],\n",
       " ['great easy to use',\n",
       "  {'Negative': False, 'Neutral': False, 'Positive': True}],\n",
       " ['Excellent thank you so much',\n",
       "  {'Negative': False, 'Neutral': False, 'Positive': True}],\n",
       " ['very nice app', {'Negative': False, 'Neutral': False, 'Positive': True}],\n",
       " [\"i love Nubank and it 's the best bank App\",\n",
       "  {'Negative': False, 'Neutral': False, 'Positive': True}],\n",
       " ['amazing i Am gonna work on Nubank team sumir day :)',\n",
       "  {'Negative': False, 'Neutral': False, 'Positive': True}],\n",
       " ['first time to downloadr it i hope works',\n",
       "  {'Negative': False, 'Neutral': False, 'Positive': True}],\n",
       " ['thi app is amazing',\n",
       "  {'Negative': False, 'Neutral': False, 'Positive': True}],\n",
       " ['ok Beginners and students',\n",
       "  {'Negative': True, 'Neutral': False, 'Positive': False}],\n",
       " ['good app i recommend it',\n",
       "  {'Negative': False, 'Neutral': False, 'Positive': True}],\n",
       " ['so google pay', {'Negative': False, 'Neutral': False, 'Positive': True}],\n",
       " ['in nutshell awesome',\n",
       "  {'Negative': False, 'Neutral': False, 'Positive': True}],\n",
       " ['The best bank app',\n",
       "  {'Negative': False, 'Neutral': False, 'Positive': True}],\n",
       " ['best app ever i used so far',\n",
       "  {'Negative': False, 'Neutral': False, 'Positive': True}],\n",
       " ['the app is very good',\n",
       "  {'Negative': False, 'Neutral': False, 'Positive': True}],\n",
       " ['Great app very satisfied ...',\n",
       "  {'Negative': False, 'Neutral': False, 'Positive': True}],\n",
       " ['excelent app changir All my life',\n",
       "  {'Negative': False, 'Neutral': False, 'Positive': True}],\n",
       " ['i Wasnt able to download the app',\n",
       "  {'Negative': True, 'Neutral': False, 'Positive': False}],\n",
       " ['very nice app', {'Negative': False, 'Neutral': False, 'Positive': True}],\n",
       " ['lackr off more Analytics about consumption',\n",
       "  {'Negative': True, 'Neutral': False, 'Positive': False}],\n",
       " ['top top top', {'Negative': False, 'Neutral': False, 'Positive': True}],\n",
       " ['very good app', {'Negative': False, 'Neutral': False, 'Positive': True}],\n",
       " ['easy to thi app', {'Negative': False, 'Neutral': False, 'Positive': True}],\n",
       " [\"i'm impressed on how Good works ...\",\n",
       "  {'Negative': False, 'Neutral': False, 'Positive': True}],\n",
       " ['best bank app', {'Negative': False, 'Neutral': False, 'Positive': True}],\n",
       " ['the Greatest bank app ever',\n",
       "  {'Negative': False, 'Neutral': False, 'Positive': True}],\n",
       " [\"it 's very good app\",\n",
       "  {'Negative': False, 'Neutral': False, 'Positive': True}],\n",
       " ['Good app beautiful',\n",
       "  {'Negative': False, 'Neutral': False, 'Positive': True}],\n",
       " ['cade fatura Nubank sumir de o app',\n",
       "  {'Negative': True, 'Neutral': False, 'Positive': False}],\n",
       " ['algum facilidade sumir de o app',\n",
       "  {'Negative': False, 'Neutral': False, 'Positive': True}],\n",
       " [\"it 's very good app\",\n",
       "  {'Negative': False, 'Neutral': False, 'Positive': True}],\n",
       " ['lupa voltar app show',\n",
       "  {'Negative': False, 'Neutral': False, 'Positive': True}],\n",
       " ['nubankr is Incrible i lover it',\n",
       "  {'Negative': False, 'Neutral': False, 'Positive': True}],\n",
       " ['excellent bank service',\n",
       "  {'Negative': False, 'Neutral': False, 'Positive': True}],\n",
       " ['amo banco nota 10/10',\n",
       "  {'Negative': False, 'Neutral': False, 'Positive': True}],\n",
       " ['The best bank app ever',\n",
       "  {'Negative': False, 'Neutral': False, 'Positive': True}],\n",
       " ['good app my money tank',\n",
       "  {'Negative': False, 'Neutral': False, 'Positive': True}],\n",
       " ['best Credit card ever',\n",
       "  {'Negative': False, 'Neutral': False, 'Positive': True}],\n",
       " ['otimo app bank', {'Negative': False, 'Neutral': False, 'Positive': True}],\n",
       " ['i liked thi app so much 🤟 😉',\n",
       "  {'Negative': False, 'Neutral': False, 'Positive': True}],\n",
       " ['The best Credit Card',\n",
       "  {'Negative': False, 'Neutral': False, 'Positive': True}],\n",
       " [\"The best one i've used yet\",\n",
       "  {'Negative': False, 'Neutral': False, 'Positive': True}],\n",
       " ['very good app', {'Negative': False, 'Neutral': False, 'Positive': True}],\n",
       " ['best onliner bank ever',\n",
       "  {'Negative': False, 'Neutral': False, 'Positive': True}],\n",
       " ['best bank App out there',\n",
       "  {'Negative': False, 'Neutral': False, 'Positive': True}],\n",
       " ['best bank app ever',\n",
       "  {'Negative': False, 'Neutral': False, 'Positive': True}],\n",
       " ['The best bank experience ever',\n",
       "  {'Negative': False, 'Neutral': False, 'Positive': True}],\n",
       " [\"it doesn't work\", {'Negative': True, 'Neutral': False, 'Positive': False}],\n",
       " ['my experience is perfect s2',\n",
       "  {'Negative': False, 'Neutral': False, 'Positive': True}],\n",
       " ['simple to use', {'Negative': False, 'Neutral': False, 'Positive': True}],\n",
       " [\"it 's the best app ever ☺ 👍 🏼\",\n",
       "  {'Negative': False, 'Neutral': False, 'Positive': True}],\n",
       " ['its Really amazing',\n",
       "  {'Negative': False, 'Neutral': False, 'Positive': True}],\n",
       " [\"it 's amazing\", {'Negative': False, 'Neutral': False, 'Positive': True}],\n",
       " ['The best bank app ever ...',\n",
       "  {'Negative': False, 'Neutral': False, 'Positive': True}],\n",
       " ['i lover it ... keep on',\n",
       "  {'Negative': False, 'Neutral': False, 'Positive': True}],\n",
       " ['The best card ever',\n",
       "  {'Negative': False, 'Neutral': False, 'Positive': True}],\n",
       " [\"i can't install the app\",\n",
       "  {'Negative': True, 'Neutral': False, 'Positive': False}],\n",
       " ['easiest to use', {'Negative': False, 'Neutral': False, 'Positive': True}],\n",
       " ['very nice bank', {'Negative': False, 'Neutral': False, 'Positive': True}],\n",
       " ['the best app ever',\n",
       "  {'Negative': False, 'Neutral': False, 'Positive': True}],\n",
       " ['em o setting en', {'Negative': True, 'Neutral': False, 'Positive': False}],\n",
       " ['it is awesomer', {'Negative': False, 'Neutral': False, 'Positive': True}],\n",
       " ['best bank of the World',\n",
       "  {'Negative': False, 'Neutral': False, 'Positive': True}],\n",
       " ['its great 5star thi apps',\n",
       "  {'Negative': False, 'Neutral': False, 'Positive': True}],\n",
       " ['the better bank ever',\n",
       "  {'Negative': False, 'Neutral': False, 'Positive': True}],\n",
       " ['the best digital bank',\n",
       "  {'Negative': False, 'Neutral': False, 'Positive': True}],\n",
       " ['easy to use', {'Negative': False, 'Neutral': False, 'Positive': True}],\n",
       " ['app is literally Broken',\n",
       "  {'Negative': True, 'Neutral': False, 'Positive': False}],\n",
       " ['too good to be Real',\n",
       "  {'Negative': False, 'Neutral': False, 'Positive': True}],\n",
       " ['i Cant find the english',\n",
       "  {'Negative': True, 'Neutral': False, 'Positive': False}],\n",
       " ['Getting better and better',\n",
       "  {'Negative': False, 'Neutral': False, 'Positive': True}],\n",
       " ['very good app', {'Negative': False, 'Neutral': False, 'Positive': True}],\n",
       " ['easy to use', {'Negative': False, 'Neutral': False, 'Positive': True}],\n",
       " ['is just awesomer', {'Negative': False, 'Neutral': False, 'Positive': True}],\n",
       " ['easy to use ...', {'Negative': False, 'Neutral': False, 'Positive': True}],\n",
       " ['thi Not Work in indio',\n",
       "  {'Negative': False, 'Neutral': False, 'Positive': True}],\n",
       " ['best service ever',\n",
       "  {'Negative': False, 'Neutral': False, 'Positive': True}],\n",
       " ['very nice app', {'Negative': False, 'Neutral': False, 'Positive': True}],\n",
       " [\"it 's the best sure\",\n",
       "  {'Negative': False, 'Neutral': False, 'Positive': True}],\n",
       " ['it works great', {'Negative': False, 'Neutral': False, 'Positive': True}],\n",
       " ['i love thi app', {'Negative': False, 'Neutral': False, 'Positive': True}],\n",
       " ['The best bank ever',\n",
       "  {'Negative': False, 'Neutral': False, 'Positive': True}],\n",
       " ['Awesome and trustworthy',\n",
       "  {'Negative': False, 'Neutral': False, 'Positive': True}],\n",
       " ['i enjoy lot', {'Negative': False, 'Neutral': False, 'Positive': True}],\n",
       " ['The best bank ever',\n",
       "  {'Negative': False, 'Neutral': False, 'Positive': True}],\n",
       " ['vey good and useful',\n",
       "  {'Negative': False, 'Neutral': False, 'Positive': True}],\n",
       " ['slimy the best', {'Negative': False, 'Neutral': False, 'Positive': True}],\n",
       " ['the app is working',\n",
       "  {'Negative': False, 'Neutral': False, 'Positive': True}],\n",
       " ['one of the best account options i have had',\n",
       "  {'Negative': False, 'Neutral': False, 'Positive': True}],\n",
       " ['best app ever made',\n",
       "  {'Negative': False, 'Neutral': False, 'Positive': True}],\n",
       " ['amazing thi financial app',\n",
       "  {'Negative': False, 'Neutral': False, 'Positive': True}],\n",
       " ['banco onliner', {'Negative': False, 'Neutral': False, 'Positive': True}],\n",
       " ['the best digital bank',\n",
       "  {'Negative': False, 'Neutral': False, 'Positive': True}],\n",
       " ['experiência ortogonalmente transcendental',\n",
       "  {'Negative': False, 'Neutral': False, 'Positive': True}],\n",
       " ['great bank service',\n",
       "  {'Negative': False, 'Neutral': False, 'Positive': True}],\n",
       " ['gostar de o app', {'Negative': False, 'Neutral': False, 'Positive': True}],\n",
       " ['the best app ever',\n",
       "  {'Negative': False, 'Neutral': False, 'Positive': True}],\n",
       " ['very Nive ... showwwwwwwwwwwww showww Showwwwww',\n",
       "  {'Negative': False, 'Neutral': False, 'Positive': True}],\n",
       " [\"it 's perfect\", {'Negative': False, 'Neutral': False, 'Positive': True}],\n",
       " ['gshhejehbs top', {'Negative': False, 'Neutral': False, 'Positive': True}],\n",
       " ['antonio jose aguiar',\n",
       "  {'Negative': False, 'Neutral': False, 'Positive': True}],\n",
       " ['The best bank ever',\n",
       "  {'Negative': False, 'Neutral': False, 'Positive': True}],\n",
       " ['best bank ever', {'Negative': False, 'Neutral': False, 'Positive': True}],\n",
       " ['good digital bank',\n",
       "  {'Negative': False, 'Neutral': False, 'Positive': True}],\n",
       " ['best bank ever', {'Negative': False, 'Neutral': False, 'Positive': True}],\n",
       " ['the best app', {'Negative': False, 'Neutral': False, 'Positive': True}],\n",
       " ['where is The option to pay With phone',\n",
       "  {'Negative': False, 'Neutral': False, 'Positive': True}],\n",
       " ['good and admirable',\n",
       "  {'Negative': True, 'Neutral': False, 'Positive': False}],\n",
       " ['app bancario', {'Negative': False, 'Neutral': False, 'Positive': True}],\n",
       " ['the best financial institution that i had relationship ever',\n",
       "  {'Negative': False, 'Neutral': False, 'Positive': True}],\n",
       " ['The best bank that i found',\n",
       "  {'Negative': False, 'Neutral': False, 'Positive': True}],\n",
       " ['best bank App of brazil',\n",
       "  {'Negative': False, 'Neutral': False, 'Positive': True}],\n",
       " ['ui could be better',\n",
       "  {'Negative': False, 'Neutral': False, 'Positive': True}],\n",
       " ['it has been good experience so far',\n",
       "  {'Negative': False, 'Neutral': False, 'Positive': True}],\n",
       " ['best bank ever', {'Negative': False, 'Neutral': False, 'Positive': True}],\n",
       " ['very good experience 😊',\n",
       "  {'Negative': False, 'Neutral': False, 'Positive': True}],\n",
       " ['best onliner bank ever',\n",
       "  {'Negative': False, 'Neutral': False, 'Positive': True}],\n",
       " ['very good app', {'Negative': False, 'Neutral': False, 'Positive': True}],\n",
       " ['add Dark theme please',\n",
       "  {'Negative': False, 'Neutral': False, 'Positive': True}],\n",
       " ['so far great experience',\n",
       "  {'Negative': False, 'Neutral': False, 'Positive': True}],\n",
       " ['bommm mt mlr q inter',\n",
       "  {'Negative': False, 'Neutral': False, 'Positive': True}],\n",
       " ['best of all', {'Negative': False, 'Neutral': False, 'Positive': True}],\n",
       " ['The best bank in the World',\n",
       "  {'Negative': False, 'Neutral': False, 'Positive': True}],\n",
       " ['The best just it', {'Negative': False, 'Neutral': False, 'Positive': True}],\n",
       " [\"Good app Mery i'd ban jae\",\n",
       "  {'Negative': False, 'Neutral': False, 'Positive': True}],\n",
       " ['banco onliner', {'Negative': False, 'Neutral': False, 'Positive': True}],\n",
       " [\"it 's amazing\", {'Negative': False, 'Neutral': False, 'Positive': True}],\n",
       " ['em o show thi app',\n",
       "  {'Negative': True, 'Neutral': False, 'Positive': False}],\n",
       " ['just de oes not Work anymore',\n",
       "  {'Negative': True, 'Neutral': False, 'Positive': False}],\n",
       " ['aplicativo nubankr otivvvvvvvvvvvvvvvvcghhhhhhhhhhhhhhhhhhhhbbbbbbhhhhhhhhhhhhhhhhhhhhhbhhhgynyhyyyyyyyyyyyyyyyyyytyyyyyyfggggggfffffgffggggggggggggggggggggggggggyyhhhghhggggfftggfggygshdudhrrjrjrjruriiririti tô ititititi i ititititiitirjrjrujrurhdhdhdhhdhdhrhfhurhrrj ok rirjjfifuufjfujeuuryrurjururu uuririrururutuutu ititititiitirjrjrujrurhdhdhdhhdhdhrhfhurhrrj uru uti urhhduuhhrudyrhrhrurruruurururuururu u Uruujrurfjjrjurhufjrujrjfjurjrutuutuututututuutur ururjhuruuruur',\n",
       "  {'Negative': False, 'Neutral': False, 'Positive': True}],\n",
       " ['banco digital ever',\n",
       "  {'Negative': False, 'Neutral': False, 'Positive': True}],\n",
       " ['best onliner bank ever',\n",
       "  {'Negative': False, 'Neutral': False, 'Positive': True}],\n",
       " ['i love nubankr thank lot',\n",
       "  {'Negative': False, 'Neutral': False, 'Positive': True}],\n",
       " ['The best in brazil',\n",
       "  {'Negative': False, 'Neutral': False, 'Positive': True}],\n",
       " ['awesomer bah loco',\n",
       "  {'Negative': False, 'Neutral': False, 'Positive': True}],\n",
       " ['great bank', {'Negative': False, 'Neutral': False, 'Positive': True}],\n",
       " ['More options account opening',\n",
       "  {'Negative': False, 'Neutral': False, 'Positive': True}],\n",
       " [\"the experience couldn't be Worse ...\",\n",
       "  {'Negative': True, 'Neutral': False, 'Positive': False}],\n",
       " ['The best bank ever',\n",
       "  {'Negative': False, 'Neutral': False, 'Positive': True}],\n",
       " ['i Like thi d', {'Negative': False, 'Neutral': False, 'Positive': True}],\n",
       " [\"can't log in to my account\",\n",
       "  {'Negative': True, 'Neutral': False, 'Positive': False}],\n",
       " ['nubankr is amaizing i Am in lover that',\n",
       "  {'Negative': False, 'Neutral': False, 'Positive': True}],\n",
       " ['banco ever', {'Negative': False, 'Neutral': False, 'Positive': True}],\n",
       " ['Freedom from traditional banks where i decidir and de o i please',\n",
       "  {'Negative': False, 'Neutral': False, 'Positive': True}],\n",
       " [\"it 's great\", {'Negative': False, 'Neutral': False, 'Positive': True}],\n",
       " ['just waiting the approval e.e',\n",
       "  {'Negative': False, 'Neutral': False, 'Positive': True}],\n",
       " ['The best bank', {'Negative': False, 'Neutral': False, 'Positive': True}],\n",
       " ['the best company ever ❤ ️',\n",
       "  {'Negative': False, 'Neutral': False, 'Positive': True}],\n",
       " [\"it 's amazing\", {'Negative': False, 'Neutral': False, 'Positive': True}],\n",
       " [\"i'm enjoying the app\",\n",
       "  {'Negative': False, 'Neutral': False, 'Positive': True}],\n",
       " ['best bank ever', {'Negative': False, 'Neutral': False, 'Positive': True}],\n",
       " ['simplesmente d+ 😀',\n",
       "  {'Negative': False, 'Neutral': False, 'Positive': True}],\n",
       " ['i love my digital bank <3',\n",
       "  {'Negative': False, 'Neutral': False, 'Positive': True}],\n",
       " ['app finaceiro', {'Negative': False, 'Neutral': False, 'Positive': True}],\n",
       " ['app de o nubank', {'Negative': False, 'Neutral': False, 'Positive': True}],\n",
       " ['it just works', {'Negative': False, 'Neutral': False, 'Positive': True}],\n",
       " ['put the english language',\n",
       "  {'Negative': True, 'Neutral': False, 'Positive': False}],\n",
       " ['best bank ever', {'Negative': False, 'Neutral': False, 'Positive': True}],\n",
       " ['best bank ever', {'Negative': False, 'Neutral': False, 'Positive': True}],\n",
       " ['so good app', {'Negative': False, 'Neutral': False, 'Positive': True}],\n",
       " ['i lover it', {'Negative': False, 'Neutral': False, 'Positive': True}],\n",
       " ['The best experience ever',\n",
       "  {'Negative': False, 'Neutral': False, 'Positive': True}],\n",
       " ['The best one ...', {'Negative': False, 'Neutral': False, 'Positive': True}],\n",
       " ['the better app', {'Negative': False, 'Neutral': False, 'Positive': True}],\n",
       " ['best bank ever', {'Negative': False, 'Neutral': False, 'Positive': True}],\n",
       " ['app top', {'Negative': False, 'Neutral': False, 'Positive': True}],\n",
       " ['nubankr is perfect',\n",
       "  {'Negative': False, 'Neutral': False, 'Positive': True}],\n",
       " ['banco ever', {'Negative': False, 'Neutral': False, 'Positive': True}],\n",
       " ['offline again .. seriously',\n",
       "  {'Negative': True, 'Neutral': False, 'Positive': False}],\n",
       " ['best bank ever', {'Negative': False, 'Neutral': False, 'Positive': True}],\n",
       " ['best bank ever', {'Negative': False, 'Neutral': False, 'Positive': True}],\n",
       " ['best App about money',\n",
       "  {'Negative': False, 'Neutral': False, 'Positive': True}],\n",
       " ['amazing virtual banking',\n",
       "  {'Negative': False, 'Neutral': False, 'Positive': True}],\n",
       " ['good so far ...', {'Negative': False, 'Neutral': False, 'Positive': True}],\n",
       " ['best of the best 👌',\n",
       "  {'Negative': False, 'Neutral': False, 'Positive': True}],\n",
       " ['The best bank', {'Negative': False, 'Neutral': False, 'Positive': True}],\n",
       " ['profesional crédito card',\n",
       "  {'Negative': False, 'Neutral': False, 'Positive': True}],\n",
       " [\"i can't Make an account\",\n",
       "  {'Negative': True, 'Neutral': False, 'Positive': False}],\n",
       " ['app nqo carregar', {'Negative': False, 'Neutral': False, 'Positive': True}],\n",
       " [\"it 's amazing\", {'Negative': False, 'Neutral': False, 'Positive': True}],\n",
       " ['i Will Edit thi reviews once i recier My nubankr card hopefully soon',\n",
       "  {'Negative': False, 'Neutral': False, 'Positive': True}],\n",
       " ['one of the best of the best',\n",
       "  {'Negative': False, 'Neutral': False, 'Positive': True}],\n",
       " ['the best of the best',\n",
       "  {'Negative': False, 'Neutral': False, 'Positive': True}],\n",
       " ['much better than other',\n",
       "  {'Negative': False, 'Neutral': False, 'Positive': True}],\n",
       " ['The best bank', {'Negative': False, 'Neutral': False, 'Positive': True}],\n",
       " ['what joke', {'Negative': False, 'Neutral': False, 'Positive': True}],\n",
       " ['Soo Good 😊 i loved',\n",
       "  {'Negative': False, 'Neutral': False, 'Positive': True}],\n",
       " ['nubankr is simply revolutionary',\n",
       "  {'Negative': False, 'Neutral': False, 'Positive': True}],\n",
       " ['The best bank', {'Negative': False, 'Neutral': False, 'Positive': True}],\n",
       " ['mutho nubank', {'Negative': False, 'Neutral': False, 'Positive': True}],\n",
       " ['cadê dark mode', {'Negative': False, 'Neutral': False, 'Positive': True}],\n",
       " ['The best bank hands down',\n",
       "  {'Negative': False, 'Neutral': False, 'Positive': True}],\n",
       " ['the bast bank of World',\n",
       "  {'Negative': False, 'Neutral': False, 'Positive': True}],\n",
       " ['must Have it', {'Negative': False, 'Neutral': False, 'Positive': True}],\n",
       " [\"that 's great\", {'Negative': False, 'Neutral': False, 'Positive': True}],\n",
       " ['best exp ever', {'Negative': False, 'Neutral': False, 'Positive': True}],\n",
       " ['more or less', {'Negative': False, 'Neutral': False, 'Positive': True}],\n",
       " ['bank of future', {'Negative': False, 'Neutral': False, 'Positive': True}],\n",
       " ['amo nubank <3', {'Negative': False, 'Neutral': False, 'Positive': True}],\n",
       " ['top of the top', {'Negative': False, 'Neutral': False, 'Positive': True}],\n",
       " ['account access my bank account number',\n",
       "  {'Negative': False, 'Neutral': False, 'Positive': True}],\n",
       " ['amar conta digital nu bank 😉',\n",
       "  {'Negative': False, 'Neutral': False, 'Positive': True}],\n",
       " ['Worst bank ever', {'Negative': True, 'Neutral': False, 'Positive': False}],\n",
       " ['i love nubank', {'Negative': False, 'Neutral': False, 'Positive': True}],\n",
       " [\"it 's good\", {'Negative': False, 'Neutral': False, 'Positive': True}],\n",
       " ['The best bank', {'Negative': False, 'Neutral': False, 'Positive': True}],\n",
       " ['cadê dark mode', {'Negative': False, 'Neutral': False, 'Positive': True}],\n",
       " ['better than Most', {'Negative': False, 'Neutral': False, 'Positive': True}],\n",
       " ['not too bad', {'Negative': False, 'Neutral': False, 'Positive': True}],\n",
       " ['The best bank', {'Negative': False, 'Neutral': False, 'Positive': True}],\n",
       " ['using in pakistan',\n",
       "  {'Negative': True, 'Neutral': False, 'Positive': False}],\n",
       " ['gostar de o app', {'Negative': False, 'Neutral': False, 'Positive': True}],\n",
       " ['bonzão tico prau tico prey eh choris',\n",
       "  {'Negative': False, 'Neutral': False, 'Positive': True}],\n",
       " ['n usei n enformar',\n",
       "  {'Negative': False, 'Neutral': False, 'Positive': True}],\n",
       " [\"don't uptade\", {'Negative': True, 'Neutral': False, 'Positive': False}],\n",
       " ['José Maria goncalves',\n",
       "  {'Negative': False, 'Neutral': False, 'Positive': True}],\n",
       " ['The best one', {'Negative': False, 'Neutral': False, 'Positive': True}],\n",
       " ['dont see colomber',\n",
       "  {'Negative': True, 'Neutral': False, 'Positive': False}],\n",
       " ['so far so good', {'Negative': False, 'Neutral': False, 'Positive': True}],\n",
       " ['nubankr is good', {'Negative': False, 'Neutral': False, 'Positive': True}],\n",
       " ['amo Nubank 👁 ️ 👄 👁 ️',\n",
       "  {'Negative': False, 'Neutral': False, 'Positive': True}],\n",
       " ['nubankr time saver',\n",
       "  {'Negative': False, 'Neutral': False, 'Positive': True}],\n",
       " ['nubanck conta telechage',\n",
       "  {'Negative': False, 'Neutral': False, 'Positive': True}],\n",
       " ['separ spam de o notificação email',\n",
       "  {'Negative': True, 'Neutral': False, 'Positive': False}],\n",
       " ['em o puedo la tarjeta virtual queda en loop pidier El nip',\n",
       "  {'Negative': True, 'Neutral': False, 'Positive': False}],\n",
       " ['gostar', {'Negative': True, 'Neutral': False, 'Positive': False}],\n",
       " ['top line', {'Negative': False, 'Neutral': False, 'Positive': True}],\n",
       " ['nubankr deixar usuário tirar print de o fatura conta ficar complicado pra gerenciar gasto',\n",
       "  {'Negative': True, 'Neutral': False, 'Positive': False}],\n",
       " ['sério problema recuperar acesso a o app pedir foto documento permitir câmera frontal permitir focar adequadamente documento',\n",
       "  {'Negative': True, 'Neutral': False, 'Positive': False}],\n",
       " ['simplesmente reinstalar aplicativo pra aparecer validação segurança em o app compra de o mt trabalho causa de isso',\n",
       "  {'Negative': True, 'Neutral': False, 'Positive': False}],\n",
       " ['gostar de esse banco pessimo aler render dia nao possivel tirar print de o app absurdo banco justamente de o tirar print saldo transferencia comigo prova de esse transferencia',\n",
       "  {'Negative': True, 'Neutral': False, 'Positive': False}],\n",
       " ['aplicativo vir piorar acréscimo menu inútil interesse continuar útil atualização recente pra com si utilizar app simplesmente fechar a o abrir nenhum erro reinstalar reiniciar celular limpar cache preciso ajuda',\n",
       "  {'Negative': False, 'Neutral': False, 'Positive': True}],\n",
       " ['aplicativo simplesmente parar funcionar de o atualização de o dia 15/03/2023',\n",
       "  {'Negative': True, 'Neutral': False, 'Positive': False}],\n",
       " ['em o carga la.opcion actualizar dato entonce bloquean La tarjeto',\n",
       "  {'Negative': True, 'Neutral': False, 'Positive': False}],\n",
       " ['ta bien pue síganle echar gana hasta ahora em o he tener ningún problema El servicio gusta',\n",
       "  {'Negative': False, 'Neutral': False, 'Positive': True}],\n",
       " ['app n abrir jeito nenhum',\n",
       "  {'Negative': True, 'Neutral': False, 'Positive': False}],\n",
       " ['justificar aumento limite seguir instrução de o app conseguir benefício',\n",
       "  {'Negative': True, 'Neutral': False, 'Positive': False}],\n",
       " ['gostar', {'Negative': False, 'Neutral': False, 'Positive': True}],\n",
       " ['excelente', {'Negative': False, 'Neutral': False, 'Positive': True}],\n",
       " ['inacreditavel aplicativo banco nubankr liberar entrada em o app senha básico celular pin desenho querer entrar biometria opção liber conjunto',\n",
       "  {'Negative': True, 'Neutral': False, 'Positive': False}],\n",
       " ['bloquearon mi tarjeta sin aviso prévio al clicar completar dato em o funciona ya reclame vece pero pasanr una solución siempre esperar y espera\",así mi tarjeta hasta hoy bloquear y em o la puedo ni tampoco kitar El dinero extra ay tengo sin contar tiene la opción cambiar El país pero em o funciona cambio intentar acceder mi cuenta Brasil y em o jala hoy en pleno solo decepcione la verdad ofrecen muy poco mucho problema',\n",
       "  {'Negative': True, 'Neutral': False, 'Positive': False}],\n",
       " ['ya em o puedo entrar la aplicación siempre imprimo mis factura llegaban directo mi Correo ahora es un problema mandar la aplicación Luego buscar factura y ahí El problema ya em o habré y si llegar abrir pude va tomar una foto y cierrar la app ahora sale en portugués y en español y ya es una verdadera lástimo ya su app estabar muy bien y El servicio su tarjeto es fabuloso pero tengo eso gran problema',\n",
       "  {'Negative': True, 'Neutral': False, 'Positive': False}],\n",
       " ['algum sugeri implementação parecer caixinha obrigar vir sugerir dependente receber cartão adicional black ultravioleta criar cartão virtual conveniência Apple pay afim outro sugestão abrir resumo de o fatura ordenar compra de o empresa ... facilitariar controle gasto obrigar 😊',\n",
       "  {'Negative': False, 'Neutral': False, 'Positive': True}],\n",
       " ['precisar reenviar photos muitas conseguir desistir',\n",
       "  {'Negative': True, 'Neutral': False, 'Positive': False}],\n",
       " ['notificação propaganda loja mau app banco assustar achar algum movimentação indevido propaganda promoção loja satisfação de o cliente dever valer de o',\n",
       "  {'Negative': True, 'Neutral': False, 'Positive': False}],\n",
       " ['com si entrar em o conta',\n",
       "  {'Negative': True, 'Neutral': False, 'Positive': False}],\n",
       " ['muy Buena Atención también resuelven muy rápido El problema',\n",
       "  {'Negative': False, 'Neutral': False, 'Positive': True}],\n",
       " ['q reclamar maravilhoso',\n",
       "  {'Negative': False, 'Neutral': False, 'Positive': True}],\n",
       " ['nao consigo validar foto',\n",
       "  {'Negative': True, 'Neutral': False, 'Positive': False}],\n",
       " ['tengo reinstalar la app salgo ella verificar funcione bien su app y volviór suceder hay una actualización android fallo',\n",
       "  {'Negative': True, 'Neutral': False, 'Positive': False}],\n",
       " ['determinar limite de o cartão virtual independente nubank inovador função enter',\n",
       "  {'Negative': False, 'Neutral': False, 'Positive': True}],\n",
       " ['maravilhoso', {'Negative': False, 'Neutral': False, 'Positive': True}],\n",
       " ['', {'Negative': False, 'Neutral': False, 'Positive': True}],\n",
       " ['', {'Negative': False, 'Neutral': False, 'Positive': True}],\n",
       " ['samsung a02', {'Negative': False, 'Neutral': False, 'Positive': True}],\n",
       " ['excelente', {'Negative': False, 'Neutral': False, 'Positive': True}],\n",
       " ['', {'Negative': True, 'Neutral': False, 'Positive': False}],\n",
       " ['muy Buena', {'Negative': False, 'Neutral': False, 'Positive': True}],\n",
       " ['nota', {'Negative': False, 'Neutral': False, 'Positive': True}],\n",
       " ['funcionar com si acessar cartão virtual app fechar cartão virtual',\n",
       "  {'Negative': False, 'Neutral': False, 'Positive': True}],\n",
       " ['incrível', {'Negative': False, 'Neutral': False, 'Positive': True}],\n",
       " ['excelente', {'Negative': False, 'Neutral': False, 'Positive': True}],\n",
       " ['okoko', {'Negative': False, 'Neutral': False, 'Positive': True}],\n",
       " ['show', {'Negative': False, 'Neutral': False, 'Positive': True}],\n",
       " ['', {'Negative': False, 'Neutral': False, 'Positive': True}],\n",
       " ['nu ya em o ofrece un buen servicio al cliente reporte un comprar vece y el equipo nu bank em o ayudó decidieron hacerse la vista gordar pasaron má días y usaronr eso pretexto decir em o podían ayudarme ya había pasar mucho tiempo total em o recuperé mi dinero y em o tengo ese dinero hice una devolución ahor ni producto ni dinero pero cobrar son bueno la verdad em o recomier banco Además ni aumentan línea crédito',\n",
       "  {'Negative': True, 'Neutral': False, 'Positive': False}],\n",
       " ['', {'Negative': False, 'Neutral': False, 'Positive': True}],\n",
       " ['algum hj acessar ficar pedir senha de aí informar sair errar clico esqueci Senha crio senha seguir problema tô cancelar fechar conta ...',\n",
       "  {'Negative': True, 'Neutral': False, 'Positive': False}],\n",
       " ['de o ultimo atualização nao achar areo pix',\n",
       "  {'Negative': True, 'Neutral': False, 'Positive': False}],\n",
       " ['experiência 100,00 digital virtual haver opção nfc',\n",
       "  {'Negative': False, 'Neutral': False, 'Positive': True}],\n",
       " ['update interface ficar lento poluir',\n",
       "  {'Negative': True, 'Neutral': False, 'Positive': False}],\n",
       " ['aplicativo ecelente',\n",
       "  {'Negative': True, 'Neutral': False, 'Positive': False}],\n",
       " ['ameir ❤ ️', {'Negative': True, 'Neutral': False, 'Positive': False}],\n",
       " ['função guardar dinheiro ótimo ótimo melhoria tivéssemos opção selecionar data guardar dinheiro propósito data diferente',\n",
       "  {'Negative': False, 'Neutral': False, 'Positive': True}],\n",
       " ['', {'Negative': False, 'Neutral': False, 'Positive': True}],\n",
       " ['ameir', {'Negative': False, 'Neutral': False, 'Positive': True}],\n",
       " ['', {'Negative': False, 'Neutral': False, 'Positive': True}],\n",
       " ['paulosergio', {'Negative': False, 'Neutral': False, 'Positive': True}],\n",
       " ['otimo', {'Negative': False, 'Neutral': False, 'Positive': True}],\n",
       " ['otimo', {'Negative': False, 'Neutral': False, 'Positive': True}],\n",
       " ['péssimo', {'Negative': True, 'Neutral': False, 'Positive': False}],\n",
       " ['parecer en soporte Nadie hacer mi tarjetar bloqueada la app em o dejar actualizar dato y solo recomiendan esperar 24hrs en otra palabro mañana pasa problema del siguente agente ni desinstalar la app arreglar',\n",
       "  {'Negative': True, 'Neutral': False, 'Positive': False}],\n",
       " ['nubank decepcionar dia atenção cliente Banco principal cartão de eles em o esperança aumentar limite receber 2k em o analise analise usei limite suficiente tar comprar em o crédito pagar adiantar sejamos franco cartão crédito pra comprar acesso de o debito consigir em o uber',\n",
       "  {'Negative': True, 'Neutral': False, 'Positive': False}],\n",
       " ['criar chave de o pix aplicativo simplesmente fechar',\n",
       "  {'Negative': False, 'Neutral': False, 'Positive': True}],\n",
       " ['chegada de o caixinha deixar meta organizado',\n",
       "  {'Negative': False, 'Neutral': False, 'Positive': True}],\n",
       " ['consiguir aceitar compra débito',\n",
       "  {'Negative': False, 'Neutral': False, 'Positive': True}],\n",
       " ['oi querer abençoe',\n",
       "  {'Negative': False, 'Neutral': False, 'Positive': True}],\n",
       " ['good', {'Negative': False, 'Neutral': False, 'Positive': True}],\n",
       " ['', {'Negative': False, 'Neutral': False, 'Positive': True}],\n",
       " ['tá problema em o autorização falar técnica consigir resolver falar grente resolver falar esperar presicar transferência conta tá bloquear',\n",
       "  {'Negative': True, 'Neutral': False, 'Positive': False}],\n",
       " ['', {'Negative': False, 'Neutral': False, 'Positive': True}],\n",
       " ['', {'Negative': True, 'Neutral': False, 'Positive': False}],\n",
       " ['', {'Negative': False, 'Neutral': False, 'Positive': True}],\n",
       " ['squirrel', {'Negative': False, 'Neutral': False, 'Positive': True}],\n",
       " ['', {'Negative': False, 'Neutral': False, 'Positive': True}],\n",
       " ['', {'Negative': False, 'Neutral': False, 'Positive': True}],\n",
       " ['esplêndir', {'Negative': False, 'Neutral': False, 'Positive': True}],\n",
       " ['ruim confuso parecer simples vc começar faltar informação nu invest suporte nenhum fiz compra fiz executar contar em o compra procur ouve buscar informação pq nu invest responder chat opção de o app limitar confuso nao aconselho Baixe app de o rico outro melho xp nu invest nao amor vida app',\n",
       "  {'Negative': True, 'Neutral': False, 'Positive': False}],\n",
       " ['aplicativo enxuto propaganda excessivo serviço existir atendimento decair estimei resolver 15min desenvolver contato anterior perdi 2h robô analfabeto funcional atender treinar robô consentimento antiético ligueir pessoa fingir escutar encerrar chamada gaslighting institucionalizar em o atendimento chat via telefone nubank virar oldbank indicir',\n",
       "  {'Negative': False, 'Neutral': False, 'Positive': True}],\n",
       " ['abrir pop up confirmação compra id check de o mastercard jeito nenhum resposta de o suporte super genérico',\n",
       "  {'Negative': True, 'Neutral': False, 'Positive': False}],\n",
       " ['intuitivo práctico claro perfecto ojalá lo banco aprendieranr hacer apps',\n",
       "  {'Negative': False, 'Neutral': False, 'Positive': True}],\n",
       " ['em o llega El Mensaje texto',\n",
       "  {'Negative': True, 'Neutral': False, 'Positive': False}],\n",
       " ['contar', {'Negative': False, 'Neutral': False, 'Positive': True}],\n",
       " ['vc precisar de o app pedir cpf ee ma senhar dificultar usuário app estúpido atitude mudar pro c6 ...',\n",
       "  {'Negative': True, 'Neutral': False, 'Positive': False}],\n",
       " ['', {'Negative': False, 'Neutral': False, 'Positive': True}],\n",
       " ['otimar', {'Negative': False, 'Neutral': False, 'Positive': True}],\n",
       " ['app design simples intuitivo demor abrir rico função problema banco haver ano',\n",
       "  {'Negative': False, 'Neutral': False, 'Positive': True}],\n",
       " ['recentemente ajuste limite digitar botão confirmar aparecer :(',\n",
       "  {'Negative': False, 'Neutral': False, 'Positive': True}],\n",
       " ['pidar dato Brasil',\n",
       "  {'Negative': True, 'Neutral': False, 'Positive': False}],\n",
       " ['achar nubank excelente banco contar criptomoeda showw',\n",
       "  {'Negative': False, 'Neutral': False, 'Positive': True}],\n",
       " ['preso loop em o tela inserção de o senha de o aparelho',\n",
       "  {'Negative': False, 'Neutral': False, 'Positive': True}],\n",
       " ['esperar abrir aplicativo ... aprovar consigir acessar',\n",
       "  {'Negative': False, 'Neutral': False, 'Positive': True}],\n",
       " ['aplicativo funcionar problema intuitivo',\n",
       "  {'Negative': False, 'Neutral': False, 'Positive': True}],\n",
       " ['outro aplicativo nubank em o frente',\n",
       "  {'Negative': False, 'Neutral': False, 'Positive': True}],\n",
       " ['aplicativo deixar mudar senhar',\n",
       "  {'Negative': True, 'Neutral': False, 'Positive': False}],\n",
       " ['app fácil', {'Negative': False, 'Neutral': False, 'Positive': True}],\n",
       " ['de o reclamar', {'Negative': False, 'Neutral': False, 'Positive': True}],\n",
       " ['péssimo tratar informe rendimento',\n",
       "  {'Negative': True, 'Neutral': False, 'Positive': False}],\n",
       " ['clico algum cartão aplicativo fechar',\n",
       "  {'Negative': True, 'Neutral': False, 'Positive': False}],\n",
       " ['baixar legal', {'Negative': False, 'Neutral': False, 'Positive': True}],\n",
       " ['consigir informação de o cartão q clico de o cartão informação aplicativo quebra fechar',\n",
       "  {'Negative': True, 'Neutral': False, 'Positive': False}],\n",
       " ['en general es muy Buena pero Le hace faltar tener promocione y puntos los amex clubpremier',\n",
       "  {'Negative': False, 'Neutral': False, 'Positive': True}],\n",
       " ['roseli Oliveira viano',\n",
       "  {'Negative': False, 'Neutral': False, 'Positive': True}],\n",
       " ['aplicativo habilitar validar assinatura digital acessar conta várias precisei reinstalar aplicativo funcionar conseguir entrar encerrario conta',\n",
       "  {'Negative': True, 'Neutral': False, 'Positive': False}],\n",
       " ['good', {'Negative': False, 'Neutral': False, 'Positive': True}],\n",
       " ['top', {'Negative': False, 'Neutral': False, 'Positive': True}],\n",
       " ['lava jato', {'Negative': False, 'Neutral': False, 'Positive': True}],\n",
       " ['', {'Negative': True, 'Neutral': False, 'Positive': False}],\n",
       " ['serviço lixo', {'Negative': True, 'Neutral': False, 'Positive': False}],\n",
       " ['pésimar app', {'Negative': True, 'Neutral': False, 'Positive': False}],\n",
       " ['autônomo', {'Negative': False, 'Neutral': False, 'Positive': True}],\n",
       " ['excelente', {'Negative': False, 'Neutral': False, 'Positive': True}],\n",
       " ['', {'Negative': False, 'Neutral': False, 'Positive': True}],\n",
       " ['app si empresa deixar vc receber propaganda sentido pra vc querer notificação importar promoção sentido desativar push oferta separar notificação transferência mau caráter',\n",
       "  {'Negative': False, 'Neutral': False, 'Positive': True}],\n",
       " ['muy malar optimization con la cámar mi celular tiene muy Buena cámara y aun así en varia ocasione pidar un selfie verificar mi identidad Las foto Las tomar muy pobre cálidad qué con la cámar una arregladito esto bugs estarían bien em o tener un dolor cabeza seguir',\n",
       "  {'Negative': True, 'Neutral': False, 'Positive': False}],\n",
       " ['👏 👏 👏', {'Negative': False, 'Neutral': False, 'Positive': True}],\n",
       " ['slow app unnecessary animation the screen blinks pinkr When opening the app aplicativo pesar cheio animacoes desnecessaria de o versão pra vir piscar tela cor rosa abrir app',\n",
       "  {'Negative': False, 'Neutral': False, 'Positive': True}],\n",
       " ['cliente ano resolver problema excluir cartão conta resposta ...',\n",
       "  {'Negative': True, 'Neutral': False, 'Positive': False}],\n",
       " ['pésimo son uno acosador',\n",
       "  {'Negative': True, 'Neutral': False, 'Positive': False}],\n",
       " ['olá noite', {'Negative': False, 'Neutral': False, 'Positive': True}],\n",
       " ['consigir pedir estorno produto',\n",
       "  {'Negative': True, 'Neutral': False, 'Positive': False}],\n",
       " ['Great app', {'Negative': False, 'Neutral': False, 'Positive': True}],\n",
       " ['bad', {'Negative': True, 'Neutral': False, 'Positive': False}],\n",
       " ['atualização chato nubank horrível :( colocar ... evolução limite de o ... tirar botão confirmar mudança limite ... corrijam ...',\n",
       "  {'Negative': True, 'Neutral': False, 'Positive': False}],\n",
       " ['achar informe rendimento',\n",
       "  {'Negative': True, 'Neutral': False, 'Positive': False}],\n",
       " ['valer pena problema suporte incapaz ajudar cancelei cartão ano chance haver resolução suporte',\n",
       "  {'Negative': True, 'Neutral': False, 'Positive': False}],\n",
       " ['', {'Negative': False, 'Neutral': False, 'Positive': True}],\n",
       " ['', {'Negative': False, 'Neutral': False, 'Positive': True}],\n",
       " ['😏', {'Negative': False, 'Neutral': False, 'Positive': True}],\n",
       " ['sugestão feature exigir senha digitar opção cadastrar senha falso senha falso darir acesso a o subconta saldo consideravelmente pequeno caso situação sequestro a o acessar Subconta dever haver nenhum informação sugirar a o sequestrador em o conta principal',\n",
       "  {'Negative': False, 'Neutral': False, 'Positive': True}],\n",
       " ['de o ar consigo logar por o iphone de o esposo de o nubank atender e-mail respondir farei transferência de o conta outro banco hoje fechar cartão d crédito encerrarei conta nubank',\n",
       "  {'Negative': True, 'Neutral': False, 'Positive': False}],\n",
       " ['atendimento de o nubank rápido prático',\n",
       "  {'Negative': False, 'Neutral': False, 'Positive': True}],\n",
       " ['app ficar pedir senha de o celular entrar em o conta',\n",
       "  {'Negative': True, 'Neutral': False, 'Positive': False}],\n",
       " ['excellent app', {'Negative': False, 'Neutral': False, 'Positive': True}],\n",
       " ['falha contínuo ... abrir',\n",
       "  {'Negative': True, 'Neutral': False, 'Positive': False}],\n",
       " ['good bank', {'Negative': False, 'Neutral': False, 'Positive': True}],\n",
       " ['great', {'Negative': False, 'Neutral': False, 'Positive': True}],\n",
       " ['atualização confirmar face tirar conta q entrar novamente erro pra entrar agr ta td certo',\n",
       "  {'Negative': False, 'Neutral': False, 'Positive': True}],\n",
       " ['', {'Negative': False, 'Neutral': False, 'Positive': True}],\n",
       " ['', {'Negative': False, 'Neutral': False, 'Positive': True}],\n",
       " ['', {'Negative': False, 'Neutral': False, 'Positive': True}],\n",
       " ['excelente', {'Negative': False, 'Neutral': False, 'Positive': True}],\n",
       " ['', {'Negative': False, 'Neutral': False, 'Positive': True}],\n",
       " ['otimar', {'Negative': False, 'Neutral': False, 'Positive': True}],\n",
       " ['en uno voy El año con la tarjeto y debo decir es increíble la Aceptan en las tiendas donde compro yo tengo una líneo decente y es super sencillo y claro \\U0001f972 ✨ ️',\n",
       "  {'Negative': False, 'Neutral': False, 'Positive': True}],\n",
       " ['👍 👍 👍 👍 👍', {'Negative': False, 'Neutral': False, 'Positive': True}],\n",
       " ['mudar review perfeito horrível cliente ate contente nubankr infelizmente mudar atendimento simpatico atendimento rude educar solução problema',\n",
       "  {'Negative': True, 'Neutral': False, 'Positive': False}],\n",
       " ['consigir instalar negocio',\n",
       "  {'Negative': True, 'Neutral': False, 'Positive': False}],\n",
       " ['ano checar informação esperar algum nubankr ...',\n",
       "  {'Negative': True, 'Neutral': False, 'Positive': False}],\n",
       " ['acontecer suporte a o cliente?costumar agil',\n",
       "  {'Negative': True, 'Neutral': False, 'Positive': False}],\n",
       " ['good', {'Negative': False, 'Neutral': False, 'Positive': True}],\n",
       " ['sugestao em o histórico de o conta extrato transação campo abrir anotação pessoal tb opção exportar excel extrato 🙌',\n",
       "  {'Negative': False, 'Neutral': False, 'Positive': True}],\n",
       " ['', {'Negative': False, 'Neutral': False, 'Positive': True}],\n",
       " ['', {'Negative': False, 'Neutral': False, 'Positive': True}],\n",
       " ['aumento limite de o cartão crédito ridículo completamente inconsistente usuário de o cartão ano uso diário de o função crédito aplicativo liberar aumento crédito alto real completamente incompatível renda gasto receber equivalente salário mínimo registro em o Open finance aplicativo limitar ridículo ...',\n",
       "  {'Negative': True, 'Neutral': False, 'Positive': False}],\n",
       " ['incoerente quitar empréstimo realizar pagar vir possibilidade nao chance novamente dever análise Concordo em o caso limite crédito .vejo incoerência a o',\n",
       "  {'Negative': False, 'Neutral': False, 'Positive': True}],\n",
       " ['recentemente começar alteração em o interface inicial mudar atalho login dificílimo localizar dinheiro investir em o caixinha difícil transferir pix agilidade inúmero confirmação operação opção definir padrão rápido transferência agilizar processo mudança atalho tornar experiência uso pavoroso irritante impossível algum queda qualidade de o aplicativo gigantesca em o',\n",
       "  {'Negative': True, 'Neutral': False, 'Positive': False}],\n",
       " ['funcionalidade ocultar item histórico nucontar usuário decidir despesa específico dever extrato permanente.o usuário pressionar seguro linha de o despesa algum janela confirmação abrir pergunta “ desejar ocultar permanentemente despesa xpto R$ 100,00 dia 01/01/2002 ” “ confirmar ” “ cancelar ” usuário optar confirmar exibir janela digitar senha de o cartão botão cancelamento',\n",
       "  {'Negative': True, 'Neutral': False, 'Positive': False}],\n",
       " ['R$ mi pra lacração revelar empresa ... bastasse transferência de o cc nuinvest surreal complicado contra-intuitiva pesquisar seguir passo passo ted conta outro apps de o empresa impressão concorrência infiltrar alguém missão dificultar a o investimento por o nuinvest parabéns conseguir',\n",
       "  {'Negative': False, 'Neutral': False, 'Positive': True}],\n",
       " ['', {'Negative': False, 'Neutral': False, 'Positive': True}],\n",
       " ['app cartão nu conta render',\n",
       "  {'Negative': False, 'Neutral': False, 'Positive': True}],\n",
       " ['la mejor aplicación banco una tarjeto crédito he probar',\n",
       "  {'Negative': False, 'Neutral': False, 'Positive': True}],\n",
       " ['impossível conseguir cartão ultravioleta crivo receber convite',\n",
       "  {'Negative': True, 'Neutral': False, 'Positive': False}],\n",
       " ['gostar simples eficiente',\n",
       "  {'Negative': False, 'Neutral': False, 'Positive': True}],\n",
       " ['contratir nenhum serviço parcelamento empréstimo de esse empresa assalto mão armar 👍',\n",
       "  {'Negative': True, 'Neutral': False, 'Positive': False}],\n",
       " ['horrível camera de o app ruim identificar cliente autorizar aparelho pessimo',\n",
       "  {'Negative': True, 'Neutral': False, 'Positive': False}],\n",
       " ['frustrar coloquei correr juro subtrair nao gostar',\n",
       "  {'Negative': True, 'Neutral': False, 'Positive': False}],\n",
       " ['compra pedir pra confirmar em o app em o app aparecer opção confirmar',\n",
       "  {'Negative': True, 'Neutral': False, 'Positive': False}],\n",
       " ['otimo app agilizar em o dia dia',\n",
       "  {'Negative': False, 'Neutral': False, 'Positive': True}],\n",
       " ['exceto por o disposição de o extrato k aplicativo excelente aprender em o nu ensina',\n",
       "  {'Negative': False, 'Neutral': False, 'Positive': True}],\n",
       " ['preciso ajuda cartão nubank',\n",
       "  {'Negative': False, 'Neutral': False, 'Positive': True}],\n",
       " ['lançar em o dia de o aniversário abril de o qualidade recomer amigo',\n",
       "  {'Negative': False, 'Neutral': False, 'Positive': True}],\n",
       " ['otimo msm top', {'Negative': False, 'Neutral': False, 'Positive': True}],\n",
       " ['good', {'Negative': False, 'Neutral': False, 'Positive': True}],\n",
       " ['id check de o mastercard funcionar conseguir confirmar compra em o aplicativo conseguir piorar funcionar',\n",
       "  {'Negative': True, 'Neutral': False, 'Positive': False}],\n",
       " ['nice', {'Negative': False, 'Neutral': False, 'Positive': True}],\n",
       " ['em o sirve si reconocimiento facial enfocar bien la cámar autenticar mi identidad y necesito autorizar mi dispositivo la tarjeta virtual',\n",
       "  {'Negative': True, 'Neutral': False, 'Positive': False}],\n",
       " ['top', {'Negative': False, 'Neutral': False, 'Positive': True}],\n",
       " ['difícil resolver problema online comparar início continuar de o opção de o mercado',\n",
       "  {'Negative': False, 'Neutral': False, 'Positive': True}],\n",
       " ['pierder mi usuario constantemente es decir olvidar mi email mi password y supuesto mi huello vuelver pedir esto dato cierto días',\n",
       "  {'Negative': True, 'Neutral': False, 'Positive': False}],\n",
       " ['fiz ultra recebir atendimento desligar telefone em o cara gerar outro cópia cartão normal virar zona completo serviço corr',\n",
       "  {'Negative': True, 'Neutral': False, 'Positive': False}],\n",
       " ['indicar gostar em o de o oportunidade de o banco fixo algum vitual recomendo olho fechar',\n",
       "  {'Negative': False, 'Neutral': False, 'Positive': True}],\n",
       " ['aplicativo consigir anexar arquivo comprovante abrir contestação compra por o chat parecer problema versão de o aplicativo',\n",
       "  {'Negative': False, 'Neutral': False, 'Positive': True}],\n",
       " ['aplicativo estrela nubank acabar rendimento diário dinheiro guardar em o conta',\n",
       "  {'Negative': False, 'Neutral': False, 'Positive': True}],\n",
       " ['', {'Negative': True, 'Neutral': False, 'Positive': False}],\n",
       " ['aplicativo', {'Negative': False, 'Neutral': False, 'Positive': True}],\n",
       " ['', {'Negative': False, 'Neutral': False, 'Positive': True}],\n",
       " ['', {'Negative': False, 'Neutral': False, 'Positive': True}],\n",
       " ['', {'Negative': False, 'Neutral': False, 'Positive': True}],\n",
       " ['', {'Negative': False, 'Neutral': False, 'Positive': True}],\n",
       " ['Buena app', {'Negative': False, 'Neutral': False, 'Positive': True}],\n",
       " ['app atualizado receber notificação preciso atualizar qq compra em o crédito aparecer em o fatura lista atualizar',\n",
       "  {'Negative': True, 'Neutral': False, 'Positive': False}],\n",
       " ['insegurança definir',\n",
       "  {'Negative': True, 'Neutral': False, 'Positive': False}],\n",
       " ['ficar complicado modo dark causa de o designer de o marca msm gostar vcs implementar em o app',\n",
       "  {'Negative': False, 'Neutral': False, 'Positive': True}],\n",
       " ['otimo', {'Negative': False, 'Neutral': False, 'Positive': True}],\n",
       " ['fintech confiável interface de ele intuitivo dificultar usabilidade de ele campo pesquisar função esclarecido causar certo desconforto ok',\n",
       "  {'Negative': False, 'Neutral': False, 'Positive': True}],\n",
       " ['aplicativo intuitivo fácil em o entanto possibilidade deixar ele modo noturno vista agradecer estrela hehe',\n",
       "  {'Negative': False, 'Neutral': False, 'Positive': True}],\n",
       " ['super integrar opção cartão virtual excelente restar estabelecer qtia opção aproximação em o pagto físico por o de o app medida segurança requisitar senha compra pequeno',\n",
       "  {'Negative': False, 'Neutral': False, 'Positive': True}],\n",
       " ['pude acessar conta abrir conta julho caso arquivar hoje mensagem suporte telefone horrível ajudar',\n",
       "  {'Negative': True, 'Neutral': False, 'Positive': False}],\n",
       " ['', {'Negative': False, 'Neutral': False, 'Positive': True}],\n",
       " ['nubankr', {'Negative': False, 'Neutral': False, 'Positive': True}],\n",
       " ['', {'Negative': False, 'Neutral': False, 'Positive': True}],\n",
       " ['ótimo', {'Negative': False, 'Neutral': False, 'Positive': True}],\n",
       " ['', {'Negative': False, 'Neutral': False, 'Positive': True}],\n",
       " ['', {'Negative': False, 'Neutral': False, 'Positive': True}],\n",
       " ['excepcional nubank evoluir passar de o ano oferecer utilitário essencial em o dia dia de o pessoa deixar banco deixar dinheiro achar implementar programa gratuito cliente',\n",
       "  {'Negative': False, 'Neutral': False, 'Positive': True}],\n",
       " ['💜', {'Negative': False, 'Neutral': False, 'Positive': True}],\n",
       " ['banco suporte pagamento ágil app intuitivo banco atualmente preferer deixar claro perfeito nenhum banco legal gostar parecer ouvir cliente',\n",
       "  {'Negative': False, 'Neutral': False, 'Positive': True}],\n",
       " ['ve comentario em o uses esa tarjeto pésimo servicio es precario em o puedes abonar comprar y El Soporte es malo dan cuenta claro Las coso y cuar lo pides dan vuelta y al em o Responden claro en lo personal es pésimar',\n",
       "  {'Negative': True, 'Neutral': False, 'Positive': False}],\n",
       " ['contar mantenhar app updated poxa vido antigamente lentidão haver paciência pra pix pagar boleto .... irritante .. pro app abrir chá cadeira parecer to navegar em o Internet ...',\n",
       "  {'Negative': False, 'Neutral': False, 'Positive': True}],\n",
       " ['contar em o nubank ligar modo ganância qq depósito q vc passar render 30/31 dia concorrente investimento cdb resgate disponível hora q render em o de o aplicação inter investimento rendimento diário de o cdi c6 dia p resgate funcionamento de o rendimento de o nubank retirar dinheiro p c6 estrela p c6',\n",
       "  {'Negative': False, 'Neutral': False, 'Positive': True}],\n",
       " ['apesar cliente antigo dinheiro investir em o nubank nuinvest receber novidade hoje acesso a o caixinha a o débito automático frustrante mãe cliente praticamente conta ganhar acesso novidade u.u',\n",
       "  {'Negative': False, 'Neutral': False, 'Positive': True}],\n",
       " ['app horrível cheio popup informação desnecessário focar lacração esquecer banco digital nota',\n",
       "  {'Negative': True, 'Neutral': False, 'Positive': False}],\n",
       " ['ops errado verifiquar conexão novamente',\n",
       "  {'Negative': True, 'Neutral': False, 'Positive': False}],\n",
       " ['enviar notificação promoção haver desabilitar único categoria lamentável',\n",
       "  {'Negative': True, 'Neutral': False, 'Positive': False}],\n",
       " ['aplicativo remover opção visualizar saldo por o aplicativo preciso enviar email histórico de o visualizar dificultar organização',\n",
       "  {'Negative': False, 'Neutral': False, 'Positive': True}],\n",
       " ['dia conseguir acessar conta troquei celular entro em o conta pedir confirmar email enviar código email problema enviar código olhei em o spam dia sucesso acabar desativar conta consigir acessar suporte pq opção em o banco',\n",
       "  {'Negative': True, 'Neutral': False, 'Positive': False}],\n",
       " ['gostar super recomer',\n",
       "  {'Negative': False, 'Neutral': False, 'Positive': True}],\n",
       " ['top amigo obrigar',\n",
       "  {'Negative': False, 'Neutral': False, 'Positive': True}],\n",
       " ['esqueci senha consigir atualizar preciso ajuda pra movimentação',\n",
       "  {'Negative': False, 'Neutral': False, 'Positive': True}],\n",
       " ['pop ups notificação inútel interface complicado virar itaú melhorem',\n",
       "  {'Negative': True, 'Neutral': False, 'Positive': False}],\n",
       " ['estrela pedir pra avaliar',\n",
       "  {'Negative': True, 'Neutral': False, 'Positive': False}],\n",
       " ['app Banco digital 💜',\n",
       "  {'Negative': False, 'Neutral': False, 'Positive': True}],\n",
       " ['dúvida Banco 🎉', {'Negative': False, 'Neutral': False, 'Positive': True}],\n",
       " ['conta simplesmente render nubank tornar poupança 2.0',\n",
       "  {'Negative': False, 'Neutral': False, 'Positive': True}],\n",
       " ['estrela prq vou testalo volto pra fala',\n",
       "  {'Negative': False, 'Neutral': False, 'Positive': True}],\n",
       " ['gostar de o apricativo esperar contar eli',\n",
       "  {'Negative': False, 'Neutral': False, 'Positive': True}],\n",
       " ['facil', {'Negative': False, 'Neutral': False, 'Positive': True}],\n",
       " ['muy cambio del al si pudierar cero estrellar lo haría',\n",
       "  {'Negative': True, 'Neutral': False, 'Positive': False}],\n",
       " ['serviço de o nubank nenhum reclamação 👏 limite cartão',\n",
       "  {'Negative': False, 'Neutral': False, 'Positive': True}],\n",
       " ['funcionar esperar raramente ocorrer problema',\n",
       "  {'Negative': False, 'Neutral': False, 'Positive': True}],\n",
       " ['adoro banco digital',\n",
       "  {'Negative': False, 'Neutral': False, 'Positive': True}],\n",
       " ['função perfeito leitor código barra pagamento boleto deixar desejar',\n",
       "  {'Negative': False, 'Neutral': False, 'Positive': True}],\n",
       " ['mttt completo fácil',\n",
       "  {'Negative': False, 'Neutral': False, 'Positive': True}],\n",
       " ['quite good', {'Negative': False, 'Neutral': False, 'Positive': True}],\n",
       " ['em o puedo confirmar compra em o de o opción en la app aunque busqué en y bloquearon mi tarjeta virtual',\n",
       "  {'Negative': True, 'Neutral': False, 'Positive': False}],\n",
       " ['pedido internacional cancelar app mostrar tela confirmação haver outro',\n",
       "  {'Negative': True, 'Neutral': False, 'Positive': False}],\n",
       " ['ês esperiencia sensional',\n",
       "  {'Negative': False, 'Neutral': False, 'Positive': True}],\n",
       " ['problema tirar foto',\n",
       "  {'Negative': True, 'Neutral': False, 'Positive': False}],\n",
       " ['excelente aplicativo',\n",
       "  {'Negative': False, 'Neutral': False, 'Positive': True}],\n",
       " ['rápido', {'Negative': False, 'Neutral': False, 'Positive': True}],\n",
       " ['sivaldo de o santo',\n",
       "  {'Negative': False, 'Neutral': False, 'Positive': True}],\n",
       " ['qro cartão', {'Negative': False, 'Neutral': False, 'Positive': True}],\n",
       " ['amazing bank', {'Negative': False, 'Neutral': False, 'Positive': True}],\n",
       " ['very useful', {'Negative': False, 'Neutral': False, 'Positive': True}],\n",
       " ['', {'Negative': False, 'Neutral': False, 'Positive': True}],\n",
       " ['app lendo', {'Negative': False, 'Neutral': False, 'Positive': True}],\n",
       " ['', {'Negative': False, 'Neutral': False, 'Positive': True}],\n",
       " ['app show', {'Negative': False, 'Neutral': False, 'Positive': True}],\n",
       " ['funcionar preciso simples dia validar foto impedir operar conta',\n",
       "  {'Negative': True, 'Neutral': False, 'Positive': False}],\n",
       " ['sale bien hasta recibir El nip confirmar mi teléfono llegar y em o puedo continuar con la solicitud',\n",
       "  {'Negative': True, 'Neutral': False, 'Positive': False}],\n",
       " ['excelente ✨', {'Negative': False, 'Neutral': False, 'Positive': True}],\n",
       " ['pena enrolação pra abrir conta dia esperar perder cliente picpay abrir conta em o dia',\n",
       "  {'Negative': True, 'Neutral': False, 'Positive': False}],\n",
       " ['legal', {'Negative': False, 'Neutral': False, 'Positive': True}],\n",
       " ['app', {'Negative': False, 'Neutral': False, 'Positive': True}],\n",
       " ['melhorar', {'Negative': False, 'Neutral': False, 'Positive': True}],\n",
       " ['lo', {'Negative': False, 'Neutral': False, 'Positive': True}],\n",
       " ['', {'Negative': False, 'Neutral': False, 'Positive': True}],\n",
       " ['', {'Negative': False, 'Neutral': False, 'Positive': True}],\n",
       " ['', {'Negative': False, 'Neutral': False, 'Positive': True}],\n",
       " ['excelente app', {'Negative': False, 'Neutral': False, 'Positive': True}],\n",
       " ['aplicación fallo en mi pixel em o puedo los dato mi tarjeto digital despué haberla creado y em o verificar las tarjeto en google Wallet es la razón la la saqué',\n",
       "  {'Negative': True, 'Neutral': False, 'Positive': False}],\n",
       " ['', {'Negative': False, 'Neutral': False, 'Positive': True}],\n",
       " ['ótimo', {'Negative': False, 'Neutral': False, 'Positive': True}],\n",
       " ['excepcional', {'Negative': False, 'Neutral': False, 'Positive': True}],\n",
       " ['acabar dinheiro manter em o nuinvest holdings abazinha mó escondir acessar pra transferência pra conta ... pra botar saldo direto de o jeito',\n",
       "  {'Negative': False, 'Neutral': False, 'Positive': True}],\n",
       " ['', {'Negative': False, 'Neutral': False, 'Positive': True}],\n",
       " ['fintech legal faltar segurança precisar rever algum mecanismo acabar ladrão pedir senha a o solicitar mudar senha enviar e-mail saque precisar gratuito integrar app',\n",
       "  {'Negative': False, 'Neutral': False, 'Positive': True}],\n",
       " ['he tener problema y estoy muy satisfecho con El uso mi tarjeto y app pero con la nuevar actualización em o dejar mi gastar del mes del mes en curso debería permitir cuánto he gastar en El mes em o sólo con los pasar si em o también con El actual corrijan eso',\n",
       "  {'Negative': False, 'Neutral': False, 'Positive': True}],\n",
       " ['tarjeto y banco facilidad uso claro seguro Buena Atención al cliente aumento constante aplicación cómoda fácil uso interfaz llena información análisi mi cuenta y rendimiento pronóstico mis proximo límite en general es mi primer y único tarjeta crédito y ha una verdadera maravillo recomendar siempre y cuar pagar tiempo y esté al pendiente la información mi cuento Llevo año usándola mismo ha increíble',\n",
       "  {'Negative': False, 'Neutral': False, 'Positive': True}],\n",
       " ['la tarjeto ha funcionar muy bien en los establecimiento físico y virtuale la app es rápido intuitivo em o tiene cuota manejo la Atención chat ha Buena los pagar pse son sencillo puedo bloquearlar y debloquearla fácil modificar El Cupo etc. si estánr en lista espera en colomber tengan paciencio pue sí es demorar hasta la Aprueben de o má pero valer la pena',\n",
       "  {'Negative': False, 'Neutral': False, 'Positive': True}],\n",
       " ['qualidade de o aplicativo vir piorar passar de o funcionalidade simples ficar mau design de o aplicativo ficar confuso básico de o aplicativo pix existir funcionar infelizmente ficar decepcionado',\n",
       "  {'Negative': True, 'Neutral': False, 'Positive': False}],\n",
       " ['mau banco baixar', {'Negative': True, 'Neutral': False, 'Positive': False}],\n",
       " ['', {'Negative': False, 'Neutral': False, 'Positive': True}],\n",
       " ['app recomendar 👍', {'Negative': False, 'Neutral': False, 'Positive': True}],\n",
       " ['conseguir finalizar cadastro aff',\n",
       "  {'Negative': True, 'Neutral': False, 'Positive': False}],\n",
       " ['destrozaron la aplicación es ahora má difícil encontrar Las coso y sale en portugués',\n",
       "  {'Negative': True, 'Neutral': False, 'Positive': False}],\n",
       " ['gostar', {'Negative': False, 'Neutral': False, 'Positive': True}],\n",
       " ['quase perfeito', {'Negative': False, 'Neutral': False, 'Positive': True}],\n",
       " ['', {'Negative': False, 'Neutral': False, 'Positive': True}],\n",
       " ['ok', {'Negative': False, 'Neutral': False, 'Positive': True}],\n",
       " ['es rápido funcional bonito hasta El em o ha fallar Llevo mes con ello buen cupo lo único malo es em o tiene avances cuenta y su tasa cambio moneda extranjer es alto',\n",
       "  {'Negative': False, 'Neutral': False, 'Positive': True}],\n",
       " [\"every New version remove one important featurar and puts another useless Button on it 's place the app is Evolving Backwards now the app also show adds every Time i Open it terrible experience\",\n",
       "  {'Negative': True, 'Neutral': False, 'Positive': False}],\n",
       " ['la aplicación bien sin embargo considerar pagar la tarjeto solo sea posible través la aplicación y pierdo el celular y debo pagar sería bueno dieran la opción gestionar El pgo la tarjeto crédito la página web',\n",
       "  {'Negative': False, 'Neutral': False, 'Positive': True}],\n",
       " ['codigo confirmacao chegar em o email ...',\n",
       "  {'Negative': True, 'Neutral': False, 'Positive': False}],\n",
       " ['atendimento demorar opção mudar senha de o cartão',\n",
       "  {'Negative': True, 'Neutral': False, 'Positive': False}],\n",
       " ['assistência a o usuário péssimo acesso a o gerente negociação circunstância',\n",
       "  {'Negative': True, 'Neutral': False, 'Positive': False}],\n",
       " ['app aceitar foto de o rg frente verso rg',\n",
       "  {'Negative': False, 'Neutral': False, 'Positive': True}],\n",
       " ['Bloquearon mi cuentar obvio razone em o puedo pagar y estan querier cobrar con interês em o pagarles',\n",
       "  {'Negative': True, 'Neutral': False, 'Positive': False}],\n",
       " ['consigir cancelar conta pedir app atualizar versão disponível',\n",
       "  {'Negative': True, 'Neutral': False, 'Positive': False}],\n",
       " ['nubankr aguentar acesso de o bolão de o copa gerar erro de o outro kkkk ... aumentar servidor gentileza',\n",
       "  {'Negative': True, 'Neutral': False, 'Positive': False}],\n",
       " ['ano conta atrasar fatura .. de o limite porr4 aumentar limite',\n",
       "  {'Negative': True, 'Neutral': False, 'Positive': False}],\n",
       " ['sumir tuda irformacao saldo em o conta nao acesso a o dinheiro guardar q resolver trocar Banco app pessimo nao recomer',\n",
       "  {'Negative': True, 'Neutral': False, 'Positive': False}],\n",
       " ['continuar péssimo',\n",
       "  {'Negative': True, 'Neutral': False, 'Positive': False}],\n",
       " ['sofrível entro em o app aparecer opção decidir destino querer a o pedacinho em o app de o filha aparecer quadro contíguo fazer-se opção',\n",
       "  {'Negative': True, 'Neutral': False, 'Positive': False}],\n",
       " ['otimar', {'Negative': False, 'Neutral': False, 'Positive': True}],\n",
       " ['', {'Negative': False, 'Neutral': False, 'Positive': True}],\n",
       " ['', {'Negative': False, 'Neutral': False, 'Positive': True}],\n",
       " ['', {'Negative': True, 'Neutral': False, 'Positive': False}],\n",
       " ['esperar semana por o convite recebir',\n",
       "  {'Negative': False, 'Neutral': False, 'Positive': True}],\n",
       " ['app instabilidade ocorrer erro',\n",
       "  {'Negative': True, 'Neutral': False, 'Positive': False}],\n",
       " ['abaixar inglês', {'Negative': True, 'Neutral': False, 'Positive': False}],\n",
       " ['app mostrar saldo consigir acessar dinheiro guardar',\n",
       "  {'Negative': True, 'Neutral': False, 'Positive': False}],\n",
       " ['péssimo péssimo péssimo atualização banco preferer consigo pix achar dinheiro',\n",
       "  {'Negative': True, 'Neutral': False, 'Positive': False}],\n",
       " ['saldo sumir aparecer função pix pagamento transferência extrato sequer saldo aba dinheiro guardar',\n",
       "  {'Negative': True, 'Neutral': False, 'Positive': False}],\n",
       " ['poor pathetic', {'Negative': True, 'Neutral': False, 'Positive': False}],\n",
       " ['conta', {'Negative': False, 'Neutral': False, 'Positive': True}],\n",
       " ['querer cartão', {'Negative': False, 'Neutral': False, 'Positive': True}],\n",
       " ['top', {'Negative': False, 'Neutral': False, 'Positive': True}],\n",
       " ['manter histórico de o recarga celular ajudar recarregar pra família :)',\n",
       "  {'Negative': False, 'Neutral': False, 'Positive': True}],\n",
       " ['ficar em o mao interface atualizar conseguir aplicativo basta pra pra outro banco digital nubankr',\n",
       "  {'Negative': True, 'Neutral': False, 'Positive': False}],\n",
       " ['kea ye app Pakistan Main b Kaam kry gi ya nhi plz Tell mujhy cash out k leye krno he isko',\n",
       "  {'Negative': True, 'Neutral': False, 'Positive': False}],\n",
       " ['simplesmente dia piores consigir acessar dado de o cartão informar desinstalar app normalmente simples atualização resolverio',\n",
       "  {'Negative': True, 'Neutral': False, 'Positive': False}],\n",
       " ['lixo lixo lixo banco virar aplicativo funcionar precisar passo perrengar banco acabar perder cliente ano',\n",
       "  {'Negative': True, 'Neutral': False, 'Positive': False}],\n",
       " ['', {'Negative': False, 'Neutral': False, 'Positive': True}],\n",
       " ['horrível', {'Negative': True, 'Neutral': False, 'Positive': False}],\n",
       " ['complicado cliente de o nubank outro opção querer acreditar ajudar aplicativo funcionar hoje dia novembro péssimo dia cliente de o numfuncionabank',\n",
       "  {'Negative': True, 'Neutral': False, 'Positive': False}],\n",
       " ['gostar', {'Negative': False, 'Neutral': False, 'Positive': True}],\n",
       " ['dkekebenrr', {'Negative': False, 'Neutral': False, 'Positive': True}],\n",
       " ['', {'Negative': False, 'Neutral': False, 'Positive': True}],\n",
       " ['', {'Negative': True, 'Neutral': False, 'Positive': False}],\n",
       " ['impedido pagar cartão acessar conta sumir saldo opção cartão responsabilizar por o juro cobrar devido a o atraso claro sequestrar conta dado parar em o mão bandido segurança',\n",
       "  {'Negative': True, 'Neutral': False, 'Positive': False}],\n",
       " ['gente aplicação geralmente hoje em o telefone problema inaceitável consigir transferir dinheiro conta pj voltar conta pf resolver-lo reinstalar app',\n",
       "  {'Negative': True, 'Neutral': False, 'Positive': False}],\n",
       " ['dinheiro sumir junto pix hoje instabilidade em o app inaceitável acessar conta descobri em o farmácia comprar medicamento abandonar compra conseguir acessar dinheiro',\n",
       "  {'Negative': True, 'Neutral': False, 'Positive': False}],\n",
       " ['easer app nao ta alualizar pt ja querer roubar oq ta em o contact de o cidadao tbm',\n",
       "  {'Negative': True, 'Neutral': False, 'Positive': False}],\n",
       " ['absurdo desconto nu shopping shopping mobcom celular samsung A53 c/ desconto 2.393 vista(black friday busca em o google vista em o americana 1.499 comédia em o site de o samsung vista em o site de o samsung em o site de o samsung costumar caro realmente pena de o pessoa enganar escandaloso',\n",
       "  {'Negative': True, 'Neutral': False, 'Positive': False}],\n",
       " ['servir ano limite real baixaria',\n",
       "  {'Negative': False, 'Neutral': False, 'Positive': True}],\n",
       " ['nao tou conseguir acessar conta',\n",
       "  {'Negative': False, 'Neutral': False, 'Positive': True}],\n",
       " ['tá parabéns 👏 👍 👏 👍 🎉 🎁 👏 👍 👏 👍 👏 👍',\n",
       "  {'Negative': False, 'Neutral': False, 'Positive': True}],\n",
       " ['excellent app', {'Negative': False, 'Neutral': False, 'Positive': True}],\n",
       " ['análise', {'Negative': False, 'Neutral': False, 'Positive': True}],\n",
       " ['reconhecimento facial pra pagar fatura saldo de o conta pra',\n",
       "  {'Negative': True, 'Neutral': False, 'Positive': False}],\n",
       " ['limite saldo conta péssimo liberar compra wue saco',\n",
       "  {'Negative': True, 'Neutral': False, 'Positive': False}],\n",
       " ['ferramenta comprar vender bitcoim sofrível incompleta trás histórico voltar histórico de o conta obter mínimo dado',\n",
       "  {'Negative': True, 'Neutral': False, 'Positive': False}],\n",
       " ['', {'Negative': False, 'Neutral': False, 'Positive': True}],\n",
       " ['ameiiii', {'Negative': False, 'Neutral': False, 'Positive': True}],\n",
       " ['nenhum', {'Negative': False, 'Neutral': False, 'Positive': True}],\n",
       " ['app problema consigo saldo saída entrada coloquir opção volta controlar gasto gastar',\n",
       "  {'Negative': False, 'Neutral': False, 'Positive': True}],\n",
       " ['', {'Negative': False, 'Neutral': False, 'Positive': True}],\n",
       " ['app funcionar limite de o cartão crédito irrisório pagar despesa usual cartão despesa alimento nao ter se pagar fatura várias semana continuar cartão crédito lamentável',\n",
       "  {'Negative': True, 'Neutral': False, 'Positive': False}],\n",
       " ['la actualización la aplicación hace Logout si solar y cualquier hora lo cuál es muy molesto quierer hacer algún chequeo movimiento en mi cuentar gracio eso tampoco recibo Las Notificaciones mis pagar compra',\n",
       "  {'Negative': True, 'Neutral': False, 'Positive': False}],\n",
       " ['app abrir jeito nebhum falar preciso confirmar identidade u codigo receber oor email receber codigo outro clico falar erro tecnico app fechar consigir falar c suporte chat ja consigir entrar em o app ligar de o Brasil decepção pra situação durar dia',\n",
       "  {'Negative': True, 'Neutral': False, 'Positive': False}],\n",
       " ['popup entrar em o aplicativo inferno cair qualidade',\n",
       "  {'Negative': True, 'Neutral': False, 'Positive': False}],\n",
       " ['abrir contar em isso por o fato de o rendimento diário de o cdi captar cliente propaganda algum cancelar rendimento diário lamentável abrir denúncia em o procon',\n",
       "  {'Negative': True, 'Neutral': False, 'Positive': False}],\n",
       " ['aplicativo fácil ótimo usabilidade',\n",
       "  {'Negative': False, 'Neutral': False, 'Positive': True}],\n",
       " ['consigir baixar app de o nubenk em o samsung',\n",
       "  {'Negative': True, 'Neutral': False, 'Positive': False}],\n",
       " ['app recomer', {'Negative': False, 'Neutral': False, 'Positive': True}],\n",
       " ['la querer cair código em esse e-mail',\n",
       "  {'Negative': False, 'Neutral': False, 'Positive': True}],\n",
       " ['simples útil agradável',\n",
       "  {'Negative': False, 'Neutral': False, 'Positive': True}],\n",
       " ['Not good anymore', {'Negative': True, 'Neutral': False, 'Positive': False}],\n",
       " ['reconhecimento facial funcionar trancar mover dinheiro',\n",
       "  {'Negative': True, 'Neutral': False, 'Positive': False}],\n",
       " ['muy Buena paga rápido y em o hay comisione tan alta',\n",
       "  {'Negative': False, 'Neutral': False, 'Positive': True}],\n",
       " ['la mejor tarjeta crédito hay en El Mercado em o es perfectar pero es la mejor',\n",
       "  {'Negative': False, 'Neutral': False, 'Positive': True}],\n",
       " ['cliente haver ano atendir necessidade lançar produto interessante',\n",
       "  {'Negative': False, 'Neutral': False, 'Positive': True}],\n",
       " ['juro 11,75 a o sério',\n",
       "  {'Negative': True, 'Neutral': False, 'Positive': False}],\n",
       " ['app funcionalidade',\n",
       "  {'Negative': False, 'Neutral': False, 'Positive': True}],\n",
       " ['cdb cartão crédito de o c6 bank consigo cartão crédito hj conseguir nubank',\n",
       "  {'Negative': True, 'Neutral': False, 'Positive': False}],\n",
       " ['app de o importante de o história vantagem controçao d limite vantagem',\n",
       "  {'Negative': False, 'Neutral': False, 'Positive': True}],\n",
       " ['tienen la tasa usura alto del mercado con razón em o cobran cuota manejo la cobran con eso interês tan alto El es esoo',\n",
       "  {'Negative': True, 'Neutral': False, 'Positive': False}],\n",
       " ['malar actualización',\n",
       "  {'Negative': True, 'Neutral': False, 'Positive': False}],\n",
       " ...]"
      ]
     },
     "execution_count": 37,
     "metadata": {},
     "output_type": "execute_result"
    }
   ],
   "source": [
    "base_dados_final"
   ]
  },
  {
   "cell_type": "markdown",
   "metadata": {
    "id": "5mc19ZByUNsu"
   },
   "source": [
    "# Etapa 5: Criação do classificador"
   ]
  },
  {
   "cell_type": "code",
   "execution_count": 38,
   "metadata": {
    "id": "AhLi1lTrrx8d",
    "vscode": {
     "languageId": "python"
    }
   },
   "outputs": [],
   "source": [
    "import spacy"
   ]
  },
  {
   "cell_type": "code",
   "execution_count": 39,
   "metadata": {
    "colab": {
     "base_uri": "https://localhost:8080/"
    },
    "id": "xSFrZ01yrX2U",
    "outputId": "d7fee07b-39bd-4f03-df50-6649b2738b01",
    "vscode": {
     "languageId": "python"
    }
   },
   "outputs": [],
   "source": [
    "#spacy.require_gpu()"
   ]
  },
  {
   "cell_type": "code",
   "execution_count": 40,
   "metadata": {
    "id": "0LaRQjJFlxP3",
    "vscode": {
     "languageId": "python"
    }
   },
   "outputs": [],
   "source": [
    "from spacy.training import Example"
   ]
  },
  {
   "cell_type": "code",
   "execution_count": 41,
   "metadata": {
    "id": "YnZ1orji7Iv8",
    "vscode": {
     "languageId": "python"
    }
   },
   "outputs": [],
   "source": [
    "modelo = spacy.blank('pt')\n",
    "textcat = modelo.add_pipe(\"textcat\")\n",
    "textcat.add_label(\"Negative\")\n",
    "textcat.add_label(\"Neutral\")\n",
    "textcat.add_label(\"Positive\")\n",
    "historico = []"
   ]
  },
  {
   "cell_type": "code",
   "execution_count": null,
   "metadata": {
    "colab": {
     "base_uri": "https://localhost:8080/"
    },
    "id": "3jlGvLEz764Y",
    "outputId": "b9d12882-49b2-45e7-ae00-e7bafd9689dc",
    "vscode": {
     "languageId": "python"
    }
   },
   "outputs": [
    {
     "name": "stdout",
     "output_type": "stream",
     "text": [
      "0 {'textcat': 0.222222238779068}\n",
      "100 {'textcat': 0.0029250779189169407}\n",
      "200 {'textcat': 0.002917082514613867}\n",
      "300 {'textcat': 0.0029092407785356045}\n"
     ]
    }
   ],
   "source": [
    "modelo.begin_training()\n",
    "for epoca in range(1000):\n",
    "  random.shuffle(base_dados_final)\n",
    "  losses = {}\n",
    "  for batch in spacy.util.minibatch(base_dados_final, 7545):\n",
    "    textos = [modelo(texto) for texto, entities in batch]\n",
    "    annotations = [{'cats': entities} for texto, entities in batch]\n",
    "    examples = [Example.from_dict(doc, annotation) for doc, annotation in zip(\n",
    "            textos, annotations\n",
    "        )]\n",
    "    modelo.update(examples, losses=losses)\n",
    "  if epoca % 100 == 0:\n",
    "    print(epoca, losses)\n",
    "    historico.append(losses)\n",
    "    "
   ]
  },
  {
   "cell_type": "code",
   "execution_count": null,
   "metadata": {
    "id": "wSe-tDsCAciN",
    "vscode": {
     "languageId": "python"
    }
   },
   "outputs": [],
   "source": [
    "historico_loss = []\n",
    "for i in historico:\n",
    "  historico_loss.append(i.get('textcat'))\n"
   ]
  },
  {
   "cell_type": "code",
   "execution_count": null,
   "metadata": {
    "colab": {
     "base_uri": "https://localhost:8080/"
    },
    "id": "ShJhtbYtAr50",
    "outputId": "b5138e54-3a52-416f-b489-15ccfe01f189",
    "vscode": {
     "languageId": "python"
    }
   },
   "outputs": [],
   "source": [
    "historico_loss = np.array(historico_loss)\n",
    "historico_loss"
   ]
  },
  {
   "cell_type": "code",
   "execution_count": null,
   "metadata": {
    "colab": {
     "base_uri": "https://localhost:8080/",
     "height": 491
    },
    "id": "6lEL-QoBA0KI",
    "outputId": "64f326d4-95fe-4b27-9d01-04fc875f775c",
    "vscode": {
     "languageId": "python"
    }
   },
   "outputs": [],
   "source": [
    "import matplotlib.pyplot as plt\n",
    "plt.plot(historico_loss)\n",
    "plt.title('Progressão do erro')\n",
    "plt.xlabel('Épocas')\n",
    "plt.ylabel('Erro')\n"
   ]
  },
  {
   "cell_type": "code",
   "execution_count": null,
   "metadata": {
    "id": "amNE8xy_BPSF",
    "vscode": {
     "languageId": "python"
    }
   },
   "outputs": [],
   "source": [
    "modelo.to_disk(\"modelo\")"
   ]
  },
  {
   "cell_type": "code",
   "execution_count": null,
   "metadata": {
    "colab": {
     "base_uri": "https://localhost:8080/"
    },
    "id": "d55wBpk_9Caf",
    "outputId": "16668a4f-12fc-4af0-de8a-ca304d97f3e5",
    "vscode": {
     "languageId": "python"
    }
   },
   "outputs": [],
   "source": [
    "#!zip -r /content/modelo.zip /content/modelo"
   ]
  },
  {
   "cell_type": "code",
   "execution_count": null,
   "metadata": {
    "colab": {
     "base_uri": "https://localhost:8080/",
     "height": 17
    },
    "id": "c9C8bEg-9EYT",
    "outputId": "fe70d806-1c5f-47a4-9887-2db529042f0e",
    "vscode": {
     "languageId": "python"
    }
   },
   "outputs": [],
   "source": [
    "#from google.colab import files\n",
    "#files.download(\"modelo.zip\")"
   ]
  },
  {
   "cell_type": "markdown",
   "metadata": {
    "id": "ePMk8G0Dl6wg"
   },
   "source": [
    "# Etapa 6: Testes com uma frase"
   ]
  },
  {
   "cell_type": "code",
   "execution_count": null,
   "metadata": {
    "colab": {
     "base_uri": "https://localhost:8080/"
    },
    "id": "u9e-TlWNCFj8",
    "outputId": "6489cb6c-1759-414f-c15e-101b38de8389",
    "vscode": {
     "languageId": "python"
    }
   },
   "outputs": [],
   "source": [
    "modelo_carregado = spacy.load(\"modelo\")\n",
    "modelo_carregado"
   ]
  },
  {
   "cell_type": "code",
   "execution_count": null,
   "metadata": {
    "id": "vccrJddkCThv",
    "vscode": {
     "languageId": "python"
    }
   },
   "outputs": [],
   "source": [
    "texto_positivo = 'Parabéns pelo app!'"
   ]
  },
  {
   "cell_type": "code",
   "execution_count": null,
   "metadata": {
    "colab": {
     "base_uri": "https://localhost:8080/",
     "height": 35
    },
    "id": "AHUy4H_ECZyN",
    "outputId": "60fbb2dc-f87e-48da-c2be-84ac3d8e9d85",
    "vscode": {
     "languageId": "python"
    }
   },
   "outputs": [],
   "source": [
    "texto_positivo = preprocessamento(texto_positivo)\n",
    "texto_positivo"
   ]
  },
  {
   "cell_type": "code",
   "execution_count": null,
   "metadata": {
    "colab": {
     "base_uri": "https://localhost:8080/"
    },
    "id": "B4iJh7D5Cjha",
    "outputId": "d54c4197-5016-4a66-8b22-e8ee6b2e2dee",
    "vscode": {
     "languageId": "python"
    }
   },
   "outputs": [],
   "source": [
    "previsao = modelo_carregado(texto_positivo)\n",
    "previsao"
   ]
  },
  {
   "cell_type": "code",
   "execution_count": null,
   "metadata": {
    "colab": {
     "base_uri": "https://localhost:8080/"
    },
    "id": "wEvTU1fGCoX0",
    "outputId": "0acf78f7-5668-44a1-9c04-69054adc2438",
    "vscode": {
     "languageId": "python"
    }
   },
   "outputs": [],
   "source": [
    "previsao.cats"
   ]
  },
  {
   "cell_type": "code",
   "execution_count": null,
   "metadata": {
    "colab": {
     "base_uri": "https://localhost:8080/"
    },
    "id": "jr2eRXXJCxWe",
    "outputId": "50708ee9-9ace-4dea-ca9e-3fc49e6b5f1c",
    "vscode": {
     "languageId": "python"
    }
   },
   "outputs": [],
   "source": [
    "texto_negativo = 'Nao tem os dados... mds!!!!'\n",
    "previsao = modelo_carregado(preprocessamento(texto_negativo))\n",
    "previsao.cats"
   ]
  },
  {
   "cell_type": "markdown",
   "metadata": {
    "id": "KhF2vtEsnlpM"
   },
   "source": [
    "# Etapa 7: Avaliação do modelo"
   ]
  },
  {
   "cell_type": "markdown",
   "metadata": {
    "id": "sJzwpVWNACFi"
   },
   "source": [
    "## Avaliação na base de treinamento\n"
   ]
  },
  {
   "cell_type": "code",
   "execution_count": null,
   "metadata": {
    "id": "6NoTHRADDZ0Z",
    "vscode": {
     "languageId": "python"
    }
   },
   "outputs": [],
   "source": [
    "previsoes = []\n",
    "for texto in base_dados['Review']:\n",
    "  #print(texto)\n",
    "  previsao = modelo_carregado(texto)\n",
    "  previsoes.append(previsao.cats)"
   ]
  },
  {
   "cell_type": "code",
   "execution_count": null,
   "metadata": {
    "colab": {
     "base_uri": "https://localhost:8080/"
    },
    "id": "8lRO94OuDvLZ",
    "outputId": "257c28f3-e861-48ad-860e-e957bf8642ec",
    "vscode": {
     "languageId": "python"
    }
   },
   "outputs": [],
   "source": [
    "previsoes"
   ]
  },
  {
   "cell_type": "code",
   "execution_count": null,
   "metadata": {
    "id": "YXTXMXAgEDMR",
    "vscode": {
     "languageId": "python"
    }
   },
   "outputs": [],
   "source": [
    "previsoes_final = []\n",
    "for previsao in previsoes:\n",
    "  if previsao['Negative'] > previsao['Neutral'] > previsao['Positive']:\n",
    "    previsoes_final.append('Negative')\n",
    "  elif previsao['Neutral'] > previsao['Positive']:\n",
    "    previsoes_final.append('Neutral')  \n",
    "  else:\n",
    "    previsoes_final.append('Positive')\n",
    "\n",
    "previsoes_final = np.array(previsoes_final)"
   ]
  },
  {
   "cell_type": "code",
   "execution_count": null,
   "metadata": {
    "colab": {
     "base_uri": "https://localhost:8080/"
    },
    "id": "ilep1MZKEVyg",
    "outputId": "f5ead9db-0895-4f5e-cb96-7932be8f1f13",
    "vscode": {
     "languageId": "python"
    }
   },
   "outputs": [],
   "source": [
    "previsoes_final"
   ]
  },
  {
   "cell_type": "code",
   "execution_count": null,
   "metadata": {
    "colab": {
     "base_uri": "https://localhost:8080/"
    },
    "id": "3bbnP269EaYs",
    "outputId": "05b273b6-45f2-4923-bc7a-2baaed5dcf46",
    "vscode": {
     "languageId": "python"
    }
   },
   "outputs": [],
   "source": [
    "respostas_reais = base_dados['Review'].values\n",
    "respostas_reais"
   ]
  },
  {
   "cell_type": "code",
   "execution_count": null,
   "metadata": {},
   "outputs": [],
   "source": [
    "!pip install scikit-learn"
   ]
  },
  {
   "cell_type": "code",
   "execution_count": null,
   "metadata": {
    "colab": {
     "base_uri": "https://localhost:8080/"
    },
    "id": "7dM1nOQtEo6p",
    "outputId": "b46812ea-ea71-43ee-def0-0d3223b624f2",
    "vscode": {
     "languageId": "python"
    }
   },
   "outputs": [],
   "source": [
    "from sklearn.metrics import confusion_matrix, accuracy_score"
   ]
  },
  {
   "cell_type": "code",
   "execution_count": null,
   "metadata": {
    "colab": {
     "base_uri": "https://localhost:8080/"
    },
    "id": "UuI8nXdAE-Nw",
    "outputId": "52d40ada-e816-4797-ff73-05396fb0ca53",
    "vscode": {
     "languageId": "python"
    }
   },
   "outputs": [],
   "source": [
    "cm = confusion_matrix(respostas_reais, previsoes_final)\n",
    "cm"
   ]
  },
  {
   "cell_type": "markdown",
   "metadata": {
    "id": "HmLjfVrZAE2T"
   },
   "source": [
    "## Avaliação na base de teste"
   ]
  },
  {
   "cell_type": "code",
   "execution_count": null,
   "metadata": {
    "id": "rHRTeILUJTqI",
    "vscode": {
     "languageId": "python"
    }
   },
   "outputs": [],
   "source": [
    "from sklearn.metrics import accuracy_score\n",
    "from sklearn.metrics import confusion_matrix"
   ]
  },
  {
   "cell_type": "code",
   "execution_count": null,
   "metadata": {
    "id": "I3bLzl9gFVLz",
    "vscode": {
     "languageId": "python"
    }
   },
   "outputs": [],
   "source": [
    "base_dados_teste = pd.read_csv('sentimentos.csv', encoding = 'utf-8')"
   ]
  },
  {
   "cell_type": "code",
   "execution_count": null,
   "metadata": {
    "colab": {
     "base_uri": "https://localhost:8080/",
     "height": 493
    },
    "id": "SXregSmbFfgW",
    "outputId": "d1edd985-1a10-4044-c231-e78bc2cb5b18",
    "vscode": {
     "languageId": "python"
    }
   },
   "outputs": [],
   "source": [
    "base_dados_teste.head()"
   ]
  },
  {
   "cell_type": "code",
   "execution_count": null,
   "metadata": {
    "id": "qTvsYEmBFj6P",
    "vscode": {
     "languageId": "python"
    }
   },
   "outputs": [],
   "source": [
    "base_dados_teste['Review'] = base_dados_teste['Review'].apply(preprocessamento)"
   ]
  },
  {
   "cell_type": "code",
   "execution_count": null,
   "metadata": {
    "colab": {
     "base_uri": "https://localhost:8080/",
     "height": 476
    },
    "id": "QSP38LnPFrTl",
    "outputId": "db36b418-ff7e-4239-e7f9-e25cd7560f14",
    "vscode": {
     "languageId": "python"
    }
   },
   "outputs": [],
   "source": [
    "base_dados_teste.head()"
   ]
  },
  {
   "cell_type": "code",
   "execution_count": null,
   "metadata": {
    "id": "AwmnAwRcF1sD",
    "vscode": {
     "languageId": "python"
    }
   },
   "outputs": [],
   "source": [
    "previsoes = []\n",
    "for texto in base_dados_teste['Review']:\n",
    "  texto = preprocessamento(texto)\n",
    "  previsao = modelo_carregado(texto)\n",
    "  previsoes.append(previsao.cats)"
   ]
  },
  {
   "cell_type": "code",
   "execution_count": null,
   "metadata": {
    "id": "Y7MpSvS4F8xv",
    "vscode": {
     "languageId": "python"
    }
   },
   "outputs": [],
   "source": [
    "previsoes_final = []\n",
    "for previsao in previsoes:\n",
    "  if previsao['Negative'] > previsao['Neutral'] > previsao['Positive']:\n",
    "    previsoes_final.append('Negative')\n",
    "  elif previsao['Neutral'] > previsao['Positive']:\n",
    "    previsoes_final.append('Neutral')  \n",
    "  else:\n",
    "    previsoes_final.append('Positive')\n",
    "\n",
    "previsoes_final = np.array(previsoes_final)"
   ]
  },
  {
   "cell_type": "code",
   "execution_count": null,
   "metadata": {
    "colab": {
     "base_uri": "https://localhost:8080/",
     "height": 1000
    },
    "id": "nc-O5fofH-Bv",
    "outputId": "e2abb848-7e96-475e-ef19-084d6032b457",
    "vscode": {
     "languageId": "python"
    }
   },
   "outputs": [],
   "source": [
    "base_dados_teste"
   ]
  },
  {
   "cell_type": "code",
   "execution_count": null,
   "metadata": {
    "colab": {
     "base_uri": "https://localhost:8080/"
    },
    "id": "udGqB3TmIb-D",
    "outputId": "6c0708d2-2cff-4e1c-d11f-3c0dc445dcf7",
    "vscode": {
     "languageId": "python"
    }
   },
   "outputs": [],
   "source": [
    "previsoes_final"
   ]
  },
  {
   "cell_type": "code",
   "execution_count": null,
   "metadata": {
    "id": "xTVM4FnnI026",
    "vscode": {
     "languageId": "python"
    }
   },
   "outputs": [],
   "source": [
    "def convert_ratings(rating):\n",
    "    if rating <= 2:\n",
    "        return 'Negative'\n",
    "    elif rating == 3:\n",
    "        return 'Neutral'\n",
    "    else:\n",
    "        return 'Positive'"
   ]
  },
  {
   "cell_type": "code",
   "execution_count": null,
   "metadata": {
    "id": "rgoCy1SXGEkw",
    "vscode": {
     "languageId": "python"
    }
   },
   "outputs": [],
   "source": [
    "respostas_reais = base_dados_teste['Rating'].apply(convert_ratings).values"
   ]
  },
  {
   "cell_type": "code",
   "execution_count": null,
   "metadata": {
    "colab": {
     "base_uri": "https://localhost:8080/"
    },
    "id": "R7fYlguaJCuv",
    "outputId": "fa1f9d7e-86c6-4087-9e67-5ef8473ec2d2",
    "vscode": {
     "languageId": "python"
    }
   },
   "outputs": [],
   "source": [
    "respostas_reais"
   ]
  },
  {
   "cell_type": "code",
   "execution_count": null,
   "metadata": {
    "colab": {
     "base_uri": "https://localhost:8080/"
    },
    "id": "HbpqmtMlGJ0T",
    "outputId": "09c7925b-298e-4e16-ed32-4888ea20fcff",
    "vscode": {
     "languageId": "python"
    }
   },
   "outputs": [],
   "source": [
    "accuracy_score(respostas_reais, previsoes_final)"
   ]
  },
  {
   "cell_type": "code",
   "execution_count": null,
   "metadata": {
    "colab": {
     "base_uri": "https://localhost:8080/"
    },
    "id": "noYdfAJ0GQAF",
    "outputId": "135f7fd5-fa74-4d05-94f0-7d89432c2d80",
    "vscode": {
     "languageId": "python"
    }
   },
   "outputs": [],
   "source": [
    "cm = confusion_matrix(respostas_reais, previsoes_final)\n",
    "cm"
   ]
  },
  {
   "cell_type": "code",
   "execution_count": null,
   "metadata": {
    "id": "ufYIoYY5LTJk",
    "vscode": {
     "languageId": "python"
    }
   },
   "outputs": [],
   "source": []
  },
  {
   "cell_type": "code",
   "execution_count": null,
   "metadata": {},
   "outputs": [],
   "source": []
  }
 ],
 "metadata": {
  "accelerator": "GPU",
  "colab": {
   "gpuType": "T4",
   "machine_shape": "hm",
   "provenance": []
  },
  "kernelspec": {
   "display_name": "Python 3 (ipykernel)",
   "language": "python",
   "name": "python3"
  },
  "language_info": {
   "codemirror_mode": {
    "name": "ipython",
    "version": 3
   },
   "file_extension": ".py",
   "mimetype": "text/x-python",
   "name": "python",
   "nbconvert_exporter": "python",
   "pygments_lexer": "ipython3",
   "version": "3.8.10"
  }
 },
 "nbformat": 4,
 "nbformat_minor": 1
}
